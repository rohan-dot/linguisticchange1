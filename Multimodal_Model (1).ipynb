{
 "cells": [
  {
   "cell_type": "code",
   "execution_count": 1,
   "id": "0a779b3d",
   "metadata": {},
   "outputs": [],
   "source": [
    "#!pip install transformers\n",
    "import numpy as np # linear algebra\n",
    "import pandas as pd # data processing, CSV file I/O (e.g. pd.read_csv)"
   ]
  },
  {
   "cell_type": "code",
   "execution_count": 2,
   "id": "c9982638",
   "metadata": {},
   "outputs": [],
   "source": [
    "import matplotlib.pyplot as plt\n",
    "import seaborn as sn"
   ]
  },
  {
   "cell_type": "code",
   "execution_count": 3,
   "id": "0af03b1f",
   "metadata": {},
   "outputs": [
    {
     "name": "stdout",
     "output_type": "stream",
     "text": [
      "/home/rohansl/StarterCodeMultimodal/data\n"
     ]
    }
   ],
   "source": [
    "cd data"
   ]
  },
  {
   "cell_type": "code",
   "execution_count": 4,
   "id": "c3f4ef5b",
   "metadata": {},
   "outputs": [],
   "source": [
    "train = pd.read_csv(\"/home/rohansl/StarterCodeMultimodal/hate_across_border.csv\")"
   ]
  },
  {
   "cell_type": "code",
   "execution_count": 5,
   "id": "c840fcd8",
   "metadata": {},
   "outputs": [
    {
     "data": {
      "text/html": [
       "<div>\n",
       "<style scoped>\n",
       "    .dataframe tbody tr th:only-of-type {\n",
       "        vertical-align: middle;\n",
       "    }\n",
       "\n",
       "    .dataframe tbody tr th {\n",
       "        vertical-align: top;\n",
       "    }\n",
       "\n",
       "    .dataframe thead th {\n",
       "        text-align: right;\n",
       "    }\n",
       "</style>\n",
       "<table border=\"1\" class=\"dataframe\">\n",
       "  <thead>\n",
       "    <tr style=\"text-align: right;\">\n",
       "      <th></th>\n",
       "      <th>Name</th>\n",
       "      <th>Text</th>\n",
       "      <th>Label</th>\n",
       "    </tr>\n",
       "  </thead>\n",
       "  <tbody>\n",
       "    <tr>\n",
       "      <th>3738</th>\n",
       "      <td>img/10423.png</td>\n",
       "      <td>nobody wants to hang auschwitz me</td>\n",
       "      <td>0</td>\n",
       "    </tr>\n",
       "    <tr>\n",
       "      <th>3739</th>\n",
       "      <td>img/98203.png</td>\n",
       "      <td>when god grants you a child after 20 years of ...</td>\n",
       "      <td>0</td>\n",
       "    </tr>\n",
       "    <tr>\n",
       "      <th>3740</th>\n",
       "      <td>img/36947.png</td>\n",
       "      <td>gays on social media: equality! body positivit...</td>\n",
       "      <td>0</td>\n",
       "    </tr>\n",
       "    <tr>\n",
       "      <th>3741</th>\n",
       "      <td>img/16492.png</td>\n",
       "      <td>having a bad day? you could be a siamese twin ...</td>\n",
       "      <td>0</td>\n",
       "    </tr>\n",
       "    <tr>\n",
       "      <th>3742</th>\n",
       "      <td>img/15937.png</td>\n",
       "      <td>i hate muslims too they take their religion to...</td>\n",
       "      <td>0</td>\n",
       "    </tr>\n",
       "  </tbody>\n",
       "</table>\n",
       "</div>"
      ],
      "text/plain": [
       "               Name                                               Text  Label\n",
       "3738  img/10423.png                  nobody wants to hang auschwitz me      0\n",
       "3739  img/98203.png  when god grants you a child after 20 years of ...      0\n",
       "3740  img/36947.png  gays on social media: equality! body positivit...      0\n",
       "3741  img/16492.png  having a bad day? you could be a siamese twin ...      0\n",
       "3742  img/15937.png  i hate muslims too they take their religion to...      0"
      ]
     },
     "execution_count": 5,
     "metadata": {},
     "output_type": "execute_result"
    }
   ],
   "source": [
    "train.tail()"
   ]
  },
  {
   "cell_type": "code",
   "execution_count": null,
   "id": "764ddf8d",
   "metadata": {},
   "outputs": [],
   "source": []
  },
  {
   "cell_type": "code",
   "execution_count": 6,
   "id": "6564ff53",
   "metadata": {},
   "outputs": [],
   "source": [
    "import numpy as np\n",
    "import torch\n",
    "from transformers import AutoTokenizer, AutoModel\n",
    "import numpy as np\n",
    "import torch\n",
    "from transformers import AutoTokenizer, AutoModel"
   ]
  },
  {
   "cell_type": "code",
   "execution_count": null,
   "id": "23ca89d2",
   "metadata": {},
   "outputs": [],
   "source": [
    "Attempting uninstall: numpy\n",
    "    Found existing installation: numpy 1.19.5\n",
    "    Uninstalling numpy-1.19.5:\n",
    "      Successfully uninstalled numpy-1.19.5\n",
    "  Attempting uninstall: tqdm\n",
    "    Found existing installation: tqdm 4.62.3\n",
    "    Uninstalling tqdm-4.62.3:\n",
    "      Successfully uninstalled tqdm-4.62.3\n",
    "  Attempting uninstall: scipy\n",
    "    Found existing installation: scipy 1.5.4\n",
    "    Uninstalling scipy-1.5.4:\n",
    "      Successfully uninstalled scipy-1.5.4\n",
    "  Attempting uninstall: decorator\n",
    "    Found existing installation: decorator 5.0.9\n",
    "    Uninstalling decorator-5.0.9:\n",
    "      Successfully uninstalled decorator-5.0.9\n",
    "  Attempting uninstall: torch\n",
    "    Found existing installation: torch 1.10.1\n",
    "    Uninstalling torch-1.10.1:\n",
    "      Successfully uninstalled torch-1.10.1\n",
    "  Attempting uninstall: tokenizers\n",
    "    Found existing installation: tokenizers 0.10.3\n",
    "    Uninstalling tokenizers-0.10.3:\n",
    "      Successfully uninstalled tokenizers-0.10.3\n",
    "  Attempting uninstall: matplotlib\n",
    "    Found existing installation: matplotlib 3.3.4\n",
    "    Uninstalling matplotlib-3.3.4:\n",
    "      Successfully uninstalled matplotlib-3.3.4\n",
    "  Attempting uninstall: transformers\n",
    "    Found existing installation: transformers 4.12.0.dev0\n",
    "    Uninstalling transformers-4.12.0.dev0:\n",
    "      Successfully uninstalled transformers-4.12.0.dev0\n",
    "  Attempting uninstall: torchvision\n",
    "    Found existing installation: torchvision 0.11.2\n",
    "    Uninstalling torchvision-0.11.2:\n",
    "      Successfully uninstalled torchvision-0.11.2\n",
    "  Attempting uninstall: opencv-python\n",
    "    Found existing installation: opencv-python 4.5.5.62\n",
    "    Uninstalling opencv-python-4.5.5.62:\n",
    "      Successfully uninstalled opencv-python-4.5.5.62\n",
    "  Attempting uninstall: h5py\n",
    "    Found existing installation: h5py 3.1.0\n",
    "    Uninstalling h5py-3.1.0:\n",
    "      Successfully uninstalled h5py-3.1.0"
   ]
  },
  {
   "cell_type": "code",
   "execution_count": null,
   "id": "062dbc96",
   "metadata": {},
   "outputs": [],
   "source": [
    "#!pip uninstall transformers"
   ]
  },
  {
   "cell_type": "code",
   "execution_count": null,
   "id": "acfe599b",
   "metadata": {},
   "outputs": [],
   "source": [
    "!pip install numpy 1.19.5\n",
    "\n",
    "!pip install transformers-4.12.0.dev0\n",
    "\n",
    "\n",
    "!pip install torchvision 0.11.2\n",
    "\n",
    "\n",
    "\n",
    "\n",
    "!pip install opencv-python-4.5.5.62\n",
    "\n",
    "\n",
    "\n",
    "!pip install h5py 3.1.0\n",
    "\n",
    "\n",
    "!pip install tokenizers-0.10.3\n",
    "\n"
   ]
  },
  {
   "cell_type": "code",
   "execution_count": null,
   "id": "051f97d8",
   "metadata": {},
   "outputs": [],
   "source": [
    "!pip install numpy 1.19.5\n",
    "\n",
    "!pip install numpy 1.19.5\n",
    "\n",
    "\n",
    "\n",
    "!pip install numpy 1.19.5\n"
   ]
  },
  {
   "cell_type": "code",
   "execution_count": 7,
   "id": "0e9a7bd3",
   "metadata": {},
   "outputs": [],
   "source": [
    "def get_word_idx(sent: str):\n",
    "    return sent.split(\" \")"
   ]
  },
  {
   "cell_type": "code",
   "execution_count": 8,
   "id": "372952d8",
   "metadata": {},
   "outputs": [],
   "source": [
    "def get_hidden_states(encoded, model, layers):\n",
    "    with torch.no_grad():\n",
    "        output = model(**encoded)\n",
    "    states = output.hidden_states\n",
    "     # Stack and sum all requested layers\n",
    "    output = torch.stack([states[i] for i in layers]).sum(0).squeeze()\n",
    "     # Only select the tokens that constitute the requested word\n",
    "    #word_tokens_output = output[token_ids_word]\n",
    " \n",
    "    return output.mean(dim=0)"
   ]
  },
  {
   "cell_type": "code",
   "execution_count": 9,
   "id": "c6a63f4c",
   "metadata": {},
   "outputs": [],
   "source": [
    " \n",
    "def get_word_vector(sent, tokenizer, model, layers):\n",
    "    encoded = tokenizer.encode_plus(sent, return_tensors=\"pt\")\n",
    "    #token_ids_word = np.where(np.array(encoded.word_ids()) == idx)\n",
    " \n",
    "    return get_hidden_states(encoded, model, layers)"
   ]
  },
  {
   "cell_type": "code",
   "execution_count": 10,
   "id": "d15bbcfe",
   "metadata": {},
   "outputs": [],
   "source": [
    "\n",
    "def main(layers=None):\n",
    "    layers = [-4, -3, -2, -1] if layers is None else layers\n",
    "    \n",
    "    tokenizer = AutoTokenizer.from_pretrained(\"bert-base-uncased\")\n",
    "    model = AutoModel.from_pretrained(\"bert-base-uncased\", output_hidden_states=True)\n",
    "    \n",
    "\n",
    "    sent = \"I like cookies .\" \n",
    "    idx = get_word_idx(sent, \"cookies\")\n",
    "\n",
    "    word_embedding = get_word_vector(sent, idx, tokenizer, model, layers)\n",
    "     \n",
    "    return word_embedding \n"
   ]
  },
  {
   "cell_type": "code",
   "execution_count": 11,
   "id": "3653b335",
   "metadata": {},
   "outputs": [
    {
     "name": "stderr",
     "output_type": "stream",
     "text": [
      "Some weights of the model checkpoint at bert-base-uncased were not used when initializing BertModel: ['cls.predictions.bias', 'cls.predictions.transform.LayerNorm.bias', 'cls.predictions.transform.LayerNorm.weight', 'cls.seq_relationship.bias', 'cls.predictions.transform.dense.bias', 'cls.seq_relationship.weight', 'cls.predictions.decoder.weight', 'cls.predictions.transform.dense.weight']\n",
      "- This IS expected if you are initializing BertModel from the checkpoint of a model trained on another task or with another architecture (e.g. initializing a BertForSequenceClassification model from a BertForPreTraining model).\n",
      "- This IS NOT expected if you are initializing BertModel from the checkpoint of a model that you expect to be exactly identical (initializing a BertForSequenceClassification model from a BertForSequenceClassification model).\n"
     ]
    }
   ],
   "source": [
    "layers = None\n",
    "layers = [-4, -3, -2, -1] if layers is None else layers\n",
    "tokenizer = AutoTokenizer.from_pretrained(\"bert-base-uncased\")\n",
    "model = AutoModel.from_pretrained(\"bert-base-uncased\", output_hidden_states=True)\n",
    "sent = \"I like cookies .\" \n",
    "#dx = get_word_idx(sent, \"cookies\")\n",
    "\n",
    "word_embedding = get_word_vector(sent, tokenizer, model, layers)\n"
   ]
  },
  {
   "cell_type": "code",
   "execution_count": 12,
   "id": "3e6ca8ff",
   "metadata": {},
   "outputs": [],
   "source": [
    "X=list(train['Text'])"
   ]
  },
  {
   "cell_type": "code",
   "execution_count": 13,
   "id": "9d54b512",
   "metadata": {},
   "outputs": [],
   "source": [
    "embedding = []\n",
    "for i in X:\n",
    "    word = get_word_vector(i, tokenizer, model, layers)\n",
    "    embedding.append(word)"
   ]
  },
  {
   "cell_type": "code",
   "execution_count": 14,
   "id": "8b0a8238",
   "metadata": {},
   "outputs": [],
   "source": [
    "x = embedding"
   ]
  },
  {
   "cell_type": "code",
   "execution_count": 15,
   "id": "d1836e8a",
   "metadata": {},
   "outputs": [],
   "source": [
    "probs = [t.numpy() for t in x]"
   ]
  },
  {
   "cell_type": "code",
   "execution_count": 16,
   "id": "7a939390",
   "metadata": {},
   "outputs": [
    {
     "data": {
      "text/plain": [
       "3743"
      ]
     },
     "execution_count": 16,
     "metadata": {},
     "output_type": "execute_result"
    }
   ],
   "source": [
    "len(probs)#[1].shape"
   ]
  },
  {
   "cell_type": "code",
   "execution_count": 17,
   "id": "4ce227f7",
   "metadata": {},
   "outputs": [
    {
     "data": {
      "text/plain": [
       "'/home/rohansl/NewCSS/700Meme/Clean_sameformat/Hateful/2_05_03_07_hindu_1_H@@IGHT_450_W@@IDTH_800.png'"
      ]
     },
     "execution_count": 17,
     "metadata": {},
     "output_type": "execute_result"
    }
   ],
   "source": [
    "train['Name'][23]"
   ]
  },
  {
   "cell_type": "code",
   "execution_count": 18,
   "id": "67bd85b4",
   "metadata": {},
   "outputs": [],
   "source": [
    "\n",
    "import torch\n",
    "from torch import optim, nn\n",
    "from torchvision import models, transforms\n",
    "model = models.vgg16(pretrained=True)\n",
    "#model = models.resnet18(pretrained=True)"
   ]
  },
  {
   "cell_type": "code",
   "execution_count": 19,
   "id": "91d9807d",
   "metadata": {},
   "outputs": [],
   "source": [
    "class FeatureExtractor(nn.Module):\n",
    "    def __init__(self, model):\n",
    "        super(FeatureExtractor, self).__init__()\n",
    "\t\t# Extract VGG-16 Feature Layers\n",
    "        self.features = list(model.features)\n",
    "        self.features = nn.Sequential(*self.features)\n",
    "\t\t# Extract VGG-16 Average Pooling Layer\n",
    "        self.pooling = model.avgpool\n",
    "\t\t# Convert the image into one-dimensional vector\n",
    "        self.flatten = nn.Flatten()\n",
    "\t\t# Extract the first part of fully-connected layer from VGG16\n",
    "        self.fc = model.classifier[0]\n",
    "    \n",
    "    def forward(self, x):\n",
    "\t\t# It will take the input 'x' until it returns the feature vector called 'out'\n",
    "        out = self.features(x)\n",
    "        out = self.pooling(out)\n",
    "        out = self.flatten(out)\n",
    "        out = self.fc(out) \n",
    "        return out \n",
    "\n",
    "# Initialize the model\n",
    "model = models.vgg16(pretrained=True)\n",
    "#model = models.resnet18(pretrained=True)\n",
    "\n",
    "new_model = FeatureExtractor(model)\n",
    "\n",
    "# Change the device to GPU\n",
    "device = torch.device('cuda:0' if torch.cuda.is_available() else \"cpu\")\n",
    "new_model = new_model.to(device)"
   ]
  },
  {
   "cell_type": "code",
   "execution_count": 20,
   "id": "0642c4ee",
   "metadata": {},
   "outputs": [],
   "source": [
    "from tqdm import tqdm\n",
    "import numpy as np\n",
    "import cv2\n",
    "# Transform the image, so it becomes readable with the model\n",
    "transform = transforms.Compose([\n",
    "  transforms.ToPILImage(),\n",
    "  transforms.CenterCrop(512),\n",
    "  transforms.Resize(448),\n",
    "  transforms.ToTensor()                              \n",
    "])\n",
    "\n",
    "# Will contain the feature\n",
    "features = []"
   ]
  },
  {
   "cell_type": "code",
   "execution_count": 21,
   "id": "5986bf25",
   "metadata": {},
   "outputs": [
    {
     "data": {
      "text/plain": [
       "71"
      ]
     },
     "execution_count": 21,
     "metadata": {},
     "output_type": "execute_result"
    }
   ],
   "source": [
    "import gc\n",
    "gc.collect()"
   ]
  },
  {
   "cell_type": "code",
   "execution_count": 22,
   "id": "b5c5394f",
   "metadata": {},
   "outputs": [
    {
     "name": "stderr",
     "output_type": "stream",
     "text": [
      "  0%|          | 2/3743 [00:00<04:45, 13.08it/s]"
     ]
    },
    {
     "name": "stdout",
     "output_type": "stream",
     "text": [
      "/home/rohansl/NewCSS/700Meme/Clean_sameformat/Hateful/FIbThBoVkAMx0GI.png\n",
      "/home/rohansl/NewCSS/700Meme/Clean_sameformat/Hateful/05nojsdg1k561.png\n",
      "/home/rohansl/NewCSS/700Meme/Clean_sameformat/Hateful/FIbTiWgVEBAvqW6.png\n"
     ]
    },
    {
     "name": "stderr",
     "output_type": "stream",
     "text": [
      "  0%|          | 5/3743 [00:00<04:17, 14.54it/s]"
     ]
    },
    {
     "name": "stdout",
     "output_type": "stream",
     "text": [
      "/home/rohansl/NewCSS/700Meme/Clean_sameformat/Hateful/07iibdnyogh71.png\n",
      "/home/rohansl/NewCSS/700Meme/Clean_sameformat/Hateful/FIurJ4gVQAEmke0.png\n",
      "/home/rohansl/NewCSS/700Meme/Clean_sameformat/Hateful/0c2nursejdc51.png\n",
      "/home/rohansl/NewCSS/700Meme/Clean_sameformat/Hateful/FJLuNBlX0AYylRX.png\n",
      "/home/rohansl/NewCSS/700Meme/Clean_sameformat/Hateful/0cab0io2bqy51.png\n"
     ]
    },
    {
     "name": "stderr",
     "output_type": "stream",
     "text": [
      "  0%|          | 11/3743 [00:00<03:25, 18.15it/s]"
     ]
    },
    {
     "name": "stdout",
     "output_type": "stream",
     "text": [
      "/home/rohansl/NewCSS/700Meme/Clean_sameformat/Hateful/FJn4WaqVEAE_eCe.png\n",
      "/home/rohansl/NewCSS/700Meme/Clean_sameformat/Hateful/0x7r8n4s1gw61.png\n",
      "/home/rohansl/NewCSS/700Meme/Clean_sameformat/Hateful/m4s6fd6j18f81.png\n",
      "/home/rohansl/NewCSS/700Meme/Clean_sameformat/Hateful/12.png\n",
      "/home/rohansl/NewCSS/700Meme/Clean_sameformat/Hateful/m5zqgztm5te81.png\n",
      "/home/rohansl/NewCSS/700Meme/Clean_sameformat/Hateful/13.png\n"
     ]
    },
    {
     "name": "stderr",
     "output_type": "stream",
     "text": [
      "  0%|          | 18/3743 [00:00<02:39, 23.34it/s]"
     ]
    },
    {
     "name": "stdout",
     "output_type": "stream",
     "text": [
      "/home/rohansl/NewCSS/700Meme/Clean_sameformat/Hateful/m8ry4zb1uoi71.png\n",
      "/home/rohansl/NewCSS/700Meme/Clean_sameformat/Hateful/14.png\n",
      "/home/rohansl/NewCSS/700Meme/Clean_sameformat/Hateful/ExTNKaaUYAcUpeD.png\n",
      "/home/rohansl/NewCSS/700Meme/Clean_sameformat/Hateful/sweep.png\n",
      "/home/rohansl/NewCSS/700Meme/Clean_sameformat/Hateful/1_p0V0hlPoyIN4-ITptJ23Ug.png\n",
      "/home/rohansl/NewCSS/700Meme/Clean_sameformat/Hateful/FJx6dHAaMAEVY9C.png\n",
      "/home/rohansl/NewCSS/700Meme/Clean_sameformat/Hateful/26qcqieu0ve81.png\n"
     ]
    },
    {
     "name": "stderr",
     "output_type": "stream",
     "text": [
      "  1%|          | 24/3743 [00:01<02:32, 24.42it/s]"
     ]
    },
    {
     "name": "stdout",
     "output_type": "stream",
     "text": [
      "/home/rohansl/NewCSS/700Meme/Clean_sameformat/Hateful/EmHX66DVkAA93zR.png\n",
      "/home/rohansl/NewCSS/700Meme/Clean_sameformat/Hateful/FKfMvTXaAAIbPEU.png\n",
      "/home/rohansl/NewCSS/700Meme/Clean_sameformat/Hateful/2_05_03_07_hindu_1_H@@IGHT_450_W@@IDTH_800.png\n",
      "/home/rohansl/NewCSS/700Meme/Clean_sameformat/Hateful/FKkZI1AXoAAZ_S7.png\n",
      "/home/rohansl/NewCSS/700Meme/Clean_sameformat/Hateful/3lpr4fpwrxy51.png\n"
     ]
    },
    {
     "name": "stderr",
     "output_type": "stream",
     "text": [
      "  1%|          | 30/3743 [00:01<02:39, 23.31it/s]"
     ]
    },
    {
     "name": "stdout",
     "output_type": "stream",
     "text": [
      "/home/rohansl/NewCSS/700Meme/Clean_sameformat/Hateful/FKvbqxTacAMukYJ.png\n",
      "/home/rohansl/NewCSS/700Meme/Clean_sameformat/Hateful/4e8cu20utg251.png\n",
      "/home/rohansl/NewCSS/700Meme/Clean_sameformat/Hateful/FKpouJDaMAEaTHF.png\n",
      "/home/rohansl/NewCSS/700Meme/Clean_sameformat/Hateful/5mvitne2ooj41.png\n",
      "/home/rohansl/NewCSS/700Meme/Clean_sameformat/Hateful/EUbU_Y9U0AAQ0js.jpg.png\n"
     ]
    },
    {
     "name": "stderr",
     "output_type": "stream",
     "text": [
      "  1%|          | 33/3743 [00:01<02:52, 21.53it/s]"
     ]
    },
    {
     "name": "stdout",
     "output_type": "stream",
     "text": [
      "/home/rohansl/NewCSS/700Meme/Clean_sameformat/Hateful/maxresdefault.png\n",
      "/home/rohansl/NewCSS/700Meme/Clean_sameformat/Hateful/82110233_184896289572047_438434393334218752_n.png\n",
      "/home/rohansl/NewCSS/700Meme/Clean_sameformat/Hateful/ExTLk64VgAMkLfq (1).png\n",
      "/home/rohansl/NewCSS/700Meme/Clean_sameformat/Hateful/840987-60880-mjplbdyqrh-1497783156.png\n",
      "/home/rohansl/NewCSS/700Meme/Clean_sameformat/Hateful/FLaDu20aUAA_4p6.png\n"
     ]
    },
    {
     "name": "stderr",
     "output_type": "stream",
     "text": [
      "  1%|          | 39/3743 [00:01<02:56, 20.94it/s]"
     ]
    },
    {
     "name": "stdout",
     "output_type": "stream",
     "text": [
      "/home/rohansl/NewCSS/700Meme/Clean_sameformat/Hateful/8gmge83lesc81.png\n",
      "/home/rohansl/NewCSS/700Meme/Clean_sameformat/Hateful/FLCVBtIWQAMrJlS.png\n",
      "/home/rohansl/NewCSS/700Meme/Clean_sameformat/Hateful/AjvRy0Nt.png\n",
      "/home/rohansl/NewCSS/700Meme/Clean_sameformat/Hateful/FLOvpGTUUAEbtnp.png\n"
     ]
    },
    {
     "name": "stderr",
     "output_type": "stream",
     "text": [
      "  1%|          | 45/3743 [00:01<02:48, 21.97it/s]"
     ]
    },
    {
     "name": "stdout",
     "output_type": "stream",
     "text": [
      "/home/rohansl/NewCSS/700Meme/Clean_sameformat/Hateful/al67mewxasj81.png\n",
      "/home/rohansl/NewCSS/700Meme/Clean_sameformat/Hateful/FLSrHKZVIAEawgZ.png\n",
      "/home/rohansl/NewCSS/700Meme/Clean_sameformat/Hateful/axjy4999e3181.png\n",
      "/home/rohansl/NewCSS/700Meme/Clean_sameformat/Hateful/FLUKDKzacAQV_Ev.png\n",
      "/home/rohansl/NewCSS/700Meme/Clean_sameformat/Hateful/Balakrishna.png\n"
     ]
    },
    {
     "name": "stderr",
     "output_type": "stream",
     "text": [
      "  1%|▏         | 48/3743 [00:02<02:34, 23.88it/s]"
     ]
    },
    {
     "name": "stdout",
     "output_type": "stream",
     "text": [
      "/home/rohansl/NewCSS/700Meme/Clean_sameformat/Hateful/EgSu3C9X0AE0HSr.png\n",
      "/home/rohansl/NewCSS/700Meme/Clean_sameformat/Hateful/FKnXTquUcAA4ZGb.png\n",
      "/home/rohansl/NewCSS/700Meme/Clean_sameformat/Hateful/mtwhf41ztfh81.png\n",
      "/home/rohansl/NewCSS/700Meme/Clean_sameformat/Hateful/caa-nrc-lets-see-who-this-really-is-conspiracy-to-hindu-67040692.png\n",
      "/home/rohansl/NewCSS/700Meme/Clean_sameformat/Hateful/mcms.png\n",
      "/home/rohansl/NewCSS/700Meme/Clean_sameformat/Hateful/Capture.png\n",
      "/home/rohansl/NewCSS/700Meme/Clean_sameformat/Hateful/FMD3Uv0VQAM7JbS.png\n"
     ]
    },
    {
     "name": "stderr",
     "output_type": "stream",
     "text": [
      "  1%|▏         | 56/3743 [00:02<02:12, 27.77it/s]"
     ]
    },
    {
     "name": "stdout",
     "output_type": "stream",
     "text": [
      "/home/rohansl/NewCSS/700Meme/Clean_sameformat/Hateful/ExTLk64VgAMkLfq.png\n",
      "/home/rohansl/NewCSS/700Meme/Clean_sameformat/Hateful/FMDGwHPUUAQE8mn.png\n",
      "/home/rohansl/NewCSS/700Meme/Clean_sameformat/Hateful/Caricature-posted-on-Twitter-showing-before-and-after-version-of-Muslim-terrorist_Q320.png\n",
      "/home/rohansl/NewCSS/700Meme/Clean_sameformat/Hateful/FMDrzqfaMAA-Gay.png\n",
      "/home/rohansl/NewCSS/700Meme/Clean_sameformat/Hateful/CsLuROzXYAAb8I9.png\n",
      "/home/rohansl/NewCSS/700Meme/Clean_sameformat/Hateful/mt080ohmf1n51.png\n"
     ]
    },
    {
     "name": "stderr",
     "output_type": "stream",
     "text": [
      "  2%|▏         | 63/3743 [00:02<02:11, 28.08it/s]"
     ]
    },
    {
     "name": "stdout",
     "output_type": "stream",
     "text": [
      "/home/rohansl/NewCSS/700Meme/Clean_sameformat/Hateful/d1LYFQj.png\n",
      "/home/rohansl/NewCSS/700Meme/Clean_sameformat/Hateful/FMIHAMLagAw4-Vn.png\n",
      "/home/rohansl/NewCSS/700Meme/Clean_sameformat/Hateful/dc7jiqz64mh81.png\n",
      "/home/rohansl/NewCSS/700Meme/Clean_sameformat/Hateful/FMLfySeWQAAb_p_.png\n",
      "/home/rohansl/NewCSS/700Meme/Clean_sameformat/Hateful/download (1).png\n",
      "/home/rohansl/NewCSS/700Meme/Clean_sameformat/Hateful/download.png\n",
      "/home/rohansl/NewCSS/700Meme/Clean_sameformat/Hateful/FMSscIuagAcC20u.png\n"
     ]
    },
    {
     "name": "stderr",
     "output_type": "stream",
     "text": [
      "  2%|▏         | 69/3743 [00:02<02:36, 23.54it/s]"
     ]
    },
    {
     "name": "stdout",
     "output_type": "stream",
     "text": [
      "/home/rohansl/NewCSS/700Meme/Clean_sameformat/Hateful/download1.png\n",
      "/home/rohansl/NewCSS/700Meme/Clean_sameformat/Hateful/FNANQZFaAAAkqDE.png\n",
      "/home/rohansl/NewCSS/700Meme/Clean_sameformat/Hateful/DQbDHQ9U8AEY0Xo.png\n",
      "/home/rohansl/NewCSS/700Meme/Clean_sameformat/Hateful/g08hwqdioul61.png\n"
     ]
    },
    {
     "name": "stderr",
     "output_type": "stream",
     "text": [
      "  2%|▏         | 72/3743 [00:02<02:29, 24.61it/s]"
     ]
    },
    {
     "name": "stdout",
     "output_type": "stream",
     "text": [
      "/home/rohansl/NewCSS/700Meme/Clean_sameformat/Hateful/E0mhV4IVEAcTvf_.png\n",
      "/home/rohansl/NewCSS/700Meme/Clean_sameformat/Hateful/ExTNKaaUYAM94W0.png\n",
      "/home/rohansl/NewCSS/700Meme/Clean_sameformat/Hateful/E0mhWgUVUAIg9FL (1).png\n",
      "/home/rohansl/NewCSS/700Meme/Clean_sameformat/Hateful/gg2ist3jlig51.png\n",
      "/home/rohansl/NewCSS/700Meme/Clean_sameformat/Hateful/E0mhWgUVUAIg9FL.png\n",
      "/home/rohansl/NewCSS/700Meme/Clean_sameformat/Hateful/hzpxduuxfmh81.png\n"
     ]
    },
    {
     "name": "stderr",
     "output_type": "stream",
     "text": [
      "  2%|▏         | 78/3743 [00:03<02:43, 22.48it/s]"
     ]
    },
    {
     "name": "stdout",
     "output_type": "stream",
     "text": [
      "/home/rohansl/NewCSS/700Meme/Clean_sameformat/Hateful/E1VGVHhUYAYjhae.png\n",
      "/home/rohansl/NewCSS/700Meme/Clean_sameformat/Hateful/FIbTG06VkAA1Svu.png\n",
      "/home/rohansl/NewCSS/700Meme/Clean_sameformat/Hateful/E1VGVHkVUAA8YBE (1).png\n",
      "/home/rohansl/NewCSS/700Meme/Clean_sameformat/Hateful/image+(1).png\n",
      "/home/rohansl/NewCSS/700Meme/Clean_sameformat/Hateful/E1VGVHkVUAA8YBE.png\n"
     ]
    },
    {
     "name": "stderr",
     "output_type": "stream",
     "text": [
      "  2%|▏         | 84/3743 [00:03<02:40, 22.82it/s]"
     ]
    },
    {
     "name": "stdout",
     "output_type": "stream",
     "text": [
      "/home/rohansl/NewCSS/700Meme/Clean_sameformat/Hateful/IMG_9296.png\n",
      "/home/rohansl/NewCSS/700Meme/Clean_sameformat/Hateful/E1VGVHwVUAM2BZ8.png\n",
      "/home/rohansl/NewCSS/700Meme/Clean_sameformat/Hateful/images.png\n",
      "/home/rohansl/NewCSS/700Meme/Clean_sameformat/Hateful/E3InWK_VUAMZgb1.png\n",
      "/home/rohansl/NewCSS/700Meme/Clean_sameformat/Hateful/EMFRcirUEAAxqaf.png\n"
     ]
    },
    {
     "name": "stderr",
     "output_type": "stream",
     "text": [
      "  2%|▏         | 90/3743 [00:03<02:26, 25.00it/s]"
     ]
    },
    {
     "name": "stdout",
     "output_type": "stream",
     "text": [
      "/home/rohansl/NewCSS/700Meme/Clean_sameformat/Hateful/FIbTg0vUYAE-K76.png\n",
      "/home/rohansl/NewCSS/700Meme/Clean_sameformat/Hateful/e568b786828c84ded6746422bfef290d--muslim-meme-police.png\n",
      "/home/rohansl/NewCSS/700Meme/Clean_sameformat/Hateful/IMG_9295.png\n",
      "/home/rohansl/NewCSS/700Meme/Clean_sameformat/Hateful/Eakb3e8UwAE_KAs.png\n",
      "/home/rohansl/NewCSS/700Meme/Clean_sameformat/Hateful/IMG_9297.png\n",
      "/home/rohansl/NewCSS/700Meme/Clean_sameformat/Hateful/Eax1CVKUcAEiqkB.png\n",
      "/home/rohansl/NewCSS/700Meme/Clean_sameformat/Hateful/IMG_9298.png\n"
     ]
    },
    {
     "name": "stderr",
     "output_type": "stream",
     "text": [
      "  3%|▎         | 97/3743 [00:03<02:14, 27.14it/s]"
     ]
    },
    {
     "name": "stdout",
     "output_type": "stream",
     "text": [
      "/home/rohansl/NewCSS/700Meme/Clean_sameformat/Hateful/Eax4I9mU0AICrS-.png\n",
      "/home/rohansl/NewCSS/700Meme/Clean_sameformat/Hateful/EeSMFXHXoAEWuiR.png\n",
      "/home/rohansl/NewCSS/700Meme/Clean_sameformat/Hateful/ExTNKadUUAAIBp9.png\n",
      "/home/rohansl/NewCSS/700Meme/Clean_sameformat/Hateful/IMG_9299.png\n",
      "/home/rohansl/NewCSS/700Meme/Clean_sameformat/Hateful/FEjDuH1XsAQKUP8.png\n",
      "/home/rohansl/NewCSS/700Meme/Clean_sameformat/Hateful/IMG_9300.png\n"
     ]
    },
    {
     "name": "stderr",
     "output_type": "stream",
     "text": [
      "  3%|▎         | 100/3743 [00:04<02:26, 24.90it/s]"
     ]
    },
    {
     "name": "stdout",
     "output_type": "stream",
     "text": [
      "/home/rohansl/NewCSS/700Meme/Clean_sameformat/Hateful/FIbPJ_4VUAQvPSI.png\n",
      "/home/rohansl/NewCSS/700Meme/Clean_sameformat/Hateful/j3ebdggszi851.png\n",
      "/home/rohansl/NewCSS/700Meme/Clean_sameformat/Hateful/FIbPLKZVIAYE1qA.png\n",
      "/home/rohansl/NewCSS/700Meme/Clean_sameformat/Hateful/k9nkkol5qbx61.png\n"
     ]
    },
    {
     "name": "stderr",
     "output_type": "stream",
     "text": [
      "  3%|▎         | 103/3743 [00:04<02:39, 22.85it/s]"
     ]
    },
    {
     "name": "stdout",
     "output_type": "stream",
     "text": [
      "/home/rohansl/NewCSS/700Meme/Clean_sameformat/Hateful/FIbPvEAVUAgbv_b.png\n",
      "/home/rohansl/NewCSS/700Meme/Clean_sameformat/Hateful/maulana-nizamuddin-meme.png\n",
      "/home/rohansl/NewCSS/700Meme/Clean_sameformat/Hateful/FIbPw7eVgAAQ7z2.png\n",
      "/home/rohansl/NewCSS/700Meme/Clean_sameformat/Hateful/FIbRv6kVcA00XIi.png\n"
     ]
    },
    {
     "name": "stderr",
     "output_type": "stream",
     "text": [
      "  3%|▎         | 109/3743 [00:04<02:54, 20.84it/s]"
     ]
    },
    {
     "name": "stdout",
     "output_type": "stream",
     "text": [
      "/home/rohansl/NewCSS/700Meme/Clean_sameformat/Hateful/WhatsApp Image 2022-02-02 at 1.03.06 AM (3).png\n",
      "/home/rohansl/NewCSS/700Meme/Clean_sameformat/Hateful/hindus killed by muslims hindu islam censored.png\n",
      "/home/rohansl/NewCSS/700Meme/Clean_sameformat/Hateful/WhatsApp Image 2022-02-02 at 1.03.05 AM (1).png\n",
      "/home/rohansl/NewCSS/700Meme/Clean_sameformat/Hateful/Hindus-Boycott-anti-dharmic-islamic-bollywood-Hindi-cinema-560x416.png\n",
      "/home/rohansl/NewCSS/700Meme/Clean_sameformat/Hateful/WhatsApp Image 2022-02-02 at 1.03.06 AM (2).png\n"
     ]
    },
    {
     "name": "stderr",
     "output_type": "stream",
     "text": [
      "  3%|▎         | 115/3743 [00:04<02:58, 20.38it/s]"
     ]
    },
    {
     "name": "stdout",
     "output_type": "stream",
     "text": [
      "/home/rohansl/NewCSS/700Meme/Clean_sameformat/Hateful/india-muslim-facebook-meme-2-CREDIT-THE-SPINOFF-240220.png\n",
      "/home/rohansl/NewCSS/700Meme/Clean_sameformat/Hateful/WhatsApp Image 2022-02-02 at 1.03.06 AM (1).png\n",
      "/home/rohansl/NewCSS/700Meme/Clean_sameformat/Hateful/India-Will-be-A-Hindu-Rashtra-By-2024-Surender-Singh-1280x720.png\n",
      "/home/rohansl/NewCSS/700Meme/Clean_sameformat/Hateful/WhatsApp Image 2022-02-02 at 1.03.06 AM.png\n"
     ]
    },
    {
     "name": "stderr",
     "output_type": "stream",
     "text": [
      "  3%|▎         | 118/3743 [00:05<02:58, 20.34it/s]"
     ]
    },
    {
     "name": "stdout",
     "output_type": "stream",
     "text": [
      "/home/rohansl/NewCSS/700Meme/Clean_sameformat/Hateful/JhEKh_PC-T2Aq2pWS7jB9YSGVK3F-6Gw1HhOVFyWc0A.png\n",
      "/home/rohansl/NewCSS/700Meme/Clean_sameformat/Hateful/WhatsApp Image 2022-02-02 at 1.03.07 AM (1).png\n",
      "/home/rohansl/NewCSS/700Meme/Clean_sameformat/Hateful/main-qimg-3436f0ae823d64b5ae2de35dcc6e7059.png\n",
      "/home/rohansl/NewCSS/700Meme/Clean_sameformat/Hateful/WhatsApp Image 2022-02-02 at 1.06.26 AM (1).png\n",
      "/home/rohansl/NewCSS/700Meme/Clean_sameformat/Hateful/mamata-banerjee-muslim-religion-560x416.png\n"
     ]
    },
    {
     "name": "stderr",
     "output_type": "stream",
     "text": [
      "  3%|▎         | 124/3743 [00:05<02:50, 21.23it/s]"
     ]
    },
    {
     "name": "stdout",
     "output_type": "stream",
     "text": [
      "/home/rohansl/NewCSS/700Meme/Clean_sameformat/Hateful/maxresdefault (1).png\n",
      "/home/rohansl/NewCSS/700Meme/Clean_sameformat/Hateful/my-friend-just-created-a-hindu-nationalist-pepe-11578979.png\n",
      "/home/rohansl/NewCSS/700Meme/Clean_sameformat/Hateful/zl44m63j3jh81.png\n",
      "/home/rohansl/NewCSS/700Meme/Clean_sameformat/Hateful/mztcpqsd0ti81.png\n",
      "/home/rohansl/NewCSS/700Meme/Clean_sameformat/Hateful/WhatsApp Image 2022-02-02 at 1.03.05 AM.png\n"
     ]
    },
    {
     "name": "stderr",
     "output_type": "stream",
     "text": [
      "  3%|▎         | 130/3743 [00:05<02:45, 21.80it/s]"
     ]
    },
    {
     "name": "stdout",
     "output_type": "stream",
     "text": [
      "/home/rohansl/NewCSS/700Meme/Clean_sameformat/Hateful/_112424438_jihadistpic2.png\n",
      "/home/rohansl/NewCSS/700Meme/Clean_sameformat/Hateful/newslaundry_2021-05_6e75f484-8b3d-4421-af14-2fb542136cf6_inline6.png\n",
      "/home/rohansl/NewCSS/700Meme/Clean_sameformat/Hateful/zbtxako96bi81.png\n",
      "/home/rohansl/NewCSS/700Meme/Clean_sameformat/Hateful/no-halal-certification.png\n",
      "/home/rohansl/NewCSS/700Meme/Clean_sameformat/Hateful/noc4lbamzz171.png\n"
     ]
    },
    {
     "name": "stderr",
     "output_type": "stream",
     "text": [
      "  4%|▎         | 133/3743 [00:05<02:39, 22.70it/s]"
     ]
    },
    {
     "name": "stdout",
     "output_type": "stream",
     "text": [
      "/home/rohansl/NewCSS/700Meme/Clean_sameformat/Hateful/oit72kwc2fj81.png\n",
      "/home/rohansl/NewCSS/700Meme/Clean_sameformat/Hateful/ovhe5q9sdu381.png\n",
      "/home/rohansl/NewCSS/700Meme/Clean_sameformat/Hateful/pasted image 0.png\n",
      "/home/rohansl/NewCSS/700Meme/Clean_sameformat/Hateful/rg021kcnmaj81.png\n",
      "/home/rohansl/NewCSS/700Meme/Clean_sameformat/Hateful/s1s3hk59glh81.png\n",
      "/home/rohansl/NewCSS/700Meme/Clean_sameformat/Hateful/s4a8fzyt4ng81.png\n"
     ]
    },
    {
     "name": "stderr",
     "output_type": "stream",
     "text": [
      "  4%|▎         | 139/3743 [00:05<02:48, 21.41it/s]"
     ]
    },
    {
     "name": "stdout",
     "output_type": "stream",
     "text": [
      "/home/rohansl/NewCSS/700Meme/Clean_sameformat/Hateful/WhatsApp Image 2022-02-02 at 1.06.26 AM (2).png\n",
      "/home/rohansl/NewCSS/700Meme/Clean_sameformat/Hateful/Screen Shot 2021-11-22 at 1.48.39 PM.png\n",
      "/home/rohansl/NewCSS/700Meme/Clean_sameformat/Hateful/WhatsApp Image 2022-02-02 at 1.06.26 AM.png\n",
      "/home/rohansl/NewCSS/700Meme/Clean_sameformat/Hateful/Screen Shot 2022-02-25 at 11.13.06 PM.png\n"
     ]
    },
    {
     "name": "stderr",
     "output_type": "stream",
     "text": [
      "  4%|▍         | 142/3743 [00:06<02:55, 20.47it/s]"
     ]
    },
    {
     "name": "stdout",
     "output_type": "stream",
     "text": [
      "/home/rohansl/NewCSS/700Meme/Clean_sameformat/Hateful/WhatsApp Image 2022-02-02 at 1.06.27 AM (1).png\n",
      "/home/rohansl/NewCSS/700Meme/Clean_sameformat/Hateful/Screen Shot 2022-02-25 at 11.13.58 PM.png\n",
      "/home/rohansl/NewCSS/700Meme/Clean_sameformat/Hateful/WhatsApp Image 2022-02-02 at 1.06.27 AM (2).png\n",
      "/home/rohansl/NewCSS/700Meme/Clean_sameformat/Hateful/Screen Shot 2022-02-25 at 11.15.22 PM.png\n",
      "/home/rohansl/NewCSS/700Meme/Clean_sameformat/Hateful/thumb_when-you-finger-a-dalit-girl-oswadesilmeme-sad-reacts-only-20889492.png\n"
     ]
    },
    {
     "name": "stderr",
     "output_type": "stream",
     "text": [
      "  4%|▍         | 148/3743 [00:06<02:47, 21.52it/s]"
     ]
    },
    {
     "name": "stdout",
     "output_type": "stream",
     "text": [
      "/home/rohansl/NewCSS/700Meme/Clean_sameformat/Hateful/twfryuubzte81.png\n",
      "/home/rohansl/NewCSS/700Meme/Clean_sameformat/Hateful/WhatsApp Image 2022-02-02 at 1.03.07 AM.png\n",
      "/home/rohansl/NewCSS/700Meme/Clean_sameformat/Hateful/TyHfWG40S_l1-qfsrf48z4NDBSsCaDm55lDyiCGR37I.png\n",
      "/home/rohansl/NewCSS/700Meme/Clean_sameformat/Hateful/u0iiq9uh0ue81.png\n",
      "/home/rohansl/NewCSS/700Meme/Clean_sameformat/Hateful/WhatsApp Image 2022-02-02 at 1.06.27 AM.png\n"
     ]
    },
    {
     "name": "stderr",
     "output_type": "stream",
     "text": [
      "  4%|▍         | 154/3743 [00:06<02:46, 21.55it/s]"
     ]
    },
    {
     "name": "stdout",
     "output_type": "stream",
     "text": [
      "/home/rohansl/NewCSS/700Meme/Clean_sameformat/Hateful/WhatsApp Image 2022-02-02 at 1.01.07 AM.png\n",
      "/home/rohansl/NewCSS/700Meme/Clean_sameformat/Hateful/WhatsApp Image 2022-02-02 at 1.06.28 AM.png\n",
      "/home/rohansl/NewCSS/700Meme/Clean_sameformat/Hateful/WhatsApp Image 2022-02-02 at 1.03.02 AM.png\n",
      "/home/rohansl/NewCSS/700Meme/Clean_sameformat/Hateful/WhatsApp Image 2022-02-02 at 1.06.24 AM (1).png\n",
      "/home/rohansl/NewCSS/700Meme/Clean_sameformat/Hateful/WhatsApp Image 2022-02-02 at 1.03.04 AM (1).png\n"
     ]
    },
    {
     "name": "stderr",
     "output_type": "stream",
     "text": [
      "  4%|▍         | 157/3743 [00:06<02:50, 21.08it/s]"
     ]
    },
    {
     "name": "stdout",
     "output_type": "stream",
     "text": [
      "/home/rohansl/NewCSS/700Meme/Clean_sameformat/Hateful/WhatsApp Image 2022-02-02 at 1.06.24 AM.png\n",
      "/home/rohansl/NewCSS/700Meme/Clean_sameformat/Hateful/WhatsApp Image 2022-02-02 at 1.03.04 AM (2).png\n",
      "/home/rohansl/NewCSS/700Meme/Clean_sameformat/Hateful/WhatsApp Image 2022-02-02 at 1.06.25 AM (1).png\n",
      "/home/rohansl/NewCSS/700Meme/Clean_sameformat/Hateful/WhatsApp Image 2022-02-02 at 1.03.04 AM (3).png\n",
      "/home/rohansl/NewCSS/700Meme/Clean_sameformat/Hateful/WhatsApp Image 2022-02-02 at 1.06.25 AM (2).png\n"
     ]
    },
    {
     "name": "stderr",
     "output_type": "stream",
     "text": [
      "  4%|▍         | 163/3743 [00:07<02:41, 22.10it/s]"
     ]
    },
    {
     "name": "stdout",
     "output_type": "stream",
     "text": [
      "/home/rohansl/NewCSS/700Meme/Clean_sameformat/Hateful/WhatsApp Image 2022-02-02 at 1.03.04 AM (4).png\n",
      "/home/rohansl/NewCSS/700Meme/Clean_sameformat/Hateful/WhatsApp Image 2022-02-02 at 1.06.25 AM.png\n",
      "/home/rohansl/NewCSS/700Meme/Clean_sameformat/Hateful/WhatsApp Image 2022-02-02 at 1.03.04 AM (5).png\n",
      "/home/rohansl/NewCSS/700Meme/Clean_sameformat/Hateful/WhatsApp Image 2022-02-02 at 1.06.29 AM (1).png\n",
      "/home/rohansl/NewCSS/700Meme/Clean_sameformat/Hateful/WhatsApp Image 2022-02-02 at 1.03.04 AM.png\n"
     ]
    },
    {
     "name": "stderr",
     "output_type": "stream",
     "text": [
      "  5%|▍         | 169/3743 [00:07<02:43, 21.83it/s]"
     ]
    },
    {
     "name": "stdout",
     "output_type": "stream",
     "text": [
      "/home/rohansl/NewCSS/700Meme/Clean_sameformat/Hateful/WhatsApp Image 2022-02-14 at 1.00.32 AM (2).png\n",
      "/home/rohansl/NewCSS/700Meme/Clean_sameformat/Hateful/WhatsApp Image 2022-02-02 at 1.06.29 AM (2).png\n",
      "/home/rohansl/NewCSS/700Meme/Clean_sameformat/Hateful/WhatsApp Image 2022-02-02 at 1.06.29 AM.png\n",
      "/home/rohansl/NewCSS/700Meme/Clean_sameformat/Hateful/WhatsApp Image 2022-02-02 at 1.06.30 AM (1).png\n",
      "/home/rohansl/NewCSS/700Meme/Clean_sameformat/Hateful/WhatsApp Image 2022-02-02 at 1.06.30 AM (2).png\n"
     ]
    },
    {
     "name": "stderr",
     "output_type": "stream",
     "text": [
      "  5%|▍         | 172/3743 [00:07<02:47, 21.36it/s]"
     ]
    },
    {
     "name": "stdout",
     "output_type": "stream",
     "text": [
      "/home/rohansl/NewCSS/700Meme/Clean_sameformat/Hateful/WhatsApp Image 2022-02-02 at 1.06.30 AM (3).png\n",
      "/home/rohansl/NewCSS/700Meme/Clean_sameformat/Hateful/WhatsApp Image 2022-02-02 at 1.06.30 AM (4).png\n",
      "/home/rohansl/NewCSS/700Meme/Clean_sameformat/Hateful/WhatsApp Image 2022-02-02 at 1.06.30 AM (5).png\n",
      "/home/rohansl/NewCSS/700Meme/Clean_sameformat/Hateful/WhatsApp Image 2022-02-02 at 1.06.30 AM.png\n"
     ]
    },
    {
     "name": "stderr",
     "output_type": "stream",
     "text": [
      "  5%|▍         | 177/3743 [00:07<03:25, 17.31it/s]"
     ]
    },
    {
     "name": "stdout",
     "output_type": "stream",
     "text": [
      "/home/rohansl/NewCSS/700Meme/Clean_sameformat/Hateful/WhatsApp Image 2022-02-02 at 1.06.31 AM.png\n",
      "/home/rohansl/NewCSS/700Meme/Clean_sameformat/Hateful/WhatsApp Image 2022-02-02 at 1.07.22 AM.png\n",
      "/home/rohansl/NewCSS/700Meme/Clean_sameformat/Hateful/WhatsApp Image 2022-02-02 at 1.07.23 AM (1).png\n"
     ]
    },
    {
     "name": "stderr",
     "output_type": "stream",
     "text": [
      "  5%|▍         | 179/3743 [00:07<03:19, 17.82it/s]"
     ]
    },
    {
     "name": "stdout",
     "output_type": "stream",
     "text": [
      "/home/rohansl/NewCSS/700Meme/Clean_sameformat/Hateful/WhatsApp Image 2022-02-02 at 1.07.23 AM (2).png\n",
      "/home/rohansl/NewCSS/700Meme/Clean_sameformat/Hateful/WhatsApp Image 2022-02-02 at 1.07.23 AM (3).png\n",
      "/home/rohansl/NewCSS/700Meme/Clean_sameformat/Hateful/WhatsApp Image 2022-02-02 at 1.07.23 AM.png\n",
      "/home/rohansl/NewCSS/700Meme/Clean_sameformat/Hateful/WhatsApp Image 2022-02-14 at 1.00.29 AM (1).png\n"
     ]
    },
    {
     "name": "stderr",
     "output_type": "stream",
     "text": [
      "  5%|▍         | 184/3743 [00:08<02:56, 20.12it/s]"
     ]
    },
    {
     "name": "stdout",
     "output_type": "stream",
     "text": [
      "/home/rohansl/NewCSS/700Meme/Clean_sameformat/Hateful/WhatsApp Image 2022-02-14 at 1.00.29 AM (2).png\n",
      "/home/rohansl/NewCSS/700Meme/Clean_sameformat/Hateful/WhatsApp Image 2022-02-14 at 1.00.29 AM (3).png\n",
      "/home/rohansl/NewCSS/700Meme/Clean_sameformat/Hateful/WhatsApp Image 2022-02-14 at 1.00.29 AM (4).png\n",
      "/home/rohansl/NewCSS/700Meme/Clean_sameformat/Hateful/WhatsApp Image 2022-02-14 at 1.00.29 AM (5).png\n",
      "/home/rohansl/NewCSS/700Meme/Clean_sameformat/Hateful/WhatsApp Image 2022-02-14 at 1.00.29 AM (6).png\n",
      "/home/rohansl/NewCSS/700Meme/Clean_sameformat/Hateful/WhatsApp Image 2022-02-14 at 1.00.29 AM.png\n"
     ]
    },
    {
     "name": "stderr",
     "output_type": "stream",
     "text": [
      "  5%|▌         | 190/3743 [00:08<02:37, 22.52it/s]"
     ]
    },
    {
     "name": "stdout",
     "output_type": "stream",
     "text": [
      "/home/rohansl/NewCSS/700Meme/Clean_sameformat/Hateful/WhatsApp Image 2022-02-14 at 1.00.30 AM (1).png\n",
      "/home/rohansl/NewCSS/700Meme/Clean_sameformat/Hateful/WhatsApp Image 2022-02-14 at 1.00.30 AM (10).png\n",
      "/home/rohansl/NewCSS/700Meme/Clean_sameformat/Hateful/WhatsApp Image 2022-02-14 at 1.00.30 AM (2).png\n",
      "/home/rohansl/NewCSS/700Meme/Clean_sameformat/Hateful/WhatsApp Image 2022-02-14 at 1.00.30 AM (3).png\n",
      "/home/rohansl/NewCSS/700Meme/Clean_sameformat/Hateful/WhatsApp Image 2022-02-14 at 1.00.30 AM (4).png\n",
      "/home/rohansl/NewCSS/700Meme/Clean_sameformat/Hateful/WhatsApp Image 2022-02-14 at 1.00.30 AM (5).png\n"
     ]
    },
    {
     "name": "stderr",
     "output_type": "stream",
     "text": [
      "  5%|▌         | 196/3743 [00:08<02:22, 24.89it/s]"
     ]
    },
    {
     "name": "stdout",
     "output_type": "stream",
     "text": [
      "/home/rohansl/NewCSS/700Meme/Clean_sameformat/Hateful/WhatsApp Image 2022-02-14 at 1.00.30 AM (6).png\n",
      "/home/rohansl/NewCSS/700Meme/Clean_sameformat/Hateful/WhatsApp Image 2022-02-14 at 1.00.30 AM (7).png\n",
      "/home/rohansl/NewCSS/700Meme/Clean_sameformat/Hateful/WhatsApp Image 2022-02-14 at 1.00.30 AM (8).png\n",
      "/home/rohansl/NewCSS/700Meme/Clean_sameformat/Hateful/WhatsApp Image 2022-02-14 at 1.00.30 AM (9).png\n",
      "/home/rohansl/NewCSS/700Meme/Clean_sameformat/Hateful/WhatsApp Image 2022-02-14 at 1.00.30 AM.png\n",
      "/home/rohansl/NewCSS/700Meme/Clean_sameformat/Hateful/WhatsApp Image 2022-02-14 at 1.00.31 AM (1).png\n"
     ]
    },
    {
     "name": "stderr",
     "output_type": "stream",
     "text": [
      "  5%|▌         | 202/3743 [00:08<02:22, 24.94it/s]"
     ]
    },
    {
     "name": "stdout",
     "output_type": "stream",
     "text": [
      "/home/rohansl/NewCSS/700Meme/Clean_sameformat/Hateful/WhatsApp Image 2022-02-14 at 1.00.31 AM (10).png\n",
      "/home/rohansl/NewCSS/700Meme/Clean_sameformat/Hateful/WhatsApp Image 2022-02-14 at 1.00.31 AM (2).png\n",
      "/home/rohansl/NewCSS/700Meme/Clean_sameformat/Hateful/WhatsApp Image 2022-02-14 at 1.00.31 AM (3).png\n",
      "/home/rohansl/NewCSS/700Meme/Clean_sameformat/Hateful/WhatsApp Image 2022-02-14 at 1.00.31 AM (4).png\n",
      "/home/rohansl/NewCSS/700Meme/Clean_sameformat/Hateful/WhatsApp Image 2022-02-14 at 1.00.31 AM (5).png\n",
      "/home/rohansl/NewCSS/700Meme/Clean_sameformat/Hateful/WhatsApp Image 2022-02-14 at 1.00.31 AM (6).png\n"
     ]
    },
    {
     "name": "stderr",
     "output_type": "stream",
     "text": [
      "  6%|▌         | 210/3743 [00:09<02:07, 27.73it/s]"
     ]
    },
    {
     "name": "stdout",
     "output_type": "stream",
     "text": [
      "/home/rohansl/NewCSS/700Meme/Clean_sameformat/Hateful/WhatsApp Image 2022-02-14 at 1.00.31 AM (7).png\n",
      "/home/rohansl/NewCSS/700Meme/Clean_sameformat/Hateful/WhatsApp Image 2022-02-14 at 1.00.31 AM (8).png\n",
      "/home/rohansl/NewCSS/700Meme/Clean_sameformat/Hateful/WhatsApp Image 2022-02-14 at 1.00.31 AM (9).png\n",
      "/home/rohansl/NewCSS/700Meme/Clean_sameformat/Hateful/WhatsApp Image 2022-02-14 at 1.00.31 AM.png\n",
      "/home/rohansl/NewCSS/700Meme/Clean_sameformat/Hateful/WhatsApp Image 2022-02-14 at 1.00.32 AM (1).png\n",
      "/home/rohansl/NewCSS/700Meme/Clean_sameformat/Hateful/WhatsApp Image 2022-02-14 at 1.00.32 AM (10).png\n"
     ]
    },
    {
     "name": "stderr",
     "output_type": "stream",
     "text": [
      "  6%|▌         | 216/3743 [00:09<02:16, 25.77it/s]"
     ]
    },
    {
     "name": "stdout",
     "output_type": "stream",
     "text": [
      "/home/rohansl/NewCSS/700Meme/Clean_sameformat/Hateful/WhatsApp Image 2022-02-14 at 1.00.32 AM (3).png\n",
      "/home/rohansl/NewCSS/700Meme/Clean_sameformat/Hateful/WhatsApp Image 2022-02-14 at 1.00.33 AM (2).png\n",
      "/home/rohansl/NewCSS/700Meme/Clean_sameformat/Hateful/WhatsApp Image 2022-02-14 at 1.00.32 AM (4).png\n",
      "/home/rohansl/NewCSS/700Meme/Clean_sameformat/Hateful/WhatsApp Image 2022-02-14 at 1.00.33 AM (3).png\n",
      "/home/rohansl/NewCSS/700Meme/Clean_sameformat/Hateful/WhatsApp Image 2022-02-14 at 1.00.32 AM (5).png\n",
      "/home/rohansl/NewCSS/700Meme/Clean_sameformat/Hateful/WhatsApp Image 2022-02-14 at 1.00.33 AM (4).png\n"
     ]
    },
    {
     "name": "stderr",
     "output_type": "stream",
     "text": [
      "  6%|▌         | 219/3743 [00:09<02:22, 24.71it/s]"
     ]
    },
    {
     "name": "stdout",
     "output_type": "stream",
     "text": [
      "/home/rohansl/NewCSS/700Meme/Clean_sameformat/Hateful/WhatsApp Image 2022-02-14 at 1.00.32 AM (6).png\n",
      "/home/rohansl/NewCSS/700Meme/Clean_sameformat/Hateful/WhatsApp Image 2022-02-14 at 1.00.33 AM (5).png\n",
      "/home/rohansl/NewCSS/700Meme/Clean_sameformat/Hateful/WhatsApp Image 2022-02-14 at 1.00.32 AM (7).png\n",
      "/home/rohansl/NewCSS/700Meme/Clean_sameformat/Hateful/WhatsApp Image 2022-02-14 at 1.00.33 AM (6).png\n",
      "/home/rohansl/NewCSS/700Meme/Clean_sameformat/Hateful/WhatsApp Image 2022-02-14 at 1.00.32 AM (8).png\n"
     ]
    },
    {
     "name": "stderr",
     "output_type": "stream",
     "text": [
      "  6%|▌         | 225/3743 [00:09<02:26, 24.01it/s]"
     ]
    },
    {
     "name": "stdout",
     "output_type": "stream",
     "text": [
      "/home/rohansl/NewCSS/700Meme/Clean_sameformat/Hateful/WhatsApp Image 2022-02-14 at 1.00.33 AM (7).png\n",
      "/home/rohansl/NewCSS/700Meme/Clean_sameformat/Hateful/WhatsApp Image 2022-02-14 at 1.00.32 AM (9).png\n",
      "/home/rohansl/NewCSS/700Meme/Clean_sameformat/Hateful/WhatsApp Image 2022-02-14 at 1.00.33 AM.png\n",
      "/home/rohansl/NewCSS/700Meme/Clean_sameformat/Hateful/WhatsApp Image 2022-02-14 at 1.00.32 AM.png\n",
      "/home/rohansl/NewCSS/700Meme/Clean_sameformat/Hateful/WhatsApp Image 2022-02-14 at 1.00.33 AM (8).png\n",
      "/home/rohansl/NewCSS/700Meme/Clean_sameformat/Hateful/WhatsApp Image 2022-02-14 at 1.00.33 AM (1).png\n"
     ]
    },
    {
     "name": "stderr",
     "output_type": "stream",
     "text": [
      "  6%|▌         | 232/3743 [00:10<02:23, 24.42it/s]"
     ]
    },
    {
     "name": "stdout",
     "output_type": "stream",
     "text": [
      "/home/rohansl/NewCSS/700Meme/Clean_sameformat/Hateful/WhatsApp Image 2022-02-14 at 1.00.34 AM (1).png\n",
      "/home/rohansl/NewCSS/700Meme/Clean_sameformat/Hateful/WhatsApp Image 2022-02-14 at 1.00.37 AM (10).png\n",
      "/home/rohansl/NewCSS/700Meme/Clean_sameformat/Hateful/WhatsApp Image 2022-02-14 at 1.00.34 AM (10).png\n",
      "/home/rohansl/NewCSS/700Meme/Clean_sameformat/Hateful/WhatsApp Image 2022-02-14 at 1.00.37 AM (1).png\n",
      "/home/rohansl/NewCSS/700Meme/Clean_sameformat/Hateful/WhatsApp Image 2022-02-14 at 1.00.34 AM (2).png\n"
     ]
    },
    {
     "name": "stderr",
     "output_type": "stream",
     "text": [
      "  6%|▋         | 235/3743 [00:10<02:56, 19.86it/s]"
     ]
    },
    {
     "name": "stdout",
     "output_type": "stream",
     "text": [
      "/home/rohansl/NewCSS/700Meme/Clean_sameformat/Hateful/WhatsApp Image 2022-02-14 at 1.00.37 AM (2).png\n",
      "/home/rohansl/NewCSS/700Meme/Clean_sameformat/Hateful/WhatsApp Image 2022-02-14 at 1.00.34 AM (3).png\n",
      "/home/rohansl/NewCSS/700Meme/Clean_sameformat/Hateful/WhatsApp Image 2022-02-14 at 1.00.37 AM (3).png\n",
      "/home/rohansl/NewCSS/700Meme/Clean_sameformat/Hateful/WhatsApp Image 2022-02-14 at 1.00.34 AM (4).png\n"
     ]
    },
    {
     "name": "stderr",
     "output_type": "stream",
     "text": [
      "  6%|▋         | 242/3743 [00:10<02:30, 23.23it/s]"
     ]
    },
    {
     "name": "stdout",
     "output_type": "stream",
     "text": [
      "/home/rohansl/NewCSS/700Meme/Clean_sameformat/Hateful/WhatsApp Image 2022-02-14 at 1.00.37 AM (6).png\n",
      "/home/rohansl/NewCSS/700Meme/Clean_sameformat/Hateful/WhatsApp Image 2022-02-14 at 1.00.34 AM (5).png\n",
      "/home/rohansl/NewCSS/700Meme/Clean_sameformat/Hateful/WhatsApp Image 2022-02-14 at 1.00.37 AM (4).png\n",
      "/home/rohansl/NewCSS/700Meme/Clean_sameformat/Hateful/WhatsApp Image 2022-02-14 at 1.00.34 AM (6).png\n",
      "/home/rohansl/NewCSS/700Meme/Clean_sameformat/Hateful/WhatsApp Image 2022-02-14 at 1.00.37 AM (5).png\n",
      "/home/rohansl/NewCSS/700Meme/Clean_sameformat/Hateful/WhatsApp Image 2022-02-14 at 1.00.34 AM (7).png\n",
      "/home/rohansl/NewCSS/700Meme/Clean_sameformat/Hateful/WhatsApp Image 2022-02-14 at 1.00.37 AM (7).png\n"
     ]
    },
    {
     "name": "stderr",
     "output_type": "stream",
     "text": [
      "  7%|▋         | 248/3743 [00:10<02:31, 23.07it/s]"
     ]
    },
    {
     "name": "stdout",
     "output_type": "stream",
     "text": [
      "/home/rohansl/NewCSS/700Meme/Clean_sameformat/Hateful/WhatsApp Image 2022-02-14 at 1.00.34 AM (8).png\n",
      "/home/rohansl/NewCSS/700Meme/Clean_sameformat/Hateful/WhatsApp Image 2022-02-14 at 1.00.37 AM (8).png\n",
      "/home/rohansl/NewCSS/700Meme/Clean_sameformat/Hateful/WhatsApp Image 2022-02-14 at 1.00.34 AM (9).png\n",
      "/home/rohansl/NewCSS/700Meme/Clean_sameformat/Hateful/WhatsApp Image 2022-02-26 at 10.21.45 PM (1).png\n",
      "/home/rohansl/NewCSS/700Meme/Clean_sameformat/Hateful/WhatsApp Image 2022-02-14 at 1.00.34 AM.png\n"
     ]
    },
    {
     "name": "stderr",
     "output_type": "stream",
     "text": [
      "  7%|▋         | 251/3743 [00:10<02:23, 24.29it/s]"
     ]
    },
    {
     "name": "stdout",
     "output_type": "stream",
     "text": [
      "/home/rohansl/NewCSS/700Meme/Clean_sameformat/Hateful/WhatsApp Image 2022-02-14 at 1.00.37 AM (9).png\n",
      "/home/rohansl/NewCSS/700Meme/Clean_sameformat/Hateful/WhatsApp Image 2022-02-14 at 1.00.35 AM (1).png\n",
      "/home/rohansl/NewCSS/700Meme/Clean_sameformat/Hateful/WhatsApp Image 2022-02-14 at 1.00.37 AM.png\n",
      "/home/rohansl/NewCSS/700Meme/Clean_sameformat/Hateful/WhatsApp Image 2022-02-14 at 1.00.35 AM (2).png\n",
      "/home/rohansl/NewCSS/700Meme/Clean_sameformat/Hateful/WhatsApp Image 2022-02-14 at 1.00.35 AM (3).png\n",
      "/home/rohansl/NewCSS/700Meme/Clean_sameformat/Hateful/WhatsApp Image 2022-02-14 at 1.00.38 AM (1).png\n"
     ]
    },
    {
     "name": "stderr",
     "output_type": "stream",
     "text": [
      "  7%|▋         | 258/3743 [00:11<02:24, 24.19it/s]"
     ]
    },
    {
     "name": "stdout",
     "output_type": "stream",
     "text": [
      "/home/rohansl/NewCSS/700Meme/Clean_sameformat/Hateful/WhatsApp Image 2022-02-14 at 1.00.35 AM (4).png\n",
      "/home/rohansl/NewCSS/700Meme/Clean_sameformat/Hateful/WhatsApp Image 2022-02-14 at 1.00.38 AM (10).png\n",
      "/home/rohansl/NewCSS/700Meme/Clean_sameformat/Hateful/WhatsApp Image 2022-02-14 at 1.00.35 AM (5).png\n",
      "/home/rohansl/NewCSS/700Meme/Clean_sameformat/Hateful/WhatsApp Image 2022-02-14 at 1.00.38 AM (2).png\n",
      "/home/rohansl/NewCSS/700Meme/Clean_sameformat/Hateful/WhatsApp Image 2022-02-14 at 1.00.35 AM (6).png\n"
     ]
    },
    {
     "name": "stderr",
     "output_type": "stream",
     "text": [
      "  7%|▋         | 264/3743 [00:11<02:34, 22.55it/s]"
     ]
    },
    {
     "name": "stdout",
     "output_type": "stream",
     "text": [
      "/home/rohansl/NewCSS/700Meme/Clean_sameformat/Hateful/WhatsApp Image 2022-02-14 at 1.00.38 AM (3).png\n",
      "/home/rohansl/NewCSS/700Meme/Clean_sameformat/Hateful/WhatsApp Image 2022-02-14 at 1.00.35 AM (7).png\n",
      "/home/rohansl/NewCSS/700Meme/Clean_sameformat/Hateful/WhatsApp Image 2022-02-14 at 1.00.38 AM (4).png\n",
      "/home/rohansl/NewCSS/700Meme/Clean_sameformat/Hateful/WhatsApp Image 2022-02-14 at 1.00.35 AM (8).png\n",
      "/home/rohansl/NewCSS/700Meme/Clean_sameformat/Hateful/WhatsApp Image 2022-02-14 at 1.00.38 AM (5).png\n"
     ]
    },
    {
     "name": "stderr",
     "output_type": "stream",
     "text": [
      "  7%|▋         | 270/3743 [00:11<02:27, 23.62it/s]"
     ]
    },
    {
     "name": "stdout",
     "output_type": "stream",
     "text": [
      "/home/rohansl/NewCSS/700Meme/Clean_sameformat/Hateful/WhatsApp Image 2022-02-14 at 1.00.35 AM (9).png\n",
      "/home/rohansl/NewCSS/700Meme/Clean_sameformat/Hateful/WhatsApp Image 2022-02-26 at 10.21.45 PM (2).png\n",
      "/home/rohansl/NewCSS/700Meme/Clean_sameformat/Hateful/WhatsApp Image 2022-02-14 at 1.00.35 AM.png\n",
      "/home/rohansl/NewCSS/700Meme/Clean_sameformat/Hateful/WhatsApp Image 2022-02-14 at 1.00.38 AM (6).png\n",
      "/home/rohansl/NewCSS/700Meme/Clean_sameformat/Hateful/WhatsApp Image 2022-02-14 at 1.00.36 AM (1).png\n",
      "/home/rohansl/NewCSS/700Meme/Clean_sameformat/Hateful/WhatsApp Image 2022-02-14 at 1.00.38 AM (7).png\n"
     ]
    },
    {
     "name": "stderr",
     "output_type": "stream",
     "text": [
      "  7%|▋         | 273/3743 [00:11<02:33, 22.66it/s]"
     ]
    },
    {
     "name": "stdout",
     "output_type": "stream",
     "text": [
      "/home/rohansl/NewCSS/700Meme/Clean_sameformat/Hateful/WhatsApp Image 2022-02-14 at 1.00.36 AM (2).png\n",
      "/home/rohansl/NewCSS/700Meme/Clean_sameformat/Hateful/WhatsApp Image 2022-02-14 at 1.00.38 AM (8).png\n",
      "/home/rohansl/NewCSS/700Meme/Clean_sameformat/Hateful/WhatsApp Image 2022-02-14 at 1.00.36 AM (3).png\n",
      "/home/rohansl/NewCSS/700Meme/Clean_sameformat/Hateful/WhatsApp Image 2022-02-14 at 1.00.38 AM (9).png\n"
     ]
    },
    {
     "name": "stderr",
     "output_type": "stream",
     "text": [
      "  7%|▋         | 279/3743 [00:12<02:32, 22.73it/s]"
     ]
    },
    {
     "name": "stdout",
     "output_type": "stream",
     "text": [
      "/home/rohansl/NewCSS/700Meme/Clean_sameformat/Hateful/WhatsApp Image 2022-02-14 at 1.00.36 AM (4).png\n",
      "/home/rohansl/NewCSS/700Meme/Clean_sameformat/Hateful/WhatsApp Image 2022-02-14 at 1.00.38 AM.png\n",
      "/home/rohansl/NewCSS/700Meme/Clean_sameformat/Hateful/WhatsApp Image 2022-02-14 at 1.00.36 AM (5).png\n",
      "/home/rohansl/NewCSS/700Meme/Clean_sameformat/Hateful/WhatsApp Image 2022-02-14 at 2.40.11 AM (1).png\n",
      "/home/rohansl/NewCSS/700Meme/Clean_sameformat/Hateful/WhatsApp Image 2022-02-14 at 1.00.36 AM (6).png\n",
      "/home/rohansl/NewCSS/700Meme/Clean_sameformat/Hateful/WhatsApp Image 2022-02-14 at 2.40.11 AM (2).png\n"
     ]
    },
    {
     "name": "stderr",
     "output_type": "stream",
     "text": [
      "  8%|▊         | 286/3743 [00:12<02:13, 25.94it/s]"
     ]
    },
    {
     "name": "stdout",
     "output_type": "stream",
     "text": [
      "/home/rohansl/NewCSS/700Meme/Clean_sameformat/Hateful/WhatsApp Image 2022-02-14 at 1.00.36 AM (7).png\n",
      "/home/rohansl/NewCSS/700Meme/Clean_sameformat/Hateful/WhatsApp Image 2022-02-14 at 2.40.11 AM.png\n",
      "/home/rohansl/NewCSS/700Meme/Clean_sameformat/Hateful/WhatsApp Image 2022-02-14 at 1.00.36 AM (8).png\n",
      "/home/rohansl/NewCSS/700Meme/Clean_sameformat/Hateful/WhatsApp Image 2022-02-26 at 10.33.10 PM (2).png\n",
      "/home/rohansl/NewCSS/700Meme/Clean_sameformat/Hateful/WhatsApp Image 2022-02-14 at 1.00.36 AM (9).png\n",
      "/home/rohansl/NewCSS/700Meme/Clean_sameformat/Hateful/WhatsApp Image 2022-02-26 at 10.21.45 PM (3).png\n"
     ]
    },
    {
     "name": "stderr",
     "output_type": "stream",
     "text": [
      "  8%|▊         | 292/3743 [00:12<02:11, 26.20it/s]"
     ]
    },
    {
     "name": "stdout",
     "output_type": "stream",
     "text": [
      "/home/rohansl/NewCSS/700Meme/Clean_sameformat/Hateful/WhatsApp Image 2022-02-14 at 1.00.36 AM.png\n",
      "/home/rohansl/NewCSS/700Meme/Clean_sameformat/Hateful/WhatsApp Image 2022-02-26 at 10.21.43 PM.png\n",
      "/home/rohansl/NewCSS/700Meme/Clean_sameformat/Hateful/WhatsApp Image 2022-02-26 at 10.21.45 PM (4).png\n",
      "/home/rohansl/NewCSS/700Meme/Clean_sameformat/Hateful/WhatsApp Image 2022-02-26 at 10.21.45 PM (5).png\n",
      "/home/rohansl/NewCSS/700Meme/Clean_sameformat/Hateful/WhatsApp Image 2022-02-26 at 10.21.45 PM (6).png\n",
      "/home/rohansl/NewCSS/700Meme/Clean_sameformat/Hateful/WhatsApp Image 2022-02-26 at 10.21.45 PM.png\n"
     ]
    },
    {
     "name": "stderr",
     "output_type": "stream",
     "text": [
      "  8%|▊         | 298/3743 [00:12<02:12, 26.09it/s]"
     ]
    },
    {
     "name": "stdout",
     "output_type": "stream",
     "text": [
      "/home/rohansl/NewCSS/700Meme/Clean_sameformat/Hateful/WhatsApp Image 2022-02-26 at 10.21.46 PM (1).png\n",
      "/home/rohansl/NewCSS/700Meme/Clean_sameformat/Hateful/WhatsApp Image 2022-02-26 at 10.21.46 PM (2).png\n",
      "/home/rohansl/NewCSS/700Meme/Clean_sameformat/Hateful/WhatsApp Image 2022-02-26 at 10.21.46 PM (3).png\n",
      "/home/rohansl/NewCSS/700Meme/Clean_sameformat/Hateful/WhatsApp Image 2022-02-26 at 10.21.46 PM (4).png\n",
      "/home/rohansl/NewCSS/700Meme/Clean_sameformat/Hateful/WhatsApp Image 2022-02-26 at 10.21.46 PM (5).png\n",
      "/home/rohansl/NewCSS/700Meme/Clean_sameformat/Hateful/WhatsApp Image 2022-02-26 at 10.21.46 PM (6).png\n"
     ]
    },
    {
     "name": "stderr",
     "output_type": "stream",
     "text": [
      "  8%|▊         | 301/3743 [00:12<02:11, 26.27it/s]"
     ]
    },
    {
     "name": "stdout",
     "output_type": "stream",
     "text": [
      "/home/rohansl/NewCSS/700Meme/Clean_sameformat/Hateful/WhatsApp Image 2022-02-26 at 10.21.46 PM (7).png\n",
      "/home/rohansl/NewCSS/700Meme/Clean_sameformat/Hateful/WhatsApp Image 2022-02-26 at 10.21.46 PM (8).png\n",
      "/home/rohansl/NewCSS/700Meme/Clean_sameformat/Hateful/WhatsApp Image 2022-02-26 at 10.21.46 PM (9).png\n",
      "/home/rohansl/NewCSS/700Meme/Clean_sameformat/Hateful/WhatsApp Image 2022-02-26 at 10.21.46 PM.png\n",
      "/home/rohansl/NewCSS/700Meme/Clean_sameformat/Hateful/WhatsApp Image 2022-02-26 at 10.21.47 PM (1).png\n"
     ]
    },
    {
     "name": "stderr",
     "output_type": "stream",
     "text": [
      "  8%|▊         | 308/3743 [00:13<02:13, 25.71it/s]"
     ]
    },
    {
     "name": "stdout",
     "output_type": "stream",
     "text": [
      "/home/rohansl/NewCSS/700Meme/Clean_sameformat/Hateful/WhatsApp Image 2022-02-26 at 10.21.47 PM (2).png\n",
      "/home/rohansl/NewCSS/700Meme/Clean_sameformat/Hateful/WhatsApp Image 2022-02-26 at 10.21.47 PM (3).png\n",
      "/home/rohansl/NewCSS/700Meme/Clean_sameformat/Hateful/WhatsApp Image 2022-02-26 at 10.21.47 PM (4).png\n",
      "/home/rohansl/NewCSS/700Meme/Clean_sameformat/Hateful/WhatsApp Image 2022-02-26 at 10.21.47 PM (5).png\n",
      "/home/rohansl/NewCSS/700Meme/Clean_sameformat/Hateful/WhatsApp Image 2022-02-26 at 10.21.47 PM (6).png\n",
      "/home/rohansl/NewCSS/700Meme/Clean_sameformat/Hateful/WhatsApp Image 2022-02-26 at 10.21.47 PM (7).png\n"
     ]
    },
    {
     "name": "stderr",
     "output_type": "stream",
     "text": [
      "  8%|▊         | 314/3743 [00:13<02:28, 23.14it/s]"
     ]
    },
    {
     "name": "stdout",
     "output_type": "stream",
     "text": [
      "/home/rohansl/NewCSS/700Meme/Clean_sameformat/Hateful/WhatsApp Image 2022-02-26 at 10.21.47 PM.png\n",
      "/home/rohansl/NewCSS/700Meme/Clean_sameformat/Hateful/WhatsApp Image 2022-02-26 at 10.23.33 PM.png\n",
      "/home/rohansl/NewCSS/700Meme/Clean_sameformat/Hateful/WhatsApp Image 2022-02-26 at 10.23.57 PM.png\n",
      "/home/rohansl/NewCSS/700Meme/Clean_sameformat/Hateful/WhatsApp Image 2022-02-26 at 10.24.17 PM.png\n",
      "/home/rohansl/NewCSS/700Meme/Clean_sameformat/Hateful/WhatsApp Image 2022-02-26 at 10.24.42 PM.png\n"
     ]
    },
    {
     "name": "stderr",
     "output_type": "stream",
     "text": [
      "  8%|▊         | 317/3743 [00:13<02:31, 22.58it/s]"
     ]
    },
    {
     "name": "stdout",
     "output_type": "stream",
     "text": [
      "/home/rohansl/NewCSS/700Meme/Clean_sameformat/Hateful/WhatsApp Image 2022-02-26 at 10.33.07 PM.png\n",
      "/home/rohansl/NewCSS/700Meme/Clean_sameformat/Hateful/WhatsApp Image 2022-02-26 at 10.33.08 PM (1).png\n",
      "/home/rohansl/NewCSS/700Meme/Clean_sameformat/Hateful/WhatsApp Image 2022-02-26 at 10.33.08 PM (2).png\n",
      "/home/rohansl/NewCSS/700Meme/Clean_sameformat/Hateful/WhatsApp Image 2022-02-26 at 10.33.08 PM (3).png\n"
     ]
    },
    {
     "name": "stderr",
     "output_type": "stream",
     "text": [
      "  9%|▊         | 323/3743 [00:13<02:35, 21.95it/s]"
     ]
    },
    {
     "name": "stdout",
     "output_type": "stream",
     "text": [
      "/home/rohansl/NewCSS/700Meme/Clean_sameformat/Hateful/WhatsApp Image 2022-02-26 at 10.33.08 PM (4).png\n",
      "/home/rohansl/NewCSS/700Meme/Clean_sameformat/Hateful/WhatsApp Image 2022-02-26 at 10.33.08 PM (5).png\n",
      "/home/rohansl/NewCSS/700Meme/Clean_sameformat/Hateful/WhatsApp Image 2022-02-26 at 10.33.08 PM.png\n",
      "/home/rohansl/NewCSS/700Meme/Clean_sameformat/Hateful/WhatsApp Image 2022-02-26 at 10.33.09 PM (1).png\n",
      "/home/rohansl/NewCSS/700Meme/Clean_sameformat/Hateful/WhatsApp Image 2022-02-26 at 10.33.09 PM.png\n"
     ]
    },
    {
     "name": "stderr",
     "output_type": "stream",
     "text": [
      "  9%|▊         | 326/3743 [00:14<02:38, 21.59it/s]"
     ]
    },
    {
     "name": "stdout",
     "output_type": "stream",
     "text": [
      "/home/rohansl/NewCSS/700Meme/Clean_sameformat/Hateful/WhatsApp Image 2022-02-26 at 10.33.10 PM (1).png\n",
      "/home/rohansl/NewCSS/700Meme/Clean_sameformat/Hateful/WhatsApp Image 2022-02-27 at 1.06.55 AM.png\n",
      "/home/rohansl/NewCSS/700Meme/Clean_sameformat/Hateful/WhatsApp Image 2022-02-26 at 10.33.10 PM (3).png\n",
      "/home/rohansl/NewCSS/700Meme/Clean_sameformat/Hateful/WhatsApp Image 2022-02-26 at 10.33.13 PM.png\n"
     ]
    },
    {
     "name": "stderr",
     "output_type": "stream",
     "text": [
      "  9%|▉         | 329/3743 [00:14<02:43, 20.84it/s]"
     ]
    },
    {
     "name": "stdout",
     "output_type": "stream",
     "text": [
      "/home/rohansl/NewCSS/700Meme/Clean_sameformat/Hateful/WhatsApp Image 2022-02-26 at 10.33.10 PM (4).png\n",
      "/home/rohansl/NewCSS/700Meme/Clean_sameformat/Hateful/WhatsApp Image 2022-02-27 at 1.06.56 AM (1).png\n",
      "/home/rohansl/NewCSS/700Meme/Clean_sameformat/Hateful/WhatsApp Image 2022-02-26 at 10.33.10 PM.png\n",
      "/home/rohansl/NewCSS/700Meme/Clean_sameformat/Hateful/WhatsApp Image 2022-02-27 at 1.06.56 AM (2).png\n"
     ]
    },
    {
     "name": "stderr",
     "output_type": "stream",
     "text": [
      "  9%|▉         | 334/3743 [00:14<02:58, 19.07it/s]"
     ]
    },
    {
     "name": "stdout",
     "output_type": "stream",
     "text": [
      "/home/rohansl/NewCSS/700Meme/Clean_sameformat/Hateful/WhatsApp Image 2022-02-26 at 10.33.11 PM (1).png\n",
      "/home/rohansl/NewCSS/700Meme/Clean_sameformat/Hateful/WhatsApp Image 2022-02-27 at 1.06.56 AM (3).png\n",
      "/home/rohansl/NewCSS/700Meme/Clean_sameformat/Hateful/WhatsApp Image 2022-02-26 at 10.33.11 PM (2).png\n",
      "/home/rohansl/NewCSS/700Meme/Clean_sameformat/Hateful/WhatsApp Image 2022-02-27 at 1.06.56 AM (4).png\n"
     ]
    },
    {
     "name": "stderr",
     "output_type": "stream",
     "text": [
      "  9%|▉         | 338/3743 [00:14<03:00, 18.91it/s]"
     ]
    },
    {
     "name": "stdout",
     "output_type": "stream",
     "text": [
      "/home/rohansl/NewCSS/700Meme/Clean_sameformat/Hateful/WhatsApp Image 2022-02-26 at 10.33.11 PM (3).png\n",
      "/home/rohansl/NewCSS/700Meme/Clean_sameformat/Hateful/WhatsApp Image 2022-02-27 at 1.06.56 AM (5).png\n",
      "/home/rohansl/NewCSS/700Meme/Clean_sameformat/Hateful/WhatsApp Image 2022-02-26 at 10.33.11 PM.png\n",
      "/home/rohansl/NewCSS/700Meme/Clean_sameformat/Hateful/WhatsApp Image 2022-02-27 at 1.06.56 AM.png\n",
      "/home/rohansl/NewCSS/700Meme/Clean_sameformat/Hateful/WhatsApp Image 2022-02-26 at 10.33.12 PM (1).png\n"
     ]
    },
    {
     "name": "stderr",
     "output_type": "stream",
     "text": [
      "  9%|▉         | 344/3743 [00:14<02:41, 21.10it/s]"
     ]
    },
    {
     "name": "stdout",
     "output_type": "stream",
     "text": [
      "/home/rohansl/NewCSS/700Meme/Clean_sameformat/Hateful/WhatsApp Image 2022-02-27 at 1.06.57 AM.png\n",
      "/home/rohansl/NewCSS/700Meme/Clean_sameformat/Hateful/WhatsApp Image 2022-02-26 at 10.33.12 PM (2).png\n",
      "/home/rohansl/NewCSS/700Meme/Clean_sameformat/Hateful/WhatsApp Image 2022-02-27 at 12.19.18 AM (1).png\n",
      "/home/rohansl/NewCSS/700Meme/Clean_sameformat/Hateful/WhatsApp Image 2022-02-26 at 10.33.12 PM (3).png\n",
      "/home/rohansl/NewCSS/700Meme/Clean_sameformat/Hateful/WhatsApp Image 2022-02-27 at 12.19.18 AM (2).png\n"
     ]
    },
    {
     "name": "stderr",
     "output_type": "stream",
     "text": [
      "  9%|▉         | 350/3743 [00:15<02:30, 22.48it/s]"
     ]
    },
    {
     "name": "stdout",
     "output_type": "stream",
     "text": [
      "/home/rohansl/NewCSS/700Meme/Clean_sameformat/Hateful/WhatsApp Image 2022-02-26 at 10.33.12 PM.png\n",
      "/home/rohansl/NewCSS/700Meme/Clean_sameformat/Hateful/WhatsApp Image 2022-02-27 at 12.19.18 AM (3).png\n",
      "/home/rohansl/NewCSS/700Meme/Clean_sameformat/Hateful/WhatsApp Image 2022-02-26 at 10.33.13 PM (1).png\n",
      "/home/rohansl/NewCSS/700Meme/Clean_sameformat/Hateful/why-havent-you-converted-to-islam-anon-11578980.png\n",
      "/home/rohansl/NewCSS/700Meme/Clean_sameformat/Hateful/WhatsApp Image 2022-02-26 at 10.33.13 PM (2).png\n",
      "/home/rohansl/NewCSS/700Meme/Clean_sameformat/Hateful/WhatsApp Image 2022-02-27 at 12.19.18 AM.png\n"
     ]
    },
    {
     "name": "stderr",
     "output_type": "stream",
     "text": [
      " 10%|▉         | 356/3743 [00:15<02:35, 21.72it/s]"
     ]
    },
    {
     "name": "stdout",
     "output_type": "stream",
     "text": [
      "/home/rohansl/NewCSS/700Meme/Clean_sameformat/Hateful/WhatsApp Image 2022-02-27 at 12.19.19 AM (1).png\n",
      "/home/rohansl/NewCSS/700Meme/Clean_sameformat/Hateful/WhatsApp Image 2022-02-27 at 12.19.19 AM (2).png\n",
      "/home/rohansl/NewCSS/700Meme/Clean_sameformat/Hateful/WhatsApp Image 2022-02-27 at 12.19.19 AM (3).png\n",
      "/home/rohansl/NewCSS/700Meme/Clean_sameformat/Hateful/WhatsApp Image 2022-02-27 at 12.19.19 AM (4).png\n",
      "/home/rohansl/NewCSS/700Meme/Clean_sameformat/Hateful/WhatsApp Image 2022-02-27 at 12.19.19 AM.png\n"
     ]
    },
    {
     "name": "stderr",
     "output_type": "stream",
     "text": [
      " 10%|▉         | 359/3743 [00:15<02:30, 22.48it/s]"
     ]
    },
    {
     "name": "stdout",
     "output_type": "stream",
     "text": [
      "/home/rohansl/NewCSS/700Meme/Clean_sameformat/Hateful/WhatsApp Image 2022-02-27 at 12.23.19 AM.png\n",
      "/home/rohansl/NewCSS/700Meme/Clean_sameformat/Hateful/WhatsApp Image 2022-02-27 at 3.07.42 AM (1).png\n",
      "/home/rohansl/NewCSS/700Meme/Clean_sameformat/Hateful/WhatsApp Image 2022-02-27 at 3.07.42 AM (2).png\n",
      "/home/rohansl/NewCSS/700Meme/Clean_sameformat/Hateful/WhatsApp Image 2022-02-27 at 3.07.42 AM (3).png\n",
      "/home/rohansl/NewCSS/700Meme/Clean_sameformat/Hateful/WhatsApp Image 2022-02-27 at 3.07.42 AM (4).png\n"
     ]
    },
    {
     "name": "stderr",
     "output_type": "stream",
     "text": [
      " 10%|▉         | 365/3743 [00:15<02:32, 22.22it/s]"
     ]
    },
    {
     "name": "stdout",
     "output_type": "stream",
     "text": [
      "/home/rohansl/NewCSS/700Meme/Clean_sameformat/Hateful/WhatsApp Image 2022-02-27 at 3.07.42 AM (5).png\n",
      "/home/rohansl/NewCSS/700Meme/Clean_sameformat/Hateful/WhatsApp Image 2022-02-27 at 3.07.42 AM.png\n",
      "/home/rohansl/NewCSS/700Meme/Clean_sameformat/Hateful/WhatsApp Image 2022-02-27 at 3.09.38 AM (1).png\n",
      "/home/rohansl/NewCSS/700Meme/Clean_sameformat/Hateful/WhatsApp Image 2022-02-27 at 3.09.38 AM.png\n",
      "/home/rohansl/NewCSS/700Meme/Clean_sameformat/Hateful/WhatsApp Image 2022-02-27 at 3.09.39 AM (1).png\n"
     ]
    },
    {
     "name": "stderr",
     "output_type": "stream",
     "text": [
      " 10%|▉         | 371/3743 [00:16<02:38, 21.27it/s]"
     ]
    },
    {
     "name": "stdout",
     "output_type": "stream",
     "text": [
      "/home/rohansl/NewCSS/700Meme/Clean_sameformat/Hateful/WhatsApp Image 2022-02-27 at 3.09.39 AM (2).png\n",
      "/home/rohansl/NewCSS/700Meme/Clean_sameformat/Hateful/WhatsApp Image 2022-02-27 at 3.09.39 AM.png\n",
      "/home/rohansl/NewCSS/700Meme/Clean_sameformat/Hateful/WhatsApp Image 2022-02-27 at 3.09.40 AM (1).png\n",
      "/home/rohansl/NewCSS/700Meme/Clean_sameformat/Hateful/WhatsApp Image 2022-02-27 at 3.09.40 AM.png\n",
      "/home/rohansl/NewCSS/700Meme/Clean_sameformat/Hateful/WhatsApp Image 2022-02-27 at 3.17.57 AM (1).png\n"
     ]
    },
    {
     "name": "stderr",
     "output_type": "stream",
     "text": [
      " 10%|▉         | 374/3743 [00:16<02:38, 21.27it/s]"
     ]
    },
    {
     "name": "stdout",
     "output_type": "stream",
     "text": [
      "/home/rohansl/NewCSS/700Meme/Clean_sameformat/Hateful/WhatsApp Image 2022-02-27 at 3.17.57 AM (2).png\n",
      "/home/rohansl/NewCSS/700Meme/Clean_sameformat/Hateful/WhatsApp Image 2022-02-27 at 3.17.57 AM.png\n",
      "/home/rohansl/NewCSS/700Meme/Clean_sameformat/Hateful/WhatsApp Image 2022-02-27 at 3.17.58 AM (1).png\n",
      "/home/rohansl/NewCSS/700Meme/Clean_sameformat/Hateful/WhatsApp Image 2022-02-27 at 3.17.58 AM (2).png\n",
      "/home/rohansl/NewCSS/700Meme/Clean_sameformat/Hateful/WhatsApp Image 2022-02-27 at 3.17.58 AM.png\n"
     ]
    },
    {
     "name": "stderr",
     "output_type": "stream",
     "text": [
      " 10%|█         | 380/3743 [00:16<02:37, 21.40it/s]"
     ]
    },
    {
     "name": "stdout",
     "output_type": "stream",
     "text": [
      "/home/rohansl/NewCSS/700Meme/Clean_sameformat/Hateful/WhatsApp Image 2022-02-27 at 3.20.34 AM (1).png\n",
      "/home/rohansl/NewCSS/700Meme/Clean_sameformat/Hateful/WhatsApp Image 2022-02-27 at 3.20.34 AM.png\n",
      "/home/rohansl/NewCSS/700Meme/Clean_sameformat/Hateful/WhatsApp Image 2022-02-27 at 3.40.46 AM (1).png\n",
      "/home/rohansl/NewCSS/700Meme/Clean_sameformat/Hateful/WhatsApp Image 2022-02-27 at 3.40.46 AM (2).png\n",
      "/home/rohansl/NewCSS/700Meme/Clean_sameformat/Hateful/WhatsApp Image 2022-02-27 at 3.40.46 AM (3).png\n"
     ]
    },
    {
     "name": "stderr",
     "output_type": "stream",
     "text": [
      " 10%|█         | 386/3743 [00:16<02:39, 21.01it/s]"
     ]
    },
    {
     "name": "stdout",
     "output_type": "stream",
     "text": [
      "/home/rohansl/NewCSS/700Meme/Clean_sameformat/Hateful/WhatsApp Image 2022-02-27 at 3.40.46 AM (4).png\n",
      "/home/rohansl/NewCSS/700Meme/Clean_sameformat/Hateful/WhatsApp Image 2022-02-27 at 3.40.46 AM.png\n",
      "/home/rohansl/NewCSS/700Meme/Clean_sameformat/Hateful/WhatsApp Image 2022-02-27 at 3.40.47 AM (1).png\n",
      "/home/rohansl/NewCSS/700Meme/Clean_sameformat/Hateful/WhatsApp Image 2022-02-27 at 3.40.47 AM.png\n",
      "/home/rohansl/NewCSS/700Meme/Clean_sameformat/Hateful/WhatsApp Image 2022-02-27 at 3.40.48 AM (1).png\n"
     ]
    },
    {
     "name": "stderr",
     "output_type": "stream",
     "text": [
      " 10%|█         | 389/3743 [00:17<02:42, 20.60it/s]"
     ]
    },
    {
     "name": "stdout",
     "output_type": "stream",
     "text": [
      "/home/rohansl/NewCSS/700Meme/Clean_sameformat/Hateful/WhatsApp Image 2022-02-27 at 3.40.48 AM (2).png\n",
      "/home/rohansl/NewCSS/700Meme/Clean_sameformat/Hateful/WhatsApp Image 2022-02-27 at 3.40.48 AM (3).png\n",
      "/home/rohansl/NewCSS/700Meme/Clean_sameformat/Hateful/WhatsApp Image 2022-02-27 at 3.40.48 AM.png\n",
      "/home/rohansl/NewCSS/700Meme/Clean_sameformat/Hateful/WhatsApp Image 2022-02-27 at 3.40.49 AM (1).png\n",
      "/home/rohansl/NewCSS/700Meme/Clean_sameformat/Hateful/WhatsApp Image 2022-02-27 at 3.40.49 AM (2).png\n"
     ]
    },
    {
     "name": "stderr",
     "output_type": "stream",
     "text": [
      " 11%|█         | 395/3743 [00:17<02:40, 20.81it/s]"
     ]
    },
    {
     "name": "stdout",
     "output_type": "stream",
     "text": [
      "/home/rohansl/NewCSS/700Meme/Clean_sameformat/Hateful/WhatsApp Image 2022-02-27 at 3.40.49 AM.png\n",
      "/home/rohansl/NewCSS/700Meme/Clean_sameformat/Hateful/WhatsApp Image 2022-02-27 at 3.40.50 AM (1).png\n",
      "/home/rohansl/NewCSS/700Meme/Clean_sameformat/Hateful/WhatsApp Image 2022-02-27 at 3.40.50 AM (2).png\n",
      "/home/rohansl/NewCSS/700Meme/Clean_sameformat/Hateful/WhatsApp Image 2022-02-27 at 3.40.50 AM (3).png\n",
      "/home/rohansl/NewCSS/700Meme/Clean_sameformat/Hateful/WhatsApp Image 2022-02-27 at 3.40.50 AM.png\n"
     ]
    },
    {
     "name": "stderr",
     "output_type": "stream",
     "text": [
      " 11%|█         | 401/3743 [00:17<02:42, 20.59it/s]"
     ]
    },
    {
     "name": "stdout",
     "output_type": "stream",
     "text": [
      "/home/rohansl/NewCSS/700Meme/Clean_sameformat/Hateful/WhatsApp Image 2022-02-27 at 3.41.26 AM (1).png\n",
      "/home/rohansl/NewCSS/700Meme/Clean_sameformat/Hateful/WhatsApp Image 2022-02-27 at 3.41.26 AM (2).png\n",
      "/home/rohansl/NewCSS/700Meme/Clean_sameformat/Hateful/WhatsApp Image 2022-02-27 at 3.41.26 AM.png\n",
      "/home/rohansl/NewCSS/700Meme/Clean_sameformat/Hateful/WhatsApp Image 2022-02-27 at 3.41.27 AM (1).png\n",
      "/home/rohansl/NewCSS/700Meme/Clean_sameformat/Hateful/WhatsApp Image 2022-02-27 at 3.41.27 AM (2).png\n"
     ]
    },
    {
     "name": "stderr",
     "output_type": "stream",
     "text": [
      " 11%|█         | 404/3743 [00:17<02:41, 20.64it/s]"
     ]
    },
    {
     "name": "stdout",
     "output_type": "stream",
     "text": [
      "/home/rohansl/NewCSS/700Meme/Clean_sameformat/Hateful/WhatsApp Image 2022-02-27 at 3.41.27 AM (3).png\n",
      "/home/rohansl/NewCSS/700Meme/Clean_sameformat/Hateful/WhatsApp Image 2022-02-27 at 3.41.27 AM (4).png\n",
      "/home/rohansl/NewCSS/700Meme/Clean_sameformat/Hateful/WhatsApp Image 2022-02-27 at 3.41.27 AM (5).png\n",
      "/home/rohansl/NewCSS/700Meme/Clean_sameformat/Hateful/WhatsApp Image 2022-02-27 at 3.41.27 AM (6).png\n",
      "/home/rohansl/NewCSS/700Meme/Clean_sameformat/Hateful/WhatsApp Image 2022-02-27 at 3.41.27 AM (7).png\n"
     ]
    },
    {
     "name": "stderr",
     "output_type": "stream",
     "text": [
      " 11%|█         | 410/3743 [00:18<02:24, 23.11it/s]"
     ]
    },
    {
     "name": "stdout",
     "output_type": "stream",
     "text": [
      "/home/rohansl/NewCSS/700Meme/Clean_sameformat/Hateful/WhatsApp Image 2022-02-27 at 3.41.27 AM (8).png\n",
      "/home/rohansl/NewCSS/700Meme/Clean_sameformat/Hateful/WhatsApp Image 2022-02-27 at 3.41.27 AM.png\n",
      "/home/rohansl/NewCSS/700Meme/Clean_sameformat/Hateful/WhatsApp Image 2022-02-27 at 3.41.40 AM.png\n",
      "/home/rohansl/NewCSS/700Meme/Clean_sameformat/Hateful/WhatsApp Image 2022-02-27 at 3.41.58 AM.png\n",
      "/home/rohansl/NewCSS/700Meme/Clean_sameformat/Hateful/WhatsApp Image 2022-02-27 at 3.41.59 AM (1).png\n",
      "/home/rohansl/NewCSS/700Meme/Clean_sameformat/Hateful/WhatsApp Image 2022-02-27 at 3.41.59 AM (2).png\n",
      "/home/rohansl/NewCSS/700Meme/Clean_sameformat/Hateful/WhatsApp Image 2022-02-27 at 3.41.59 AM (3).png\n"
     ]
    },
    {
     "name": "stderr",
     "output_type": "stream",
     "text": [
      " 11%|█         | 418/3743 [00:18<02:05, 26.44it/s]"
     ]
    },
    {
     "name": "stdout",
     "output_type": "stream",
     "text": [
      "/home/rohansl/NewCSS/700Meme/Clean_sameformat/Hateful/WhatsApp Image 2022-02-27 at 3.41.59 AM.png\n",
      "/home/rohansl/NewCSS/700Meme/Clean_sameformat/Hateful/WhatsApp Image 2022-02-27 at 3.42.07 AM.png\n",
      "/home/rohansl/NewCSS/700Meme/Clean_sameformat/Hateful/WhatsApp Image 2022-02-27 at 3.43.27 AM (1).png\n",
      "/home/rohansl/NewCSS/700Meme/Clean_sameformat/Hateful/WhatsApp Image 2022-02-27 at 3.43.27 AM (2).png\n",
      "/home/rohansl/NewCSS/700Meme/Clean_sameformat/Hateful/WhatsApp Image 2022-02-27 at 3.43.27 AM (3).png\n",
      "/home/rohansl/NewCSS/700Meme/Clean_sameformat/Hateful/WhatsApp Image 2022-02-27 at 3.43.27 AM (4).png\n"
     ]
    },
    {
     "name": "stderr",
     "output_type": "stream",
     "text": [
      " 11%|█▏        | 424/3743 [00:18<02:20, 23.70it/s]"
     ]
    },
    {
     "name": "stdout",
     "output_type": "stream",
     "text": [
      "/home/rohansl/NewCSS/700Meme/Clean_sameformat/Hateful/WhatsApp Image 2022-02-27 at 3.43.27 AM (5).png\n",
      "/home/rohansl/NewCSS/700Meme/Clean_sameformat/Hateful/WhatsApp Image 2022-02-27 at 3.43.27 AM (6).png\n",
      "/home/rohansl/NewCSS/700Meme/Clean_sameformat/Hateful/WhatsApp Image 2022-02-27 at 3.43.27 AM (7).png\n",
      "/home/rohansl/NewCSS/700Meme/Clean_sameformat/Hateful/WhatsApp Image 2022-02-27 at 3.43.27 AM.png\n"
     ]
    },
    {
     "name": "stderr",
     "output_type": "stream",
     "text": [
      " 11%|█▏        | 427/3743 [00:18<02:24, 22.98it/s]"
     ]
    },
    {
     "name": "stdout",
     "output_type": "stream",
     "text": [
      "/home/rohansl/NewCSS/700Meme/Clean_sameformat/Hateful/WhatsApp Image 2022-02-27 at 3.43.28 AM (1).png\n",
      "/home/rohansl/NewCSS/700Meme/Clean_sameformat/Hateful/WhatsApp Image 2022-02-27 at 3.43.28 AM.png\n",
      "/home/rohansl/NewCSS/700Meme/Clean_sameformat/Hateful/WhatsApp Image 2022-02-27 at 3.45.10 AM (1).png\n",
      "/home/rohansl/NewCSS/700Meme/Clean_sameformat/Hateful/WhatsApp Image 2022-02-27 at 3.45.10 AM (2).png\n",
      "/home/rohansl/NewCSS/700Meme/Clean_sameformat/Hateful/WhatsApp Image 2022-02-27 at 3.45.10 AM (3).png\n"
     ]
    },
    {
     "name": "stderr",
     "output_type": "stream",
     "text": [
      " 12%|█▏        | 433/3743 [00:18<02:32, 21.69it/s]"
     ]
    },
    {
     "name": "stdout",
     "output_type": "stream",
     "text": [
      "/home/rohansl/NewCSS/700Meme/Clean_sameformat/Hateful/WhatsApp Image 2022-02-27 at 3.45.10 AM (4).png\n",
      "/home/rohansl/NewCSS/700Meme/Clean_sameformat/Hateful/WhatsApp Image 2022-02-27 at 3.45.10 AM (5).png\n",
      "/home/rohansl/NewCSS/700Meme/Clean_sameformat/Hateful/WhatsApp Image 2022-02-27 at 3.45.10 AM.png\n",
      "/home/rohansl/NewCSS/700Meme/Clean_sameformat/Hateful/WhatsApp Image 2022-02-27 at 3.48.21 AM (1).png\n",
      "/home/rohansl/NewCSS/700Meme/Clean_sameformat/Hateful/WhatsApp Image 2022-02-27 at 3.48.21 AM (2).png\n"
     ]
    },
    {
     "name": "stderr",
     "output_type": "stream",
     "text": [
      " 12%|█▏        | 436/3743 [00:19<02:50, 19.36it/s]"
     ]
    },
    {
     "name": "stdout",
     "output_type": "stream",
     "text": [
      "/home/rohansl/NewCSS/700Meme/Clean_sameformat/Hateful/WhatsApp Image 2022-02-27 at 3.48.21 AM (3).png\n",
      "/home/rohansl/NewCSS/700Meme/Clean_sameformat/Hateful/WhatsApp Image 2022-02-27 at 3.48.21 AM (4).png\n",
      "/home/rohansl/NewCSS/700Meme/Clean_sameformat/Hateful/WhatsApp Image 2022-02-27 at 3.48.21 AM.png\n",
      "/home/rohansl/NewCSS/700Meme/Clean_sameformat/Hateful/WhatsApp Image 2022-02-27 at 3.58.35 AM (1).png\n"
     ]
    },
    {
     "name": "stderr",
     "output_type": "stream",
     "text": [
      " 12%|█▏        | 442/3743 [00:19<02:45, 19.95it/s]"
     ]
    },
    {
     "name": "stdout",
     "output_type": "stream",
     "text": [
      "/home/rohansl/NewCSS/700Meme/Clean_sameformat/Hateful/WhatsApp Image 2022-02-27 at 3.58.35 AM (2).png\n",
      "/home/rohansl/NewCSS/700Meme/Clean_sameformat/Hateful/WhatsApp Image 2022-02-27 at 3.58.35 AM.png\n",
      "/home/rohansl/NewCSS/700Meme/Clean_sameformat/Hateful/WhatsApp Image 2022-02-27 at 3.59.30 AM.png\n",
      "/home/rohansl/NewCSS/700Meme/Clean_sameformat/Hateful/WhatsApp Image 2022-02-27 at 4.32.35 AM.png\n",
      "/home/rohansl/NewCSS/700Meme/Clean_sameformat/Hateful/WhatsApp Image 2022-03-06 at 10.19.13 PM.png\n"
     ]
    },
    {
     "name": "stderr",
     "output_type": "stream",
     "text": [
      " 12%|█▏        | 445/3743 [00:19<02:41, 20.40it/s]"
     ]
    },
    {
     "name": "stdout",
     "output_type": "stream",
     "text": [
      "/home/rohansl/NewCSS/700Meme/Clean_sameformat/Hateful/WhatsApp Image 2022-03-06 at 10.53.03 PM (1).png\n",
      "/home/rohansl/NewCSS/700Meme/Clean_sameformat/Hateful/WhatsApp Image 2022-03-06 at 10.53.03 PM.png\n",
      "/home/rohansl/NewCSS/700Meme/Clean_sameformat/Hateful/WhatsApp Image 2022-03-06 at 10.53.04 PM (1).png\n",
      "/home/rohansl/NewCSS/700Meme/Clean_sameformat/Hateful/WhatsApp Image 2022-03-06 at 10.53.04 PM.png\n"
     ]
    },
    {
     "name": "stderr",
     "output_type": "stream",
     "text": [
      " 12%|█▏        | 450/3743 [00:19<02:54, 18.88it/s]"
     ]
    },
    {
     "name": "stdout",
     "output_type": "stream",
     "text": [
      "/home/rohansl/NewCSS/700Meme/Clean_sameformat/Hateful/WhatsApp Image 2022-03-06 at 10.53.05 PM (1).png\n",
      "/home/rohansl/NewCSS/700Meme/Clean_sameformat/Hateful/WhatsApp Image 2022-03-06 at 10.53.05 PM (2).png\n",
      "/home/rohansl/NewCSS/700Meme/Clean_sameformat/Hateful/WhatsApp Image 2022-03-06 at 10.53.05 PM.png\n",
      "/home/rohansl/NewCSS/700Meme/Clean_sameformat/Hateful/WhatsApp Image 2022-03-06 at 10.56.45 PM.png\n"
     ]
    },
    {
     "name": "stderr",
     "output_type": "stream",
     "text": [
      " 12%|█▏        | 455/3743 [00:20<02:49, 19.35it/s]"
     ]
    },
    {
     "name": "stdout",
     "output_type": "stream",
     "text": [
      "/home/rohansl/NewCSS/700Meme/Clean_sameformat/Hateful/WhatsApp Image 2022-03-06 at 2.53.05 PM (1).png\n",
      "/home/rohansl/NewCSS/700Meme/Clean_sameformat/Hateful/WhatsApp Image 2022-03-06 at 2.53.05 PM (2).png\n",
      "/home/rohansl/NewCSS/700Meme/Clean_sameformat/Hateful/WhatsApp Image 2022-03-06 at 2.53.05 PM.png\n",
      "/home/rohansl/NewCSS/700Meme/Clean_sameformat/Hateful/WhatsApp Image 2022-03-06 at 2.53.06 PM.png\n",
      "/home/rohansl/NewCSS/700Meme/Clean_sameformat/Hateful/WhatsApp Image 2022-03-06 at 3.13.31 PM (1).png\n"
     ]
    },
    {
     "name": "stderr",
     "output_type": "stream",
     "text": [
      " 12%|█▏        | 458/3743 [00:20<02:39, 20.65it/s]"
     ]
    },
    {
     "name": "stdout",
     "output_type": "stream",
     "text": [
      "/home/rohansl/NewCSS/700Meme/Clean_sameformat/Hateful/WhatsApp Image 2022-03-06 at 3.13.31 PM (10).png\n",
      "/home/rohansl/NewCSS/700Meme/Clean_sameformat/Hateful/WhatsApp Image 2022-03-06 at 3.13.31 PM (11).png\n",
      "/home/rohansl/NewCSS/700Meme/Clean_sameformat/Hateful/WhatsApp Image 2022-03-06 at 3.13.31 PM (12).png\n",
      "/home/rohansl/NewCSS/700Meme/Clean_sameformat/Hateful/WhatsApp Image 2022-03-06 at 3.13.31 PM (2).png\n",
      "/home/rohansl/NewCSS/700Meme/Clean_sameformat/Hateful/WhatsApp Image 2022-03-06 at 3.13.31 PM (3).png\n"
     ]
    },
    {
     "name": "stderr",
     "output_type": "stream",
     "text": [
      " 12%|█▏        | 464/3743 [00:20<02:27, 22.24it/s]"
     ]
    },
    {
     "name": "stdout",
     "output_type": "stream",
     "text": [
      "/home/rohansl/NewCSS/700Meme/Clean_sameformat/Hateful/WhatsApp Image 2022-03-06 at 3.13.31 PM (4).png\n",
      "/home/rohansl/NewCSS/700Meme/Clean_sameformat/Hateful/WhatsApp Image 2022-03-06 at 3.13.31 PM (5).png\n",
      "/home/rohansl/NewCSS/700Meme/Clean_sameformat/Hateful/WhatsApp Image 2022-03-06 at 3.13.31 PM (6).png\n",
      "/home/rohansl/NewCSS/700Meme/Clean_sameformat/Hateful/WhatsApp Image 2022-03-06 at 3.13.31 PM (7).png\n",
      "/home/rohansl/NewCSS/700Meme/Clean_sameformat/Hateful/WhatsApp Image 2022-03-06 at 3.13.31 PM (8).png\n"
     ]
    },
    {
     "name": "stderr",
     "output_type": "stream",
     "text": [
      " 13%|█▎        | 470/3743 [00:20<02:29, 21.95it/s]"
     ]
    },
    {
     "name": "stdout",
     "output_type": "stream",
     "text": [
      "/home/rohansl/NewCSS/700Meme/Clean_sameformat/Hateful/WhatsApp Image 2022-03-06 at 3.13.31 PM (9).png\n",
      "/home/rohansl/NewCSS/700Meme/Clean_sameformat/Hateful/WhatsApp Image 2022-03-06 at 3.13.31 PM.png\n",
      "/home/rohansl/NewCSS/700Meme/Clean_sameformat/Hateful/WhatsApp Image 2022-03-06 at 3.43.48 PM.png\n",
      "/home/rohansl/NewCSS/700Meme/Clean_sameformat/Hateful/WhatsApp Image 2022-03-06 at 3.43.49 PM (1).png\n",
      "/home/rohansl/NewCSS/700Meme/Clean_sameformat/Hateful/WhatsApp Image 2022-03-06 at 3.43.49 PM (2).png\n"
     ]
    },
    {
     "name": "stderr",
     "output_type": "stream",
     "text": [
      " 13%|█▎        | 473/3743 [00:20<02:31, 21.62it/s]"
     ]
    },
    {
     "name": "stdout",
     "output_type": "stream",
     "text": [
      "/home/rohansl/NewCSS/700Meme/Clean_sameformat/Hateful/WhatsApp Image 2022-03-06 at 3.43.49 PM.png\n",
      "/home/rohansl/NewCSS/700Meme/Clean_sameformat/Hateful/WhatsApp Image 2022-03-06 at 3.43.51 PM (1).png\n",
      "/home/rohansl/NewCSS/700Meme/Clean_sameformat/Hateful/WhatsApp Image 2022-03-06 at 3.43.51 PM (2).png\n",
      "/home/rohansl/NewCSS/700Meme/Clean_sameformat/Hateful/WhatsApp Image 2022-03-06 at 3.43.51 PM (3).png\n",
      "/home/rohansl/NewCSS/700Meme/Clean_sameformat/Hateful/WhatsApp Image 2022-03-06 at 3.43.51 PM.png\n"
     ]
    },
    {
     "name": "stderr",
     "output_type": "stream",
     "text": [
      " 13%|█▎        | 479/3743 [00:21<02:35, 20.95it/s]"
     ]
    },
    {
     "name": "stdout",
     "output_type": "stream",
     "text": [
      "/home/rohansl/NewCSS/700Meme/Clean_sameformat/Hateful/WhatsApp Image 2022-03-06 at 3.43.52 PM (1).png\n",
      "/home/rohansl/NewCSS/700Meme/Clean_sameformat/Hateful/WhatsApp Image 2022-03-06 at 3.43.52 PM (2).png\n",
      "/home/rohansl/NewCSS/700Meme/Clean_sameformat/Hateful/WhatsApp Image 2022-03-06 at 3.43.52 PM.png\n",
      "/home/rohansl/NewCSS/700Meme/Clean_sameformat/Hateful/WhatsApp Image 2022-03-06 at 3.43.53 PM (1).png\n",
      "/home/rohansl/NewCSS/700Meme/Clean_sameformat/Hateful/WhatsApp Image 2022-03-06 at 3.43.53 PM (2).png\n"
     ]
    },
    {
     "name": "stderr",
     "output_type": "stream",
     "text": [
      " 13%|█▎        | 485/3743 [00:21<02:33, 21.24it/s]"
     ]
    },
    {
     "name": "stdout",
     "output_type": "stream",
     "text": [
      "/home/rohansl/NewCSS/700Meme/Clean_sameformat/Hateful/WhatsApp Image 2022-03-06 at 3.43.53 PM.png\n",
      "/home/rohansl/NewCSS/700Meme/Clean_sameformat/Hateful/WhatsApp Image 2022-03-06 at 3.43.54 PM (1).png\n",
      "/home/rohansl/NewCSS/700Meme/Clean_sameformat/Hateful/WhatsApp Image 2022-03-06 at 3.43.54 PM (2).png\n",
      "/home/rohansl/NewCSS/700Meme/Clean_sameformat/Hateful/WhatsApp Image 2022-03-06 at 3.43.54 PM (3).png\n",
      "/home/rohansl/NewCSS/700Meme/Clean_sameformat/Hateful/WhatsApp Image 2022-03-06 at 3.43.54 PM.png\n"
     ]
    },
    {
     "name": "stderr",
     "output_type": "stream",
     "text": [
      " 13%|█▎        | 488/3743 [00:21<02:33, 21.14it/s]"
     ]
    },
    {
     "name": "stdout",
     "output_type": "stream",
     "text": [
      "/home/rohansl/NewCSS/700Meme/Clean_sameformat/Hateful/WhatsApp Image 2022-03-06 at 3.43.55 PM (1).png\n",
      "/home/rohansl/NewCSS/700Meme/Clean_sameformat/Hateful/WhatsApp Image 2022-03-06 at 3.43.55 PM (2).png\n",
      "/home/rohansl/NewCSS/700Meme/Clean_sameformat/Hateful/WhatsApp Image 2022-03-06 at 3.43.55 PM (3).png\n",
      "/home/rohansl/NewCSS/700Meme/Clean_sameformat/Hateful/WhatsApp Image 2022-03-06 at 3.43.55 PM.png\n",
      "/home/rohansl/NewCSS/700Meme/Clean_sameformat/Hateful/WhatsApp Image 2022-03-06 at 3.43.57 PM (1).png\n"
     ]
    },
    {
     "name": "stderr",
     "output_type": "stream",
     "text": [
      " 13%|█▎        | 494/3743 [00:21<02:38, 20.56it/s]"
     ]
    },
    {
     "name": "stdout",
     "output_type": "stream",
     "text": [
      "/home/rohansl/NewCSS/700Meme/Clean_sameformat/Hateful/WhatsApp Image 2022-03-06 at 3.43.57 PM (2).png\n",
      "/home/rohansl/NewCSS/700Meme/Clean_sameformat/Hateful/WhatsApp Image 2022-03-06 at 3.43.57 PM (3).png\n",
      "/home/rohansl/NewCSS/700Meme/Clean_sameformat/Hateful/WhatsApp Image 2022-03-06 at 3.43.57 PM (4).png\n",
      "/home/rohansl/NewCSS/700Meme/Clean_sameformat/Hateful/WhatsApp Image 2022-03-06 at 3.43.57 PM.png\n",
      "/home/rohansl/NewCSS/700Meme/Clean_sameformat/Hateful/WhatsApp Image 2022-03-06 at 7.49.35 PM.png\n"
     ]
    },
    {
     "name": "stderr",
     "output_type": "stream",
     "text": [
      " 13%|█▎        | 500/3743 [00:22<02:39, 20.31it/s]"
     ]
    },
    {
     "name": "stdout",
     "output_type": "stream",
     "text": [
      "/home/rohansl/NewCSS/700Meme/Clean_sameformat/Hateful/WhatsApp Image 2022-03-06 at 7.49.36 PM (1).png\n",
      "/home/rohansl/NewCSS/700Meme/Clean_sameformat/Hateful/WhatsApp Image 2022-03-06 at 7.49.36 PM (2).png\n",
      "/home/rohansl/NewCSS/700Meme/Clean_sameformat/Hateful/WhatsApp Image 2022-03-06 at 7.49.36 PM.png\n",
      "/home/rohansl/NewCSS/700Meme/Clean_sameformat/Hateful/WhatsApp Image 2022-03-06 at 7.49.37 PM.png\n"
     ]
    },
    {
     "name": "stderr",
     "output_type": "stream",
     "text": [
      " 13%|█▎        | 503/3743 [00:22<02:43, 19.79it/s]"
     ]
    },
    {
     "name": "stdout",
     "output_type": "stream",
     "text": [
      "/home/rohansl/NewCSS/700Meme/Clean_sameformat/Hateful/WhatsApp Image 2022-03-06 at 7.49.38 PM (1).png\n",
      "/home/rohansl/NewCSS/700Meme/Clean_sameformat/Hateful/WhatsApp Image 2022-03-06 at 7.49.38 PM (2).png\n",
      "/home/rohansl/NewCSS/700Meme/Clean_sameformat/Hateful/WhatsApp Image 2022-03-06 at 7.49.38 PM (3).png\n",
      "/home/rohansl/NewCSS/700Meme/Clean_sameformat/Hateful/WhatsApp Image 2022-03-06 at 7.49.38 PM.png\n"
     ]
    },
    {
     "name": "stderr",
     "output_type": "stream",
     "text": [
      " 14%|█▎        | 508/3743 [00:22<02:43, 19.74it/s]"
     ]
    },
    {
     "name": "stdout",
     "output_type": "stream",
     "text": [
      "/home/rohansl/NewCSS/700Meme/Clean_sameformat/Hateful/WhatsApp Image 2022-03-06 at 7.49.39 PM (1).png\n",
      "/home/rohansl/NewCSS/700Meme/Clean_sameformat/Hateful/WhatsApp Image 2022-03-06 at 7.49.39 PM (2).png\n",
      "/home/rohansl/NewCSS/700Meme/Clean_sameformat/Hateful/WhatsApp Image 2022-03-06 at 7.49.39 PM (3).png\n",
      "/home/rohansl/NewCSS/700Meme/Clean_sameformat/Hateful/WhatsApp Image 2022-03-06 at 7.49.39 PM.png\n"
     ]
    },
    {
     "name": "stderr",
     "output_type": "stream",
     "text": [
      " 14%|█▎        | 511/3743 [00:22<02:41, 19.97it/s]"
     ]
    },
    {
     "name": "stdout",
     "output_type": "stream",
     "text": [
      "/home/rohansl/NewCSS/700Meme/Clean_sameformat/Hateful/WhatsApp Image 2022-03-06 at 7.49.40 PM (1).png\n",
      "/home/rohansl/NewCSS/700Meme/Clean_sameformat/Hateful/WhatsApp Image 2022-03-06 at 7.49.40 PM (2).png\n",
      "/home/rohansl/NewCSS/700Meme/Clean_sameformat/Hateful/WhatsApp Image 2022-03-06 at 7.49.40 PM (3).png\n",
      "/home/rohansl/NewCSS/700Meme/Clean_sameformat/Hateful/WhatsApp Image 2022-03-06 at 7.49.40 PM.png\n",
      "/home/rohansl/NewCSS/700Meme/Clean_sameformat/Hateful/WhatsApp Image 2022-03-06 at 7.49.41 PM (1).png\n"
     ]
    },
    {
     "name": "stderr",
     "output_type": "stream",
     "text": [
      " 14%|█▍        | 515/3743 [00:23<02:43, 19.70it/s]"
     ]
    },
    {
     "name": "stdout",
     "output_type": "stream",
     "text": [
      "/home/rohansl/NewCSS/700Meme/Clean_sameformat/Hateful/WhatsApp Image 2022-03-06 at 7.49.41 PM (2).png\n",
      "/home/rohansl/NewCSS/700Meme/Clean_sameformat/Hateful/WhatsApp Image 2022-03-06 at 7.49.41 PM (3).png\n",
      "/home/rohansl/NewCSS/700Meme/Clean_sameformat/Hateful/WhatsApp Image 2022-03-06 at 7.49.41 PM (4).png\n",
      "/home/rohansl/NewCSS/700Meme/Clean_sameformat/Hateful/WhatsApp Image 2022-03-06 at 7.49.41 PM (5).png\n"
     ]
    },
    {
     "name": "stderr",
     "output_type": "stream",
     "text": [
      " 14%|█▍        | 519/3743 [00:23<02:46, 19.38it/s]"
     ]
    },
    {
     "name": "stdout",
     "output_type": "stream",
     "text": [
      "/home/rohansl/NewCSS/700Meme/Clean_sameformat/Hateful/WhatsApp Image 2022-03-06 at 7.49.41 PM.png\n",
      "/home/rohansl/NewCSS/700Meme/Clean_sameformat/Hateful/WhatsApp Image 2022-03-06 at 7.49.42 PM (1).png\n",
      "/home/rohansl/NewCSS/700Meme/Clean_sameformat/Hateful/WhatsApp Image 2022-03-06 at 7.49.42 PM (2).png\n",
      "/home/rohansl/NewCSS/700Meme/Clean_sameformat/Hateful/WhatsApp Image 2022-03-06 at 7.49.42 PM.png\n"
     ]
    },
    {
     "name": "stderr",
     "output_type": "stream",
     "text": [
      " 14%|█▍        | 524/3743 [00:23<02:37, 20.46it/s]"
     ]
    },
    {
     "name": "stdout",
     "output_type": "stream",
     "text": [
      "/home/rohansl/NewCSS/700Meme/Clean_sameformat/Hateful/WhatsApp Image 2022-03-06 at 7.49.43 PM (1).png\n",
      "/home/rohansl/NewCSS/700Meme/Clean_sameformat/Hateful/WhatsApp Image 2022-03-06 at 7.49.43 PM (2).png\n",
      "/home/rohansl/NewCSS/700Meme/Clean_sameformat/Hateful/WhatsApp Image 2022-03-06 at 7.49.43 PM (3).png\n",
      "/home/rohansl/NewCSS/700Meme/Clean_sameformat/Hateful/WhatsApp Image 2022-03-06 at 7.49.43 PM (4).png\n",
      "/home/rohansl/NewCSS/700Meme/Clean_sameformat/Hateful/WhatsApp Image 2022-03-06 at 7.49.43 PM.png\n"
     ]
    },
    {
     "name": "stderr",
     "output_type": "stream",
     "text": [
      " 14%|█▍        | 530/3743 [00:23<02:33, 20.98it/s]"
     ]
    },
    {
     "name": "stdout",
     "output_type": "stream",
     "text": [
      "/home/rohansl/NewCSS/700Meme/Clean_sameformat/Hateful/WhatsApp Image 2022-03-06 at 7.49.44 PM (1).png\n",
      "/home/rohansl/NewCSS/700Meme/Clean_sameformat/Hateful/WhatsApp Image 2022-03-06 at 7.49.44 PM (2).png\n",
      "/home/rohansl/NewCSS/700Meme/Clean_sameformat/Hateful/WhatsApp Image 2022-03-06 at 7.49.44 PM (3).png\n",
      "/home/rohansl/NewCSS/700Meme/Clean_sameformat/Hateful/WhatsApp Image 2022-03-06 at 7.49.44 PM.png\n",
      "/home/rohansl/NewCSS/700Meme/Clean_sameformat/Hateful/WhatsApp Image 2022-03-06 at 9.29.05 PM.png\n"
     ]
    },
    {
     "name": "stderr",
     "output_type": "stream",
     "text": [
      " 14%|█▍        | 533/3743 [00:23<02:20, 22.80it/s]"
     ]
    },
    {
     "name": "stdout",
     "output_type": "stream",
     "text": [
      "/home/rohansl/NewCSS/700Meme/Clean_sameformat/Hateful/WhatsApp Image 2022-03-06 at 9.29.35 PM.png\n",
      "/home/rohansl/NewCSS/700Meme/Clean_sameformat/Hateful/WhatsApp Image 2022-03-06 at 9.30.02 PM.png\n",
      "/home/rohansl/NewCSS/700Meme/Clean_sameformat/Hateful/WhatsApp Image 2022-03-06 at 9.30.37 PM.png\n",
      "/home/rohansl/NewCSS/700Meme/Clean_sameformat/Hateful/WhatsApp Image 2022-03-06 at 9.31.02 PM.png\n",
      "/home/rohansl/NewCSS/700Meme/Clean_sameformat/Hateful/WhatsApp Image 2022-03-06 at 9.31.39 PM.png\n",
      "/home/rohansl/NewCSS/700Meme/Clean_sameformat/Hateful/WhatsApp Image 2022-03-06 at 9.37.29 PM (1).png\n"
     ]
    },
    {
     "name": "stderr",
     "output_type": "stream",
     "text": [
      " 14%|█▍        | 540/3743 [00:24<02:19, 22.93it/s]"
     ]
    },
    {
     "name": "stdout",
     "output_type": "stream",
     "text": [
      "/home/rohansl/NewCSS/700Meme/Clean_sameformat/Hateful/WhatsApp Image 2022-03-06 at 9.37.29 PM (2).png\n",
      "/home/rohansl/NewCSS/700Meme/Clean_sameformat/Hateful/WhatsApp Image 2022-03-06 at 9.37.29 PM.png\n",
      "/home/rohansl/NewCSS/700Meme/Clean_sameformat/Hateful/WhatsApp Image 2022-03-06 at 9.37.30 PM (1).png\n",
      "/home/rohansl/NewCSS/700Meme/Clean_sameformat/Hateful/WhatsApp Image 2022-03-06 at 9.37.30 PM (2).png\n",
      "/home/rohansl/NewCSS/700Meme/Clean_sameformat/Hateful/WhatsApp Image 2022-03-06 at 9.37.30 PM (3).png\n"
     ]
    },
    {
     "name": "stderr",
     "output_type": "stream",
     "text": [
      " 15%|█▍        | 543/3743 [00:24<02:41, 19.86it/s]"
     ]
    },
    {
     "name": "stdout",
     "output_type": "stream",
     "text": [
      "/home/rohansl/NewCSS/700Meme/Clean_sameformat/Hateful/WhatsApp Image 2022-03-06 at 9.37.30 PM (4).png\n",
      "/home/rohansl/NewCSS/700Meme/Clean_sameformat/Hateful/WhatsApp Image 2022-03-06 at 9.37.30 PM (5).png\n",
      "/home/rohansl/NewCSS/700Meme/Clean_sameformat/Hateful/WhatsApp Image 2022-03-06 at 9.37.30 PM.png\n",
      "/home/rohansl/NewCSS/700Meme/Clean_sameformat/Hateful/WhatsApp Image 2022-03-06 at 9.37.31 PM.png\n"
     ]
    },
    {
     "name": "stderr",
     "output_type": "stream",
     "text": [
      " 15%|█▍        | 549/3743 [00:24<02:43, 19.52it/s]"
     ]
    },
    {
     "name": "stdout",
     "output_type": "stream",
     "text": [
      "/home/rohansl/NewCSS/700Meme/Clean_sameformat/Hateful/WhatsApp Image 2022-03-06 at 9.37.32 PM (1).png\n",
      "/home/rohansl/NewCSS/700Meme/Clean_sameformat/Hateful/WhatsApp Image 2022-03-06 at 9.37.32 PM (2).png\n",
      "/home/rohansl/NewCSS/700Meme/Clean_sameformat/Hateful/WhatsApp Image 2022-03-06 at 9.37.32 PM (3).png\n",
      "/home/rohansl/NewCSS/700Meme/Clean_sameformat/Hateful/WhatsApp Image 2022-03-06 at 9.37.32 PM (4).png\n"
     ]
    },
    {
     "name": "stderr",
     "output_type": "stream",
     "text": [
      " 15%|█▍        | 552/3743 [00:24<02:56, 18.04it/s]"
     ]
    },
    {
     "name": "stdout",
     "output_type": "stream",
     "text": [
      "/home/rohansl/NewCSS/700Meme/Clean_sameformat/Hateful/WhatsApp Image 2022-03-06 at 9.37.32 PM (5).png\n",
      "/home/rohansl/NewCSS/700Meme/Clean_sameformat/Hateful/WhatsApp Image 2022-03-06 at 9.37.32 PM (6).png\n",
      "/home/rohansl/NewCSS/700Meme/Clean_sameformat/Hateful/WhatsApp Image 2022-03-06 at 9.37.32 PM.png\n",
      "/home/rohansl/NewCSS/700Meme/Clean_sameformat/Hateful/WhatsApp Image 2022-03-06 at 9.37.33 PM (1).png\n"
     ]
    },
    {
     "name": "stderr",
     "output_type": "stream",
     "text": [
      " 15%|█▍        | 556/3743 [00:25<03:02, 17.47it/s]"
     ]
    },
    {
     "name": "stdout",
     "output_type": "stream",
     "text": [
      "/home/rohansl/NewCSS/700Meme/Clean_sameformat/Hateful/WhatsApp Image 2022-03-06 at 9.37.33 PM (2).png\n",
      "/home/rohansl/NewCSS/700Meme/Clean_sameformat/Hateful/WhatsApp Image 2022-03-06 at 9.37.33 PM.png\n",
      "/home/rohansl/NewCSS/700Meme/Clean_sameformat/Hateful/WhatsApp Image 2022-03-06 at 9.37.34 PM (1).png\n",
      "/home/rohansl/NewCSS/700Meme/Clean_sameformat/Hateful/WhatsApp Image 2022-03-06 at 9.37.34 PM (2).png\n"
     ]
    },
    {
     "name": "stderr",
     "output_type": "stream",
     "text": [
      " 15%|█▍        | 560/3743 [00:25<02:55, 18.19it/s]"
     ]
    },
    {
     "name": "stdout",
     "output_type": "stream",
     "text": [
      "/home/rohansl/NewCSS/700Meme/Clean_sameformat/Hateful/WhatsApp Image 2022-03-06 at 9.37.34 PM.png\n",
      "/home/rohansl/NewCSS/700Meme/Clean_sameformat/Hateful/WhatsApp Image 2022-03-06 at 9.40.38 PM.png\n",
      "/home/rohansl/NewCSS/700Meme/Clean_sameformat/Hateful/WhatsApp Image 2022-03-06 at 9.40.39 PM (1).png\n",
      "/home/rohansl/NewCSS/700Meme/Clean_sameformat/Hateful/WhatsApp Image 2022-03-06 at 9.40.39 PM (2).png\n"
     ]
    },
    {
     "name": "stderr",
     "output_type": "stream",
     "text": [
      " 15%|█▌        | 564/3743 [00:25<02:53, 18.33it/s]"
     ]
    },
    {
     "name": "stdout",
     "output_type": "stream",
     "text": [
      "/home/rohansl/NewCSS/700Meme/Clean_sameformat/Hateful/WhatsApp Image 2022-03-06 at 9.40.39 PM (3).png\n",
      "/home/rohansl/NewCSS/700Meme/Clean_sameformat/Hateful/WhatsApp Image 2022-03-06 at 9.40.39 PM (4).png\n",
      "/home/rohansl/NewCSS/700Meme/Clean_sameformat/Hateful/WhatsApp Image 2022-03-06 at 9.40.39 PM (5).png\n",
      "/home/rohansl/NewCSS/700Meme/Clean_sameformat/Hateful/WhatsApp Image 2022-03-06 at 9.40.39 PM (6).png\n"
     ]
    },
    {
     "name": "stderr",
     "output_type": "stream",
     "text": [
      " 15%|█▌        | 569/3743 [00:25<02:53, 18.32it/s]"
     ]
    },
    {
     "name": "stdout",
     "output_type": "stream",
     "text": [
      "/home/rohansl/NewCSS/700Meme/Clean_sameformat/Hateful/WhatsApp Image 2022-03-06 at 9.40.39 PM (7).png\n",
      "/home/rohansl/NewCSS/700Meme/Clean_sameformat/Hateful/WhatsApp Image 2022-03-06 at 9.40.39 PM.png\n",
      "/home/rohansl/NewCSS/700Meme/Clean_sameformat/Hateful/WhatsApp Image 2022-03-06 at 9.40.40 PM (1).png\n",
      "/home/rohansl/NewCSS/700Meme/Clean_sameformat/Hateful/WhatsApp Image 2022-03-06 at 9.40.40 PM (2).png\n"
     ]
    },
    {
     "name": "stderr",
     "output_type": "stream",
     "text": [
      " 15%|█▌        | 573/3743 [00:26<03:01, 17.45it/s]"
     ]
    },
    {
     "name": "stdout",
     "output_type": "stream",
     "text": [
      "/home/rohansl/NewCSS/700Meme/Clean_sameformat/Hateful/WhatsApp Image 2022-03-06 at 9.40.40 PM (3).png\n",
      "/home/rohansl/NewCSS/700Meme/Clean_sameformat/Hateful/WhatsApp Image 2022-03-06 at 9.40.40 PM (4).png\n",
      "/home/rohansl/NewCSS/700Meme/Clean_sameformat/Hateful/WhatsApp Image 2022-03-06 at 9.40.40 PM (5).png\n",
      "/home/rohansl/NewCSS/700Meme/Clean_sameformat/Hateful/WhatsApp Image 2022-03-06 at 9.40.40 PM (6).png\n"
     ]
    },
    {
     "name": "stderr",
     "output_type": "stream",
     "text": [
      " 15%|█▌        | 577/3743 [00:26<02:58, 17.74it/s]"
     ]
    },
    {
     "name": "stdout",
     "output_type": "stream",
     "text": [
      "/home/rohansl/NewCSS/700Meme/Clean_sameformat/Hateful/WhatsApp Image 2022-03-06 at 9.40.40 PM.png\n",
      "/home/rohansl/NewCSS/700Meme/Clean_sameformat/Hateful/WhatsApp Image 2022-03-06 at 9.40.41 PM (1).png\n",
      "/home/rohansl/NewCSS/700Meme/Clean_sameformat/Hateful/WhatsApp Image 2022-03-06 at 9.40.41 PM (2).png\n",
      "/home/rohansl/NewCSS/700Meme/Clean_sameformat/Hateful/WhatsApp Image 2022-03-06 at 9.40.41 PM (3).png\n"
     ]
    },
    {
     "name": "stderr",
     "output_type": "stream",
     "text": [
      " 16%|█▌        | 581/3743 [00:26<03:06, 16.94it/s]"
     ]
    },
    {
     "name": "stdout",
     "output_type": "stream",
     "text": [
      "/home/rohansl/NewCSS/700Meme/Clean_sameformat/Hateful/WhatsApp Image 2022-03-06 at 9.40.41 PM (4).png\n",
      "/home/rohansl/NewCSS/700Meme/Clean_sameformat/Hateful/WhatsApp Image 2022-03-06 at 9.40.41 PM (5).png\n",
      "/home/rohansl/NewCSS/700Meme/Clean_sameformat/Hateful/WhatsApp Image 2022-03-06 at 9.40.41 PM.png\n",
      "/home/rohansl/NewCSS/700Meme/Clean_sameformat/Hateful/WhatsApp Image 2022-03-06 at 9.40.42 PM (1).png\n"
     ]
    },
    {
     "name": "stderr",
     "output_type": "stream",
     "text": [
      " 16%|█▌        | 585/3743 [00:26<03:03, 17.21it/s]"
     ]
    },
    {
     "name": "stdout",
     "output_type": "stream",
     "text": [
      "/home/rohansl/NewCSS/700Meme/Clean_sameformat/Hateful/WhatsApp Image 2022-03-06 at 9.40.42 PM (2).png\n",
      "/home/rohansl/NewCSS/700Meme/Clean_sameformat/Hateful/WhatsApp Image 2022-03-06 at 9.40.42 PM (3).png\n",
      "/home/rohansl/NewCSS/700Meme/Clean_sameformat/Hateful/WhatsApp Image 2022-03-06 at 9.40.42 PM (4).png\n",
      "/home/rohansl/NewCSS/700Meme/Clean_sameformat/Hateful/WhatsApp Image 2022-03-06 at 9.40.42 PM (5).png\n"
     ]
    },
    {
     "name": "stderr",
     "output_type": "stream",
     "text": [
      " 16%|█▌        | 589/3743 [00:26<03:08, 16.74it/s]"
     ]
    },
    {
     "name": "stdout",
     "output_type": "stream",
     "text": [
      "/home/rohansl/NewCSS/700Meme/Clean_sameformat/Hateful/WhatsApp Image 2022-03-06 at 9.40.42 PM (6).png\n",
      "/home/rohansl/NewCSS/700Meme/Clean_sameformat/Hateful/WhatsApp Image 2022-03-06 at 9.40.42 PM (7).png\n",
      "/home/rohansl/NewCSS/700Meme/Clean_sameformat/Hateful/WhatsApp Image 2022-03-06 at 9.40.42 PM (8).png\n",
      "/home/rohansl/NewCSS/700Meme/Clean_sameformat/Hateful/WhatsApp Image 2022-03-06 at 9.40.42 PM.png\n"
     ]
    },
    {
     "name": "stderr",
     "output_type": "stream",
     "text": [
      " 16%|█▌        | 594/3743 [00:27<02:49, 18.62it/s]"
     ]
    },
    {
     "name": "stdout",
     "output_type": "stream",
     "text": [
      "/home/rohansl/NewCSS/700Meme/Clean_sameformat/Hateful/WhatsApp Image 2022-03-06 at 9.40.43 PM (1).png\n",
      "/home/rohansl/NewCSS/700Meme/Clean_sameformat/Hateful/WhatsApp Image 2022-03-06 at 9.40.43 PM (2).png\n",
      "/home/rohansl/NewCSS/700Meme/Clean_sameformat/Hateful/WhatsApp Image 2022-03-06 at 9.40.43 PM (3).png\n",
      "/home/rohansl/NewCSS/700Meme/Clean_sameformat/Hateful/WhatsApp Image 2022-03-06 at 9.40.43 PM (4).png\n",
      "/home/rohansl/NewCSS/700Meme/Clean_sameformat/Hateful/WhatsApp Image 2022-03-06 at 9.40.43 PM (5).png\n"
     ]
    },
    {
     "name": "stderr",
     "output_type": "stream",
     "text": [
      " 16%|█▌        | 597/3743 [00:27<02:43, 19.24it/s]"
     ]
    },
    {
     "name": "stdout",
     "output_type": "stream",
     "text": [
      "/home/rohansl/NewCSS/700Meme/Clean_sameformat/Hateful/WhatsApp Image 2022-03-06 at 9.40.43 PM (6).png\n",
      "/home/rohansl/NewCSS/700Meme/Clean_sameformat/Hateful/WhatsApp Image 2022-03-06 at 9.40.43 PM.png\n",
      "/home/rohansl/NewCSS/700Meme/Clean_sameformat/Hateful/WhatsApp Image 2022-03-06 at 9.40.44 PM (1).png\n",
      "/home/rohansl/NewCSS/700Meme/Clean_sameformat/Hateful/WhatsApp Image 2022-03-06 at 9.40.44 PM (2).png\n"
     ]
    },
    {
     "name": "stderr",
     "output_type": "stream",
     "text": [
      " 16%|█▌        | 601/3743 [00:27<02:46, 18.87it/s]"
     ]
    },
    {
     "name": "stdout",
     "output_type": "stream",
     "text": [
      "/home/rohansl/NewCSS/700Meme/Clean_sameformat/Hateful/WhatsApp Image 2022-03-06 at 9.40.44 PM (3).png\n",
      "/home/rohansl/NewCSS/700Meme/Clean_sameformat/Hateful/WhatsApp Image 2022-03-06 at 9.40.44 PM (4).png\n",
      "/home/rohansl/NewCSS/700Meme/Clean_sameformat/Hateful/WhatsApp Image 2022-03-06 at 9.40.44 PM (5).png\n",
      "/home/rohansl/NewCSS/700Meme/Clean_sameformat/Hateful/WhatsApp Image 2022-03-06 at 9.40.44 PM.png\n"
     ]
    },
    {
     "name": "stderr",
     "output_type": "stream",
     "text": [
      " 16%|█▌        | 605/3743 [00:27<02:57, 17.72it/s]"
     ]
    },
    {
     "name": "stdout",
     "output_type": "stream",
     "text": [
      "/home/rohansl/NewCSS/700Meme/Clean_sameformat/Hateful/WhatsApp Image 2022-03-07 at 1.37.31 AM.png\n",
      "/home/rohansl/NewCSS/700Meme/Clean_sameformat/Hateful/WhatsApp Image 2022-03-07 at 1.37.32 AM (1).png\n",
      "/home/rohansl/NewCSS/700Meme/Clean_sameformat/Hateful/WhatsApp Image 2022-03-07 at 1.37.32 AM.png\n"
     ]
    },
    {
     "name": "stderr",
     "output_type": "stream",
     "text": [
      " 16%|█▌        | 607/3743 [00:27<03:19, 15.74it/s]"
     ]
    },
    {
     "name": "stdout",
     "output_type": "stream",
     "text": [
      "/home/rohansl/NewCSS/700Meme/Clean_sameformat/Hateful/WhatsApp Image 2022-03-07 at 1.37.33 AM (1).png\n",
      "/home/rohansl/NewCSS/700Meme/Clean_sameformat/Hateful/WhatsApp Image 2022-03-07 at 1.37.33 AM.png\n",
      "/home/rohansl/NewCSS/700Meme/Clean_sameformat/Hateful/WhatsApp Image 2022-03-07 at 1.37.34 AM (1).png\n"
     ]
    },
    {
     "name": "stderr",
     "output_type": "stream",
     "text": [
      " 16%|█▋        | 612/3743 [00:28<03:08, 16.62it/s]"
     ]
    },
    {
     "name": "stdout",
     "output_type": "stream",
     "text": [
      "/home/rohansl/NewCSS/700Meme/Clean_sameformat/Hateful/WhatsApp Image 2022-03-07 at 1.37.34 AM (2).png\n",
      "/home/rohansl/NewCSS/700Meme/Clean_sameformat/Hateful/WhatsApp Image 2022-03-07 at 1.37.34 AM (3).png\n",
      "/home/rohansl/NewCSS/700Meme/Clean_sameformat/Hateful/WhatsApp Image 2022-03-07 at 1.37.34 AM (4).png\n",
      "/home/rohansl/NewCSS/700Meme/Clean_sameformat/Hateful/WhatsApp Image 2022-03-07 at 1.37.34 AM.png\n",
      "/home/rohansl/NewCSS/700Meme/Clean_sameformat/Hateful/WhatsApp Image 2022-03-07 at 1.37.35 AM (1).png\n"
     ]
    },
    {
     "name": "stderr",
     "output_type": "stream",
     "text": [
      " 16%|█▋        | 617/3743 [00:28<03:05, 16.87it/s]"
     ]
    },
    {
     "name": "stdout",
     "output_type": "stream",
     "text": [
      "/home/rohansl/NewCSS/700Meme/Clean_sameformat/Hateful/WhatsApp Image 2022-03-07 at 1.37.35 AM (2).png\n",
      "/home/rohansl/NewCSS/700Meme/Clean_sameformat/Hateful/WhatsApp Image 2022-03-07 at 1.37.35 AM (3).png\n",
      "/home/rohansl/NewCSS/700Meme/Clean_sameformat/Hateful/WhatsApp Image 2022-03-07 at 1.37.35 AM (4).png\n",
      "/home/rohansl/NewCSS/700Meme/Clean_sameformat/Hateful/WhatsApp Image 2022-03-07 at 1.37.35 AM.png\n"
     ]
    },
    {
     "name": "stderr",
     "output_type": "stream",
     "text": [
      " 17%|█▋        | 621/3743 [00:28<03:02, 17.13it/s]"
     ]
    },
    {
     "name": "stdout",
     "output_type": "stream",
     "text": [
      "/home/rohansl/NewCSS/700Meme/Clean_sameformat/Hateful/WhatsApp Image 2022-03-07 at 1.37.36 AM (1).png\n",
      "/home/rohansl/NewCSS/700Meme/Clean_sameformat/Hateful/WhatsApp Image 2022-03-07 at 1.37.36 AM (2).png\n",
      "/home/rohansl/NewCSS/700Meme/Clean_sameformat/Hateful/WhatsApp Image 2022-03-07 at 1.37.36 AM (3).png\n",
      "/home/rohansl/NewCSS/700Meme/Clean_sameformat/Hateful/WhatsApp Image 2022-03-07 at 1.37.36 AM (4).png\n"
     ]
    },
    {
     "name": "stderr",
     "output_type": "stream",
     "text": [
      " 17%|█▋        | 625/3743 [00:28<02:52, 18.07it/s]"
     ]
    },
    {
     "name": "stdout",
     "output_type": "stream",
     "text": [
      "/home/rohansl/NewCSS/700Meme/Clean_sameformat/Hateful/WhatsApp Image 2022-03-07 at 1.37.36 AM.png\n",
      "/home/rohansl/NewCSS/700Meme/Clean_sameformat/Hateful/WhatsApp Image 2022-03-07 at 1.37.37 AM (1).png\n",
      "/home/rohansl/NewCSS/700Meme/Clean_sameformat/Hateful/WhatsApp Image 2022-03-07 at 1.37.37 AM (2).png\n",
      "/home/rohansl/NewCSS/700Meme/Clean_sameformat/Hateful/WhatsApp Image 2022-03-07 at 1.37.37 AM (3).png\n",
      "/home/rohansl/NewCSS/700Meme/Clean_sameformat/Hateful/WhatsApp Image 2022-03-07 at 1.37.37 AM.png\n"
     ]
    },
    {
     "name": "stderr",
     "output_type": "stream",
     "text": [
      " 17%|█▋        | 631/3743 [00:29<02:41, 19.27it/s]"
     ]
    },
    {
     "name": "stdout",
     "output_type": "stream",
     "text": [
      "/home/rohansl/NewCSS/700Meme/Clean_sameformat/Hateful/WhatsApp Image 2022-03-07 at 1.37.38 AM (1).png\n",
      "/home/rohansl/NewCSS/700Meme/Clean_sameformat/Hateful/WhatsApp Image 2022-03-07 at 1.37.38 AM (2).png\n",
      "/home/rohansl/NewCSS/700Meme/Clean_sameformat/Hateful/WhatsApp Image 2022-03-07 at 1.37.38 AM.png\n",
      "/home/rohansl/NewCSS/700Meme/Clean_sameformat/Hateful/WhatsApp Image 2022-03-07 at 1.38.04 AM.png\n",
      "/home/rohansl/NewCSS/700Meme/Clean_sameformat/Hateful/WhatsApp Image 2022-03-07 at 2.42.04 PM (1).png\n"
     ]
    },
    {
     "name": "stderr",
     "output_type": "stream",
     "text": [
      " 17%|█▋        | 634/3743 [00:29<02:36, 19.86it/s]"
     ]
    },
    {
     "name": "stdout",
     "output_type": "stream",
     "text": [
      "/home/rohansl/NewCSS/700Meme/Clean_sameformat/Hateful/WhatsApp Image 2022-03-07 at 2.42.04 PM (2).png\n",
      "/home/rohansl/NewCSS/700Meme/Clean_sameformat/Hateful/WhatsApp Image 2022-03-07 at 2.42.04 PM (3).png\n",
      "/home/rohansl/NewCSS/700Meme/Clean_sameformat/Hateful/WhatsApp Image 2022-03-07 at 2.42.04 PM.png\n",
      "/home/rohansl/NewCSS/700Meme/Clean_sameformat/Hateful/WhatsApp Image 2022-03-07 at 2.42.05 PM (1).png\n",
      "/home/rohansl/NewCSS/700Meme/Clean_sameformat/Hateful/WhatsApp Image 2022-03-07 at 2.42.05 PM.png\n"
     ]
    },
    {
     "name": "stderr",
     "output_type": "stream",
     "text": [
      " 17%|█▋        | 640/3743 [00:29<02:26, 21.21it/s]"
     ]
    },
    {
     "name": "stdout",
     "output_type": "stream",
     "text": [
      "/home/rohansl/NewCSS/700Meme/Clean_sameformat/Hateful/WhatsApp Image 2022-03-07 at 2.43.08 PM.png\n",
      "/home/rohansl/NewCSS/700Meme/Clean_sameformat/Hateful/WhatsApp Image 2022-03-07 at 2.43.22 PM.png\n",
      "/home/rohansl/NewCSS/700Meme/Clean_sameformat/Hateful/WhatsApp Image 2022-03-07 at 2.45.07 PM (1).png\n",
      "/home/rohansl/NewCSS/700Meme/Clean_sameformat/Hateful/WhatsApp Image 2022-03-07 at 2.45.07 PM.png\n",
      "/home/rohansl/NewCSS/700Meme/Clean_sameformat/Hateful/WhatsApp Image 2022-03-07 at 2.45.08 PM (1).png\n",
      "/home/rohansl/NewCSS/700Meme/Clean_sameformat/Hateful/WhatsApp Image 2022-03-07 at 2.45.08 PM (2).png\n"
     ]
    },
    {
     "name": "stderr",
     "output_type": "stream",
     "text": [
      " 17%|█▋        | 646/3743 [00:29<02:21, 21.90it/s]"
     ]
    },
    {
     "name": "stdout",
     "output_type": "stream",
     "text": [
      "/home/rohansl/NewCSS/700Meme/Clean_sameformat/Hateful/WhatsApp Image 2022-03-07 at 2.45.08 PM (3).png\n",
      "/home/rohansl/NewCSS/700Meme/Clean_sameformat/Hateful/WhatsApp Image 2022-03-07 at 2.45.08 PM (4).png\n",
      "/home/rohansl/NewCSS/700Meme/Clean_sameformat/Hateful/WhatsApp Image 2022-03-07 at 2.45.08 PM (5).png\n",
      "/home/rohansl/NewCSS/700Meme/Clean_sameformat/Hateful/WhatsApp Image 2022-03-07 at 2.45.08 PM (6).png\n",
      "/home/rohansl/NewCSS/700Meme/Clean_sameformat/Hateful/WhatsApp Image 2022-03-07 at 2.45.08 PM (7).png\n"
     ]
    },
    {
     "name": "stderr",
     "output_type": "stream",
     "text": [
      " 17%|█▋        | 652/3743 [00:30<02:11, 23.49it/s]"
     ]
    },
    {
     "name": "stdout",
     "output_type": "stream",
     "text": [
      "/home/rohansl/NewCSS/700Meme/Clean_sameformat/Hateful/WhatsApp Image 2022-03-07 at 2.45.08 PM (8).png\n",
      "/home/rohansl/NewCSS/700Meme/Clean_sameformat/Hateful/WhatsApp Image 2022-03-07 at 2.45.08 PM.png\n",
      "/home/rohansl/NewCSS/700Meme/Clean_sameformat/Hateful/WhatsApp Image 2022-03-07 at 2.45.09 PM (1).png\n",
      "/home/rohansl/NewCSS/700Meme/Clean_sameformat/Hateful/WhatsApp Image 2022-03-07 at 2.45.09 PM (2).png\n",
      "/home/rohansl/NewCSS/700Meme/Clean_sameformat/Hateful/WhatsApp Image 2022-03-07 at 2.45.09 PM (3).png\n",
      "/home/rohansl/NewCSS/700Meme/Clean_sameformat/Hateful/WhatsApp Image 2022-03-07 at 2.45.09 PM (4).png\n"
     ]
    },
    {
     "name": "stderr",
     "output_type": "stream",
     "text": [
      " 18%|█▊        | 658/3743 [00:30<02:12, 23.29it/s]"
     ]
    },
    {
     "name": "stdout",
     "output_type": "stream",
     "text": [
      "/home/rohansl/NewCSS/700Meme/Clean_sameformat/Hateful/WhatsApp Image 2022-03-07 at 2.45.09 PM (5).png\n",
      "/home/rohansl/NewCSS/700Meme/Clean_sameformat/Hateful/WhatsApp Image 2022-03-07 at 2.45.09 PM (6).png\n",
      "/home/rohansl/NewCSS/700Meme/Clean_sameformat/Hateful/WhatsApp Image 2022-03-07 at 2.45.09 PM.png\n",
      "/home/rohansl/NewCSS/700Meme/Clean_sameformat/Hateful/WhatsApp Image 2022-03-07 at 2.48.31 PM (1).png\n"
     ]
    },
    {
     "name": "stderr",
     "output_type": "stream",
     "text": [
      " 18%|█▊        | 661/3743 [00:30<02:15, 22.81it/s]"
     ]
    },
    {
     "name": "stdout",
     "output_type": "stream",
     "text": [
      "/home/rohansl/NewCSS/700Meme/Clean_sameformat/Hateful/WhatsApp Image 2022-03-07 at 2.48.31 PM.png\n",
      "/home/rohansl/NewCSS/700Meme/Clean_sameformat/Hateful/WhatsApp Image 2022-03-07 at 2.57.43 PM (1).png\n",
      "/home/rohansl/NewCSS/700Meme/Clean_sameformat/Hateful/WhatsApp Image 2022-03-07 at 2.57.43 PM (2).png\n",
      "/home/rohansl/NewCSS/700Meme/Clean_sameformat/Hateful/WhatsApp Image 2022-03-07 at 2.57.43 PM.png\n",
      "/home/rohansl/NewCSS/700Meme/Clean_sameformat/Hateful/WhatsApp Image 2022-03-07 at 2.58.20 PM.png\n"
     ]
    },
    {
     "name": "stderr",
     "output_type": "stream",
     "text": [
      " 18%|█▊        | 664/3743 [00:30<02:13, 23.00it/s]"
     ]
    },
    {
     "name": "stdout",
     "output_type": "stream",
     "text": [
      "/home/rohansl/NewCSS/700Meme/Clean_sameformat/Hateful/WhatsApp Image 2022-03-07 at 2.59.19 PM.png\n",
      "/home/rohansl/NewCSS/700Meme/Clean_sameformat/Hateful/WhatsApp Image 2022-03-07 at 3.12.23 AM (1).png\n",
      "/home/rohansl/NewCSS/700Meme/Clean_sameformat/Hateful/WhatsApp Image 2022-03-07 at 3.12.23 AM (2).png\n",
      "/home/rohansl/NewCSS/700Meme/Clean_sameformat/Hateful/WhatsApp Image 2022-03-07 at 3.12.23 AM (3).png\n"
     ]
    },
    {
     "name": "stderr",
     "output_type": "stream",
     "text": [
      " 18%|█▊        | 670/3743 [00:31<02:26, 20.91it/s]"
     ]
    },
    {
     "name": "stdout",
     "output_type": "stream",
     "text": [
      "/home/rohansl/NewCSS/700Meme/Clean_sameformat/Hateful/WhatsApp Image 2022-03-07 at 3.12.23 AM.png\n",
      "/home/rohansl/NewCSS/700Meme/Clean_sameformat/Hateful/WhatsApp Image 2022-03-07 at 3.12.24 AM (1).png\n",
      "/home/rohansl/NewCSS/700Meme/Clean_sameformat/Hateful/WhatsApp Image 2022-03-07 at 3.12.24 AM (2).png\n",
      "/home/rohansl/NewCSS/700Meme/Clean_sameformat/Hateful/WhatsApp Image 2022-03-07 at 3.12.24 AM (3).png\n",
      "/home/rohansl/NewCSS/700Meme/Clean_sameformat/Hateful/WhatsApp Image 2022-03-07 at 3.12.24 AM (4).png\n"
     ]
    },
    {
     "name": "stderr",
     "output_type": "stream",
     "text": [
      " 18%|█▊        | 676/3743 [00:31<02:28, 20.70it/s]"
     ]
    },
    {
     "name": "stdout",
     "output_type": "stream",
     "text": [
      "/home/rohansl/NewCSS/700Meme/Clean_sameformat/Hateful/WhatsApp Image 2022-03-07 at 3.12.24 AM.png\n",
      "/home/rohansl/NewCSS/700Meme/Clean_sameformat/Hateful/WhatsApp Image 2022-03-07 at 3.12.25 AM.png\n",
      "/home/rohansl/NewCSS/700Meme/Clean_sameformat/Hateful/WhatsApp Image 2022-03-07 at 3.15.48 PM.png\n",
      "/home/rohansl/NewCSS/700Meme/Clean_sameformat/Hateful/WhatsApp Image 2022-03-07 at 3.15.49 PM (1).png\n"
     ]
    },
    {
     "name": "stderr",
     "output_type": "stream",
     "text": [
      " 18%|█▊        | 679/3743 [00:31<02:30, 20.33it/s]"
     ]
    },
    {
     "name": "stdout",
     "output_type": "stream",
     "text": [
      "/home/rohansl/NewCSS/700Meme/Clean_sameformat/Hateful/WhatsApp Image 2022-03-07 at 3.15.49 PM.png\n",
      "/home/rohansl/NewCSS/700Meme/Clean_sameformat/Hateful/WhatsApp Image 2022-03-07 at 3.15.50 PM (1).png\n",
      "/home/rohansl/NewCSS/700Meme/Clean_sameformat/Hateful/WhatsApp Image 2022-03-07 at 3.15.50 PM (2).png\n",
      "/home/rohansl/NewCSS/700Meme/Clean_sameformat/Hateful/WhatsApp Image 2022-03-07 at 3.15.50 PM (3).png\n"
     ]
    },
    {
     "name": "stderr",
     "output_type": "stream",
     "text": [
      " 18%|█▊        | 682/3743 [00:31<02:33, 19.98it/s]"
     ]
    },
    {
     "name": "stdout",
     "output_type": "stream",
     "text": [
      "/home/rohansl/NewCSS/700Meme/Clean_sameformat/Hateful/WhatsApp Image 2022-03-07 at 3.15.50 PM (4).png\n",
      "/home/rohansl/NewCSS/700Meme/Clean_sameformat/Hateful/WhatsApp Image 2022-03-07 at 3.15.50 PM (5).png\n",
      "/home/rohansl/NewCSS/700Meme/Clean_sameformat/Hateful/WhatsApp Image 2022-03-07 at 3.15.50 PM.png\n",
      "/home/rohansl/NewCSS/700Meme/Clean_sameformat/Hateful/WhatsApp Image 2022-03-07 at 3.15.51 PM (1).png\n"
     ]
    },
    {
     "name": "stderr",
     "output_type": "stream",
     "text": [
      " 18%|█▊        | 685/3743 [00:31<02:32, 20.02it/s]"
     ]
    },
    {
     "name": "stdout",
     "output_type": "stream",
     "text": [
      "/home/rohansl/NewCSS/700Meme/Clean_sameformat/Hateful/WhatsApp Image 2022-03-07 at 3.15.51 PM (2).png\n",
      "/home/rohansl/NewCSS/700Meme/Clean_sameformat/Hateful/WhatsApp Image 2022-03-07 at 3.15.51 PM (3).png\n",
      "/home/rohansl/NewCSS/700Meme/Clean_sameformat/Hateful/WhatsApp Image 2022-03-07 at 3.15.51 PM (4).png\n",
      "/home/rohansl/NewCSS/700Meme/Clean_sameformat/Hateful/WhatsApp Image 2022-03-07 at 3.15.51 PM.png\n"
     ]
    },
    {
     "name": "stderr",
     "output_type": "stream",
     "text": [
      " 18%|█▊        | 690/3743 [00:32<02:42, 18.77it/s]"
     ]
    },
    {
     "name": "stdout",
     "output_type": "stream",
     "text": [
      "/home/rohansl/NewCSS/700Meme/Clean_sameformat/Hateful/WhatsApp Image 2022-03-07 at 3.22.04 AM (1).png\n",
      "/home/rohansl/NewCSS/700Meme/Clean_sameformat/Hateful/WhatsApp Image 2022-03-07 at 3.22.04 AM (2).png\n",
      "/home/rohansl/NewCSS/700Meme/Clean_sameformat/Hateful/WhatsApp Image 2022-03-07 at 3.22.04 AM (3).png\n",
      "/home/rohansl/NewCSS/700Meme/Clean_sameformat/Hateful/WhatsApp Image 2022-03-07 at 3.22.04 AM (4).png\n"
     ]
    },
    {
     "name": "stderr",
     "output_type": "stream",
     "text": [
      " 19%|█▊        | 695/3743 [00:32<02:31, 20.11it/s]"
     ]
    },
    {
     "name": "stdout",
     "output_type": "stream",
     "text": [
      "/home/rohansl/NewCSS/700Meme/Clean_sameformat/Hateful/WhatsApp Image 2022-03-07 at 3.22.04 AM.png\n",
      "img/79351.png\n",
      "img/25489.png\n",
      "img/72640.png\n",
      "img/93547.png\n",
      "img/74386.png\n"
     ]
    },
    {
     "name": "stderr",
     "output_type": "stream",
     "text": [
      " 19%|█▉        | 702/3743 [00:32<02:04, 24.34it/s]"
     ]
    },
    {
     "name": "stdout",
     "output_type": "stream",
     "text": [
      "img/52610.png\n",
      "img/69357.png\n",
      "img/54602.png\n",
      "img/20619.png\n",
      "img/74530.png\n",
      "img/29163.png\n",
      "img/90583.png\n"
     ]
    },
    {
     "name": "stderr",
     "output_type": "stream",
     "text": [
      " 19%|█▉        | 710/3743 [00:32<01:46, 28.46it/s]"
     ]
    },
    {
     "name": "stdout",
     "output_type": "stream",
     "text": [
      "img/52097.png\n",
      "img/15803.png\n",
      "img/75321.png\n",
      "img/34791.png\n",
      "img/34508.png\n",
      "img/93072.png\n",
      "img/25468.png\n",
      "img/96578.png\n"
     ]
    },
    {
     "name": "stderr",
     "output_type": "stream",
     "text": [
      " 19%|█▉        | 718/3743 [00:32<01:39, 30.37it/s]"
     ]
    },
    {
     "name": "stdout",
     "output_type": "stream",
     "text": [
      "img/78409.png\n",
      "img/29814.png\n",
      "img/54102.png\n",
      "img/63710.png\n",
      "img/14052.png\n",
      "img/26759.png\n",
      "img/83456.png\n"
     ]
    },
    {
     "name": "stderr",
     "output_type": "stream",
     "text": [
      " 19%|█▉        | 726/3743 [00:33<01:30, 33.46it/s]"
     ]
    },
    {
     "name": "stdout",
     "output_type": "stream",
     "text": [
      "img/24631.png\n",
      "img/03258.png\n",
      "img/20736.png\n",
      "img/51473.png\n",
      "img/48635.png\n",
      "img/43612.png\n",
      "img/15480.png\n"
     ]
    },
    {
     "name": "stderr",
     "output_type": "stream",
     "text": [
      " 20%|█▉        | 730/3743 [00:33<01:37, 30.95it/s]"
     ]
    },
    {
     "name": "stdout",
     "output_type": "stream",
     "text": [
      "img/06873.png\n",
      "img/08523.png\n",
      "img/76250.png\n",
      "img/80269.png\n",
      "img/35219.png\n",
      "img/56871.png\n",
      "img/25180.png\n"
     ]
    },
    {
     "name": "stderr",
     "output_type": "stream",
     "text": [
      " 20%|█▉        | 738/3743 [00:33<01:31, 32.98it/s]"
     ]
    },
    {
     "name": "stdout",
     "output_type": "stream",
     "text": [
      "img/48106.png\n",
      "img/38625.png\n",
      "img/25368.png\n",
      "img/92874.png\n",
      "img/27946.png\n",
      "img/93521.png\n",
      "img/14530.png\n",
      "img/08593.png\n"
     ]
    },
    {
     "name": "stderr",
     "output_type": "stream",
     "text": [
      " 20%|█▉        | 746/3743 [00:33<01:27, 34.36it/s]"
     ]
    },
    {
     "name": "stdout",
     "output_type": "stream",
     "text": [
      "img/56482.png\n",
      "img/34852.png\n",
      "img/36081.png\n",
      "img/68325.png\n",
      "img/98362.png\n",
      "img/45938.png\n",
      "img/70925.png\n"
     ]
    },
    {
     "name": "stderr",
     "output_type": "stream",
     "text": [
      " 20%|██        | 754/3743 [00:34<01:26, 34.71it/s]"
     ]
    },
    {
     "name": "stdout",
     "output_type": "stream",
     "text": [
      "img/71364.png\n",
      "img/42179.png\n",
      "img/56490.png\n",
      "img/07968.png\n",
      "img/81259.png\n",
      "img/19753.png\n",
      "img/61480.png\n",
      "img/43517.png\n"
     ]
    },
    {
     "name": "stderr",
     "output_type": "stream",
     "text": [
      " 20%|██        | 762/3743 [00:34<01:20, 36.96it/s]"
     ]
    },
    {
     "name": "stdout",
     "output_type": "stream",
     "text": [
      "img/51736.png\n",
      "img/95426.png\n",
      "img/04175.png\n",
      "img/31479.png\n",
      "img/17205.png\n",
      "img/74132.png\n",
      "img/03241.png\n",
      "img/61780.png\n"
     ]
    },
    {
     "name": "stderr",
     "output_type": "stream",
     "text": [
      " 21%|██        | 770/3743 [00:34<01:24, 35.15it/s]"
     ]
    },
    {
     "name": "stdout",
     "output_type": "stream",
     "text": [
      "img/81546.png\n",
      "img/93568.png\n",
      "img/06832.png\n",
      "img/53941.png\n",
      "img/97635.png\n",
      "img/09634.png\n",
      "img/76258.png\n"
     ]
    },
    {
     "name": "stderr",
     "output_type": "stream",
     "text": [
      " 21%|██        | 778/3743 [00:34<01:26, 34.39it/s]"
     ]
    },
    {
     "name": "stdout",
     "output_type": "stream",
     "text": [
      "img/70435.png\n",
      "img/08654.png\n",
      "img/80361.png\n",
      "img/74536.png\n",
      "img/75340.png\n",
      "img/92016.png\n",
      "img/06471.png\n"
     ]
    },
    {
     "name": "stderr",
     "output_type": "stream",
     "text": [
      " 21%|██        | 786/3743 [00:34<01:24, 34.96it/s]"
     ]
    },
    {
     "name": "stdout",
     "output_type": "stream",
     "text": [
      "img/68507.png\n",
      "img/04263.png\n",
      "img/26495.png\n",
      "img/56378.png\n",
      "img/25397.png\n",
      "img/02849.png\n",
      "img/91704.png\n"
     ]
    },
    {
     "name": "stderr",
     "output_type": "stream",
     "text": [
      " 21%|██        | 790/3743 [00:35<01:33, 31.44it/s]"
     ]
    },
    {
     "name": "stdout",
     "output_type": "stream",
     "text": [
      "img/63285.png\n",
      "img/42693.png\n",
      "img/64027.png\n",
      "img/20751.png\n",
      "img/94351.png\n",
      "img/59467.png\n"
     ]
    },
    {
     "name": "stderr",
     "output_type": "stream",
     "text": [
      " 21%|██▏       | 798/3743 [00:35<01:28, 33.27it/s]"
     ]
    },
    {
     "name": "stdout",
     "output_type": "stream",
     "text": [
      "img/67384.png\n",
      "img/21086.png\n",
      "img/40153.png\n",
      "img/68379.png\n",
      "img/59478.png\n",
      "img/19256.png\n",
      "img/95317.png\n"
     ]
    },
    {
     "name": "stderr",
     "output_type": "stream",
     "text": [
      " 21%|██▏       | 802/3743 [00:35<01:30, 32.58it/s]"
     ]
    },
    {
     "name": "stdout",
     "output_type": "stream",
     "text": [
      "img/16490.png\n",
      "img/13876.png\n",
      "img/52903.png\n",
      "img/56389.png\n",
      "img/64805.png\n",
      "img/79103.png\n",
      "img/89042.png\n"
     ]
    },
    {
     "name": "stderr",
     "output_type": "stream",
     "text": [
      " 22%|██▏       | 810/3743 [00:35<01:31, 31.95it/s]"
     ]
    },
    {
     "name": "stdout",
     "output_type": "stream",
     "text": [
      "img/27034.png\n",
      "img/05129.png\n",
      "img/34658.png\n",
      "img/67415.png\n",
      "img/27953.png\n",
      "img/54817.png\n",
      "img/38704.png\n"
     ]
    },
    {
     "name": "stderr",
     "output_type": "stream",
     "text": [
      " 22%|██▏       | 818/3743 [00:35<01:32, 31.49it/s]"
     ]
    },
    {
     "name": "stdout",
     "output_type": "stream",
     "text": [
      "img/42309.png\n",
      "img/59837.png\n",
      "img/07192.png\n",
      "img/01524.png\n",
      "img/75428.png\n",
      "img/04326.png\n",
      "img/52986.png\n"
     ]
    },
    {
     "name": "stderr",
     "output_type": "stream",
     "text": [
      " 22%|██▏       | 826/3743 [00:36<01:31, 31.80it/s]"
     ]
    },
    {
     "name": "stdout",
     "output_type": "stream",
     "text": [
      "img/89610.png\n",
      "img/37641.png\n",
      "img/89740.png\n",
      "img/67159.png\n",
      "img/74152.png\n",
      "img/61802.png\n",
      "img/96143.png\n"
     ]
    },
    {
     "name": "stderr",
     "output_type": "stream",
     "text": [
      " 22%|██▏       | 830/3743 [00:36<01:27, 33.29it/s]"
     ]
    },
    {
     "name": "stdout",
     "output_type": "stream",
     "text": [
      "img/51734.png\n",
      "img/80169.png\n",
      "img/42368.png\n",
      "img/41568.png\n",
      "img/60128.png\n",
      "img/84703.png\n",
      "img/07258.png\n"
     ]
    },
    {
     "name": "stderr",
     "output_type": "stream",
     "text": [
      " 22%|██▏       | 838/3743 [00:36<01:30, 32.11it/s]"
     ]
    },
    {
     "name": "stdout",
     "output_type": "stream",
     "text": [
      "img/25639.png\n",
      "img/08632.png\n",
      "img/38427.png\n",
      "img/20759.png\n",
      "img/62435.png\n",
      "img/62849.png\n",
      "img/62081.png\n",
      "img/85923.png\n"
     ]
    },
    {
     "name": "stderr",
     "output_type": "stream",
     "text": [
      " 23%|██▎       | 846/3743 [00:36<01:25, 34.04it/s]"
     ]
    },
    {
     "name": "stdout",
     "output_type": "stream",
     "text": [
      "img/06483.png\n",
      "img/12349.png\n",
      "img/43128.png\n",
      "img/78469.png\n",
      "img/12867.png\n",
      "img/64853.png\n",
      "img/73204.png\n"
     ]
    },
    {
     "name": "stderr",
     "output_type": "stream",
     "text": [
      " 23%|██▎       | 854/3743 [00:37<01:30, 32.06it/s]"
     ]
    },
    {
     "name": "stdout",
     "output_type": "stream",
     "text": [
      "img/58604.png\n",
      "img/93086.png\n",
      "img/16278.png\n",
      "img/40932.png\n",
      "img/10492.png\n",
      "img/78465.png\n",
      "img/67214.png\n"
     ]
    },
    {
     "name": "stderr",
     "output_type": "stream",
     "text": [
      " 23%|██▎       | 862/3743 [00:37<01:34, 30.64it/s]"
     ]
    },
    {
     "name": "stdout",
     "output_type": "stream",
     "text": [
      "img/72893.png\n",
      "img/76138.png\n",
      "img/60729.png\n",
      "img/40291.png\n",
      "img/46910.png\n",
      "img/80924.png\n"
     ]
    },
    {
     "name": "stderr",
     "output_type": "stream",
     "text": [
      " 23%|██▎       | 866/3743 [00:37<01:29, 32.30it/s]"
     ]
    },
    {
     "name": "stdout",
     "output_type": "stream",
     "text": [
      "img/13096.png\n",
      "img/94710.png\n",
      "img/23715.png\n",
      "img/82134.png\n",
      "img/75928.png\n",
      "img/02519.png\n",
      "img/86912.png\n",
      "img/52974.png\n"
     ]
    },
    {
     "name": "stderr",
     "output_type": "stream",
     "text": [
      " 23%|██▎       | 874/3743 [00:37<01:30, 31.64it/s]"
     ]
    },
    {
     "name": "stdout",
     "output_type": "stream",
     "text": [
      "img/20835.png\n",
      "img/15648.png\n",
      "img/59376.png\n",
      "img/18203.png\n",
      "img/67984.png\n",
      "img/96840.png\n",
      "img/67109.png\n"
     ]
    },
    {
     "name": "stderr",
     "output_type": "stream",
     "text": [
      " 24%|██▎       | 882/3743 [00:37<01:22, 34.87it/s]"
     ]
    },
    {
     "name": "stdout",
     "output_type": "stream",
     "text": [
      "img/29813.png\n",
      "img/91423.png\n",
      "img/89102.png\n",
      "img/05841.png\n",
      "img/60592.png\n",
      "img/10328.png\n",
      "img/76140.png\n",
      "img/35917.png\n"
     ]
    },
    {
     "name": "stderr",
     "output_type": "stream",
     "text": [
      " 24%|██▍       | 890/3743 [00:38<01:18, 36.38it/s]"
     ]
    },
    {
     "name": "stdout",
     "output_type": "stream",
     "text": [
      "img/01475.png\n",
      "img/49185.png\n",
      "img/20617.png\n",
      "img/97623.png\n",
      "img/92314.png\n",
      "img/90786.png\n",
      "img/83619.png\n"
     ]
    },
    {
     "name": "stderr",
     "output_type": "stream",
     "text": [
      " 24%|██▍       | 898/3743 [00:38<01:24, 33.86it/s]"
     ]
    },
    {
     "name": "stdout",
     "output_type": "stream",
     "text": [
      "img/97035.png\n",
      "img/75203.png\n",
      "img/38624.png\n",
      "img/47095.png\n",
      "img/32876.png\n",
      "img/21408.png\n",
      "img/97316.png\n"
     ]
    },
    {
     "name": "stderr",
     "output_type": "stream",
     "text": [
      " 24%|██▍       | 906/3743 [00:38<01:21, 34.71it/s]"
     ]
    },
    {
     "name": "stdout",
     "output_type": "stream",
     "text": [
      "img/90278.png\n",
      "img/34186.png\n",
      "img/34581.png\n",
      "img/13486.png\n",
      "img/98351.png\n",
      "img/57164.png\n",
      "img/69342.png\n"
     ]
    },
    {
     "name": "stderr",
     "output_type": "stream",
     "text": [
      " 24%|██▍       | 910/3743 [00:38<01:23, 33.98it/s]"
     ]
    },
    {
     "name": "stdout",
     "output_type": "stream",
     "text": [
      "img/63295.png\n",
      "img/18650.png\n",
      "img/50867.png\n",
      "img/78031.png\n",
      "img/05123.png\n",
      "img/30847.png\n",
      "img/70654.png\n"
     ]
    },
    {
     "name": "stderr",
     "output_type": "stream",
     "text": [
      " 25%|██▍       | 918/3743 [00:38<01:22, 34.37it/s]"
     ]
    },
    {
     "name": "stdout",
     "output_type": "stream",
     "text": [
      "img/37182.png\n",
      "img/09831.png\n",
      "img/75138.png\n",
      "img/71052.png\n",
      "img/82154.png\n",
      "img/15690.png\n",
      "img/39164.png\n",
      "img/57861.png\n"
     ]
    },
    {
     "name": "stderr",
     "output_type": "stream",
     "text": [
      " 25%|██▍       | 926/3743 [00:39<01:18, 36.06it/s]"
     ]
    },
    {
     "name": "stdout",
     "output_type": "stream",
     "text": [
      "img/82356.png\n",
      "img/24197.png\n",
      "img/75410.png\n",
      "img/72456.png\n",
      "img/53678.png\n",
      "img/71826.png\n",
      "img/65139.png\n",
      "img/67852.png\n"
     ]
    },
    {
     "name": "stderr",
     "output_type": "stream",
     "text": [
      " 25%|██▍       | 934/3743 [00:39<01:19, 35.36it/s]"
     ]
    },
    {
     "name": "stdout",
     "output_type": "stream",
     "text": [
      "img/13249.png\n",
      "img/20379.png\n",
      "img/92436.png\n",
      "img/98573.png\n",
      "img/83219.png\n",
      "img/28604.png\n",
      "img/06893.png\n",
      "img/58091.png\n"
     ]
    },
    {
     "name": "stderr",
     "output_type": "stream",
     "text": [
      " 25%|██▌       | 942/3743 [00:39<01:27, 32.15it/s]"
     ]
    },
    {
     "name": "stdout",
     "output_type": "stream",
     "text": [
      "img/54319.png\n",
      "img/94360.png\n",
      "img/01642.png\n",
      "img/45730.png\n",
      "img/83965.png\n",
      "img/21078.png\n"
     ]
    },
    {
     "name": "stderr",
     "output_type": "stream",
     "text": [
      " 25%|██▌       | 946/3743 [00:39<01:33, 29.79it/s]"
     ]
    },
    {
     "name": "stdout",
     "output_type": "stream",
     "text": [
      "img/13652.png\n",
      "img/47601.png\n",
      "img/86713.png\n",
      "img/23510.png\n",
      "img/09867.png\n"
     ]
    },
    {
     "name": "stderr",
     "output_type": "stream",
     "text": [
      " 25%|██▌       | 953/3743 [00:40<01:42, 27.28it/s]"
     ]
    },
    {
     "name": "stdout",
     "output_type": "stream",
     "text": [
      "img/37862.png\n",
      "img/37825.png\n",
      "img/83064.png\n",
      "img/62913.png\n",
      "img/13958.png\n",
      "img/08164.png\n"
     ]
    },
    {
     "name": "stderr",
     "output_type": "stream",
     "text": [
      " 26%|██▌       | 956/3743 [00:40<01:45, 26.53it/s]"
     ]
    },
    {
     "name": "stdout",
     "output_type": "stream",
     "text": [
      "img/93861.png\n",
      "img/51407.png\n",
      "img/28574.png\n",
      "img/08125.png\n",
      "img/59731.png\n"
     ]
    },
    {
     "name": "stderr",
     "output_type": "stream",
     "text": [
      " 26%|██▌       | 963/3743 [00:40<01:39, 27.91it/s]"
     ]
    },
    {
     "name": "stdout",
     "output_type": "stream",
     "text": [
      "img/17345.png\n",
      "img/89640.png\n",
      "img/37021.png\n",
      "img/03927.png\n",
      "img/53607.png\n",
      "img/48250.png\n",
      "img/90183.png\n"
     ]
    },
    {
     "name": "stderr",
     "output_type": "stream",
     "text": [
      " 26%|██▌       | 970/3743 [00:40<01:29, 30.97it/s]"
     ]
    },
    {
     "name": "stdout",
     "output_type": "stream",
     "text": [
      "img/23648.png\n",
      "img/28670.png\n",
      "img/30742.png\n",
      "img/68531.png\n",
      "img/01793.png\n",
      "img/62135.png\n",
      "img/04695.png\n",
      "img/56071.png\n"
     ]
    },
    {
     "name": "stderr",
     "output_type": "stream",
     "text": [
      " 26%|██▌       | 978/3743 [00:40<01:21, 33.86it/s]"
     ]
    },
    {
     "name": "stdout",
     "output_type": "stream",
     "text": [
      "img/42853.png\n",
      "img/59046.png\n",
      "img/76521.png\n",
      "img/75468.png\n",
      "img/35642.png\n",
      "img/12704.png\n",
      "img/19705.png\n",
      "img/29703.png\n"
     ]
    },
    {
     "name": "stderr",
     "output_type": "stream",
     "text": [
      " 26%|██▋       | 986/3743 [00:41<01:20, 34.41it/s]"
     ]
    },
    {
     "name": "stdout",
     "output_type": "stream",
     "text": [
      "img/98145.png\n",
      "img/76534.png\n",
      "img/35602.png\n",
      "img/96402.png\n",
      "img/57124.png\n",
      "img/14507.png\n",
      "img/53194.png\n",
      "img/05917.png\n"
     ]
    },
    {
     "name": "stderr",
     "output_type": "stream",
     "text": [
      " 27%|██▋       | 994/3743 [00:41<01:18, 35.13it/s]"
     ]
    },
    {
     "name": "stdout",
     "output_type": "stream",
     "text": [
      "img/49705.png\n",
      "img/96172.png\n",
      "img/23908.png\n",
      "img/39640.png\n",
      "img/40916.png\n",
      "img/98241.png\n",
      "img/40627.png\n",
      "img/67983.png\n"
     ]
    },
    {
     "name": "stderr",
     "output_type": "stream",
     "text": [
      " 27%|██▋       | 1002/3743 [00:41<01:17, 35.28it/s]"
     ]
    },
    {
     "name": "stdout",
     "output_type": "stream",
     "text": [
      "img/92148.png\n",
      "img/84295.png\n",
      "img/86753.png\n",
      "img/13209.png\n",
      "img/60235.png\n",
      "img/86075.png\n",
      "img/30816.png\n",
      "img/89521.png\n"
     ]
    },
    {
     "name": "stderr",
     "output_type": "stream",
     "text": [
      " 27%|██▋       | 1010/3743 [00:41<01:29, 30.51it/s]"
     ]
    },
    {
     "name": "stdout",
     "output_type": "stream",
     "text": [
      "img/08349.png\n",
      "img/95846.png\n",
      "img/50312.png\n",
      "img/63805.png\n",
      "img/35402.png\n"
     ]
    },
    {
     "name": "stderr",
     "output_type": "stream",
     "text": [
      " 27%|██▋       | 1018/3743 [00:42<01:22, 33.06it/s]"
     ]
    },
    {
     "name": "stdout",
     "output_type": "stream",
     "text": [
      "img/74513.png\n",
      "img/62931.png\n",
      "img/67183.png\n",
      "img/45037.png\n",
      "img/57042.png\n",
      "img/71245.png\n",
      "img/46870.png\n",
      "img/57348.png\n"
     ]
    },
    {
     "name": "stderr",
     "output_type": "stream",
     "text": [
      " 27%|██▋       | 1022/3743 [00:42<01:23, 32.67it/s]"
     ]
    },
    {
     "name": "stdout",
     "output_type": "stream",
     "text": [
      "img/75380.png\n",
      "img/71046.png\n",
      "img/64087.png\n",
      "img/91863.png\n",
      "img/78064.png\n",
      "img/09352.png\n"
     ]
    },
    {
     "name": "stderr",
     "output_type": "stream",
     "text": [
      " 28%|██▊       | 1030/3743 [00:42<01:29, 30.37it/s]"
     ]
    },
    {
     "name": "stdout",
     "output_type": "stream",
     "text": [
      "img/38495.png\n",
      "img/43657.png\n",
      "img/06412.png\n",
      "img/47251.png\n",
      "img/45389.png\n",
      "img/81260.png\n",
      "img/04827.png\n"
     ]
    },
    {
     "name": "stderr",
     "output_type": "stream",
     "text": [
      " 28%|██▊       | 1038/3743 [00:42<01:24, 32.20it/s]"
     ]
    },
    {
     "name": "stdout",
     "output_type": "stream",
     "text": [
      "img/47053.png\n",
      "img/06547.png\n",
      "img/48271.png\n",
      "img/82539.png\n",
      "img/04912.png\n",
      "img/67810.png\n",
      "img/56834.png\n",
      "img/17450.png\n"
     ]
    },
    {
     "name": "stderr",
     "output_type": "stream",
     "text": [
      " 28%|██▊       | 1046/3743 [00:42<01:21, 33.26it/s]"
     ]
    },
    {
     "name": "stdout",
     "output_type": "stream",
     "text": [
      "img/74098.png\n",
      "img/92056.png\n",
      "img/17652.png\n",
      "img/81976.png\n",
      "img/76348.png\n",
      "img/91803.png\n",
      "img/30745.png\n"
     ]
    },
    {
     "name": "stderr",
     "output_type": "stream",
     "text": [
      " 28%|██▊       | 1050/3743 [00:43<01:19, 33.91it/s]"
     ]
    },
    {
     "name": "stdout",
     "output_type": "stream",
     "text": [
      "img/09572.png\n",
      "img/92573.png\n",
      "img/70294.png\n",
      "img/72698.png\n",
      "img/04619.png\n",
      "img/46270.png\n",
      "img/02971.png\n"
     ]
    },
    {
     "name": "stderr",
     "output_type": "stream",
     "text": [
      " 28%|██▊       | 1058/3743 [00:43<01:18, 34.20it/s]"
     ]
    },
    {
     "name": "stdout",
     "output_type": "stream",
     "text": [
      "img/28974.png\n",
      "img/92835.png\n",
      "img/25901.png\n",
      "img/80259.png\n",
      "img/68327.png\n",
      "img/74589.png\n",
      "img/84653.png\n",
      "img/43608.png\n"
     ]
    },
    {
     "name": "stderr",
     "output_type": "stream",
     "text": [
      " 28%|██▊       | 1066/3743 [00:43<01:23, 31.90it/s]"
     ]
    },
    {
     "name": "stdout",
     "output_type": "stream",
     "text": [
      "img/59824.png\n",
      "img/92481.png\n",
      "img/19763.png\n",
      "img/80742.png\n",
      "img/35608.png\n",
      "img/49150.png\n"
     ]
    },
    {
     "name": "stderr",
     "output_type": "stream",
     "text": [
      " 29%|██▊       | 1074/3743 [00:43<01:22, 32.38it/s]"
     ]
    },
    {
     "name": "stdout",
     "output_type": "stream",
     "text": [
      "img/82651.png\n",
      "img/51964.png\n",
      "img/50738.png\n",
      "img/16435.png\n",
      "img/95783.png\n",
      "img/30871.png\n",
      "img/67259.png\n",
      "img/16072.png\n"
     ]
    },
    {
     "name": "stderr",
     "output_type": "stream",
     "text": [
      " 29%|██▉       | 1082/3743 [00:44<01:15, 35.22it/s]"
     ]
    },
    {
     "name": "stdout",
     "output_type": "stream",
     "text": [
      "img/01974.png\n",
      "img/82593.png\n",
      "img/07248.png\n",
      "img/29714.png\n",
      "img/76581.png\n",
      "img/86934.png\n",
      "img/81904.png\n",
      "img/83076.png\n"
     ]
    },
    {
     "name": "stderr",
     "output_type": "stream",
     "text": [
      " 29%|██▉       | 1090/3743 [00:44<01:17, 34.33it/s]"
     ]
    },
    {
     "name": "stdout",
     "output_type": "stream",
     "text": [
      "img/20851.png\n",
      "img/12936.png\n",
      "img/18679.png\n",
      "img/02457.png\n",
      "img/86159.png\n",
      "img/10948.png\n",
      "img/51367.png\n"
     ]
    },
    {
     "name": "stderr",
     "output_type": "stream",
     "text": [
      " 29%|██▉       | 1094/3743 [00:44<01:20, 33.09it/s]"
     ]
    },
    {
     "name": "stdout",
     "output_type": "stream",
     "text": [
      "img/27416.png\n",
      "img/79451.png\n",
      "img/28507.png\n",
      "img/19742.png\n",
      "img/71849.png\n",
      "img/20183.png\n",
      "img/12958.png\n"
     ]
    },
    {
     "name": "stderr",
     "output_type": "stream",
     "text": [
      " 29%|██▉       | 1102/3743 [00:44<01:17, 34.22it/s]"
     ]
    },
    {
     "name": "stdout",
     "output_type": "stream",
     "text": [
      "img/12450.png\n",
      "img/37859.png\n",
      "img/02917.png\n",
      "img/19543.png\n",
      "img/02945.png\n",
      "img/64720.png\n",
      "img/34021.png\n",
      "img/72936.png\n"
     ]
    },
    {
     "name": "stderr",
     "output_type": "stream",
     "text": [
      " 30%|██▉       | 1110/3743 [00:44<01:19, 33.28it/s]"
     ]
    },
    {
     "name": "stdout",
     "output_type": "stream",
     "text": [
      "img/84265.png\n",
      "img/28695.png\n",
      "img/47629.png\n",
      "img/41538.png\n",
      "img/04786.png\n",
      "img/75021.png\n",
      "img/39475.png\n"
     ]
    },
    {
     "name": "stderr",
     "output_type": "stream",
     "text": [
      " 30%|██▉       | 1118/3743 [00:45<01:22, 31.97it/s]"
     ]
    },
    {
     "name": "stdout",
     "output_type": "stream",
     "text": [
      "img/86914.png\n",
      "img/79032.png\n",
      "img/85097.png\n",
      "img/49861.png\n",
      "img/34620.png\n",
      "img/60357.png\n"
     ]
    },
    {
     "name": "stderr",
     "output_type": "stream",
     "text": [
      " 30%|██▉       | 1122/3743 [00:45<01:21, 32.30it/s]"
     ]
    },
    {
     "name": "stdout",
     "output_type": "stream",
     "text": [
      "img/86045.png\n",
      "img/24860.png\n",
      "img/64532.png\n",
      "img/68270.png\n",
      "img/17430.png\n",
      "img/09465.png\n",
      "img/98734.png\n"
     ]
    },
    {
     "name": "stderr",
     "output_type": "stream",
     "text": [
      " 30%|███       | 1130/3743 [00:45<01:20, 32.58it/s]"
     ]
    },
    {
     "name": "stdout",
     "output_type": "stream",
     "text": [
      "img/91356.png\n",
      "img/17589.png\n",
      "img/95376.png\n",
      "img/83095.png\n",
      "img/27461.png\n",
      "img/20195.png\n",
      "img/05148.png\n",
      "img/41679.png\n"
     ]
    },
    {
     "name": "stderr",
     "output_type": "stream",
     "text": [
      " 30%|███       | 1138/3743 [00:45<01:13, 35.44it/s]"
     ]
    },
    {
     "name": "stdout",
     "output_type": "stream",
     "text": [
      "img/17948.png\n",
      "img/91052.png\n",
      "img/81294.png\n",
      "img/47569.png\n",
      "img/75209.png\n",
      "img/82603.png\n",
      "img/56128.png\n"
     ]
    },
    {
     "name": "stderr",
     "output_type": "stream",
     "text": [
      " 31%|███       | 1146/3743 [00:45<01:22, 31.57it/s]"
     ]
    },
    {
     "name": "stdout",
     "output_type": "stream",
     "text": [
      "img/24395.png\n",
      "img/42056.png\n",
      "img/74890.png\n",
      "img/51476.png\n",
      "img/86071.png\n",
      "img/41037.png\n"
     ]
    },
    {
     "name": "stderr",
     "output_type": "stream",
     "text": [
      " 31%|███       | 1150/3743 [00:46<01:24, 30.55it/s]"
     ]
    },
    {
     "name": "stdout",
     "output_type": "stream",
     "text": [
      "img/64870.png\n",
      "img/76285.png\n",
      "img/87409.png\n",
      "img/28610.png\n",
      "img/47518.png\n",
      "img/92768.png\n",
      "img/41869.png\n"
     ]
    },
    {
     "name": "stderr",
     "output_type": "stream",
     "text": [
      " 31%|███       | 1158/3743 [00:46<01:19, 32.43it/s]"
     ]
    },
    {
     "name": "stdout",
     "output_type": "stream",
     "text": [
      "img/75290.png\n",
      "img/74061.png\n",
      "img/51387.png\n",
      "img/30527.png\n",
      "img/35048.png\n",
      "img/65741.png\n",
      "img/89245.png\n",
      "img/84620.png\n"
     ]
    },
    {
     "name": "stderr",
     "output_type": "stream",
     "text": [
      " 31%|███       | 1166/3743 [00:46<01:18, 32.74it/s]"
     ]
    },
    {
     "name": "stdout",
     "output_type": "stream",
     "text": [
      "img/35671.png\n",
      "img/60134.png\n",
      "img/37284.png\n",
      "img/87263.png\n",
      "img/74198.png\n",
      "img/79823.png\n",
      "img/50286.png\n"
     ]
    },
    {
     "name": "stderr",
     "output_type": "stream",
     "text": [
      " 31%|███▏      | 1174/3743 [00:46<01:15, 33.96it/s]"
     ]
    },
    {
     "name": "stdout",
     "output_type": "stream",
     "text": [
      "img/32549.png\n",
      "img/83025.png\n",
      "img/40257.png\n",
      "img/03845.png\n",
      "img/89634.png\n",
      "img/60451.png\n",
      "img/23158.png\n",
      "img/93208.png\n"
     ]
    },
    {
     "name": "stderr",
     "output_type": "stream",
     "text": [
      " 32%|███▏      | 1182/3743 [00:47<01:21, 31.59it/s]"
     ]
    },
    {
     "name": "stdout",
     "output_type": "stream",
     "text": [
      "img/18257.png\n",
      "img/98425.png\n",
      "img/23746.png\n",
      "img/95478.png\n",
      "img/49153.png\n",
      "img/05719.png\n"
     ]
    },
    {
     "name": "stderr",
     "output_type": "stream",
     "text": [
      " 32%|███▏      | 1186/3743 [00:47<01:25, 29.86it/s]"
     ]
    },
    {
     "name": "stdout",
     "output_type": "stream",
     "text": [
      "img/92375.png\n",
      "img/31640.png\n",
      "img/83907.png\n",
      "img/87023.png\n",
      "img/83125.png\n",
      "img/01568.png\n"
     ]
    },
    {
     "name": "stderr",
     "output_type": "stream",
     "text": [
      " 32%|███▏      | 1193/3743 [00:47<01:26, 29.40it/s]"
     ]
    },
    {
     "name": "stdout",
     "output_type": "stream",
     "text": [
      "img/17493.png\n",
      "img/52867.png\n",
      "img/29675.png\n",
      "img/84563.png\n",
      "img/42503.png\n",
      "img/54962.png\n"
     ]
    },
    {
     "name": "stderr",
     "output_type": "stream",
     "text": [
      " 32%|███▏      | 1200/3743 [00:47<01:24, 30.25it/s]"
     ]
    },
    {
     "name": "stdout",
     "output_type": "stream",
     "text": [
      "img/67843.png\n",
      "img/40372.png\n",
      "img/42816.png\n",
      "img/71396.png\n",
      "img/29851.png\n",
      "img/64153.png\n",
      "img/74609.png\n"
     ]
    },
    {
     "name": "stderr",
     "output_type": "stream",
     "text": [
      " 32%|███▏      | 1208/3743 [00:47<01:23, 30.24it/s]"
     ]
    },
    {
     "name": "stdout",
     "output_type": "stream",
     "text": [
      "img/57630.png\n",
      "img/94571.png\n",
      "img/79680.png\n",
      "img/21089.png\n",
      "img/87261.png\n",
      "img/50471.png\n",
      "img/27169.png\n"
     ]
    },
    {
     "name": "stderr",
     "output_type": "stream",
     "text": [
      " 32%|███▏      | 1212/3743 [00:48<01:22, 30.72it/s]"
     ]
    },
    {
     "name": "stdout",
     "output_type": "stream",
     "text": [
      "img/48917.png\n",
      "img/91786.png\n",
      "img/96517.png\n",
      "img/18274.png\n",
      "img/85034.png\n",
      "img/69728.png\n",
      "img/69520.png\n"
     ]
    },
    {
     "name": "stderr",
     "output_type": "stream",
     "text": [
      " 33%|███▎      | 1220/3743 [00:48<01:20, 31.39it/s]"
     ]
    },
    {
     "name": "stdout",
     "output_type": "stream",
     "text": [
      "img/12086.png\n",
      "img/63712.png\n",
      "img/30675.png\n",
      "img/75382.png\n",
      "img/80576.png\n",
      "img/42871.png\n",
      "img/50263.png\n"
     ]
    },
    {
     "name": "stderr",
     "output_type": "stream",
     "text": [
      " 33%|███▎      | 1228/3743 [00:48<01:21, 31.04it/s]"
     ]
    },
    {
     "name": "stdout",
     "output_type": "stream",
     "text": [
      "img/98756.png\n",
      "img/87126.png\n",
      "img/32490.png\n",
      "img/61207.png\n",
      "img/46183.png\n",
      "img/70196.png\n",
      "img/60841.png\n"
     ]
    },
    {
     "name": "stderr",
     "output_type": "stream",
     "text": [
      " 33%|███▎      | 1232/3743 [00:48<01:21, 30.95it/s]"
     ]
    },
    {
     "name": "stdout",
     "output_type": "stream",
     "text": [
      "img/20738.png\n",
      "img/27860.png\n",
      "img/21957.png\n",
      "img/23806.png\n",
      "img/98714.png\n",
      "img/45316.png\n"
     ]
    },
    {
     "name": "stderr",
     "output_type": "stream",
     "text": [
      " 33%|███▎      | 1239/3743 [00:49<01:29, 27.93it/s]"
     ]
    },
    {
     "name": "stdout",
     "output_type": "stream",
     "text": [
      "img/48739.png\n",
      "img/75092.png\n",
      "img/64723.png\n",
      "img/58019.png\n",
      "img/29574.png\n"
     ]
    },
    {
     "name": "stderr",
     "output_type": "stream",
     "text": [
      " 33%|███▎      | 1245/3743 [00:49<01:39, 25.17it/s]"
     ]
    },
    {
     "name": "stdout",
     "output_type": "stream",
     "text": [
      "img/79614.png\n",
      "img/78125.png\n",
      "img/89123.png\n",
      "img/16849.png\n",
      "img/47136.png\n",
      "img/79581.png\n"
     ]
    },
    {
     "name": "stderr",
     "output_type": "stream",
     "text": [
      " 33%|███▎      | 1252/3743 [00:49<01:32, 26.91it/s]"
     ]
    },
    {
     "name": "stdout",
     "output_type": "stream",
     "text": [
      "img/27405.png\n",
      "img/27468.png\n",
      "img/67195.png\n",
      "img/62178.png\n",
      "img/34180.png\n",
      "img/87149.png\n",
      "img/91367.png\n"
     ]
    },
    {
     "name": "stderr",
     "output_type": "stream",
     "text": [
      " 34%|███▎      | 1258/3743 [00:49<01:33, 26.69it/s]"
     ]
    },
    {
     "name": "stdout",
     "output_type": "stream",
     "text": [
      "img/34670.png\n",
      "img/51682.png\n",
      "img/90574.png\n",
      "img/62158.png\n",
      "img/82705.png\n",
      "img/59203.png\n"
     ]
    },
    {
     "name": "stderr",
     "output_type": "stream",
     "text": [
      " 34%|███▍      | 1266/3743 [00:50<01:24, 29.15it/s]"
     ]
    },
    {
     "name": "stdout",
     "output_type": "stream",
     "text": [
      "img/47596.png\n",
      "img/93728.png\n",
      "img/67142.png\n",
      "img/52837.png\n",
      "img/83152.png\n",
      "img/61948.png\n",
      "img/09843.png\n"
     ]
    },
    {
     "name": "stderr",
     "output_type": "stream",
     "text": [
      " 34%|███▍      | 1274/3743 [00:50<01:16, 32.35it/s]"
     ]
    },
    {
     "name": "stdout",
     "output_type": "stream",
     "text": [
      "img/14259.png\n",
      "img/85439.png\n",
      "img/70324.png\n",
      "img/85461.png\n",
      "img/40385.png\n",
      "img/25401.png\n",
      "img/54301.png\n",
      "img/65273.png\n"
     ]
    },
    {
     "name": "stderr",
     "output_type": "stream",
     "text": [
      " 34%|███▍      | 1278/3743 [00:50<01:13, 33.75it/s]"
     ]
    },
    {
     "name": "stdout",
     "output_type": "stream",
     "text": [
      "img/05214.png\n",
      "img/40865.png\n",
      "img/46027.png\n",
      "img/92501.png\n",
      "img/23754.png\n",
      "img/81624.png\n",
      "img/62485.png\n"
     ]
    },
    {
     "name": "stderr",
     "output_type": "stream",
     "text": [
      " 34%|███▍      | 1286/3743 [00:50<01:23, 29.60it/s]"
     ]
    },
    {
     "name": "stdout",
     "output_type": "stream",
     "text": [
      "img/18963.png\n",
      "img/98670.png\n",
      "img/41086.png\n",
      "img/28613.png\n",
      "img/37185.png\n"
     ]
    },
    {
     "name": "stderr",
     "output_type": "stream",
     "text": [
      " 34%|███▍      | 1290/3743 [00:50<01:35, 25.78it/s]"
     ]
    },
    {
     "name": "stdout",
     "output_type": "stream",
     "text": [
      "img/18074.png\n",
      "img/31960.png\n",
      "img/71095.png\n",
      "img/61859.png\n",
      "img/83150.png\n"
     ]
    },
    {
     "name": "stderr",
     "output_type": "stream",
     "text": [
      " 35%|███▍      | 1296/3743 [00:51<01:33, 26.17it/s]"
     ]
    },
    {
     "name": "stdout",
     "output_type": "stream",
     "text": [
      "img/47918.png\n",
      "img/15064.png\n",
      "img/45691.png\n",
      "img/91537.png\n",
      "img/62710.png\n",
      "img/76214.png\n"
     ]
    },
    {
     "name": "stderr",
     "output_type": "stream",
     "text": [
      " 35%|███▍      | 1302/3743 [00:51<01:30, 26.92it/s]"
     ]
    },
    {
     "name": "stdout",
     "output_type": "stream",
     "text": [
      "img/45209.png\n",
      "img/16520.png\n",
      "img/08395.png\n",
      "img/28605.png\n",
      "img/80957.png\n",
      "img/69807.png\n"
     ]
    },
    {
     "name": "stderr",
     "output_type": "stream",
     "text": [
      " 35%|███▍      | 1308/3743 [00:51<01:34, 25.71it/s]"
     ]
    },
    {
     "name": "stdout",
     "output_type": "stream",
     "text": [
      "img/72945.png\n",
      "img/50894.png\n",
      "img/09251.png\n",
      "img/95803.png\n",
      "img/83215.png\n"
     ]
    },
    {
     "name": "stderr",
     "output_type": "stream",
     "text": [
      " 35%|███▌      | 1311/3743 [00:51<01:41, 23.87it/s]"
     ]
    },
    {
     "name": "stdout",
     "output_type": "stream",
     "text": [
      "img/15029.png\n",
      "img/08624.png\n",
      "img/41925.png\n",
      "img/31629.png\n",
      "img/38209.png\n"
     ]
    },
    {
     "name": "stderr",
     "output_type": "stream",
     "text": [
      " 35%|███▌      | 1318/3743 [00:51<01:33, 26.02it/s]"
     ]
    },
    {
     "name": "stdout",
     "output_type": "stream",
     "text": [
      "img/49670.png\n",
      "img/45126.png\n",
      "img/86329.png\n",
      "img/48930.png\n",
      "img/14632.png\n",
      "img/64350.png\n",
      "img/28935.png\n"
     ]
    },
    {
     "name": "stderr",
     "output_type": "stream",
     "text": [
      " 35%|███▌      | 1325/3743 [00:52<01:27, 27.54it/s]"
     ]
    },
    {
     "name": "stdout",
     "output_type": "stream",
     "text": [
      "img/56249.png\n",
      "img/68371.png\n",
      "img/78039.png\n",
      "img/23504.png\n",
      "img/35247.png\n",
      "img/93128.png\n"
     ]
    },
    {
     "name": "stderr",
     "output_type": "stream",
     "text": [
      " 36%|███▌      | 1333/3743 [00:52<01:19, 30.40it/s]"
     ]
    },
    {
     "name": "stdout",
     "output_type": "stream",
     "text": [
      "img/63784.png\n",
      "img/37058.png\n",
      "img/06541.png\n",
      "img/21569.png\n",
      "img/87429.png\n",
      "img/94350.png\n",
      "img/24189.png\n",
      "img/26073.png\n"
     ]
    },
    {
     "name": "stderr",
     "output_type": "stream",
     "text": [
      " 36%|███▌      | 1341/3743 [00:52<01:18, 30.66it/s]"
     ]
    },
    {
     "name": "stdout",
     "output_type": "stream",
     "text": [
      "img/46310.png\n",
      "img/89302.png\n",
      "img/38547.png\n",
      "img/26318.png\n",
      "img/79584.png\n",
      "img/08546.png\n",
      "img/52803.png\n"
     ]
    },
    {
     "name": "stderr",
     "output_type": "stream",
     "text": [
      " 36%|███▌      | 1345/3743 [00:52<01:22, 29.15it/s]"
     ]
    },
    {
     "name": "stdout",
     "output_type": "stream",
     "text": [
      "img/63251.png\n",
      "img/14823.png\n",
      "img/70368.png\n",
      "img/15738.png\n",
      "img/07254.png\n",
      "img/12837.png\n"
     ]
    },
    {
     "name": "stderr",
     "output_type": "stream",
     "text": [
      " 36%|███▌      | 1352/3743 [00:53<01:17, 31.01it/s]"
     ]
    },
    {
     "name": "stdout",
     "output_type": "stream",
     "text": [
      "img/04287.png\n",
      "img/26319.png\n",
      "img/41958.png\n",
      "img/17054.png\n",
      "img/81245.png\n",
      "img/03871.png\n",
      "img/71625.png\n",
      "img/92408.png\n"
     ]
    },
    {
     "name": "stderr",
     "output_type": "stream",
     "text": [
      " 36%|███▋      | 1360/3743 [00:53<01:13, 32.40it/s]"
     ]
    },
    {
     "name": "stdout",
     "output_type": "stream",
     "text": [
      "img/57826.png\n",
      "img/63025.png\n",
      "img/73154.png\n",
      "img/83764.png\n",
      "img/48162.png\n",
      "img/70194.png\n",
      "img/34652.png\n"
     ]
    },
    {
     "name": "stderr",
     "output_type": "stream",
     "text": [
      " 37%|███▋      | 1368/3743 [00:53<01:10, 33.79it/s]"
     ]
    },
    {
     "name": "stdout",
     "output_type": "stream",
     "text": [
      "img/83921.png\n",
      "img/69140.png\n",
      "img/79854.png\n",
      "img/79321.png\n",
      "img/31426.png\n",
      "img/81602.png\n",
      "img/63187.png\n",
      "img/15893.png\n"
     ]
    },
    {
     "name": "stderr",
     "output_type": "stream",
     "text": [
      " 37%|███▋      | 1376/3743 [00:53<01:09, 33.90it/s]"
     ]
    },
    {
     "name": "stdout",
     "output_type": "stream",
     "text": [
      "img/78401.png\n",
      "img/84152.png\n",
      "img/59260.png\n",
      "img/06194.png\n",
      "img/50723.png\n",
      "img/52316.png\n",
      "img/97842.png\n"
     ]
    },
    {
     "name": "stderr",
     "output_type": "stream",
     "text": [
      " 37%|███▋      | 1384/3743 [00:53<01:07, 35.15it/s]"
     ]
    },
    {
     "name": "stdout",
     "output_type": "stream",
     "text": [
      "img/07931.png\n",
      "img/64193.png\n",
      "img/46301.png\n",
      "img/34915.png\n",
      "img/97102.png\n",
      "img/86910.png\n",
      "img/52743.png\n",
      "img/52904.png\n"
     ]
    },
    {
     "name": "stderr",
     "output_type": "stream",
     "text": [
      " 37%|███▋      | 1392/3743 [00:54<01:06, 35.24it/s]"
     ]
    },
    {
     "name": "stdout",
     "output_type": "stream",
     "text": [
      "img/46315.png\n",
      "img/10256.png\n",
      "img/07523.png\n",
      "img/09413.png\n",
      "img/37140.png\n",
      "img/01578.png\n",
      "img/12460.png\n",
      "img/28197.png\n"
     ]
    },
    {
     "name": "stderr",
     "output_type": "stream",
     "text": [
      " 37%|███▋      | 1400/3743 [00:54<01:06, 35.35it/s]"
     ]
    },
    {
     "name": "stdout",
     "output_type": "stream",
     "text": [
      "img/25103.png\n",
      "img/41389.png\n",
      "img/68549.png\n",
      "img/03795.png\n",
      "img/47031.png\n",
      "img/42510.png\n",
      "img/37542.png\n",
      "img/14037.png\n"
     ]
    },
    {
     "name": "stderr",
     "output_type": "stream",
     "text": [
      " 38%|███▊      | 1408/3743 [00:54<01:08, 34.01it/s]"
     ]
    },
    {
     "name": "stdout",
     "output_type": "stream",
     "text": [
      "img/08534.png\n",
      "img/69518.png\n",
      "img/36870.png\n",
      "img/76951.png\n",
      "img/16837.png\n",
      "img/59024.png\n",
      "img/64051.png\n"
     ]
    },
    {
     "name": "stderr",
     "output_type": "stream",
     "text": [
      " 38%|███▊      | 1416/3743 [00:54<01:06, 35.16it/s]"
     ]
    },
    {
     "name": "stdout",
     "output_type": "stream",
     "text": [
      "img/41697.png\n",
      "img/97160.png\n",
      "img/70189.png\n",
      "img/32587.png\n",
      "img/12967.png\n",
      "img/03854.png\n",
      "img/76938.png\n",
      "img/42598.png\n"
     ]
    },
    {
     "name": "stderr",
     "output_type": "stream",
     "text": [
      " 38%|███▊      | 1420/3743 [00:54<01:12, 32.16it/s]"
     ]
    },
    {
     "name": "stdout",
     "output_type": "stream",
     "text": [
      "img/05471.png\n",
      "img/62831.png\n",
      "img/76423.png\n",
      "img/71963.png\n",
      "img/96804.png\n"
     ]
    },
    {
     "name": "stderr",
     "output_type": "stream",
     "text": [
      " 38%|███▊      | 1428/3743 [00:55<01:15, 30.53it/s]"
     ]
    },
    {
     "name": "stdout",
     "output_type": "stream",
     "text": [
      "img/89206.png\n",
      "img/14679.png\n",
      "img/39416.png\n",
      "img/09185.png\n",
      "img/13520.png\n",
      "img/45931.png\n",
      "img/95024.png\n"
     ]
    },
    {
     "name": "stderr",
     "output_type": "stream",
     "text": [
      " 38%|███▊      | 1432/3743 [00:55<01:13, 31.53it/s]"
     ]
    },
    {
     "name": "stdout",
     "output_type": "stream",
     "text": [
      "img/89072.png\n",
      "img/87615.png\n",
      "img/96235.png\n",
      "img/60389.png\n",
      "img/83509.png\n",
      "img/87645.png\n",
      "img/41362.png\n"
     ]
    },
    {
     "name": "stderr",
     "output_type": "stream",
     "text": [
      " 38%|███▊      | 1440/3743 [00:55<01:09, 33.33it/s]"
     ]
    },
    {
     "name": "stdout",
     "output_type": "stream",
     "text": [
      "img/67835.png\n",
      "img/16082.png\n",
      "img/84106.png\n",
      "img/38724.png\n",
      "img/35620.png\n",
      "img/67439.png\n",
      "img/56981.png\n"
     ]
    },
    {
     "name": "stderr",
     "output_type": "stream",
     "text": [
      " 39%|███▊      | 1448/3743 [00:55<01:09, 32.88it/s]"
     ]
    },
    {
     "name": "stdout",
     "output_type": "stream",
     "text": [
      "img/36725.png\n",
      "img/83964.png\n",
      "img/30598.png\n",
      "img/62815.png\n",
      "img/13968.png\n",
      "img/17385.png\n",
      "img/91462.png\n",
      "img/48269.png\n"
     ]
    },
    {
     "name": "stderr",
     "output_type": "stream",
     "text": [
      " 39%|███▉      | 1456/3743 [00:56<01:06, 34.19it/s]"
     ]
    },
    {
     "name": "stdout",
     "output_type": "stream",
     "text": [
      "img/18940.png\n",
      "img/26184.png\n",
      "img/07651.png\n",
      "img/03178.png\n",
      "img/91065.png\n",
      "img/28957.png\n",
      "img/53927.png\n",
      "img/28134.png\n"
     ]
    },
    {
     "name": "stderr",
     "output_type": "stream",
     "text": [
      " 39%|███▉      | 1464/3743 [00:56<01:05, 34.70it/s]"
     ]
    },
    {
     "name": "stdout",
     "output_type": "stream",
     "text": [
      "img/21305.png\n",
      "img/20691.png\n",
      "img/72340.png\n",
      "img/63092.png\n",
      "img/97810.png\n",
      "img/09156.png\n",
      "img/81403.png\n",
      "img/36508.png\n"
     ]
    },
    {
     "name": "stderr",
     "output_type": "stream",
     "text": [
      " 39%|███▉      | 1472/3743 [00:56<01:08, 32.95it/s]"
     ]
    },
    {
     "name": "stdout",
     "output_type": "stream",
     "text": [
      "img/91358.png\n",
      "img/83256.png\n",
      "img/37018.png\n",
      "img/02965.png\n",
      "img/27685.png\n",
      "img/95687.png\n",
      "img/30629.png\n"
     ]
    },
    {
     "name": "stderr",
     "output_type": "stream",
     "text": [
      " 40%|███▉      | 1481/3743 [00:56<01:05, 34.76it/s]"
     ]
    },
    {
     "name": "stdout",
     "output_type": "stream",
     "text": [
      "img/49728.png\n",
      "img/49726.png\n",
      "img/68019.png\n",
      "img/67491.png\n",
      "img/80945.png\n",
      "img/21593.png\n",
      "img/30695.png\n",
      "img/39784.png\n"
     ]
    },
    {
     "name": "stderr",
     "output_type": "stream",
     "text": [
      " 40%|███▉      | 1489/3743 [00:57<01:04, 35.19it/s]"
     ]
    },
    {
     "name": "stdout",
     "output_type": "stream",
     "text": [
      "img/62198.png\n",
      "img/75086.png\n",
      "img/05297.png\n",
      "img/08597.png\n",
      "img/91654.png\n",
      "img/58190.png\n",
      "img/46312.png\n"
     ]
    },
    {
     "name": "stderr",
     "output_type": "stream",
     "text": [
      " 40%|███▉      | 1493/3743 [00:57<01:02, 35.79it/s]"
     ]
    },
    {
     "name": "stdout",
     "output_type": "stream",
     "text": [
      "img/69528.png\n",
      "img/90861.png\n",
      "img/06374.png\n",
      "img/27134.png\n",
      "img/46852.png\n",
      "img/65349.png\n",
      "img/82079.png\n",
      "img/53740.png\n"
     ]
    },
    {
     "name": "stderr",
     "output_type": "stream",
     "text": [
      " 40%|████      | 1501/3743 [00:57<01:00, 37.13it/s]"
     ]
    },
    {
     "name": "stdout",
     "output_type": "stream",
     "text": [
      "img/74356.png\n",
      "img/48396.png\n",
      "img/95403.png\n",
      "img/04859.png\n",
      "img/29178.png\n",
      "img/69351.png\n",
      "img/54632.png\n",
      "img/91064.png\n"
     ]
    },
    {
     "name": "stderr",
     "output_type": "stream",
     "text": [
      " 40%|████      | 1509/3743 [00:57<01:00, 36.99it/s]"
     ]
    },
    {
     "name": "stdout",
     "output_type": "stream",
     "text": [
      "img/82461.png\n",
      "img/64301.png\n",
      "img/48697.png\n",
      "img/62184.png\n",
      "img/32647.png\n",
      "img/01598.png\n",
      "img/41063.png\n",
      "img/56183.png\n"
     ]
    },
    {
     "name": "stderr",
     "output_type": "stream",
     "text": [
      " 41%|████      | 1517/3743 [00:57<01:11, 31.14it/s]"
     ]
    },
    {
     "name": "stdout",
     "output_type": "stream",
     "text": [
      "img/42380.png\n",
      "img/52490.png\n",
      "img/87695.png\n",
      "img/30721.png\n",
      "img/97386.png\n",
      "img/80316.png\n"
     ]
    },
    {
     "name": "stderr",
     "output_type": "stream",
     "text": [
      " 41%|████      | 1525/3743 [00:58<01:04, 34.31it/s]"
     ]
    },
    {
     "name": "stdout",
     "output_type": "stream",
     "text": [
      "img/93725.png\n",
      "img/87140.png\n",
      "img/06543.png\n",
      "img/58327.png\n",
      "img/02459.png\n",
      "img/51403.png\n",
      "img/65807.png\n",
      "img/09267.png\n"
     ]
    },
    {
     "name": "stderr",
     "output_type": "stream",
     "text": [
      " 41%|████      | 1533/3743 [00:58<01:03, 34.80it/s]"
     ]
    },
    {
     "name": "stdout",
     "output_type": "stream",
     "text": [
      "img/32957.png\n",
      "img/31547.png\n",
      "img/06213.png\n",
      "img/72891.png\n",
      "img/56712.png\n",
      "img/35614.png\n",
      "img/30957.png\n",
      "img/19074.png\n"
     ]
    },
    {
     "name": "stderr",
     "output_type": "stream",
     "text": [
      " 41%|████      | 1541/3743 [00:58<01:02, 35.06it/s]"
     ]
    },
    {
     "name": "stdout",
     "output_type": "stream",
     "text": [
      "img/60598.png\n",
      "img/98103.png\n",
      "img/43956.png\n",
      "img/54672.png\n",
      "img/29158.png\n",
      "img/19643.png\n",
      "img/67892.png\n"
     ]
    },
    {
     "name": "stderr",
     "output_type": "stream",
     "text": [
      " 41%|████▏     | 1549/3743 [00:58<01:03, 34.62it/s]"
     ]
    },
    {
     "name": "stdout",
     "output_type": "stream",
     "text": [
      "img/87340.png\n",
      "img/31268.png\n",
      "img/82359.png\n",
      "img/21043.png\n",
      "img/07853.png\n",
      "img/53980.png\n",
      "img/54317.png\n"
     ]
    },
    {
     "name": "stderr",
     "output_type": "stream",
     "text": [
      " 41%|████▏     | 1553/3743 [00:58<01:07, 32.55it/s]"
     ]
    },
    {
     "name": "stdout",
     "output_type": "stream",
     "text": [
      "img/38647.png\n",
      "img/42810.png\n",
      "img/76910.png\n",
      "img/07956.png\n",
      "img/24537.png\n",
      "img/41589.png\n",
      "img/12907.png\n"
     ]
    },
    {
     "name": "stderr",
     "output_type": "stream",
     "text": [
      " 42%|████▏     | 1557/3743 [00:59<01:09, 31.61it/s]"
     ]
    },
    {
     "name": "stdout",
     "output_type": "stream",
     "text": [
      "img/45396.png\n",
      "img/73561.png\n",
      "img/67193.png\n",
      "img/18094.png\n",
      "img/34927.png\n"
     ]
    },
    {
     "name": "stderr",
     "output_type": "stream",
     "text": [
      " 42%|████▏     | 1564/3743 [00:59<01:19, 27.26it/s]"
     ]
    },
    {
     "name": "stdout",
     "output_type": "stream",
     "text": [
      "img/29138.png\n",
      "img/87063.png\n",
      "img/37509.png\n",
      "img/57802.png\n",
      "img/36598.png\n",
      "img/78243.png\n"
     ]
    },
    {
     "name": "stderr",
     "output_type": "stream",
     "text": [
      " 42%|████▏     | 1571/3743 [00:59<01:12, 29.82it/s]"
     ]
    },
    {
     "name": "stdout",
     "output_type": "stream",
     "text": [
      "img/04639.png\n",
      "img/74802.png\n",
      "img/89561.png\n",
      "img/41067.png\n",
      "img/78069.png\n",
      "img/20491.png\n",
      "img/19783.png\n",
      "img/07865.png\n"
     ]
    },
    {
     "name": "stderr",
     "output_type": "stream",
     "text": [
      " 42%|████▏     | 1579/3743 [00:59<01:05, 32.94it/s]"
     ]
    },
    {
     "name": "stdout",
     "output_type": "stream",
     "text": [
      "img/48096.png\n",
      "img/91340.png\n",
      "img/01295.png\n",
      "img/89264.png\n",
      "img/18267.png\n",
      "img/05872.png\n",
      "img/93027.png\n"
     ]
    },
    {
     "name": "stderr",
     "output_type": "stream",
     "text": [
      " 42%|████▏     | 1587/3743 [00:59<01:04, 33.35it/s]"
     ]
    },
    {
     "name": "stdout",
     "output_type": "stream",
     "text": [
      "img/17034.png\n",
      "img/47386.png\n",
      "img/20149.png\n",
      "img/16359.png\n",
      "img/28764.png\n",
      "img/69175.png\n",
      "img/25097.png\n",
      "img/13960.png\n"
     ]
    },
    {
     "name": "stderr",
     "output_type": "stream",
     "text": [
      " 43%|████▎     | 1595/3743 [01:00<01:03, 34.08it/s]"
     ]
    },
    {
     "name": "stdout",
     "output_type": "stream",
     "text": [
      "img/10483.png\n",
      "img/70281.png\n",
      "img/16540.png\n",
      "img/71659.png\n",
      "img/98421.png\n",
      "img/31204.png\n",
      "img/53482.png\n",
      "img/17630.png\n"
     ]
    },
    {
     "name": "stderr",
     "output_type": "stream",
     "text": [
      " 43%|████▎     | 1603/3743 [01:00<01:07, 31.58it/s]"
     ]
    },
    {
     "name": "stdout",
     "output_type": "stream",
     "text": [
      "img/71902.png\n",
      "img/51683.png\n",
      "img/45732.png\n",
      "img/59408.png\n",
      "img/37180.png\n",
      "img/47905.png\n"
     ]
    },
    {
     "name": "stderr",
     "output_type": "stream",
     "text": [
      " 43%|████▎     | 1611/3743 [01:00<01:02, 33.93it/s]"
     ]
    },
    {
     "name": "stdout",
     "output_type": "stream",
     "text": [
      "img/30546.png\n",
      "img/02594.png\n",
      "img/13450.png\n",
      "img/20745.png\n",
      "img/90178.png\n",
      "img/63905.png\n",
      "img/37915.png\n",
      "img/36724.png\n"
     ]
    },
    {
     "name": "stderr",
     "output_type": "stream",
     "text": [
      " 43%|████▎     | 1615/3743 [01:00<01:03, 33.64it/s]"
     ]
    },
    {
     "name": "stdout",
     "output_type": "stream",
     "text": [
      "img/07628.png\n",
      "img/01637.png\n",
      "img/02317.png\n",
      "img/21835.png\n",
      "img/27341.png\n",
      "img/05941.png\n",
      "img/23501.png\n"
     ]
    },
    {
     "name": "stderr",
     "output_type": "stream",
     "text": [
      " 43%|████▎     | 1623/3743 [01:01<01:05, 32.18it/s]"
     ]
    },
    {
     "name": "stdout",
     "output_type": "stream",
     "text": [
      "img/18273.png\n",
      "img/98307.png\n",
      "img/01589.png\n",
      "img/28674.png\n",
      "img/50789.png\n",
      "img/54082.png\n",
      "img/90126.png\n"
     ]
    },
    {
     "name": "stderr",
     "output_type": "stream",
     "text": [
      " 44%|████▎     | 1631/3743 [01:01<01:01, 34.52it/s]"
     ]
    },
    {
     "name": "stdout",
     "output_type": "stream",
     "text": [
      "img/30526.png\n",
      "img/49170.png\n",
      "img/05987.png\n",
      "img/12507.png\n",
      "img/83527.png\n",
      "img/72594.png\n",
      "img/36098.png\n",
      "img/61935.png\n"
     ]
    },
    {
     "name": "stderr",
     "output_type": "stream",
     "text": [
      " 44%|████▎     | 1635/3743 [01:01<01:02, 33.68it/s]"
     ]
    },
    {
     "name": "stdout",
     "output_type": "stream",
     "text": [
      "img/51493.png\n",
      "img/64721.png\n",
      "img/82316.png\n",
      "img/52714.png\n",
      "img/75068.png\n"
     ]
    },
    {
     "name": "stderr",
     "output_type": "stream",
     "text": [
      " 44%|████▍     | 1643/3743 [01:01<01:12, 29.10it/s]"
     ]
    },
    {
     "name": "stdout",
     "output_type": "stream",
     "text": [
      "img/63894.png\n",
      "img/13962.png\n",
      "img/83972.png\n",
      "img/56470.png\n",
      "img/01682.png\n",
      "img/94518.png\n"
     ]
    },
    {
     "name": "stderr",
     "output_type": "stream",
     "text": [
      " 44%|████▍     | 1651/3743 [01:01<01:07, 31.07it/s]"
     ]
    },
    {
     "name": "stdout",
     "output_type": "stream",
     "text": [
      "img/47620.png\n",
      "img/25461.png\n",
      "img/96452.png\n",
      "img/43579.png\n",
      "img/75603.png\n",
      "img/83692.png\n",
      "img/10893.png\n",
      "img/57134.png\n"
     ]
    },
    {
     "name": "stderr",
     "output_type": "stream",
     "text": [
      " 44%|████▍     | 1659/3743 [01:02<01:05, 32.03it/s]"
     ]
    },
    {
     "name": "stdout",
     "output_type": "stream",
     "text": [
      "img/29708.png\n",
      "img/14830.png\n",
      "img/98134.png\n",
      "img/74652.png\n",
      "img/53147.png\n",
      "img/90125.png\n",
      "img/86032.png\n"
     ]
    },
    {
     "name": "stderr",
     "output_type": "stream",
     "text": [
      " 44%|████▍     | 1663/3743 [01:02<01:03, 32.76it/s]"
     ]
    },
    {
     "name": "stdout",
     "output_type": "stream",
     "text": [
      "img/13269.png\n",
      "img/58764.png\n",
      "img/71846.png\n",
      "img/40875.png\n",
      "img/03145.png\n",
      "img/29513.png\n",
      "img/64957.png\n",
      "img/93648.png\n"
     ]
    },
    {
     "name": "stderr",
     "output_type": "stream",
     "text": [
      " 45%|████▍     | 1672/3743 [01:02<00:58, 35.44it/s]"
     ]
    },
    {
     "name": "stdout",
     "output_type": "stream",
     "text": [
      "img/14386.png\n",
      "img/21869.png\n",
      "img/21450.png\n",
      "img/70612.png\n",
      "img/67953.png\n",
      "img/37806.png\n",
      "img/45307.png\n"
     ]
    },
    {
     "name": "stderr",
     "output_type": "stream",
     "text": [
      " 45%|████▍     | 1680/3743 [01:02<01:02, 33.12it/s]"
     ]
    },
    {
     "name": "stdout",
     "output_type": "stream",
     "text": [
      "img/86127.png\n",
      "img/21486.png\n",
      "img/67521.png\n",
      "img/71689.png\n",
      "img/83201.png\n",
      "img/93287.png\n",
      "img/75098.png\n"
     ]
    },
    {
     "name": "stderr",
     "output_type": "stream",
     "text": [
      " 45%|████▍     | 1684/3743 [01:02<01:03, 32.33it/s]"
     ]
    },
    {
     "name": "stdout",
     "output_type": "stream",
     "text": [
      "img/30561.png\n",
      "img/53140.png\n",
      "img/02431.png\n",
      "img/34972.png\n",
      "img/42087.png\n",
      "img/87345.png\n"
     ]
    },
    {
     "name": "stderr",
     "output_type": "stream",
     "text": [
      " 45%|████▌     | 1692/3743 [01:03<01:02, 32.77it/s]"
     ]
    },
    {
     "name": "stdout",
     "output_type": "stream",
     "text": [
      "img/12957.png\n",
      "img/73168.png\n",
      "img/92851.png\n",
      "img/91842.png\n",
      "img/24501.png\n",
      "img/20375.png\n",
      "img/90673.png\n",
      "img/51679.png\n"
     ]
    },
    {
     "name": "stderr",
     "output_type": "stream",
     "text": [
      " 45%|████▌     | 1700/3743 [01:03<01:01, 33.41it/s]"
     ]
    },
    {
     "name": "stdout",
     "output_type": "stream",
     "text": [
      "img/05643.png\n",
      "img/30481.png\n",
      "img/19875.png\n",
      "img/02653.png\n",
      "img/06415.png\n",
      "img/95078.png\n",
      "img/05264.png\n",
      "img/15907.png\n"
     ]
    },
    {
     "name": "stderr",
     "output_type": "stream",
     "text": [
      " 46%|████▌     | 1708/3743 [01:03<00:58, 34.82it/s]"
     ]
    },
    {
     "name": "stdout",
     "output_type": "stream",
     "text": [
      "img/41832.png\n",
      "img/31764.png\n",
      "img/32841.png\n",
      "img/41372.png\n",
      "img/86249.png\n",
      "img/65809.png\n",
      "img/81365.png\n",
      "img/28601.png\n"
     ]
    },
    {
     "name": "stderr",
     "output_type": "stream",
     "text": [
      " 46%|████▌     | 1716/3743 [01:03<01:06, 30.66it/s]"
     ]
    },
    {
     "name": "stdout",
     "output_type": "stream",
     "text": [
      "img/58127.png\n",
      "img/19845.png\n",
      "img/12935.png\n",
      "img/84910.png\n",
      "img/07293.png\n",
      "img/81423.png\n"
     ]
    },
    {
     "name": "stderr",
     "output_type": "stream",
     "text": [
      " 46%|████▌     | 1724/3743 [01:04<01:00, 33.16it/s]"
     ]
    },
    {
     "name": "stdout",
     "output_type": "stream",
     "text": [
      "img/34056.png\n",
      "img/05198.png\n",
      "img/92870.png\n",
      "img/19502.png\n",
      "img/42860.png\n",
      "img/27056.png\n",
      "img/69405.png\n",
      "img/80972.png\n"
     ]
    },
    {
     "name": "stderr",
     "output_type": "stream",
     "text": [
      " 46%|████▋     | 1732/3743 [01:04<00:59, 34.00it/s]"
     ]
    },
    {
     "name": "stdout",
     "output_type": "stream",
     "text": [
      "img/90587.png\n",
      "img/76045.png\n",
      "img/78132.png\n",
      "img/19047.png\n",
      "img/30489.png\n",
      "img/39748.png\n",
      "img/01469.png\n"
     ]
    },
    {
     "name": "stderr",
     "output_type": "stream",
     "text": [
      " 46%|████▋     | 1736/3743 [01:04<00:59, 33.45it/s]"
     ]
    },
    {
     "name": "stdout",
     "output_type": "stream",
     "text": [
      "img/50961.png\n",
      "img/43725.png\n",
      "img/50748.png\n",
      "img/50679.png\n",
      "img/56374.png\n",
      "img/65178.png\n",
      "img/32896.png\n"
     ]
    },
    {
     "name": "stderr",
     "output_type": "stream",
     "text": [
      " 47%|████▋     | 1744/3743 [01:04<00:57, 35.00it/s]"
     ]
    },
    {
     "name": "stdout",
     "output_type": "stream",
     "text": [
      "img/43180.png\n",
      "img/18497.png\n",
      "img/36498.png\n",
      "img/10479.png\n",
      "img/35716.png\n",
      "img/06315.png\n",
      "img/76243.png\n"
     ]
    },
    {
     "name": "stderr",
     "output_type": "stream",
     "text": [
      " 47%|████▋     | 1752/3743 [01:05<01:00, 32.92it/s]"
     ]
    },
    {
     "name": "stdout",
     "output_type": "stream",
     "text": [
      "img/37621.png\n",
      "img/51348.png\n",
      "img/46735.png\n",
      "img/30256.png\n",
      "img/68120.png\n",
      "img/36204.png\n",
      "img/94031.png\n",
      "img/20968.png\n"
     ]
    },
    {
     "name": "stderr",
     "output_type": "stream",
     "text": [
      " 47%|████▋     | 1760/3743 [01:05<01:00, 32.97it/s]"
     ]
    },
    {
     "name": "stdout",
     "output_type": "stream",
     "text": [
      "img/74390.png\n",
      "img/12504.png\n",
      "img/46130.png\n",
      "img/79562.png\n",
      "img/41903.png\n",
      "img/09624.png\n",
      "img/51049.png\n",
      "img/80954.png\n"
     ]
    },
    {
     "name": "stderr",
     "output_type": "stream",
     "text": [
      " 47%|████▋     | 1768/3743 [01:05<00:56, 34.82it/s]"
     ]
    },
    {
     "name": "stdout",
     "output_type": "stream",
     "text": [
      "img/52183.png\n",
      "img/19726.png\n",
      "img/41603.png\n",
      "img/18529.png\n",
      "img/83957.png\n",
      "img/25067.png\n",
      "img/35789.png\n",
      "img/60513.png\n"
     ]
    },
    {
     "name": "stderr",
     "output_type": "stream",
     "text": [
      " 47%|████▋     | 1776/3743 [01:05<00:57, 34.46it/s]"
     ]
    },
    {
     "name": "stdout",
     "output_type": "stream",
     "text": [
      "img/97213.png\n",
      "img/09184.png\n",
      "img/07539.png\n",
      "img/48925.png\n",
      "img/57821.png\n",
      "img/93572.png\n",
      "img/73604.png\n"
     ]
    },
    {
     "name": "stderr",
     "output_type": "stream",
     "text": [
      " 48%|████▊     | 1784/3743 [01:05<00:58, 33.51it/s]"
     ]
    },
    {
     "name": "stdout",
     "output_type": "stream",
     "text": [
      "img/42759.png\n",
      "img/70826.png\n",
      "img/45108.png\n",
      "img/78693.png\n",
      "img/48173.png\n",
      "img/35482.png\n",
      "img/35216.png\n"
     ]
    },
    {
     "name": "stderr",
     "output_type": "stream",
     "text": [
      " 48%|████▊     | 1792/3743 [01:06<00:56, 34.51it/s]"
     ]
    },
    {
     "name": "stdout",
     "output_type": "stream",
     "text": [
      "img/71954.png\n",
      "img/40987.png\n",
      "img/68472.png\n",
      "img/02876.png\n",
      "img/80764.png\n",
      "img/21059.png\n",
      "img/21706.png\n"
     ]
    },
    {
     "name": "stderr",
     "output_type": "stream",
     "text": [
      " 48%|████▊     | 1796/3743 [01:06<00:55, 35.37it/s]"
     ]
    },
    {
     "name": "stdout",
     "output_type": "stream",
     "text": [
      "img/50278.png\n",
      "img/25467.png\n",
      "img/62305.png\n",
      "img/31280.png\n",
      "img/47308.png\n",
      "img/06319.png\n",
      "img/56910.png\n",
      "img/42078.png\n"
     ]
    },
    {
     "name": "stderr",
     "output_type": "stream",
     "text": [
      " 48%|████▊     | 1804/3743 [01:06<01:01, 31.73it/s]"
     ]
    },
    {
     "name": "stdout",
     "output_type": "stream",
     "text": [
      "img/89621.png\n",
      "img/50732.png\n",
      "img/46193.png\n",
      "img/59142.png\n",
      "img/87219.png\n",
      "img/58136.png\n"
     ]
    },
    {
     "name": "stderr",
     "output_type": "stream",
     "text": [
      " 48%|████▊     | 1808/3743 [01:06<01:02, 30.91it/s]"
     ]
    },
    {
     "name": "stdout",
     "output_type": "stream",
     "text": [
      "img/83429.png\n",
      "img/51726.png\n",
      "img/14087.png\n",
      "img/76429.png\n",
      "img/82719.png\n",
      "img/48175.png\n"
     ]
    },
    {
     "name": "stderr",
     "output_type": "stream",
     "text": [
      " 48%|████▊     | 1815/3743 [01:06<01:09, 27.76it/s]"
     ]
    },
    {
     "name": "stdout",
     "output_type": "stream",
     "text": [
      "img/27836.png\n",
      "img/82943.png\n",
      "img/42897.png\n",
      "img/51086.png\n",
      "img/73984.png\n",
      "img/35087.png\n"
     ]
    },
    {
     "name": "stderr",
     "output_type": "stream",
     "text": [
      " 49%|████▊     | 1822/3743 [01:07<01:08, 27.97it/s]"
     ]
    },
    {
     "name": "stdout",
     "output_type": "stream",
     "text": [
      "img/16048.png\n",
      "img/31209.png\n",
      "img/47029.png\n",
      "img/08163.png\n",
      "img/70492.png\n",
      "img/49685.png\n"
     ]
    },
    {
     "name": "stderr",
     "output_type": "stream",
     "text": [
      " 49%|████▉     | 1828/3743 [01:07<01:13, 26.23it/s]"
     ]
    },
    {
     "name": "stdout",
     "output_type": "stream",
     "text": [
      "img/32540.png\n",
      "img/21589.png\n",
      "img/13976.png\n",
      "img/58023.png\n",
      "img/01235.png\n"
     ]
    },
    {
     "name": "stderr",
     "output_type": "stream",
     "text": [
      " 49%|████▉     | 1835/3743 [01:07<01:08, 27.85it/s]"
     ]
    },
    {
     "name": "stdout",
     "output_type": "stream",
     "text": [
      "img/52863.png\n",
      "img/20371.png\n",
      "img/06795.png\n",
      "img/36821.png\n",
      "img/21780.png\n",
      "img/10579.png\n",
      "img/63850.png\n"
     ]
    },
    {
     "name": "stderr",
     "output_type": "stream",
     "text": [
      " 49%|████▉     | 1839/3743 [01:07<01:03, 30.08it/s]"
     ]
    },
    {
     "name": "stdout",
     "output_type": "stream",
     "text": [
      "img/71509.png\n",
      "img/27153.png\n",
      "img/78260.png\n",
      "img/86250.png\n",
      "img/51864.png\n",
      "img/56721.png\n",
      "img/09268.png\n"
     ]
    },
    {
     "name": "stderr",
     "output_type": "stream",
     "text": [
      " 49%|████▉     | 1847/3743 [01:08<01:02, 30.35it/s]"
     ]
    },
    {
     "name": "stdout",
     "output_type": "stream",
     "text": [
      "img/05784.png\n",
      "img/50834.png\n",
      "img/97845.png\n",
      "img/67058.png\n",
      "img/47096.png\n",
      "img/45603.png\n",
      "img/52487.png\n"
     ]
    },
    {
     "name": "stderr",
     "output_type": "stream",
     "text": [
      " 50%|████▉     | 1855/3743 [01:08<01:04, 29.16it/s]"
     ]
    },
    {
     "name": "stdout",
     "output_type": "stream",
     "text": [
      "img/52386.png\n",
      "img/42806.png\n",
      "img/90413.png\n",
      "img/74563.png\n",
      "img/19026.png\n",
      "img/09374.png\n",
      "img/08375.png\n"
     ]
    },
    {
     "name": "stderr",
     "output_type": "stream",
     "text": [
      " 50%|████▉     | 1861/3743 [01:08<01:10, 26.52it/s]"
     ]
    },
    {
     "name": "stdout",
     "output_type": "stream",
     "text": [
      "img/49682.png\n",
      "img/46753.png\n",
      "img/78923.png\n",
      "img/96524.png\n",
      "img/43217.png\n",
      "img/04791.png\n"
     ]
    },
    {
     "name": "stderr",
     "output_type": "stream",
     "text": [
      " 50%|████▉     | 1869/3743 [01:08<01:00, 30.96it/s]"
     ]
    },
    {
     "name": "stdout",
     "output_type": "stream",
     "text": [
      "img/67980.png\n",
      "img/94078.png\n",
      "img/18507.png\n",
      "img/70429.png\n",
      "img/01256.png\n",
      "img/56907.png\n",
      "img/47530.png\n",
      "img/49671.png\n"
     ]
    },
    {
     "name": "stderr",
     "output_type": "stream",
     "text": [
      " 50%|█████     | 1877/3743 [01:09<00:54, 33.95it/s]"
     ]
    },
    {
     "name": "stdout",
     "output_type": "stream",
     "text": [
      "img/13548.png\n",
      "img/70169.png\n",
      "img/35781.png\n",
      "img/01487.png\n",
      "img/92407.png\n",
      "img/58490.png\n",
      "img/20718.png\n",
      "img/25197.png\n"
     ]
    },
    {
     "name": "stderr",
     "output_type": "stream",
     "text": [
      " 50%|█████     | 1885/3743 [01:09<00:53, 34.67it/s]"
     ]
    },
    {
     "name": "stdout",
     "output_type": "stream",
     "text": [
      "img/06482.png\n",
      "img/82413.png\n",
      "img/79352.png\n",
      "img/03257.png\n",
      "img/34751.png\n",
      "img/96307.png\n",
      "img/78315.png\n",
      "img/31085.png\n"
     ]
    },
    {
     "name": "stderr",
     "output_type": "stream",
     "text": [
      " 51%|█████     | 1894/3743 [01:09<00:50, 36.49it/s]"
     ]
    },
    {
     "name": "stdout",
     "output_type": "stream",
     "text": [
      "img/84592.png\n",
      "img/02674.png\n",
      "img/43920.png\n",
      "img/98412.png\n",
      "img/16389.png\n",
      "img/26543.png\n",
      "img/28391.png\n",
      "img/05749.png\n",
      "img/81457.png\n",
      "img/39408.png\n",
      "img/26087.png\n"
     ]
    },
    {
     "name": "stderr",
     "output_type": "stream",
     "text": [
      " 51%|█████     | 1901/3743 [01:10<01:28, 20.83it/s]"
     ]
    },
    {
     "name": "stdout",
     "output_type": "stream",
     "text": [
      "img/59832.png\n",
      "img/83602.png\n",
      "img/30692.png\n",
      "img/83271.png\n"
     ]
    },
    {
     "name": "stderr",
     "output_type": "stream",
     "text": [
      " 51%|█████     | 1904/3743 [01:10<01:42, 17.95it/s]"
     ]
    },
    {
     "name": "stdout",
     "output_type": "stream",
     "text": [
      "img/39056.png\n",
      "img/51462.png\n",
      "img/35764.png\n"
     ]
    },
    {
     "name": "stderr",
     "output_type": "stream",
     "text": [
      " 51%|█████     | 1907/3743 [01:10<01:40, 18.21it/s]"
     ]
    },
    {
     "name": "stdout",
     "output_type": "stream",
     "text": [
      "img/79125.png\n",
      "img/27591.png\n",
      "img/17425.png\n",
      "img/04217.png\n"
     ]
    },
    {
     "name": "stderr",
     "output_type": "stream",
     "text": [
      " 51%|█████     | 1910/3743 [01:10<02:04, 14.71it/s]"
     ]
    },
    {
     "name": "stdout",
     "output_type": "stream",
     "text": [
      "img/81079.png\n",
      "img/17052.png\n",
      "img/29841.png\n",
      "img/26340.png\n"
     ]
    },
    {
     "name": "stderr",
     "output_type": "stream",
     "text": [
      " 51%|█████     | 1916/3743 [01:10<01:45, 17.37it/s]"
     ]
    },
    {
     "name": "stdout",
     "output_type": "stream",
     "text": [
      "img/49285.png\n",
      "img/30185.png\n",
      "img/71530.png\n",
      "img/70123.png\n",
      "img/54690.png\n"
     ]
    },
    {
     "name": "stderr",
     "output_type": "stream",
     "text": [
      " 51%|█████▏    | 1921/3743 [01:11<01:34, 19.23it/s]"
     ]
    },
    {
     "name": "stdout",
     "output_type": "stream",
     "text": [
      "img/87604.png\n",
      "img/71450.png\n",
      "img/59601.png\n",
      "img/60913.png\n",
      "img/83206.png\n"
     ]
    },
    {
     "name": "stderr",
     "output_type": "stream",
     "text": [
      " 51%|█████▏    | 1924/3743 [01:11<01:30, 20.10it/s]"
     ]
    },
    {
     "name": "stdout",
     "output_type": "stream",
     "text": [
      "img/72361.png\n",
      "img/76539.png\n",
      "img/09387.png\n",
      "img/16734.png\n"
     ]
    },
    {
     "name": "stderr",
     "output_type": "stream",
     "text": [
      " 51%|█████▏    | 1927/3743 [01:11<01:35, 19.09it/s]"
     ]
    },
    {
     "name": "stdout",
     "output_type": "stream",
     "text": [
      "img/70592.png\n",
      "img/38761.png\n"
     ]
    },
    {
     "name": "stderr",
     "output_type": "stream",
     "text": [
      " 52%|█████▏    | 1931/3743 [01:11<02:15, 13.38it/s]"
     ]
    },
    {
     "name": "stdout",
     "output_type": "stream",
     "text": [
      "img/01497.png\n",
      "img/94067.png\n",
      "img/67492.png\n",
      "img/07452.png\n",
      "img/29506.png\n"
     ]
    },
    {
     "name": "stderr",
     "output_type": "stream",
     "text": [
      " 52%|█████▏    | 1936/3743 [01:12<02:07, 14.16it/s]"
     ]
    },
    {
     "name": "stdout",
     "output_type": "stream",
     "text": [
      "img/78492.png\n",
      "img/83914.png\n",
      "img/61743.png\n"
     ]
    },
    {
     "name": "stderr",
     "output_type": "stream",
     "text": [
      " 52%|█████▏    | 1939/3743 [01:12<01:54, 15.77it/s]"
     ]
    },
    {
     "name": "stdout",
     "output_type": "stream",
     "text": [
      "img/40756.png\n",
      "img/02854.png\n",
      "img/52036.png\n",
      "img/61932.png\n",
      "img/73498.png\n"
     ]
    },
    {
     "name": "stderr",
     "output_type": "stream",
     "text": [
      " 52%|█████▏    | 1944/3743 [01:12<02:04, 14.39it/s]"
     ]
    },
    {
     "name": "stdout",
     "output_type": "stream",
     "text": [
      "img/08695.png\n",
      "img/39051.png\n",
      "img/59470.png\n"
     ]
    },
    {
     "name": "stderr",
     "output_type": "stream",
     "text": [
      " 52%|█████▏    | 1946/3743 [01:12<02:08, 13.99it/s]"
     ]
    },
    {
     "name": "stdout",
     "output_type": "stream",
     "text": [
      "img/46357.png\n",
      "img/09527.png\n",
      "img/19637.png\n"
     ]
    },
    {
     "name": "stderr",
     "output_type": "stream",
     "text": [
      " 52%|█████▏    | 1951/3743 [01:13<02:03, 14.53it/s]"
     ]
    },
    {
     "name": "stdout",
     "output_type": "stream",
     "text": [
      "img/50746.png\n",
      "img/56843.png\n",
      "img/97402.png\n",
      "img/81203.png\n",
      "img/30168.png\n"
     ]
    },
    {
     "name": "stderr",
     "output_type": "stream",
     "text": [
      " 52%|█████▏    | 1956/3743 [01:13<01:50, 16.16it/s]"
     ]
    },
    {
     "name": "stdout",
     "output_type": "stream",
     "text": [
      "img/24806.png\n",
      "img/23615.png\n",
      "img/18469.png\n",
      "img/21394.png\n"
     ]
    },
    {
     "name": "stderr",
     "output_type": "stream",
     "text": [
      " 52%|█████▏    | 1959/3743 [01:13<01:40, 17.68it/s]"
     ]
    },
    {
     "name": "stdout",
     "output_type": "stream",
     "text": [
      "img/59462.png\n",
      "img/23467.png\n",
      "img/10528.png\n",
      "img/75960.png\n",
      "img/90625.png\n"
     ]
    },
    {
     "name": "stderr",
     "output_type": "stream",
     "text": [
      " 52%|█████▏    | 1962/3743 [01:13<01:43, 17.27it/s]"
     ]
    },
    {
     "name": "stdout",
     "output_type": "stream",
     "text": [
      "img/72956.png\n",
      "img/21769.png\n"
     ]
    },
    {
     "name": "stderr",
     "output_type": "stream",
     "text": [
      " 53%|█████▎    | 1966/3743 [01:14<01:58, 15.01it/s]"
     ]
    },
    {
     "name": "stdout",
     "output_type": "stream",
     "text": [
      "img/78293.png\n",
      "img/07125.png\n",
      "img/72946.png\n"
     ]
    },
    {
     "name": "stderr",
     "output_type": "stream",
     "text": [
      " 53%|█████▎    | 1970/3743 [01:14<02:01, 14.54it/s]"
     ]
    },
    {
     "name": "stdout",
     "output_type": "stream",
     "text": [
      "img/86031.png\n",
      "img/23657.png\n",
      "img/82367.png\n",
      "img/16903.png\n"
     ]
    },
    {
     "name": "stderr",
     "output_type": "stream",
     "text": [
      " 53%|█████▎    | 1974/3743 [01:14<01:48, 16.23it/s]"
     ]
    },
    {
     "name": "stdout",
     "output_type": "stream",
     "text": [
      "img/86543.png\n",
      "img/98657.png\n",
      "img/19634.png\n",
      "img/37298.png\n"
     ]
    },
    {
     "name": "stderr",
     "output_type": "stream",
     "text": [
      " 53%|█████▎    | 1978/3743 [01:14<01:45, 16.68it/s]"
     ]
    },
    {
     "name": "stdout",
     "output_type": "stream",
     "text": [
      "img/14892.png\n",
      "img/52918.png\n",
      "img/95278.png\n",
      "img/57962.png\n"
     ]
    },
    {
     "name": "stderr",
     "output_type": "stream",
     "text": [
      " 53%|█████▎    | 1982/3743 [01:15<01:39, 17.68it/s]"
     ]
    },
    {
     "name": "stdout",
     "output_type": "stream",
     "text": [
      "img/09814.png\n",
      "img/96701.png\n",
      "img/76239.png\n",
      "img/36982.png\n"
     ]
    },
    {
     "name": "stderr",
     "output_type": "stream",
     "text": [
      " 53%|█████▎    | 1987/3743 [01:15<01:31, 19.28it/s]"
     ]
    },
    {
     "name": "stdout",
     "output_type": "stream",
     "text": [
      "img/75193.png\n",
      "img/09518.png\n",
      "img/69012.png\n",
      "img/45207.png\n",
      "img/86104.png\n"
     ]
    },
    {
     "name": "stderr",
     "output_type": "stream",
     "text": [
      " 53%|█████▎    | 1990/3743 [01:15<01:27, 20.05it/s]"
     ]
    },
    {
     "name": "stdout",
     "output_type": "stream",
     "text": [
      "img/03254.png\n",
      "img/73091.png\n",
      "img/61840.png\n",
      "img/87165.png\n"
     ]
    },
    {
     "name": "stderr",
     "output_type": "stream",
     "text": [
      " 53%|█████▎    | 1993/3743 [01:15<01:30, 19.25it/s]"
     ]
    },
    {
     "name": "stdout",
     "output_type": "stream",
     "text": [
      "img/12490.png\n",
      "img/83549.png\n",
      "img/41298.png\n",
      "img/47506.png\n"
     ]
    },
    {
     "name": "stderr",
     "output_type": "stream",
     "text": [
      " 53%|█████▎    | 1998/3743 [01:15<01:45, 16.56it/s]"
     ]
    },
    {
     "name": "stdout",
     "output_type": "stream",
     "text": [
      "img/63042.png\n",
      "img/36850.png\n",
      "img/48516.png\n",
      "img/76583.png\n"
     ]
    },
    {
     "name": "stderr",
     "output_type": "stream",
     "text": [
      " 53%|█████▎    | 2002/3743 [01:16<01:47, 16.16it/s]"
     ]
    },
    {
     "name": "stdout",
     "output_type": "stream",
     "text": [
      "img/13902.png\n",
      "img/02581.png\n",
      "img/06897.png\n",
      "img/98726.png\n"
     ]
    },
    {
     "name": "stderr",
     "output_type": "stream",
     "text": [
      " 54%|█████▎    | 2006/3743 [01:16<01:43, 16.72it/s]"
     ]
    },
    {
     "name": "stdout",
     "output_type": "stream",
     "text": [
      "img/67298.png\n",
      "img/96513.png\n",
      "img/15043.png\n",
      "img/35794.png\n"
     ]
    },
    {
     "name": "stderr",
     "output_type": "stream",
     "text": [
      " 54%|█████▍    | 2012/3743 [01:16<01:30, 19.17it/s]"
     ]
    },
    {
     "name": "stdout",
     "output_type": "stream",
     "text": [
      "img/87059.png\n",
      "img/94732.png\n",
      "img/64287.png\n",
      "img/76435.png\n",
      "img/03472.png\n"
     ]
    },
    {
     "name": "stderr",
     "output_type": "stream",
     "text": [
      " 54%|█████▍    | 2014/3743 [01:16<01:29, 19.36it/s]"
     ]
    },
    {
     "name": "stdout",
     "output_type": "stream",
     "text": [
      "img/29438.png\n",
      "img/07218.png\n",
      "img/30567.png\n"
     ]
    },
    {
     "name": "stderr",
     "output_type": "stream",
     "text": [
      " 54%|█████▍    | 2016/3743 [01:16<01:52, 15.42it/s]"
     ]
    },
    {
     "name": "stdout",
     "output_type": "stream",
     "text": [
      "img/17290.png\n"
     ]
    },
    {
     "name": "stderr",
     "output_type": "stream",
     "text": [
      " 54%|█████▍    | 2018/3743 [01:17<02:32, 11.31it/s]"
     ]
    },
    {
     "name": "stdout",
     "output_type": "stream",
     "text": [
      "img/79846.png\n",
      "img/20867.png\n",
      "img/47359.png\n"
     ]
    },
    {
     "name": "stderr",
     "output_type": "stream",
     "text": [
      " 54%|█████▍    | 2022/3743 [01:17<02:21, 12.19it/s]"
     ]
    },
    {
     "name": "stdout",
     "output_type": "stream",
     "text": [
      "img/84502.png\n",
      "img/42105.png\n",
      "img/38419.png\n"
     ]
    },
    {
     "name": "stderr",
     "output_type": "stream",
     "text": [
      " 54%|█████▍    | 2024/3743 [01:17<02:17, 12.47it/s]"
     ]
    },
    {
     "name": "stdout",
     "output_type": "stream",
     "text": [
      "img/26057.png\n",
      "img/91674.png\n",
      "img/41092.png\n"
     ]
    },
    {
     "name": "stderr",
     "output_type": "stream",
     "text": [
      " 54%|█████▍    | 2028/3743 [01:18<02:12, 12.90it/s]"
     ]
    },
    {
     "name": "stdout",
     "output_type": "stream",
     "text": [
      "img/50124.png\n",
      "img/34567.png\n",
      "img/69450.png\n"
     ]
    },
    {
     "name": "stderr",
     "output_type": "stream",
     "text": [
      " 54%|█████▍    | 2032/3743 [01:18<01:51, 15.39it/s]"
     ]
    },
    {
     "name": "stdout",
     "output_type": "stream",
     "text": [
      "img/94068.png\n",
      "img/86750.png\n",
      "img/87054.png\n",
      "img/36748.png\n",
      "img/29735.png"
     ]
    },
    {
     "name": "stderr",
     "output_type": "stream",
     "text": [
      " 54%|█████▍    | 2034/3743 [01:18<01:53, 15.06it/s]"
     ]
    },
    {
     "name": "stdout",
     "output_type": "stream",
     "text": [
      "\n",
      "img/91476.png\n",
      "img/65073.png\n"
     ]
    },
    {
     "name": "stderr",
     "output_type": "stream",
     "text": [
      " 54%|█████▍    | 2038/3743 [01:18<01:57, 14.50it/s]"
     ]
    },
    {
     "name": "stdout",
     "output_type": "stream",
     "text": [
      "img/19537.png\n",
      "img/41057.png\n",
      "img/21453.png\n",
      "img/96204.png\n"
     ]
    },
    {
     "name": "stderr",
     "output_type": "stream",
     "text": [
      " 55%|█████▍    | 2042/3743 [01:19<02:10, 13.00it/s]"
     ]
    },
    {
     "name": "stdout",
     "output_type": "stream",
     "text": [
      "img/54981.png\n",
      "img/15734.png\n",
      "img/34897.png\n",
      "img/13046.png\n"
     ]
    },
    {
     "name": "stderr",
     "output_type": "stream",
     "text": [
      " 55%|█████▍    | 2044/3743 [01:19<01:58, 14.33it/s]"
     ]
    },
    {
     "name": "stdout",
     "output_type": "stream",
     "text": [
      "img/18632.png\n",
      "img/10436.png\n"
     ]
    },
    {
     "name": "stderr",
     "output_type": "stream",
     "text": [
      " 55%|█████▍    | 2048/3743 [01:19<02:06, 13.43it/s]"
     ]
    },
    {
     "name": "stdout",
     "output_type": "stream",
     "text": [
      "img/15270.png\n",
      "img/26835.png\n",
      "img/57913.png\n",
      "img/31657.png\n",
      "img/49120.png\n"
     ]
    },
    {
     "name": "stderr",
     "output_type": "stream",
     "text": [
      " 55%|█████▍    | 2053/3743 [01:19<01:50, 15.24it/s]"
     ]
    },
    {
     "name": "stdout",
     "output_type": "stream",
     "text": [
      "img/57034.png\n",
      "img/18290.png\n",
      "img/67541.png\n",
      "img/48051.png\n"
     ]
    },
    {
     "name": "stderr",
     "output_type": "stream",
     "text": [
      " 55%|█████▍    | 2058/3743 [01:20<02:01, 13.85it/s]"
     ]
    },
    {
     "name": "stdout",
     "output_type": "stream",
     "text": [
      "img/48579.png\n",
      "img/85146.png\n",
      "img/67581.png\n",
      "img/70395.png\n"
     ]
    },
    {
     "name": "stderr",
     "output_type": "stream",
     "text": [
      " 55%|█████▌    | 2063/3743 [01:20<01:46, 15.80it/s]"
     ]
    },
    {
     "name": "stdout",
     "output_type": "stream",
     "text": [
      "img/35170.png\n",
      "img/61580.png\n",
      "img/59370.png\n",
      "img/87902.png\n",
      "img/08962.png\n"
     ]
    },
    {
     "name": "stderr",
     "output_type": "stream",
     "text": [
      " 55%|█████▌    | 2065/3743 [01:20<01:56, 14.44it/s]"
     ]
    },
    {
     "name": "stdout",
     "output_type": "stream",
     "text": [
      "img/14829.png\n",
      "img/16297.png\n"
     ]
    },
    {
     "name": "stderr",
     "output_type": "stream",
     "text": [
      " 55%|█████▌    | 2067/3743 [01:20<02:07, 13.15it/s]"
     ]
    },
    {
     "name": "stdout",
     "output_type": "stream",
     "text": [
      "img/43569.png\n",
      "img/20681.png\n",
      "img/12034.png\n"
     ]
    },
    {
     "name": "stderr",
     "output_type": "stream",
     "text": [
      " 55%|█████▌    | 2071/3743 [01:20<01:47, 15.52it/s]"
     ]
    },
    {
     "name": "stdout",
     "output_type": "stream",
     "text": [
      "img/52607.png\n",
      "img/30918.png\n",
      "img/10389.png\n",
      "img/35178.png\n"
     ]
    },
    {
     "name": "stderr",
     "output_type": "stream",
     "text": [
      " 55%|█████▌    | 2076/3743 [01:21<01:43, 16.15it/s]"
     ]
    },
    {
     "name": "stdout",
     "output_type": "stream",
     "text": [
      "img/68342.png\n",
      "img/06519.png\n",
      "img/69327.png\n",
      "img/47926.png\n"
     ]
    },
    {
     "name": "stderr",
     "output_type": "stream",
     "text": [
      " 56%|█████▌    | 2079/3743 [01:21<01:47, 15.47it/s]"
     ]
    },
    {
     "name": "stdout",
     "output_type": "stream",
     "text": [
      "img/40375.png\n",
      "img/71920.png\n",
      "img/96301.png\n"
     ]
    },
    {
     "name": "stderr",
     "output_type": "stream",
     "text": [
      " 56%|█████▌    | 2081/3743 [01:21<01:45, 15.81it/s]"
     ]
    },
    {
     "name": "stdout",
     "output_type": "stream",
     "text": [
      "img/78564.png\n",
      "img/67438.png\n",
      "img/19532.png\n"
     ]
    },
    {
     "name": "stderr",
     "output_type": "stream",
     "text": [
      " 56%|█████▌    | 2086/3743 [01:21<01:47, 15.36it/s]"
     ]
    },
    {
     "name": "stdout",
     "output_type": "stream",
     "text": [
      "img/20837.png\n",
      "img/29351.png\n",
      "img/76850.png\n",
      "img/70126.png\n"
     ]
    },
    {
     "name": "stderr",
     "output_type": "stream",
     "text": [
      " 56%|█████▌    | 2088/3743 [01:22<01:43, 15.99it/s]"
     ]
    },
    {
     "name": "stdout",
     "output_type": "stream",
     "text": [
      "img/29075.png\n",
      "img/08173.png\n",
      "img/61892.png\n",
      "img/40297.png\n"
     ]
    },
    {
     "name": "stderr",
     "output_type": "stream",
     "text": [
      " 56%|█████▌    | 2093/3743 [01:22<01:32, 17.84it/s]"
     ]
    },
    {
     "name": "stdout",
     "output_type": "stream",
     "text": [
      "img/95821.png\n",
      "img/59623.png\n",
      "img/95427.png\n",
      "img/40871.png\n",
      "img/12389.png\n"
     ]
    },
    {
     "name": "stderr",
     "output_type": "stream",
     "text": [
      " 56%|█████▌    | 2098/3743 [01:22<01:46, 15.43it/s]"
     ]
    },
    {
     "name": "stdout",
     "output_type": "stream",
     "text": [
      "img/87190.png\n",
      "img/39156.png\n",
      "img/89423.png\n"
     ]
    },
    {
     "name": "stderr",
     "output_type": "stream",
     "text": [
      " 56%|█████▌    | 2103/3743 [01:22<01:44, 15.76it/s]"
     ]
    },
    {
     "name": "stdout",
     "output_type": "stream",
     "text": [
      "img/26438.png\n",
      "img/47920.png\n",
      "img/84521.png\n",
      "img/28973.png\n",
      "img/53694.png\n"
     ]
    },
    {
     "name": "stderr",
     "output_type": "stream",
     "text": [
      " 56%|█████▋    | 2106/3743 [01:23<01:33, 17.59it/s]"
     ]
    },
    {
     "name": "stdout",
     "output_type": "stream",
     "text": [
      "img/14276.png\n",
      "img/31256.png\n",
      "img/45819.png\n",
      "img/78192.png\n",
      "img/68094.png\n"
     ]
    },
    {
     "name": "stderr",
     "output_type": "stream",
     "text": [
      " 56%|█████▋    | 2112/3743 [01:23<01:25, 19.15it/s]"
     ]
    },
    {
     "name": "stdout",
     "output_type": "stream",
     "text": [
      "img/20948.png\n",
      "img/01546.png\n",
      "img/74021.png\n",
      "img/39470.png\n",
      "img/96213.png\n"
     ]
    },
    {
     "name": "stderr",
     "output_type": "stream",
     "text": [
      " 57%|█████▋    | 2117/3743 [01:23<01:33, 17.45it/s]"
     ]
    },
    {
     "name": "stdout",
     "output_type": "stream",
     "text": [
      "img/49856.png\n",
      "img/27068.png\n",
      "img/08251.png\n",
      "img/19268.png\n"
     ]
    },
    {
     "name": "stderr",
     "output_type": "stream",
     "text": [
      " 57%|█████▋    | 2120/3743 [01:23<01:27, 18.48it/s]"
     ]
    },
    {
     "name": "stdout",
     "output_type": "stream",
     "text": [
      "img/59621.png\n",
      "img/36248.png\n",
      "img/52479.png\n",
      "img/54927.png\n"
     ]
    },
    {
     "name": "stderr",
     "output_type": "stream",
     "text": [
      " 57%|█████▋    | 2124/3743 [01:24<01:33, 17.30it/s]"
     ]
    },
    {
     "name": "stdout",
     "output_type": "stream",
     "text": [
      "img/13095.png\n",
      "img/31586.png\n",
      "img/68025.png\n",
      "img/68913.png\n"
     ]
    },
    {
     "name": "stderr",
     "output_type": "stream",
     "text": [
      " 57%|█████▋    | 2128/3743 [01:24<02:00, 13.42it/s]"
     ]
    },
    {
     "name": "stdout",
     "output_type": "stream",
     "text": [
      "img/59316.png\n",
      "img/13428.png\n",
      "img/24783.png\n",
      "img/78903.png\n"
     ]
    },
    {
     "name": "stderr",
     "output_type": "stream",
     "text": [
      " 57%|█████▋    | 2131/3743 [01:24<01:46, 15.16it/s]"
     ]
    },
    {
     "name": "stdout",
     "output_type": "stream",
     "text": [
      "img/65392.png\n",
      "img/28617.png\n",
      "img/27563.png\n"
     ]
    },
    {
     "name": "stderr",
     "output_type": "stream",
     "text": [
      " 57%|█████▋    | 2135/3743 [01:24<01:44, 15.34it/s]"
     ]
    },
    {
     "name": "stdout",
     "output_type": "stream",
     "text": [
      "img/23759.png\n",
      "img/26905.png\n",
      "img/08471.png\n"
     ]
    },
    {
     "name": "stderr",
     "output_type": "stream",
     "text": [
      " 57%|█████▋    | 2139/3743 [01:25<01:47, 14.90it/s]"
     ]
    },
    {
     "name": "stdout",
     "output_type": "stream",
     "text": [
      "img/94017.png\n",
      "img/65308.png\n",
      "img/35948.png\n",
      "img/50438.png\n"
     ]
    },
    {
     "name": "stderr",
     "output_type": "stream",
     "text": [
      " 57%|█████▋    | 2141/3743 [01:25<01:52, 14.23it/s]"
     ]
    },
    {
     "name": "stdout",
     "output_type": "stream",
     "text": [
      "img/16254.png\n",
      "img/81540.png\n",
      "img/90748.png\n"
     ]
    },
    {
     "name": "stderr",
     "output_type": "stream",
     "text": [
      " 57%|█████▋    | 2146/3743 [01:25<01:48, 14.73it/s]"
     ]
    },
    {
     "name": "stdout",
     "output_type": "stream",
     "text": [
      "img/89034.png\n",
      "img/73164.png\n",
      "img/02764.png\n",
      "img/95763.png\n"
     ]
    },
    {
     "name": "stderr",
     "output_type": "stream",
     "text": [
      " 57%|█████▋    | 2151/3743 [01:25<01:32, 17.14it/s]"
     ]
    },
    {
     "name": "stdout",
     "output_type": "stream",
     "text": [
      "img/90247.png\n",
      "img/68503.png\n",
      "img/19503.png\n",
      "img/14082.png\n",
      "img/85324.png\n"
     ]
    },
    {
     "name": "stderr",
     "output_type": "stream",
     "text": [
      " 58%|█████▊    | 2156/3743 [01:26<01:28, 17.86it/s]"
     ]
    },
    {
     "name": "stdout",
     "output_type": "stream",
     "text": [
      "img/84596.png\n",
      "img/36872.png\n",
      "img/74520.png\n",
      "img/25107.png\n",
      "img/72084.png\n"
     ]
    },
    {
     "name": "stderr",
     "output_type": "stream",
     "text": [
      " 58%|█████▊    | 2158/3743 [01:26<01:38, 16.02it/s]"
     ]
    },
    {
     "name": "stdout",
     "output_type": "stream",
     "text": [
      "img/72654.png\n",
      "img/08657.png\n"
     ]
    },
    {
     "name": "stderr",
     "output_type": "stream",
     "text": [
      " 58%|█████▊    | 2160/3743 [01:26<01:39, 15.93it/s]"
     ]
    },
    {
     "name": "stdout",
     "output_type": "stream",
     "text": [
      "img/40819.png\n",
      "img/83024.png\n",
      "img/08617.png\n",
      "img/53492.png\n"
     ]
    },
    {
     "name": "stderr",
     "output_type": "stream",
     "text": [
      " 58%|█████▊    | 2166/3743 [01:26<01:36, 16.31it/s]"
     ]
    },
    {
     "name": "stdout",
     "output_type": "stream",
     "text": [
      "img/64078.png\n",
      "img/30165.png\n",
      "img/64207.png\n",
      "img/69402.png\n",
      "img/08793.png\n"
     ]
    },
    {
     "name": "stderr",
     "output_type": "stream",
     "text": [
      " 58%|█████▊    | 2171/3743 [01:27<02:02, 12.79it/s]"
     ]
    },
    {
     "name": "stdout",
     "output_type": "stream",
     "text": [
      "img/15642.png\n",
      "img/91234.png\n",
      "img/86725.png\n",
      "img/47159.png\n",
      "img/36542.png\n"
     ]
    },
    {
     "name": "stderr",
     "output_type": "stream",
     "text": [
      " 58%|█████▊    | 2176/3743 [01:27<02:21, 11.11it/s]"
     ]
    },
    {
     "name": "stdout",
     "output_type": "stream",
     "text": [
      "img/29137.png\n",
      "img/42065.png\n",
      "img/87620.png\n",
      "img/17306.png\n"
     ]
    },
    {
     "name": "stderr",
     "output_type": "stream",
     "text": [
      " 58%|█████▊    | 2178/3743 [01:27<02:13, 11.70it/s]"
     ]
    },
    {
     "name": "stdout",
     "output_type": "stream",
     "text": [
      "img/10453.png\n",
      "img/69804.png\n",
      "img/91056.png\n"
     ]
    },
    {
     "name": "stderr",
     "output_type": "stream",
     "text": [
      " 58%|█████▊    | 2182/3743 [01:28<02:00, 12.97it/s]"
     ]
    },
    {
     "name": "stdout",
     "output_type": "stream",
     "text": [
      "img/35802.png\n",
      "img/62578.png\n",
      "img/24971.png\n",
      "img/34097.png\n"
     ]
    },
    {
     "name": "stderr",
     "output_type": "stream",
     "text": [
      " 58%|█████▊    | 2186/3743 [01:28<01:46, 14.65it/s]"
     ]
    },
    {
     "name": "stdout",
     "output_type": "stream",
     "text": [
      "img/57638.png\n",
      "img/40321.png\n",
      "img/73480.png\n",
      "img/75269.png\n"
     ]
    },
    {
     "name": "stderr",
     "output_type": "stream",
     "text": [
      " 59%|█████▊    | 2191/3743 [01:28<01:36, 16.03it/s]"
     ]
    },
    {
     "name": "stdout",
     "output_type": "stream",
     "text": [
      "img/41208.png\n",
      "img/45802.png\n",
      "img/37924.png\n",
      "img/76134.png\n"
     ]
    },
    {
     "name": "stderr",
     "output_type": "stream",
     "text": [
      " 59%|█████▊    | 2195/3743 [01:28<01:32, 16.73it/s]"
     ]
    },
    {
     "name": "stdout",
     "output_type": "stream",
     "text": [
      "img/92437.png\n",
      "img/15427.png\n",
      "img/17082.png\n",
      "img/61438.png\n"
     ]
    },
    {
     "name": "stderr",
     "output_type": "stream",
     "text": [
      " 59%|█████▊    | 2197/3743 [01:29<01:40, 15.34it/s]"
     ]
    },
    {
     "name": "stdout",
     "output_type": "stream",
     "text": [
      "img/43178.png\n",
      "img/12657.png\n",
      "img/89146.png\n"
     ]
    },
    {
     "name": "stderr",
     "output_type": "stream",
     "text": [
      " 59%|█████▉    | 2201/3743 [01:29<01:51, 13.78it/s]"
     ]
    },
    {
     "name": "stdout",
     "output_type": "stream",
     "text": [
      "img/69380.png\n",
      "img/61089.png\n",
      "img/38271.png\n"
     ]
    },
    {
     "name": "stderr",
     "output_type": "stream",
     "text": [
      " 59%|█████▉    | 2206/3743 [01:29<01:30, 16.92it/s]"
     ]
    },
    {
     "name": "stdout",
     "output_type": "stream",
     "text": [
      "img/29476.png\n",
      "img/73465.png\n",
      "img/84327.png\n",
      "img/54608.png\n",
      "img/21309.png\n"
     ]
    },
    {
     "name": "stderr",
     "output_type": "stream",
     "text": [
      " 59%|█████▉    | 2209/3743 [01:29<01:29, 17.20it/s]"
     ]
    },
    {
     "name": "stdout",
     "output_type": "stream",
     "text": [
      "img/45810.png\n",
      "img/03291.png\n",
      "img/89504.png\n",
      "img/85930.png\n"
     ]
    },
    {
     "name": "stderr",
     "output_type": "stream",
     "text": [
      " 59%|█████▉    | 2211/3743 [01:29<01:35, 15.97it/s]"
     ]
    },
    {
     "name": "stdout",
     "output_type": "stream",
     "text": [
      "img/45267.png\n",
      "img/36025.png\n"
     ]
    },
    {
     "name": "stderr",
     "output_type": "stream",
     "text": [
      " 59%|█████▉    | 2216/3743 [01:30<01:42, 14.93it/s]"
     ]
    },
    {
     "name": "stdout",
     "output_type": "stream",
     "text": [
      "img/45167.png\n",
      "img/83504.png\n",
      "img/16723.png\n",
      "img/36957.png\n",
      "img/58706.png\n"
     ]
    },
    {
     "name": "stderr",
     "output_type": "stream",
     "text": [
      " 59%|█████▉    | 2219/3743 [01:30<01:39, 15.37it/s]"
     ]
    },
    {
     "name": "stdout",
     "output_type": "stream",
     "text": [
      "img/21637.png\n",
      "img/70183.png\n",
      "img/32106.png\n"
     ]
    },
    {
     "name": "stderr",
     "output_type": "stream",
     "text": [
      " 59%|█████▉    | 2223/3743 [01:30<01:35, 15.84it/s]"
     ]
    },
    {
     "name": "stdout",
     "output_type": "stream",
     "text": [
      "img/50237.png\n",
      "img/79406.png\n",
      "img/60213.png\n",
      "img/80537.png\n"
     ]
    },
    {
     "name": "stderr",
     "output_type": "stream",
     "text": [
      " 60%|█████▉    | 2228/3743 [01:30<01:28, 17.20it/s]"
     ]
    },
    {
     "name": "stdout",
     "output_type": "stream",
     "text": [
      "img/71630.png\n",
      "img/29587.png\n",
      "img/27501.png\n",
      "img/50462.png\n",
      "img/70932.png\n"
     ]
    },
    {
     "name": "stderr",
     "output_type": "stream",
     "text": [
      " 60%|█████▉    | 2234/3743 [01:31<01:19, 18.96it/s]"
     ]
    },
    {
     "name": "stdout",
     "output_type": "stream",
     "text": [
      "img/18045.png\n",
      "img/30192.png\n",
      "img/19342.png\n",
      "img/48705.png\n"
     ]
    },
    {
     "name": "stderr",
     "output_type": "stream",
     "text": [
      " 60%|█████▉    | 2237/3743 [01:31<01:16, 19.77it/s]"
     ]
    },
    {
     "name": "stdout",
     "output_type": "stream",
     "text": [
      "img/46520.png\n",
      "img/72369.png\n",
      "img/57631.png\n",
      "img/45182.png\n",
      "img/40758.png\n",
      "img/29140.png\n"
     ]
    },
    {
     "name": "stderr",
     "output_type": "stream",
     "text": [
      " 60%|█████▉    | 2241/3743 [01:31<01:10, 21.24it/s]"
     ]
    },
    {
     "name": "stdout",
     "output_type": "stream",
     "text": [
      "img/02158.png\n",
      "img/52018.png\n",
      "img/07241.png\n",
      "img/92140.png\n"
     ]
    },
    {
     "name": "stderr",
     "output_type": "stream",
     "text": [
      " 60%|██████    | 2247/3743 [01:31<01:12, 20.76it/s]"
     ]
    },
    {
     "name": "stdout",
     "output_type": "stream",
     "text": [
      "img/80195.png\n",
      "img/08934.png\n",
      "img/59342.png\n",
      "img/74625.png\n"
     ]
    },
    {
     "name": "stderr",
     "output_type": "stream",
     "text": [
      " 60%|██████    | 2250/3743 [01:32<01:18, 19.00it/s]"
     ]
    },
    {
     "name": "stdout",
     "output_type": "stream",
     "text": [
      "img/03479.png\n",
      "img/54670.png\n",
      "img/45281.png\n",
      "img/58196.png\n"
     ]
    },
    {
     "name": "stderr",
     "output_type": "stream",
     "text": [
      " 60%|██████    | 2255/3743 [01:32<01:26, 17.21it/s]"
     ]
    },
    {
     "name": "stdout",
     "output_type": "stream",
     "text": [
      "img/43519.png\n",
      "img/34985.png\n",
      "img/31748.png\n",
      "img/45671.png\n"
     ]
    },
    {
     "name": "stderr",
     "output_type": "stream",
     "text": [
      " 60%|██████    | 2259/3743 [01:32<01:31, 16.27it/s]"
     ]
    },
    {
     "name": "stdout",
     "output_type": "stream",
     "text": [
      "img/50764.png\n",
      "img/28175.png\n",
      "img/38590.png\n",
      "img/69125.png\n"
     ]
    },
    {
     "name": "stderr",
     "output_type": "stream",
     "text": [
      " 60%|██████    | 2262/3743 [01:32<01:22, 17.92it/s]"
     ]
    },
    {
     "name": "stdout",
     "output_type": "stream",
     "text": [
      "img/21605.png\n",
      "img/14968.png\n",
      "img/35967.png\n",
      "img/58640.png\n"
     ]
    },
    {
     "name": "stderr",
     "output_type": "stream",
     "text": [
      " 61%|██████    | 2266/3743 [01:33<01:51, 13.27it/s]"
     ]
    },
    {
     "name": "stdout",
     "output_type": "stream",
     "text": [
      "img/85172.png\n",
      "img/12648.png\n",
      "img/46217.png\n",
      "img/63452.png\n"
     ]
    },
    {
     "name": "stderr",
     "output_type": "stream",
     "text": [
      " 61%|██████    | 2270/3743 [01:33<01:40, 14.59it/s]"
     ]
    },
    {
     "name": "stdout",
     "output_type": "stream",
     "text": [
      "img/45837.png\n",
      "img/79182.png\n",
      "img/91683.png\n"
     ]
    },
    {
     "name": "stderr",
     "output_type": "stream",
     "text": [
      " 61%|██████    | 2272/3743 [01:33<01:55, 12.69it/s]"
     ]
    },
    {
     "name": "stdout",
     "output_type": "stream",
     "text": [
      "img/82104.png\n",
      "img/91372.png\n",
      "img/59471.png\n",
      "img/58609.png\n"
     ]
    },
    {
     "name": "stderr",
     "output_type": "stream",
     "text": [
      " 61%|██████    | 2277/3743 [01:33<01:37, 15.02it/s]"
     ]
    },
    {
     "name": "stdout",
     "output_type": "stream",
     "text": [
      "img/26831.png\n",
      "img/20374.png\n",
      "img/38129.png\n",
      "img/06759.png\n"
     ]
    },
    {
     "name": "stderr",
     "output_type": "stream",
     "text": [
      " 61%|██████    | 2280/3743 [01:34<01:32, 15.83it/s]"
     ]
    },
    {
     "name": "stdout",
     "output_type": "stream",
     "text": [
      "img/37615.png\n",
      "img/58061.png\n",
      "img/84926.png\n"
     ]
    },
    {
     "name": "stderr",
     "output_type": "stream",
     "text": [
      " 61%|██████    | 2285/3743 [01:34<01:28, 16.49it/s]"
     ]
    },
    {
     "name": "stdout",
     "output_type": "stream",
     "text": [
      "img/35189.png\n",
      "img/75402.png\n",
      "img/10398.png\n",
      "img/34596.png\n",
      "img/40378.png\n"
     ]
    },
    {
     "name": "stderr",
     "output_type": "stream",
     "text": [
      " 61%|██████    | 2288/3743 [01:34<01:21, 17.93it/s]"
     ]
    },
    {
     "name": "stdout",
     "output_type": "stream",
     "text": [
      "img/63057.png\n",
      "img/59714.png\n",
      "img/35086.png\n"
     ]
    },
    {
     "name": "stderr",
     "output_type": "stream",
     "text": [
      " 61%|██████    | 2292/3743 [01:34<01:34, 15.38it/s]"
     ]
    },
    {
     "name": "stdout",
     "output_type": "stream",
     "text": [
      "img/06378.png\n",
      "img/62705.png\n",
      "img/42073.png\n",
      "img/39785.png\n"
     ]
    },
    {
     "name": "stderr",
     "output_type": "stream",
     "text": [
      " 61%|██████▏   | 2297/3743 [01:35<01:24, 17.13it/s]"
     ]
    },
    {
     "name": "stdout",
     "output_type": "stream",
     "text": [
      "img/07685.png\n",
      "img/89025.png\n",
      "img/85476.png\n",
      "img/65804.png\n"
     ]
    },
    {
     "name": "stderr",
     "output_type": "stream",
     "text": [
      " 61%|██████▏   | 2299/3743 [01:35<01:51, 12.95it/s]"
     ]
    },
    {
     "name": "stdout",
     "output_type": "stream",
     "text": [
      "img/82756.png\n",
      "img/49615.png\n"
     ]
    },
    {
     "name": "stderr",
     "output_type": "stream",
     "text": [
      " 61%|██████▏   | 2301/3743 [01:35<02:01, 11.82it/s]"
     ]
    },
    {
     "name": "stdout",
     "output_type": "stream",
     "text": [
      "img/60578.png\n",
      "img/73581.png\n",
      "img/24083.png\n"
     ]
    },
    {
     "name": "stderr",
     "output_type": "stream",
     "text": [
      " 62%|██████▏   | 2305/3743 [01:35<02:03, 11.64it/s]"
     ]
    },
    {
     "name": "stdout",
     "output_type": "stream",
     "text": [
      "img/10675.png\n",
      "img/71263.png\n",
      "img/95467.png\n",
      "img/54290.png\n"
     ]
    },
    {
     "name": "stderr",
     "output_type": "stream",
     "text": [
      " 62%|██████▏   | 2310/3743 [01:36<02:15, 10.59it/s]"
     ]
    },
    {
     "name": "stdout",
     "output_type": "stream",
     "text": [
      "img/26153.png\n",
      "img/76083.png\n",
      "img/21950.png\n",
      "img/94176.png\n"
     ]
    },
    {
     "name": "stderr",
     "output_type": "stream",
     "text": [
      " 62%|██████▏   | 2312/3743 [01:36<02:06, 11.27it/s]"
     ]
    },
    {
     "name": "stdout",
     "output_type": "stream",
     "text": [
      "img/98367.png\n",
      "img/37295.png\n",
      "img/30296.png\n"
     ]
    },
    {
     "name": "stderr",
     "output_type": "stream",
     "text": [
      " 62%|██████▏   | 2316/3743 [01:36<02:05, 11.39it/s]"
     ]
    },
    {
     "name": "stdout",
     "output_type": "stream",
     "text": [
      "img/05863.png\n",
      "img/61723.png\n",
      "img/91024.png\n"
     ]
    },
    {
     "name": "stderr",
     "output_type": "stream",
     "text": [
      " 62%|██████▏   | 2318/3743 [01:37<02:08, 11.10it/s]"
     ]
    },
    {
     "name": "stdout",
     "output_type": "stream",
     "text": [
      "img/27810.png\n",
      "img/07236.png\n",
      "img/26174.png\n"
     ]
    },
    {
     "name": "stderr",
     "output_type": "stream",
     "text": [
      " 62%|██████▏   | 2322/3743 [01:37<01:41, 14.05it/s]"
     ]
    },
    {
     "name": "stdout",
     "output_type": "stream",
     "text": [
      "img/01975.png\n",
      "img/34152.png\n",
      "img/70432.png\n",
      "img/39058.png\n",
      "img/28659.png\n"
     ]
    },
    {
     "name": "stderr",
     "output_type": "stream",
     "text": [
      " 62%|██████▏   | 2325/3743 [01:37<01:50, 12.88it/s]"
     ]
    },
    {
     "name": "stdout",
     "output_type": "stream",
     "text": [
      "img/92645.png\n",
      "img/17208.png\n"
     ]
    },
    {
     "name": "stderr",
     "output_type": "stream",
     "text": [
      " 62%|██████▏   | 2330/3743 [01:37<01:46, 13.24it/s]"
     ]
    },
    {
     "name": "stdout",
     "output_type": "stream",
     "text": [
      "img/97531.png\n",
      "img/50689.png\n",
      "img/25498.png\n",
      "img/29357.png\n",
      "img/79185.png\n"
     ]
    },
    {
     "name": "stderr",
     "output_type": "stream",
     "text": [
      " 62%|██████▏   | 2333/3743 [01:38<01:33, 15.10it/s]"
     ]
    },
    {
     "name": "stdout",
     "output_type": "stream",
     "text": [
      "img/73160.png\n",
      "img/42801.png\n",
      "img/27059.png\n",
      "img/46053.png\n"
     ]
    },
    {
     "name": "stderr",
     "output_type": "stream",
     "text": [
      " 62%|██████▏   | 2339/3743 [01:38<01:20, 17.52it/s]"
     ]
    },
    {
     "name": "stdout",
     "output_type": "stream",
     "text": [
      "img/56193.png\n",
      "img/07458.png\n",
      "img/75602.png\n",
      "img/67385.png\n",
      "img/52349.png\n"
     ]
    },
    {
     "name": "stderr",
     "output_type": "stream",
     "text": [
      " 63%|██████▎   | 2343/3743 [01:38<01:42, 13.70it/s]"
     ]
    },
    {
     "name": "stdout",
     "output_type": "stream",
     "text": [
      "img/10358.png\n",
      "img/01924.png\n",
      "img/63078.png\n"
     ]
    },
    {
     "name": "stderr",
     "output_type": "stream",
     "text": [
      " 63%|██████▎   | 2345/3743 [01:38<01:35, 14.69it/s]"
     ]
    },
    {
     "name": "stdout",
     "output_type": "stream",
     "text": [
      "img/57430.png\n",
      "img/23076.png\n",
      "img/78314.png\n"
     ]
    },
    {
     "name": "stderr",
     "output_type": "stream",
     "text": [
      " 63%|██████▎   | 2349/3743 [01:39<01:39, 14.03it/s]"
     ]
    },
    {
     "name": "stdout",
     "output_type": "stream",
     "text": [
      "img/59840.png\n",
      "img/58134.png\n",
      "img/82761.png\n"
     ]
    },
    {
     "name": "stderr",
     "output_type": "stream",
     "text": [
      " 63%|██████▎   | 2353/3743 [01:39<01:36, 14.37it/s]"
     ]
    },
    {
     "name": "stdout",
     "output_type": "stream",
     "text": [
      "img/93512.png\n",
      "img/70465.png\n",
      "img/14908.png\n",
      "img/24576.png\n"
     ]
    },
    {
     "name": "stderr",
     "output_type": "stream",
     "text": [
      " 63%|██████▎   | 2358/3743 [01:39<01:22, 16.86it/s]"
     ]
    },
    {
     "name": "stdout",
     "output_type": "stream",
     "text": [
      "img/74268.png\n",
      "img/68745.png\n",
      "img/92637.png\n",
      "img/36892.png\n"
     ]
    },
    {
     "name": "stderr",
     "output_type": "stream",
     "text": [
      " 63%|██████▎   | 2361/3743 [01:39<01:19, 17.30it/s]"
     ]
    },
    {
     "name": "stdout",
     "output_type": "stream",
     "text": [
      "img/21674.png\n",
      "img/64329.png\n",
      "img/32854.png\n",
      "img/93405.png\n"
     ]
    },
    {
     "name": "stderr",
     "output_type": "stream",
     "text": [
      " 63%|██████▎   | 2363/3743 [01:39<01:18, 17.59it/s]"
     ]
    },
    {
     "name": "stdout",
     "output_type": "stream",
     "text": [
      "img/49316.png\n",
      "img/90728.png\n",
      "img/35970.png\n"
     ]
    },
    {
     "name": "stderr",
     "output_type": "stream",
     "text": [
      " 63%|██████▎   | 2368/3743 [01:40<01:21, 16.90it/s]"
     ]
    },
    {
     "name": "stdout",
     "output_type": "stream",
     "text": [
      "img/89723.png\n",
      "img/04623.png\n",
      "img/25497.png\n",
      "img/76592.png\n"
     ]
    },
    {
     "name": "stderr",
     "output_type": "stream",
     "text": [
      " 63%|██████▎   | 2372/3743 [01:40<01:32, 14.83it/s]"
     ]
    },
    {
     "name": "stdout",
     "output_type": "stream",
     "text": [
      "img/90468.png\n",
      "img/27856.png\n",
      "img/25179.png\n",
      "img/39427.png\n"
     ]
    },
    {
     "name": "stderr",
     "output_type": "stream",
     "text": [
      " 63%|██████▎   | 2375/3743 [01:40<01:24, 16.18it/s]"
     ]
    },
    {
     "name": "stdout",
     "output_type": "stream",
     "text": [
      "img/51089.png\n",
      "img/80967.png\n",
      "img/94523.png\n",
      "img/15720.png\n"
     ]
    },
    {
     "name": "stderr",
     "output_type": "stream",
     "text": [
      " 64%|██████▎   | 2379/3743 [01:40<01:32, 14.73it/s]"
     ]
    },
    {
     "name": "stdout",
     "output_type": "stream",
     "text": [
      "img/10562.png\n",
      "img/64708.png\n",
      "img/20317.png\n"
     ]
    },
    {
     "name": "stderr",
     "output_type": "stream",
     "text": [
      " 64%|██████▎   | 2382/3743 [01:41<01:23, 16.27it/s]"
     ]
    },
    {
     "name": "stdout",
     "output_type": "stream",
     "text": [
      "img/06874.png\n",
      "img/20154.png\n",
      "img/28735.png\n",
      "img/92430.png\n"
     ]
    },
    {
     "name": "stderr",
     "output_type": "stream",
     "text": [
      " 64%|██████▎   | 2386/3743 [01:41<01:26, 15.74it/s]"
     ]
    },
    {
     "name": "stdout",
     "output_type": "stream",
     "text": [
      "img/58124.png\n",
      "img/28731.png\n",
      "img/78405.png\n",
      "img/98754.png\n"
     ]
    },
    {
     "name": "stderr",
     "output_type": "stream",
     "text": [
      " 64%|██████▍   | 2389/3743 [01:41<01:31, 14.80it/s]"
     ]
    },
    {
     "name": "stdout",
     "output_type": "stream",
     "text": [
      "img/56108.png\n",
      "img/98124.png\n",
      "img/84736.png\n"
     ]
    },
    {
     "name": "stderr",
     "output_type": "stream",
     "text": [
      " 64%|██████▍   | 2394/3743 [01:41<01:19, 16.89it/s]"
     ]
    },
    {
     "name": "stdout",
     "output_type": "stream",
     "text": [
      "img/78532.png\n",
      "img/08537.png\n",
      "img/50491.png\n",
      "img/59487.png\n",
      "img/12068.png\n"
     ]
    },
    {
     "name": "stderr",
     "output_type": "stream",
     "text": [
      " 64%|██████▍   | 2399/3743 [01:42<01:14, 18.16it/s]"
     ]
    },
    {
     "name": "stdout",
     "output_type": "stream",
     "text": [
      "img/16357.png\n",
      "img/61793.png\n",
      "img/95263.png\n",
      "img/27069.png\n"
     ]
    },
    {
     "name": "stderr",
     "output_type": "stream",
     "text": [
      " 64%|██████▍   | 2403/3743 [01:42<01:21, 16.35it/s]"
     ]
    },
    {
     "name": "stdout",
     "output_type": "stream",
     "text": [
      "img/96183.png\n",
      "img/53904.png\n",
      "img/46509.png\n",
      "img/69582.png\n"
     ]
    },
    {
     "name": "stderr",
     "output_type": "stream",
     "text": [
      " 64%|██████▍   | 2405/3743 [01:42<01:29, 14.99it/s]"
     ]
    },
    {
     "name": "stdout",
     "output_type": "stream",
     "text": [
      "img/64839.png\n",
      "img/96510.png\n",
      "img/51496.png\n"
     ]
    },
    {
     "name": "stderr",
     "output_type": "stream",
     "text": [
      " 64%|██████▍   | 2409/3743 [01:42<01:23, 15.92it/s]"
     ]
    },
    {
     "name": "stdout",
     "output_type": "stream",
     "text": [
      "img/08219.png\n",
      "img/73082.png\n",
      "img/62457.png\n",
      "img/92750.png\n"
     ]
    },
    {
     "name": "stderr",
     "output_type": "stream",
     "text": [
      " 64%|██████▍   | 2412/3743 [01:42<01:26, 15.37it/s]"
     ]
    },
    {
     "name": "stdout",
     "output_type": "stream",
     "text": [
      "img/49608.png\n",
      "img/56248.png\n"
     ]
    },
    {
     "name": "stderr",
     "output_type": "stream",
     "text": [
      " 64%|██████▍   | 2414/3743 [01:43<01:38, 13.56it/s]"
     ]
    },
    {
     "name": "stdout",
     "output_type": "stream",
     "text": [
      "img/26950.png\n",
      "img/17352.png\n",
      "img/82693.png\n",
      "img/38145.png\n"
     ]
    },
    {
     "name": "stderr",
     "output_type": "stream",
     "text": [
      " 65%|██████▍   | 2419/3743 [01:43<01:25, 15.47it/s]"
     ]
    },
    {
     "name": "stdout",
     "output_type": "stream",
     "text": [
      "img/15983.png\n",
      "img/83246.png\n",
      "img/34250.png\n",
      "img/98125.png\n"
     ]
    },
    {
     "name": "stderr",
     "output_type": "stream",
     "text": [
      " 65%|██████▍   | 2421/3743 [01:43<01:22, 15.99it/s]"
     ]
    },
    {
     "name": "stdout",
     "output_type": "stream",
     "text": [
      "img/94586.png\n",
      "img/25178.png\n"
     ]
    },
    {
     "name": "stderr",
     "output_type": "stream",
     "text": [
      " 65%|██████▍   | 2425/3743 [01:43<01:32, 14.28it/s]"
     ]
    },
    {
     "name": "stdout",
     "output_type": "stream",
     "text": [
      "img/85690.png\n",
      "img/21547.png\n",
      "img/48567.png\n",
      "img/13675.png\n",
      "img/81027.png\n"
     ]
    },
    {
     "name": "stderr",
     "output_type": "stream",
     "text": [
      " 65%|██████▍   | 2431/3743 [01:44<01:14, 17.54it/s]"
     ]
    },
    {
     "name": "stdout",
     "output_type": "stream",
     "text": [
      "img/27534.png\n",
      "img/98406.png\n",
      "img/04126.png\n",
      "img/67194.png\n",
      "img/12748.png\n"
     ]
    },
    {
     "name": "stderr",
     "output_type": "stream",
     "text": [
      " 65%|██████▌   | 2435/3743 [01:44<01:18, 16.57it/s]"
     ]
    },
    {
     "name": "stdout",
     "output_type": "stream",
     "text": [
      "img/43279.png\n",
      "img/82150.png\n",
      "img/29671.png\n",
      "img/79832.png\n"
     ]
    },
    {
     "name": "stderr",
     "output_type": "stream",
     "text": [
      " 65%|██████▌   | 2439/3743 [01:44<01:20, 16.16it/s]"
     ]
    },
    {
     "name": "stdout",
     "output_type": "stream",
     "text": [
      "img/98531.png\n",
      "img/02974.png\n",
      "img/70356.png\n"
     ]
    },
    {
     "name": "stderr",
     "output_type": "stream",
     "text": [
      " 65%|██████▌   | 2441/3743 [01:44<01:28, 14.68it/s]"
     ]
    },
    {
     "name": "stdout",
     "output_type": "stream",
     "text": [
      "img/39012.png\n",
      "img/31058.png\n",
      "img/91027.png\n",
      "img/90483.png\n"
     ]
    },
    {
     "name": "stderr",
     "output_type": "stream",
     "text": [
      " 65%|██████▌   | 2447/3743 [01:45<01:16, 16.90it/s]"
     ]
    },
    {
     "name": "stdout",
     "output_type": "stream",
     "text": [
      "img/49327.png\n",
      "img/32481.png\n",
      "img/82714.png\n",
      "img/97321.png\n",
      "img/25984.png\n"
     ]
    },
    {
     "name": "stderr",
     "output_type": "stream",
     "text": [
      " 65%|██████▌   | 2451/3743 [01:45<01:19, 16.28it/s]"
     ]
    },
    {
     "name": "stdout",
     "output_type": "stream",
     "text": [
      "img/98724.png\n",
      "img/35894.png\n",
      "img/61270.png\n",
      "img/68739.png\n"
     ]
    },
    {
     "name": "stderr",
     "output_type": "stream",
     "text": [
      " 66%|██████▌   | 2456/3743 [01:45<01:16, 16.75it/s]"
     ]
    },
    {
     "name": "stdout",
     "output_type": "stream",
     "text": [
      "img/74053.png\n",
      "img/01854.png\n",
      "img/20693.png\n",
      "img/26407.png\n",
      "img/63185.png\n"
     ]
    },
    {
     "name": "stderr",
     "output_type": "stream",
     "text": [
      " 66%|██████▌   | 2460/3743 [01:45<01:16, 16.80it/s]"
     ]
    },
    {
     "name": "stdout",
     "output_type": "stream",
     "text": [
      "img/32150.png\n",
      "img/78960.png\n",
      "img/36075.png\n",
      "img/34258.png\n"
     ]
    },
    {
     "name": "stderr",
     "output_type": "stream",
     "text": [
      " 66%|██████▌   | 2464/3743 [01:46<01:19, 16.06it/s]"
     ]
    },
    {
     "name": "stdout",
     "output_type": "stream",
     "text": [
      "img/24810.png\n",
      "img/13620.png\n",
      "img/43817.png\n"
     ]
    },
    {
     "name": "stderr",
     "output_type": "stream",
     "text": [
      " 66%|██████▌   | 2466/3743 [01:46<01:26, 14.83it/s]"
     ]
    },
    {
     "name": "stdout",
     "output_type": "stream",
     "text": [
      "img/89056.png\n",
      "img/25847.png\n",
      "img/15209.png\n"
     ]
    },
    {
     "name": "stderr",
     "output_type": "stream",
     "text": [
      " 66%|██████▌   | 2470/3743 [01:46<02:06, 10.06it/s]"
     ]
    },
    {
     "name": "stdout",
     "output_type": "stream",
     "text": [
      "img/76914.png\n",
      "img/87230.png\n",
      "img/60257.png\n",
      "img/02814.png\n"
     ]
    },
    {
     "name": "stderr",
     "output_type": "stream",
     "text": [
      " 66%|██████▌   | 2475/3743 [01:47<01:36, 13.18it/s]"
     ]
    },
    {
     "name": "stdout",
     "output_type": "stream",
     "text": [
      "img/28019.png\n",
      "img/72984.png\n",
      "img/89142.png\n",
      "img/59128.png\n"
     ]
    },
    {
     "name": "stderr",
     "output_type": "stream",
     "text": [
      " 66%|██████▌   | 2479/3743 [01:47<01:27, 14.46it/s]"
     ]
    },
    {
     "name": "stdout",
     "output_type": "stream",
     "text": [
      "img/14573.png\n",
      "img/19653.png\n",
      "img/72386.png\n",
      "img/98530.png\n"
     ]
    },
    {
     "name": "stderr",
     "output_type": "stream",
     "text": [
      " 66%|██████▋   | 2484/3743 [01:47<01:13, 17.16it/s]"
     ]
    },
    {
     "name": "stdout",
     "output_type": "stream",
     "text": [
      "img/38461.png\n",
      "img/51694.png\n",
      "img/85096.png\n",
      "img/78634.png\n"
     ]
    },
    {
     "name": "stderr",
     "output_type": "stream",
     "text": [
      " 66%|██████▋   | 2487/3743 [01:47<01:09, 18.15it/s]"
     ]
    },
    {
     "name": "stdout",
     "output_type": "stream",
     "text": [
      "img/34598.png\n",
      "img/05273.png\n",
      "img/87934.png\n",
      "img/89076.png\n",
      "img/64901.png\n"
     ]
    },
    {
     "name": "stderr",
     "output_type": "stream",
     "text": [
      " 67%|██████▋   | 2493/3743 [01:48<01:02, 19.97it/s]"
     ]
    },
    {
     "name": "stdout",
     "output_type": "stream",
     "text": [
      "img/02657.png\n",
      "img/75984.png\n",
      "img/61749.png\n",
      "img/18234.png\n",
      "img/75846.png\n"
     ]
    },
    {
     "name": "stderr",
     "output_type": "stream",
     "text": [
      " 67%|██████▋   | 2496/3743 [01:48<01:01, 20.12it/s]"
     ]
    },
    {
     "name": "stdout",
     "output_type": "stream",
     "text": [
      "img/59238.png\n",
      "img/38741.png\n",
      "img/25716.png\n",
      "img/17358.png\n",
      "img/36185.png\n"
     ]
    },
    {
     "name": "stderr",
     "output_type": "stream",
     "text": [
      " 67%|██████▋   | 2502/3743 [01:48<01:04, 19.19it/s]"
     ]
    },
    {
     "name": "stdout",
     "output_type": "stream",
     "text": [
      "img/15920.png\n",
      "img/16035.png\n",
      "img/74608.png\n",
      "img/29380.png\n"
     ]
    },
    {
     "name": "stderr",
     "output_type": "stream",
     "text": [
      " 67%|██████▋   | 2505/3743 [01:48<01:00, 20.55it/s]"
     ]
    },
    {
     "name": "stdout",
     "output_type": "stream",
     "text": [
      "img/75498.png\n",
      "img/34091.png\n",
      "img/73619.png\n",
      "img/35408.png\n",
      "img/70649.png\n"
     ]
    },
    {
     "name": "stderr",
     "output_type": "stream",
     "text": [
      " 67%|██████▋   | 2508/3743 [01:48<00:58, 20.95it/s]"
     ]
    },
    {
     "name": "stdout",
     "output_type": "stream",
     "text": [
      "img/19582.png\n",
      "img/96081.png\n"
     ]
    },
    {
     "name": "stderr",
     "output_type": "stream",
     "text": [
      " 67%|██████▋   | 2511/3743 [01:49<01:23, 14.79it/s]"
     ]
    },
    {
     "name": "stdout",
     "output_type": "stream",
     "text": [
      "img/35801.png\n",
      "img/31604.png\n",
      "img/74150.png\n"
     ]
    },
    {
     "name": "stderr",
     "output_type": "stream",
     "text": [
      " 67%|██████▋   | 2515/3743 [01:49<01:28, 13.85it/s]"
     ]
    },
    {
     "name": "stdout",
     "output_type": "stream",
     "text": [
      "img/72561.png\n",
      "img/70623.png\n",
      "img/02561.png\n",
      "img/91082.png\n"
     ]
    },
    {
     "name": "stderr",
     "output_type": "stream",
     "text": [
      " 67%|██████▋   | 2518/3743 [01:49<01:25, 14.36it/s]"
     ]
    },
    {
     "name": "stdout",
     "output_type": "stream",
     "text": [
      "img/26984.png\n",
      "img/20685.png\n",
      "img/27016.png\n",
      "img/21047.png\n"
     ]
    },
    {
     "name": "stderr",
     "output_type": "stream",
     "text": [
      " 67%|██████▋   | 2524/3743 [01:49<01:15, 16.08it/s]"
     ]
    },
    {
     "name": "stdout",
     "output_type": "stream",
     "text": [
      "img/97510.png\n",
      "img/13875.png\n",
      "img/52681.png\n",
      "img/41368.png\n"
     ]
    },
    {
     "name": "stderr",
     "output_type": "stream",
     "text": [
      " 68%|██████▊   | 2528/3743 [01:50<01:19, 15.35it/s]"
     ]
    },
    {
     "name": "stdout",
     "output_type": "stream",
     "text": [
      "img/41875.png\n",
      "img/71905.png\n",
      "img/06293.png\n"
     ]
    },
    {
     "name": "stderr",
     "output_type": "stream",
     "text": [
      " 68%|██████▊   | 2530/3743 [01:50<01:17, 15.65it/s]"
     ]
    },
    {
     "name": "stdout",
     "output_type": "stream",
     "text": [
      "img/43971.png\n",
      "img/21385.png\n",
      "img/81374.png\n",
      "img/92413.png\n"
     ]
    },
    {
     "name": "stderr",
     "output_type": "stream",
     "text": [
      " 68%|██████▊   | 2535/3743 [01:50<01:14, 16.28it/s]"
     ]
    },
    {
     "name": "stdout",
     "output_type": "stream",
     "text": [
      "img/47528.png\n",
      "img/73162.png\n",
      "img/01698.png\n",
      "img/95326.png\n"
     ]
    },
    {
     "name": "stderr",
     "output_type": "stream",
     "text": [
      " 68%|██████▊   | 2540/3743 [01:50<01:07, 17.89it/s]"
     ]
    },
    {
     "name": "stdout",
     "output_type": "stream",
     "text": [
      "img/50934.png\n",
      "img/43162.png\n",
      "img/37426.png\n",
      "img/85976.png\n"
     ]
    },
    {
     "name": "stderr",
     "output_type": "stream",
     "text": [
      " 68%|██████▊   | 2543/3743 [01:50<01:00, 19.74it/s]"
     ]
    },
    {
     "name": "stdout",
     "output_type": "stream",
     "text": [
      "img/62483.png\n",
      "img/45612.png\n",
      "img/68407.png\n",
      "img/81759.png\n",
      "img/76519.png\n"
     ]
    },
    {
     "name": "stderr",
     "output_type": "stream",
     "text": [
      " 68%|██████▊   | 2546/3743 [01:51<01:00, 19.67it/s]"
     ]
    },
    {
     "name": "stdout",
     "output_type": "stream",
     "text": [
      "img/39127.png\n",
      "img/82163.png\n",
      "img/13528.png\n"
     ]
    },
    {
     "name": "stderr",
     "output_type": "stream",
     "text": [
      " 68%|██████▊   | 2551/3743 [01:51<01:07, 17.57it/s]"
     ]
    },
    {
     "name": "stdout",
     "output_type": "stream",
     "text": [
      "img/17453.png\n",
      "img/81942.png\n",
      "img/15490.png\n",
      "img/19567.png\n"
     ]
    },
    {
     "name": "stderr",
     "output_type": "stream",
     "text": [
      " 68%|██████▊   | 2553/3743 [01:51<01:26, 13.73it/s]"
     ]
    },
    {
     "name": "stdout",
     "output_type": "stream",
     "text": [
      "img/54978.png\n",
      "img/84965.png\n",
      "img/27514.png\n",
      "img/48971.png\n"
     ]
    },
    {
     "name": "stderr",
     "output_type": "stream",
     "text": [
      " 68%|██████▊   | 2556/3743 [01:51<01:16, 15.57it/s]"
     ]
    },
    {
     "name": "stdout",
     "output_type": "stream",
     "text": [
      "img/90614.png\n",
      "img/35912.png\n",
      "img/85394.png\n"
     ]
    },
    {
     "name": "stderr",
     "output_type": "stream",
     "text": [
      " 68%|██████▊   | 2562/3743 [01:52<01:10, 16.75it/s]"
     ]
    },
    {
     "name": "stdout",
     "output_type": "stream",
     "text": [
      "img/30487.png\n",
      "img/65102.png\n",
      "img/52801.png\n",
      "img/07261.png\n"
     ]
    },
    {
     "name": "stderr",
     "output_type": "stream",
     "text": [
      " 69%|██████▊   | 2564/3743 [01:52<01:25, 13.80it/s]"
     ]
    },
    {
     "name": "stdout",
     "output_type": "stream",
     "text": [
      "img/97831.png\n",
      "img/58247.png\n",
      "img/81576.png\n"
     ]
    },
    {
     "name": "stderr",
     "output_type": "stream",
     "text": [
      " 69%|██████▊   | 2566/3743 [01:52<01:20, 14.62it/s]"
     ]
    },
    {
     "name": "stdout",
     "output_type": "stream",
     "text": [
      "img/61205.png\n",
      "img/63129.png\n"
     ]
    },
    {
     "name": "stderr",
     "output_type": "stream",
     "text": [
      " 69%|██████▊   | 2570/3743 [01:53<01:53, 10.36it/s]"
     ]
    },
    {
     "name": "stdout",
     "output_type": "stream",
     "text": [
      "img/25314.png\n",
      "img/93042.png\n",
      "img/19406.png\n"
     ]
    },
    {
     "name": "stderr",
     "output_type": "stream",
     "text": [
      " 69%|██████▉   | 2574/3743 [01:53<01:33, 12.48it/s]"
     ]
    },
    {
     "name": "stdout",
     "output_type": "stream",
     "text": [
      "img/64820.png\n",
      "img/85379.png\n",
      "img/98016.png\n",
      "img/70948.png\n"
     ]
    },
    {
     "name": "stderr",
     "output_type": "stream",
     "text": [
      " 69%|██████▉   | 2578/3743 [01:53<01:23, 14.01it/s]"
     ]
    },
    {
     "name": "stdout",
     "output_type": "stream",
     "text": [
      "img/73806.png\n",
      "img/39067.png\n",
      "img/86217.png\n"
     ]
    },
    {
     "name": "stderr",
     "output_type": "stream",
     "text": [
      " 69%|██████▉   | 2580/3743 [01:53<01:16, 15.21it/s]"
     ]
    },
    {
     "name": "stdout",
     "output_type": "stream",
     "text": [
      "img/37921.png\n",
      "img/95810.png\n",
      "img/70864.png\n",
      "img/28439.png\n",
      "img/68154.png\n"
     ]
    },
    {
     "name": "stderr",
     "output_type": "stream",
     "text": [
      " 69%|██████▉   | 2585/3743 [01:53<01:13, 15.83it/s]"
     ]
    },
    {
     "name": "stdout",
     "output_type": "stream",
     "text": [
      "img/83624.png\n",
      "img/91075.png\n",
      "img/38912.png\n",
      "img/53948.png\n"
     ]
    },
    {
     "name": "stderr",
     "output_type": "stream",
     "text": [
      " 69%|██████▉   | 2589/3743 [01:54<01:19, 14.48it/s]"
     ]
    },
    {
     "name": "stdout",
     "output_type": "stream",
     "text": [
      "img/64913.png\n",
      "img/46021.png\n",
      "img/42856.png\n",
      "img/68917.png\n"
     ]
    },
    {
     "name": "stderr",
     "output_type": "stream",
     "text": [
      " 69%|██████▉   | 2593/3743 [01:54<01:16, 14.95it/s]"
     ]
    },
    {
     "name": "stdout",
     "output_type": "stream",
     "text": [
      "img/02316.png\n",
      "img/92064.png\n",
      "img/60839.png\n",
      "img/60985.png\n"
     ]
    },
    {
     "name": "stderr",
     "output_type": "stream",
     "text": [
      " 69%|██████▉   | 2597/3743 [01:54<01:09, 16.49it/s]"
     ]
    },
    {
     "name": "stdout",
     "output_type": "stream",
     "text": [
      "img/84516.png\n",
      "img/08652.png\n",
      "img/54731.png\n",
      "img/52439.png\n"
     ]
    },
    {
     "name": "stderr",
     "output_type": "stream",
     "text": [
      " 69%|██████▉   | 2601/3743 [01:55<01:12, 15.84it/s]"
     ]
    },
    {
     "name": "stdout",
     "output_type": "stream",
     "text": [
      "img/73910.png\n",
      "img/02958.png\n",
      "img/29308.png\n",
      "img/86023.png\n"
     ]
    },
    {
     "name": "stderr",
     "output_type": "stream",
     "text": [
      " 70%|██████▉   | 2606/3743 [01:55<01:12, 15.74it/s]"
     ]
    },
    {
     "name": "stdout",
     "output_type": "stream",
     "text": [
      "img/52983.png\n",
      "img/59871.png\n",
      "img/62590.png\n"
     ]
    },
    {
     "name": "stderr",
     "output_type": "stream",
     "text": [
      " 70%|██████▉   | 2609/3743 [01:55<01:10, 16.11it/s]"
     ]
    },
    {
     "name": "stdout",
     "output_type": "stream",
     "text": [
      "img/86024.png\n",
      "img/51894.png\n",
      "img/26890.png\n",
      "img/54270.png\n"
     ]
    },
    {
     "name": "stderr",
     "output_type": "stream",
     "text": [
      " 70%|██████▉   | 2612/3743 [01:55<01:06, 17.01it/s]"
     ]
    },
    {
     "name": "stdout",
     "output_type": "stream",
     "text": [
      "img/74315.png\n",
      "img/36845.png\n",
      "img/31847.png\n",
      "img/37948.png\n"
     ]
    },
    {
     "name": "stderr",
     "output_type": "stream",
     "text": [
      " 70%|██████▉   | 2616/3743 [01:55<01:03, 17.75it/s]"
     ]
    },
    {
     "name": "stdout",
     "output_type": "stream",
     "text": [
      "img/78459.png\n",
      "img/29786.png\n",
      "img/59761.png\n",
      "img/02857.png\n",
      "img/05398.png\n"
     ]
    },
    {
     "name": "stderr",
     "output_type": "stream",
     "text": [
      " 70%|███████   | 2621/3743 [01:56<01:06, 16.94it/s]"
     ]
    },
    {
     "name": "stdout",
     "output_type": "stream",
     "text": [
      "img/89156.png\n",
      "img/35217.png\n",
      "img/52407.png\n",
      "img/12580.png\n"
     ]
    },
    {
     "name": "stderr",
     "output_type": "stream",
     "text": [
      " 70%|███████   | 2627/3743 [01:56<00:56, 19.90it/s]"
     ]
    },
    {
     "name": "stdout",
     "output_type": "stream",
     "text": [
      "img/95712.png\n",
      "img/17253.png\n",
      "img/86172.png\n",
      "img/56719.png\n",
      "img/91840.png\n",
      "img/26784.png\n"
     ]
    },
    {
     "name": "stderr",
     "output_type": "stream",
     "text": [
      " 70%|███████   | 2630/3743 [01:56<00:54, 20.55it/s]"
     ]
    },
    {
     "name": "stdout",
     "output_type": "stream",
     "text": [
      "img/79463.png\n",
      "img/26534.png\n",
      "img/01943.png\n"
     ]
    },
    {
     "name": "stderr",
     "output_type": "stream",
     "text": [
      " 70%|███████   | 2635/3743 [01:56<01:04, 17.24it/s]"
     ]
    },
    {
     "name": "stdout",
     "output_type": "stream",
     "text": [
      "img/94130.png\n",
      "img/52613.png\n",
      "img/41607.png\n",
      "img/35480.png\n"
     ]
    },
    {
     "name": "stderr",
     "output_type": "stream",
     "text": [
      " 71%|███████   | 2640/3743 [01:57<00:58, 18.98it/s]"
     ]
    },
    {
     "name": "stdout",
     "output_type": "stream",
     "text": [
      "img/89035.png\n",
      "img/29304.png\n",
      "img/75931.png\n",
      "img/92614.png\n",
      "img/64590.png\n"
     ]
    },
    {
     "name": "stderr",
     "output_type": "stream",
     "text": [
      " 71%|███████   | 2643/3743 [01:57<00:56, 19.54it/s]"
     ]
    },
    {
     "name": "stdout",
     "output_type": "stream",
     "text": [
      "img/02816.png\n",
      "img/97013.png\n",
      "img/62573.png\n",
      "img/75496.png\n",
      "img/62340.png\n"
     ]
    },
    {
     "name": "stderr",
     "output_type": "stream",
     "text": [
      " 71%|███████   | 2649/3743 [01:57<00:57, 19.04it/s]"
     ]
    },
    {
     "name": "stdout",
     "output_type": "stream",
     "text": [
      "img/57319.png\n",
      "img/14059.png\n",
      "img/10936.png\n",
      "img/32147.png\n",
      "img/90817.png\n"
     ]
    },
    {
     "name": "stderr",
     "output_type": "stream",
     "text": [
      " 71%|███████   | 2653/3743 [01:57<01:03, 17.08it/s]"
     ]
    },
    {
     "name": "stdout",
     "output_type": "stream",
     "text": [
      "img/35068.png\n",
      "img/60371.png\n",
      "img/68309.png\n",
      "img/32980.png\n"
     ]
    },
    {
     "name": "stderr",
     "output_type": "stream",
     "text": [
      " 71%|███████   | 2655/3743 [01:57<01:02, 17.47it/s]"
     ]
    },
    {
     "name": "stdout",
     "output_type": "stream",
     "text": [
      "img/97315.png\n",
      "img/45382.png\n"
     ]
    },
    {
     "name": "stderr",
     "output_type": "stream",
     "text": [
      " 71%|███████   | 2659/3743 [01:58<01:24, 12.85it/s]"
     ]
    },
    {
     "name": "stdout",
     "output_type": "stream",
     "text": [
      "img/72345.png\n",
      "img/72094.png\n",
      "img/41873.png\n"
     ]
    },
    {
     "name": "stderr",
     "output_type": "stream",
     "text": [
      " 71%|███████   | 2663/3743 [01:58<01:23, 12.98it/s]"
     ]
    },
    {
     "name": "stdout",
     "output_type": "stream",
     "text": [
      "img/86453.png\n",
      "img/90564.png\n",
      "img/75023.png\n",
      "img/05614.png\n"
     ]
    },
    {
     "name": "stderr",
     "output_type": "stream",
     "text": [
      " 71%|███████   | 2666/3743 [01:58<01:13, 14.58it/s]"
     ]
    },
    {
     "name": "stdout",
     "output_type": "stream",
     "text": [
      "img/46580.png\n",
      "img/16240.png\n",
      "img/84673.png\n",
      "img/68324.png\n",
      "img/01269.png\n"
     ]
    },
    {
     "name": "stderr",
     "output_type": "stream",
     "text": [
      " 71%|███████▏  | 2671/3743 [01:59<01:04, 16.72it/s]"
     ]
    },
    {
     "name": "stdout",
     "output_type": "stream",
     "text": [
      "img/92817.png\n",
      "img/97436.png\n",
      "img/02381.png\n"
     ]
    },
    {
     "name": "stderr",
     "output_type": "stream",
     "text": [
      " 71%|███████▏  | 2675/3743 [01:59<01:37, 10.90it/s]"
     ]
    },
    {
     "name": "stdout",
     "output_type": "stream",
     "text": [
      "img/97230.png\n",
      "img/19240.png\n",
      "img/09852.png\n",
      "img/09468.png\n"
     ]
    },
    {
     "name": "stderr",
     "output_type": "stream",
     "text": [
      " 72%|███████▏  | 2678/3743 [01:59<01:23, 12.69it/s]"
     ]
    },
    {
     "name": "stdout",
     "output_type": "stream",
     "text": [
      "img/60538.png\n",
      "img/69057.png\n",
      "img/87296.png\n",
      "img/37451.png\n"
     ]
    },
    {
     "name": "stderr",
     "output_type": "stream",
     "text": [
      " 72%|███████▏  | 2683/3743 [02:00<01:10, 15.01it/s]"
     ]
    },
    {
     "name": "stdout",
     "output_type": "stream",
     "text": [
      "img/71428.png\n",
      "img/57302.png\n",
      "img/61458.png\n",
      "img/03756.png\n"
     ]
    },
    {
     "name": "stderr",
     "output_type": "stream",
     "text": [
      " 72%|███████▏  | 2687/3743 [02:00<01:05, 16.25it/s]"
     ]
    },
    {
     "name": "stdout",
     "output_type": "stream",
     "text": [
      "img/64359.png\n",
      "img/87426.png\n",
      "img/60478.png\n",
      "img/23859.png\n",
      "img/14726.png\n"
     ]
    },
    {
     "name": "stderr",
     "output_type": "stream",
     "text": [
      " 72%|███████▏  | 2693/3743 [02:00<00:57, 18.34it/s]"
     ]
    },
    {
     "name": "stdout",
     "output_type": "stream",
     "text": [
      "img/46872.png\n",
      "img/10465.png\n",
      "img/13067.png\n",
      "img/57968.png\n"
     ]
    },
    {
     "name": "stderr",
     "output_type": "stream",
     "text": [
      " 72%|███████▏  | 2696/3743 [02:00<00:53, 19.65it/s]"
     ]
    },
    {
     "name": "stdout",
     "output_type": "stream",
     "text": [
      "img/95720.png\n",
      "img/18394.png\n",
      "img/39870.png\n",
      "img/17359.png\n",
      "img/79062.png\n"
     ]
    },
    {
     "name": "stderr",
     "output_type": "stream",
     "text": [
      " 72%|███████▏  | 2699/3743 [02:00<00:52, 19.80it/s]"
     ]
    },
    {
     "name": "stdout",
     "output_type": "stream",
     "text": [
      "img/16509.png\n",
      "img/28614.png\n",
      "img/62571.png\n",
      "img/52640.png\n"
     ]
    },
    {
     "name": "stderr",
     "output_type": "stream",
     "text": [
      " 72%|███████▏  | 2702/3743 [02:01<00:56, 18.47it/s]"
     ]
    },
    {
     "name": "stdout",
     "output_type": "stream",
     "text": [
      "img/06823.png\n",
      "img/17835.png\n"
     ]
    },
    {
     "name": "stderr",
     "output_type": "stream",
     "text": [
      " 72%|███████▏  | 2706/3743 [02:01<01:08, 15.13it/s]"
     ]
    },
    {
     "name": "stdout",
     "output_type": "stream",
     "text": [
      "img/73609.png\n",
      "img/73520.png\n",
      "img/34618.png\n",
      "img/31720.png\n"
     ]
    },
    {
     "name": "stderr",
     "output_type": "stream",
     "text": [
      " 72%|███████▏  | 2710/3743 [02:01<01:00, 17.04it/s]"
     ]
    },
    {
     "name": "stdout",
     "output_type": "stream",
     "text": [
      "img/42690.png\n",
      "img/24967.png\n",
      "img/30291.png\n",
      "img/01395.png\n"
     ]
    },
    {
     "name": "stderr",
     "output_type": "stream",
     "text": [
      " 72%|███████▏  | 2712/3743 [02:01<01:13, 14.03it/s]"
     ]
    },
    {
     "name": "stdout",
     "output_type": "stream",
     "text": [
      "img/82736.png\n",
      "img/57013.png\n"
     ]
    },
    {
     "name": "stderr",
     "output_type": "stream",
     "text": [
      " 73%|███████▎  | 2716/3743 [02:02<01:20, 12.74it/s]"
     ]
    },
    {
     "name": "stdout",
     "output_type": "stream",
     "text": [
      "img/03896.png\n",
      "img/50293.png\n",
      "img/98723.png\n"
     ]
    },
    {
     "name": "stderr",
     "output_type": "stream",
     "text": [
      " 73%|███████▎  | 2720/3743 [02:02<01:12, 14.09it/s]"
     ]
    },
    {
     "name": "stdout",
     "output_type": "stream",
     "text": [
      "img/57162.png\n",
      "img/92610.png\n",
      "img/83056.png\n",
      "img/07456.png\n"
     ]
    },
    {
     "name": "stderr",
     "output_type": "stream",
     "text": [
      " 73%|███████▎  | 2723/3743 [02:02<01:02, 16.44it/s]"
     ]
    },
    {
     "name": "stdout",
     "output_type": "stream",
     "text": [
      "img/71042.png\n",
      "img/90531.png\n",
      "img/37629.png\n",
      "img/47859.png\n",
      "img/36875.png\n"
     ]
    },
    {
     "name": "stderr",
     "output_type": "stream",
     "text": [
      " 73%|███████▎  | 2726/3743 [02:02<00:57, 17.81it/s]"
     ]
    },
    {
     "name": "stdout",
     "output_type": "stream",
     "text": [
      "img/24567.png\n",
      "img/06914.png\n"
     ]
    },
    {
     "name": "stderr",
     "output_type": "stream",
     "text": [
      " 73%|███████▎  | 2730/3743 [02:02<01:11, 14.14it/s]"
     ]
    },
    {
     "name": "stdout",
     "output_type": "stream",
     "text": [
      "img/72605.png\n",
      "img/24861.png\n",
      "img/69751.png\n",
      "img/94532.png\n"
     ]
    },
    {
     "name": "stderr",
     "output_type": "stream",
     "text": [
      " 73%|███████▎  | 2734/3743 [02:03<01:04, 15.71it/s]"
     ]
    },
    {
     "name": "stdout",
     "output_type": "stream",
     "text": [
      "img/07412.png\n",
      "img/53679.png\n",
      "img/60487.png\n",
      "img/41270.png\n"
     ]
    },
    {
     "name": "stderr",
     "output_type": "stream",
     "text": [
      " 73%|███████▎  | 2736/3743 [02:03<01:09, 14.52it/s]"
     ]
    },
    {
     "name": "stdout",
     "output_type": "stream",
     "text": [
      "img/74862.png\n",
      "img/89275.png\n",
      "img/16948.png\n"
     ]
    },
    {
     "name": "stderr",
     "output_type": "stream",
     "text": [
      " 73%|███████▎  | 2741/3743 [02:03<01:04, 15.60it/s]"
     ]
    },
    {
     "name": "stdout",
     "output_type": "stream",
     "text": [
      "img/71089.png\n",
      "img/75239.png\n",
      "img/54891.png\n"
     ]
    },
    {
     "name": "stderr",
     "output_type": "stream",
     "text": [
      " 73%|███████▎  | 2743/3743 [02:03<01:10, 14.27it/s]"
     ]
    },
    {
     "name": "stdout",
     "output_type": "stream",
     "text": [
      "img/23485.png\n",
      "img/15208.png\n",
      "img/56091.png\n"
     ]
    },
    {
     "name": "stderr",
     "output_type": "stream",
     "text": [
      " 73%|███████▎  | 2747/3743 [02:04<01:10, 14.06it/s]"
     ]
    },
    {
     "name": "stdout",
     "output_type": "stream",
     "text": [
      "img/12036.png\n",
      "img/53270.png\n",
      "img/19452.png\n"
     ]
    },
    {
     "name": "stderr",
     "output_type": "stream",
     "text": [
      " 73%|███████▎  | 2749/3743 [02:04<01:24, 11.78it/s]"
     ]
    },
    {
     "name": "stdout",
     "output_type": "stream",
     "text": [
      "img/94352.png\n",
      "img/42836.png\n",
      "img/35167.png\n"
     ]
    },
    {
     "name": "stderr",
     "output_type": "stream",
     "text": [
      " 74%|███████▎  | 2753/3743 [02:04<01:14, 13.30it/s]"
     ]
    },
    {
     "name": "stdout",
     "output_type": "stream",
     "text": [
      "img/19678.png\n",
      "img/07419.png\n",
      "img/49701.png\n",
      "img/13695.png\n"
     ]
    },
    {
     "name": "stderr",
     "output_type": "stream",
     "text": [
      " 74%|███████▎  | 2757/3743 [02:04<01:11, 13.72it/s]"
     ]
    },
    {
     "name": "stdout",
     "output_type": "stream",
     "text": [
      "img/15609.png\n",
      "img/53812.png\n",
      "img/16439.png\n"
     ]
    },
    {
     "name": "stderr",
     "output_type": "stream",
     "text": [
      " 74%|███████▍  | 2761/3743 [02:05<01:03, 15.52it/s]"
     ]
    },
    {
     "name": "stdout",
     "output_type": "stream",
     "text": [
      "img/87436.png\n",
      "img/14789.png\n",
      "img/10489.png\n",
      "img/92364.png\n"
     ]
    },
    {
     "name": "stderr",
     "output_type": "stream",
     "text": [
      " 74%|███████▍  | 2765/3743 [02:05<01:01, 15.98it/s]"
     ]
    },
    {
     "name": "stdout",
     "output_type": "stream",
     "text": [
      "img/03841.png\n",
      "img/09385.png\n",
      "img/82963.png\n",
      "img/83547.png\n"
     ]
    },
    {
     "name": "stderr",
     "output_type": "stream",
     "text": [
      " 74%|███████▍  | 2767/3743 [02:05<00:58, 16.59it/s]"
     ]
    },
    {
     "name": "stdout",
     "output_type": "stream",
     "text": [
      "img/09432.png\n",
      "img/91856.png\n",
      "img/84192.png\n"
     ]
    },
    {
     "name": "stderr",
     "output_type": "stream",
     "text": [
      " 74%|███████▍  | 2771/3743 [02:05<01:14, 12.99it/s]"
     ]
    },
    {
     "name": "stdout",
     "output_type": "stream",
     "text": [
      "img/15728.png\n",
      "img/07561.png\n",
      "img/43701.png\n"
     ]
    },
    {
     "name": "stderr",
     "output_type": "stream",
     "text": [
      " 74%|███████▍  | 2776/3743 [02:06<01:01, 15.85it/s]"
     ]
    },
    {
     "name": "stdout",
     "output_type": "stream",
     "text": [
      "img/97058.png\n",
      "img/06479.png\n",
      "img/18532.png\n",
      "img/53486.png\n"
     ]
    },
    {
     "name": "stderr",
     "output_type": "stream",
     "text": [
      " 74%|███████▍  | 2779/3743 [02:06<00:54, 17.82it/s]"
     ]
    },
    {
     "name": "stdout",
     "output_type": "stream",
     "text": [
      "img/13098.png\n",
      "img/28154.png\n",
      "img/59026.png\n",
      "img/56819.png\n",
      "img/76104.png\n",
      "img/45601.png\n"
     ]
    },
    {
     "name": "stderr",
     "output_type": "stream",
     "text": [
      " 74%|███████▍  | 2785/3743 [02:06<00:55, 17.19it/s]"
     ]
    },
    {
     "name": "stdout",
     "output_type": "stream",
     "text": [
      "img/02891.png\n",
      "img/64752.png\n",
      "img/72940.png\n",
      "img/52469.png\n",
      "img/87693.png\n"
     ]
    },
    {
     "name": "stderr",
     "output_type": "stream",
     "text": [
      " 75%|███████▍  | 2790/3743 [02:06<00:53, 17.79it/s]"
     ]
    },
    {
     "name": "stdout",
     "output_type": "stream",
     "text": [
      "img/96507.png\n",
      "img/67024.png\n",
      "img/43206.png\n",
      "img/03794.png\n",
      "img/98075.png\n"
     ]
    },
    {
     "name": "stderr",
     "output_type": "stream",
     "text": [
      " 75%|███████▍  | 2793/3743 [02:07<00:52, 18.14it/s]"
     ]
    },
    {
     "name": "stdout",
     "output_type": "stream",
     "text": [
      "img/57426.png\n",
      "img/52819.png\n",
      "img/04765.png\n"
     ]
    },
    {
     "name": "stderr",
     "output_type": "stream",
     "text": [
      " 75%|███████▍  | 2797/3743 [02:07<00:57, 16.54it/s]"
     ]
    },
    {
     "name": "stdout",
     "output_type": "stream",
     "text": [
      "img/49038.png\n",
      "img/91042.png\n",
      "img/69472.png\n",
      "img/92160.png\n"
     ]
    },
    {
     "name": "stderr",
     "output_type": "stream",
     "text": [
      " 75%|███████▍  | 2801/3743 [02:07<00:57, 16.31it/s]"
     ]
    },
    {
     "name": "stdout",
     "output_type": "stream",
     "text": [
      "img/31508.png\n",
      "img/51802.png\n",
      "img/41720.png\n",
      "img/26735.png\n"
     ]
    },
    {
     "name": "stderr",
     "output_type": "stream",
     "text": [
      " 75%|███████▍  | 2806/3743 [02:07<00:54, 17.04it/s]"
     ]
    },
    {
     "name": "stdout",
     "output_type": "stream",
     "text": [
      "img/65824.png\n",
      "img/27058.png\n",
      "img/46721.png\n",
      "img/46138.png\n",
      "img/75682.png\n"
     ]
    },
    {
     "name": "stderr",
     "output_type": "stream",
     "text": [
      " 75%|███████▌  | 2810/3743 [02:08<00:59, 15.72it/s]"
     ]
    },
    {
     "name": "stdout",
     "output_type": "stream",
     "text": [
      "img/19380.png\n",
      "img/06845.png\n",
      "img/51629.png\n",
      "img/46358.png\n",
      "img/04928.png\n"
     ]
    },
    {
     "name": "stderr",
     "output_type": "stream",
     "text": [
      " 75%|███████▌  | 2815/3743 [02:08<00:54, 16.91it/s]"
     ]
    },
    {
     "name": "stdout",
     "output_type": "stream",
     "text": [
      "img/43905.png\n",
      "img/27965.png\n",
      "img/93854.png\n"
     ]
    },
    {
     "name": "stderr",
     "output_type": "stream",
     "text": [
      " 75%|███████▌  | 2817/3743 [02:08<01:03, 14.68it/s]"
     ]
    },
    {
     "name": "stdout",
     "output_type": "stream",
     "text": [
      "img/46970.png\n",
      "img/31549.png\n",
      "img/97562.png\n"
     ]
    },
    {
     "name": "stderr",
     "output_type": "stream",
     "text": [
      " 75%|███████▌  | 2821/3743 [02:08<01:11, 12.82it/s]"
     ]
    },
    {
     "name": "stdout",
     "output_type": "stream",
     "text": [
      "img/85026.png\n",
      "img/76148.png\n",
      "img/23907.png\n"
     ]
    },
    {
     "name": "stderr",
     "output_type": "stream",
     "text": [
      " 76%|███████▌  | 2826/3743 [02:09<00:58, 15.63it/s]"
     ]
    },
    {
     "name": "stdout",
     "output_type": "stream",
     "text": [
      "img/60238.png\n",
      "img/42168.png\n",
      "img/62471.png\n",
      "img/43025.png\n",
      "img/40721.png\n"
     ]
    },
    {
     "name": "stderr",
     "output_type": "stream",
     "text": [
      " 76%|███████▌  | 2830/3743 [02:09<00:54, 16.77it/s]"
     ]
    },
    {
     "name": "stdout",
     "output_type": "stream",
     "text": [
      "img/19258.png\n",
      "img/47123.png\n",
      "img/25784.png\n",
      "img/32164.png\n",
      "img/46501.png\n"
     ]
    },
    {
     "name": "stderr",
     "output_type": "stream",
     "text": [
      " 76%|███████▌  | 2836/3743 [02:09<00:47, 19.24it/s]"
     ]
    },
    {
     "name": "stdout",
     "output_type": "stream",
     "text": [
      "img/42163.png\n",
      "img/14879.png\n",
      "img/05926.png\n",
      "img/42093.png\n",
      "img/08267.png\n"
     ]
    },
    {
     "name": "stderr",
     "output_type": "stream",
     "text": [
      " 76%|███████▌  | 2839/3743 [02:09<00:44, 20.20it/s]"
     ]
    },
    {
     "name": "stdout",
     "output_type": "stream",
     "text": [
      "img/98105.png\n",
      "img/97463.png\n",
      "img/38051.png\n",
      "img/15820.png\n",
      "img/76358.png\n"
     ]
    },
    {
     "name": "stderr",
     "output_type": "stream",
     "text": [
      " 76%|███████▌  | 2844/3743 [02:10<00:52, 17.05it/s]"
     ]
    },
    {
     "name": "stdout",
     "output_type": "stream",
     "text": [
      "img/05948.png\n",
      "img/04813.png\n",
      "img/85716.png\n",
      "img/97521.png\n"
     ]
    },
    {
     "name": "stderr",
     "output_type": "stream",
     "text": [
      " 76%|███████▌  | 2849/3743 [02:10<00:52, 17.19it/s]"
     ]
    },
    {
     "name": "stdout",
     "output_type": "stream",
     "text": [
      "img/46179.png\n",
      "img/56974.png\n",
      "img/90742.png\n",
      "img/78365.png\n"
     ]
    },
    {
     "name": "stderr",
     "output_type": "stream",
     "text": [
      " 76%|███████▌  | 2852/3743 [02:10<00:54, 16.23it/s]"
     ]
    },
    {
     "name": "stdout",
     "output_type": "stream",
     "text": [
      "img/95387.png\n",
      "img/98716.png\n",
      "img/91750.png\n"
     ]
    },
    {
     "name": "stderr",
     "output_type": "stream",
     "text": [
      " 76%|███████▋  | 2856/3743 [02:10<00:53, 16.49it/s]"
     ]
    },
    {
     "name": "stdout",
     "output_type": "stream",
     "text": [
      "img/02946.png\n",
      "img/07385.png\n",
      "img/27308.png\n",
      "img/08146.png\n"
     ]
    },
    {
     "name": "stderr",
     "output_type": "stream",
     "text": [
      " 76%|███████▋  | 2858/3743 [02:11<00:57, 15.26it/s]"
     ]
    },
    {
     "name": "stdout",
     "output_type": "stream",
     "text": [
      "img/15478.png\n",
      "img/40597.png\n",
      "img/43216.png\n"
     ]
    },
    {
     "name": "stderr",
     "output_type": "stream",
     "text": [
      " 76%|███████▋  | 2862/3743 [02:11<00:58, 15.04it/s]"
     ]
    },
    {
     "name": "stdout",
     "output_type": "stream",
     "text": [
      "img/82697.png\n",
      "img/43610.png\n",
      "img/61725.png\n",
      "img/39741.png\n",
      "img/75234.png\n"
     ]
    },
    {
     "name": "stderr",
     "output_type": "stream",
     "text": [
      " 77%|███████▋  | 2867/3743 [02:11<00:56, 15.53it/s]"
     ]
    },
    {
     "name": "stdout",
     "output_type": "stream",
     "text": [
      "img/21890.png\n",
      "img/18362.png\n",
      "img/14083.png\n"
     ]
    },
    {
     "name": "stderr",
     "output_type": "stream",
     "text": [
      " 77%|███████▋  | 2869/3743 [02:11<00:55, 15.88it/s]"
     ]
    },
    {
     "name": "stdout",
     "output_type": "stream",
     "text": [
      "img/23054.png\n",
      "img/30961.png\n",
      "img/82540.png\n"
     ]
    },
    {
     "name": "stderr",
     "output_type": "stream",
     "text": [
      " 77%|███████▋  | 2873/3743 [02:12<01:03, 13.62it/s]"
     ]
    },
    {
     "name": "stdout",
     "output_type": "stream",
     "text": [
      "img/89126.png\n",
      "img/54179.png\n",
      "img/48751.png\n"
     ]
    },
    {
     "name": "stderr",
     "output_type": "stream",
     "text": [
      " 77%|███████▋  | 2878/3743 [02:12<00:53, 16.14it/s]"
     ]
    },
    {
     "name": "stdout",
     "output_type": "stream",
     "text": [
      "img/14958.png\n",
      "img/86205.png\n",
      "img/53720.png\n",
      "img/46231.png\n"
     ]
    },
    {
     "name": "stderr",
     "output_type": "stream",
     "text": [
      " 77%|███████▋  | 2880/3743 [02:12<00:50, 16.94it/s]"
     ]
    },
    {
     "name": "stdout",
     "output_type": "stream",
     "text": [
      "img/76381.png\n",
      "img/59436.png\n",
      "img/76532.png\n"
     ]
    },
    {
     "name": "stderr",
     "output_type": "stream",
     "text": [
      " 77%|███████▋  | 2884/3743 [02:12<01:03, 13.50it/s]"
     ]
    },
    {
     "name": "stdout",
     "output_type": "stream",
     "text": [
      "img/59473.png\n",
      "img/25013.png\n",
      "img/50187.png\n"
     ]
    },
    {
     "name": "stderr",
     "output_type": "stream",
     "text": [
      " 77%|███████▋  | 2887/3743 [02:12<00:54, 15.65it/s]"
     ]
    },
    {
     "name": "stdout",
     "output_type": "stream",
     "text": [
      "img/28964.png\n",
      "img/83579.png\n",
      "img/70561.png\n",
      "img/58361.png\n",
      "img/57093.png\n"
     ]
    },
    {
     "name": "stderr",
     "output_type": "stream",
     "text": [
      " 77%|███████▋  | 2892/3743 [02:13<00:54, 15.57it/s]"
     ]
    },
    {
     "name": "stdout",
     "output_type": "stream",
     "text": [
      "img/23681.png\n",
      "img/09482.png\n",
      "img/81536.png\n",
      "img/70243.png\n"
     ]
    },
    {
     "name": "stderr",
     "output_type": "stream",
     "text": [
      " 77%|███████▋  | 2895/3743 [02:13<00:51, 16.57it/s]"
     ]
    },
    {
     "name": "stdout",
     "output_type": "stream",
     "text": [
      "img/60249.png\n",
      "img/15349.png\n",
      "img/23456.png\n",
      "img/56421.png\n"
     ]
    },
    {
     "name": "stderr",
     "output_type": "stream",
     "text": [
      " 77%|███████▋  | 2897/3743 [02:13<00:53, 15.82it/s]"
     ]
    },
    {
     "name": "stdout",
     "output_type": "stream",
     "text": [
      "img/65743.png\n",
      "img/02358.png\n"
     ]
    },
    {
     "name": "stderr",
     "output_type": "stream",
     "text": [
      " 78%|███████▊  | 2902/3743 [02:13<00:58, 14.27it/s]"
     ]
    },
    {
     "name": "stdout",
     "output_type": "stream",
     "text": [
      "img/94150.png\n",
      "img/98461.png\n",
      "img/34576.png\n",
      "img/31082.png\n",
      "img/50482.png\n"
     ]
    },
    {
     "name": "stderr",
     "output_type": "stream",
     "text": [
      " 78%|███████▊  | 2905/3743 [02:14<00:53, 15.77it/s]"
     ]
    },
    {
     "name": "stdout",
     "output_type": "stream",
     "text": [
      "img/35684.png\n",
      "img/70845.png\n",
      "img/70264.png\n",
      "img/37450.png\n",
      "img/16084.png\n"
     ]
    },
    {
     "name": "stderr",
     "output_type": "stream",
     "text": [
      " 78%|███████▊  | 2911/3743 [02:14<00:54, 15.21it/s]"
     ]
    },
    {
     "name": "stdout",
     "output_type": "stream",
     "text": [
      "img/64093.png\n",
      "img/96328.png\n",
      "img/37601.png\n"
     ]
    },
    {
     "name": "stderr",
     "output_type": "stream",
     "text": [
      " 78%|███████▊  | 2915/3743 [02:14<00:53, 15.35it/s]"
     ]
    },
    {
     "name": "stdout",
     "output_type": "stream",
     "text": [
      "img/36214.png\n",
      "img/13849.png\n",
      "img/54793.png\n",
      "img/93841.png\n"
     ]
    },
    {
     "name": "stderr",
     "output_type": "stream",
     "text": [
      " 78%|███████▊  | 2917/3743 [02:14<00:56, 14.69it/s]"
     ]
    },
    {
     "name": "stdout",
     "output_type": "stream",
     "text": [
      "img/95087.png\n",
      "img/75421.png\n",
      "img/73059.png\n"
     ]
    },
    {
     "name": "stderr",
     "output_type": "stream",
     "text": [
      " 78%|███████▊  | 2922/3743 [02:15<00:50, 16.14it/s]"
     ]
    },
    {
     "name": "stdout",
     "output_type": "stream",
     "text": [
      "img/87341.png\n",
      "img/10946.png\n",
      "img/40718.png\n",
      "img/81256.png\n",
      "img/97201.png\n"
     ]
    },
    {
     "name": "stderr",
     "output_type": "stream",
     "text": [
      " 78%|███████▊  | 2926/3743 [02:15<00:50, 16.22it/s]"
     ]
    },
    {
     "name": "stdout",
     "output_type": "stream",
     "text": [
      "img/63520.png\n",
      "img/97128.png\n",
      "img/84016.png\n",
      "img/92154.png\n"
     ]
    },
    {
     "name": "stderr",
     "output_type": "stream",
     "text": [
      " 78%|███████▊  | 2930/3743 [02:15<00:49, 16.41it/s]"
     ]
    },
    {
     "name": "stdout",
     "output_type": "stream",
     "text": [
      "img/46918.png\n",
      "img/03874.png\n",
      "img/23961.png\n",
      "img/63924.png\n"
     ]
    },
    {
     "name": "stderr",
     "output_type": "stream",
     "text": [
      " 78%|███████▊  | 2934/3743 [02:15<00:51, 15.80it/s]"
     ]
    },
    {
     "name": "stdout",
     "output_type": "stream",
     "text": [
      "img/36749.png\n",
      "img/79325.png\n",
      "img/70835.png\n",
      "img/91853.png\n"
     ]
    },
    {
     "name": "stderr",
     "output_type": "stream",
     "text": [
      " 78%|███████▊  | 2938/3743 [02:16<00:55, 14.58it/s]"
     ]
    },
    {
     "name": "stdout",
     "output_type": "stream",
     "text": [
      "img/36541.png\n",
      "img/36190.png\n",
      "img/78296.png\n",
      "img/23845.png\n"
     ]
    },
    {
     "name": "stderr",
     "output_type": "stream",
     "text": [
      " 79%|███████▊  | 2941/3743 [02:16<00:49, 16.28it/s]"
     ]
    },
    {
     "name": "stdout",
     "output_type": "stream",
     "text": [
      "img/71430.png\n",
      "img/37965.png\n",
      "img/37190.png\n",
      "img/94615.png\n"
     ]
    },
    {
     "name": "stderr",
     "output_type": "stream",
     "text": [
      " 79%|███████▊  | 2947/3743 [02:16<00:45, 17.61it/s]"
     ]
    },
    {
     "name": "stdout",
     "output_type": "stream",
     "text": [
      "img/37128.png\n",
      "img/56419.png\n",
      "img/89526.png\n",
      "img/98643.png\n"
     ]
    },
    {
     "name": "stderr",
     "output_type": "stream",
     "text": [
      " 79%|███████▉  | 2951/3743 [02:16<00:48, 16.48it/s]"
     ]
    },
    {
     "name": "stdout",
     "output_type": "stream",
     "text": [
      "img/40573.png\n",
      "img/04873.png\n",
      "img/80612.png\n",
      "img/34715.png\n"
     ]
    },
    {
     "name": "stderr",
     "output_type": "stream",
     "text": [
      " 79%|███████▉  | 2955/3743 [02:17<00:45, 17.38it/s]"
     ]
    },
    {
     "name": "stdout",
     "output_type": "stream",
     "text": [
      "img/64157.png\n",
      "img/92718.png\n",
      "img/05943.png\n",
      "img/69134.png\n"
     ]
    },
    {
     "name": "stderr",
     "output_type": "stream",
     "text": [
      " 79%|███████▉  | 2959/3743 [02:17<00:44, 17.73it/s]"
     ]
    },
    {
     "name": "stdout",
     "output_type": "stream",
     "text": [
      "img/60718.png\n",
      "img/06179.png\n",
      "img/79250.png\n",
      "img/34206.png\n",
      "img/68349.png\n"
     ]
    },
    {
     "name": "stderr",
     "output_type": "stream",
     "text": [
      " 79%|███████▉  | 2963/3743 [02:17<00:45, 17.03it/s]"
     ]
    },
    {
     "name": "stdout",
     "output_type": "stream",
     "text": [
      "img/35729.png\n",
      "img/02831.png\n",
      "img/96801.png\n",
      "img/14685.png\n"
     ]
    },
    {
     "name": "stderr",
     "output_type": "stream",
     "text": [
      " 79%|███████▉  | 2967/3743 [02:17<00:44, 17.26it/s]"
     ]
    },
    {
     "name": "stdout",
     "output_type": "stream",
     "text": [
      "img/05826.png\n",
      "img/23198.png\n",
      "img/46239.png\n",
      "img/59402.png\n"
     ]
    },
    {
     "name": "stderr",
     "output_type": "stream",
     "text": [
      " 79%|███████▉  | 2971/3743 [02:17<00:44, 17.47it/s]"
     ]
    },
    {
     "name": "stdout",
     "output_type": "stream",
     "text": [
      "img/03864.png\n",
      "img/34872.png\n",
      "img/53481.png\n"
     ]
    },
    {
     "name": "stderr",
     "output_type": "stream",
     "text": [
      " 79%|███████▉  | 2975/3743 [02:18<00:48, 15.81it/s]"
     ]
    },
    {
     "name": "stdout",
     "output_type": "stream",
     "text": [
      "img/71459.png\n",
      "img/40182.png\n",
      "img/04267.png\n",
      "img/95764.png\n"
     ]
    },
    {
     "name": "stderr",
     "output_type": "stream",
     "text": [
      " 80%|███████▉  | 2977/3743 [02:18<00:56, 13.57it/s]"
     ]
    },
    {
     "name": "stdout",
     "output_type": "stream",
     "text": [
      "img/81450.png\n",
      "img/53268.png\n"
     ]
    },
    {
     "name": "stderr",
     "output_type": "stream",
     "text": [
      " 80%|███████▉  | 2981/3743 [02:18<00:53, 14.23it/s]"
     ]
    },
    {
     "name": "stdout",
     "output_type": "stream",
     "text": [
      "img/16759.png\n",
      "img/46075.png\n",
      "img/89437.png\n",
      "img/82946.png\n"
     ]
    },
    {
     "name": "stderr",
     "output_type": "stream",
     "text": [
      " 80%|███████▉  | 2983/3743 [02:18<00:49, 15.21it/s]"
     ]
    },
    {
     "name": "stdout",
     "output_type": "stream",
     "text": [
      "img/31094.png\n",
      "img/92814.png\n",
      "img/18759.png\n",
      "img/80156.png\n"
     ]
    },
    {
     "name": "stderr",
     "output_type": "stream",
     "text": [
      " 80%|███████▉  | 2988/3743 [02:19<00:43, 17.27it/s]"
     ]
    },
    {
     "name": "stdout",
     "output_type": "stream",
     "text": [
      "img/71863.png\n",
      "img/74930.png\n",
      "img/48170.png\n",
      "img/73152.png\n"
     ]
    },
    {
     "name": "stderr",
     "output_type": "stream",
     "text": [
      " 80%|███████▉  | 2990/3743 [02:19<00:44, 16.94it/s]"
     ]
    },
    {
     "name": "stdout",
     "output_type": "stream",
     "text": [
      "img/74562.png\n",
      "img/65981.png\n"
     ]
    },
    {
     "name": "stderr",
     "output_type": "stream",
     "text": [
      " 80%|███████▉  | 2994/3743 [02:19<00:55, 13.55it/s]"
     ]
    },
    {
     "name": "stdout",
     "output_type": "stream",
     "text": [
      "img/19834.png\n",
      "img/98603.png\n",
      "img/65817.png\n",
      "img/75381.png\n"
     ]
    },
    {
     "name": "stderr",
     "output_type": "stream",
     "text": [
      " 80%|████████  | 2998/3743 [02:19<00:53, 13.91it/s]"
     ]
    },
    {
     "name": "stdout",
     "output_type": "stream",
     "text": [
      "img/13086.png\n",
      "img/52631.png\n",
      "img/75360.png\n"
     ]
    },
    {
     "name": "stderr",
     "output_type": "stream",
     "text": [
      " 80%|████████  | 3000/3743 [02:20<01:04, 11.50it/s]"
     ]
    },
    {
     "name": "stdout",
     "output_type": "stream",
     "text": [
      "img/67059.png\n",
      "img/48125.png\n"
     ]
    },
    {
     "name": "stderr",
     "output_type": "stream",
     "text": [
      " 80%|████████  | 3002/3743 [02:20<00:59, 12.38it/s]"
     ]
    },
    {
     "name": "stdout",
     "output_type": "stream",
     "text": [
      "img/07294.png\n",
      "img/32015.png\n",
      "img/54931.png\n"
     ]
    },
    {
     "name": "stderr",
     "output_type": "stream",
     "text": [
      " 80%|████████  | 3006/3743 [02:20<01:01, 11.94it/s]"
     ]
    },
    {
     "name": "stdout",
     "output_type": "stream",
     "text": [
      "img/92041.png\n",
      "img/90618.png\n",
      "img/20543.png\n"
     ]
    },
    {
     "name": "stderr",
     "output_type": "stream",
     "text": [
      " 80%|████████  | 3008/3743 [02:20<00:57, 12.70it/s]"
     ]
    },
    {
     "name": "stdout",
     "output_type": "stream",
     "text": [
      "img/61570.png\n",
      "img/78062.png\n",
      "img/89517.png\n"
     ]
    },
    {
     "name": "stderr",
     "output_type": "stream",
     "text": [
      " 80%|████████  | 3012/3743 [02:20<00:52, 13.86it/s]"
     ]
    },
    {
     "name": "stdout",
     "output_type": "stream",
     "text": [
      "img/08961.png\n",
      "img/20459.png\n",
      "img/13506.png\n",
      "img/34795.png\n"
     ]
    },
    {
     "name": "stderr",
     "output_type": "stream",
     "text": [
      " 81%|████████  | 3016/3743 [02:21<00:47, 15.17it/s]"
     ]
    },
    {
     "name": "stdout",
     "output_type": "stream",
     "text": [
      "img/87519.png\n",
      "img/25318.png\n",
      "img/26381.png\n",
      "img/36524.png\n"
     ]
    },
    {
     "name": "stderr",
     "output_type": "stream",
     "text": [
      " 81%|████████  | 3020/3743 [02:21<00:50, 14.37it/s]"
     ]
    },
    {
     "name": "stdout",
     "output_type": "stream",
     "text": [
      "img/61028.png\n",
      "img/13802.png\n",
      "img/48091.png\n",
      "img/84527.png\n"
     ]
    },
    {
     "name": "stderr",
     "output_type": "stream",
     "text": [
      " 81%|████████  | 3024/3743 [02:21<00:52, 13.82it/s]"
     ]
    },
    {
     "name": "stdout",
     "output_type": "stream",
     "text": [
      "img/04361.png\n",
      "img/89067.png\n",
      "img/63902.png\n"
     ]
    },
    {
     "name": "stderr",
     "output_type": "stream",
     "text": [
      " 81%|████████  | 3029/3743 [02:22<00:41, 17.14it/s]"
     ]
    },
    {
     "name": "stdout",
     "output_type": "stream",
     "text": [
      "img/98246.png\n",
      "img/67021.png\n",
      "img/41756.png\n",
      "img/97051.png\n",
      "img/51903.png\n"
     ]
    },
    {
     "name": "stderr",
     "output_type": "stream",
     "text": [
      " 81%|████████  | 3034/3743 [02:22<00:38, 18.55it/s]"
     ]
    },
    {
     "name": "stdout",
     "output_type": "stream",
     "text": [
      "img/74215.png\n",
      "img/68390.png\n",
      "img/91486.png\n",
      "img/58649.png\n",
      "img/03875.png\n"
     ]
    },
    {
     "name": "stderr",
     "output_type": "stream",
     "text": [
      " 81%|████████  | 3037/3743 [02:22<00:37, 18.89it/s]"
     ]
    },
    {
     "name": "stdout",
     "output_type": "stream",
     "text": [
      "img/43521.png\n",
      "img/37569.png\n",
      "img/91432.png\n",
      "img/93016.png\n"
     ]
    },
    {
     "name": "stderr",
     "output_type": "stream",
     "text": [
      " 81%|████████▏ | 3042/3743 [02:22<00:35, 19.96it/s]"
     ]
    },
    {
     "name": "stdout",
     "output_type": "stream",
     "text": [
      "img/27956.png\n",
      "img/05619.png\n",
      "img/69085.png\n",
      "img/10547.png\n"
     ]
    },
    {
     "name": "stderr",
     "output_type": "stream",
     "text": [
      " 81%|████████▏ | 3045/3743 [02:22<00:46, 14.99it/s]"
     ]
    },
    {
     "name": "stdout",
     "output_type": "stream",
     "text": [
      "img/01329.png\n",
      "img/43826.png\n",
      "img/29614.png\n",
      "img/07692.png\n"
     ]
    },
    {
     "name": "stderr",
     "output_type": "stream",
     "text": [
      " 81%|████████▏ | 3050/3743 [02:23<00:39, 17.75it/s]"
     ]
    },
    {
     "name": "stdout",
     "output_type": "stream",
     "text": [
      "img/64089.png\n",
      "img/61905.png\n",
      "img/48310.png\n",
      "img/93502.png\n"
     ]
    },
    {
     "name": "stderr",
     "output_type": "stream",
     "text": [
      " 82%|████████▏ | 3052/3743 [02:23<00:38, 18.02it/s]"
     ]
    },
    {
     "name": "stdout",
     "output_type": "stream",
     "text": [
      "img/21740.png\n",
      "img/65478.png\n"
     ]
    },
    {
     "name": "stderr",
     "output_type": "stream",
     "text": [
      " 82%|████████▏ | 3056/3743 [02:23<00:48, 14.11it/s]"
     ]
    },
    {
     "name": "stdout",
     "output_type": "stream",
     "text": [
      "img/76094.png\n",
      "img/89523.png\n",
      "img/67129.png\n",
      "img/90718.png\n"
     ]
    },
    {
     "name": "stderr",
     "output_type": "stream",
     "text": [
      " 82%|████████▏ | 3060/3743 [02:23<00:42, 16.25it/s]"
     ]
    },
    {
     "name": "stdout",
     "output_type": "stream",
     "text": [
      "img/47350.png\n",
      "img/24835.png\n",
      "img/15964.png\n",
      "img/87365.png\n",
      "img/41573.png\n"
     ]
    },
    {
     "name": "stderr",
     "output_type": "stream",
     "text": [
      " 82%|████████▏ | 3066/3743 [02:24<00:34, 19.73it/s]"
     ]
    },
    {
     "name": "stdout",
     "output_type": "stream",
     "text": [
      "img/94015.png\n",
      "img/30942.png\n",
      "img/68973.png\n",
      "img/17326.png\n",
      "img/72459.png\n",
      "img/09138.png\n"
     ]
    },
    {
     "name": "stderr",
     "output_type": "stream",
     "text": [
      " 82%|████████▏ | 3069/3743 [02:24<00:32, 20.72it/s]"
     ]
    },
    {
     "name": "stdout",
     "output_type": "stream",
     "text": [
      "img/61420.png\n",
      "img/57412.png\n",
      "img/65730.png\n"
     ]
    },
    {
     "name": "stderr",
     "output_type": "stream",
     "text": [
      " 82%|████████▏ | 3072/3743 [02:24<00:44, 14.97it/s]"
     ]
    },
    {
     "name": "stdout",
     "output_type": "stream",
     "text": [
      "img/79314.png\n",
      "img/57120.png\n"
     ]
    },
    {
     "name": "stderr",
     "output_type": "stream",
     "text": [
      " 82%|████████▏ | 3077/3743 [02:24<00:42, 15.85it/s]"
     ]
    },
    {
     "name": "stdout",
     "output_type": "stream",
     "text": [
      "img/76840.png\n",
      "img/74805.png\n",
      "img/20869.png\n",
      "img/76843.png\n",
      "img/54837.png\n"
     ]
    },
    {
     "name": "stderr",
     "output_type": "stream",
     "text": [
      " 82%|████████▏ | 3081/3743 [02:25<00:43, 15.05it/s]"
     ]
    },
    {
     "name": "stdout",
     "output_type": "stream",
     "text": [
      "img/48725.png\n",
      "img/53782.png\n",
      "img/39528.png\n",
      "img/27163.png\n"
     ]
    },
    {
     "name": "stderr",
     "output_type": "stream",
     "text": [
      " 82%|████████▏ | 3085/3743 [02:25<00:40, 16.16it/s]"
     ]
    },
    {
     "name": "stdout",
     "output_type": "stream",
     "text": [
      "img/74801.png\n",
      "img/76495.png\n",
      "img/94251.png\n",
      "img/19836.png\n"
     ]
    },
    {
     "name": "stderr",
     "output_type": "stream",
     "text": [
      " 83%|████████▎ | 3088/3743 [02:25<00:38, 16.91it/s]"
     ]
    },
    {
     "name": "stdout",
     "output_type": "stream",
     "text": [
      "img/74218.png\n",
      "img/97204.png\n",
      "img/27391.png\n",
      "img/23581.png\n",
      "img/47960.png\n"
     ]
    },
    {
     "name": "stderr",
     "output_type": "stream",
     "text": [
      " 83%|████████▎ | 3093/3743 [02:25<00:37, 17.27it/s]"
     ]
    },
    {
     "name": "stdout",
     "output_type": "stream",
     "text": [
      "img/13590.png\n",
      "img/85307.png\n",
      "img/73516.png\n",
      "img/73518.png\n"
     ]
    },
    {
     "name": "stderr",
     "output_type": "stream",
     "text": [
      " 83%|████████▎ | 3097/3743 [02:26<00:36, 17.89it/s]"
     ]
    },
    {
     "name": "stdout",
     "output_type": "stream",
     "text": [
      "img/95201.png\n",
      "img/08234.png\n",
      "img/17932.png\n",
      "img/92641.png\n"
     ]
    },
    {
     "name": "stderr",
     "output_type": "stream",
     "text": [
      " 83%|████████▎ | 3101/3743 [02:26<00:46, 13.82it/s]"
     ]
    },
    {
     "name": "stdout",
     "output_type": "stream",
     "text": [
      "img/34081.png\n",
      "img/75231.png\n",
      "img/74361.png\n"
     ]
    },
    {
     "name": "stderr",
     "output_type": "stream",
     "text": [
      " 83%|████████▎ | 3103/3743 [02:26<00:49, 12.97it/s]"
     ]
    },
    {
     "name": "stdout",
     "output_type": "stream",
     "text": [
      "img/47189.png\n",
      "img/85920.png\n",
      "img/89761.png\n"
     ]
    },
    {
     "name": "stderr",
     "output_type": "stream",
     "text": [
      " 83%|████████▎ | 3107/3743 [02:26<00:43, 14.75it/s]"
     ]
    },
    {
     "name": "stdout",
     "output_type": "stream",
     "text": [
      "img/52649.png\n",
      "img/71942.png\n",
      "img/03128.png\n",
      "img/21973.png\n"
     ]
    },
    {
     "name": "stderr",
     "output_type": "stream",
     "text": [
      " 83%|████████▎ | 3111/3743 [02:27<00:39, 15.90it/s]"
     ]
    },
    {
     "name": "stdout",
     "output_type": "stream",
     "text": [
      "img/25478.png\n",
      "img/39625.png\n",
      "img/01349.png\n",
      "img/58631.png\n"
     ]
    },
    {
     "name": "stderr",
     "output_type": "stream",
     "text": [
      " 83%|████████▎ | 3116/3743 [02:27<00:36, 17.27it/s]"
     ]
    },
    {
     "name": "stdout",
     "output_type": "stream",
     "text": [
      "img/65904.png\n",
      "img/03947.png\n",
      "img/51498.png\n",
      "img/37681.png\n"
     ]
    },
    {
     "name": "stderr",
     "output_type": "stream",
     "text": [
      " 83%|████████▎ | 3118/3743 [02:27<00:42, 14.65it/s]"
     ]
    },
    {
     "name": "stdout",
     "output_type": "stream",
     "text": [
      "img/43207.png\n",
      "img/56048.png\n",
      "img/12059.png\n"
     ]
    },
    {
     "name": "stderr",
     "output_type": "stream",
     "text": [
      " 83%|████████▎ | 3122/3743 [02:27<00:43, 14.29it/s]"
     ]
    },
    {
     "name": "stdout",
     "output_type": "stream",
     "text": [
      "img/86540.png\n",
      "img/47826.png\n",
      "img/40512.png\n",
      "img/47809.png\n"
     ]
    },
    {
     "name": "stderr",
     "output_type": "stream",
     "text": [
      " 84%|████████▎ | 3127/3743 [02:28<00:36, 16.89it/s]"
     ]
    },
    {
     "name": "stdout",
     "output_type": "stream",
     "text": [
      "img/67481.png\n",
      "img/09824.png\n",
      "img/26014.png\n",
      "img/93280.png\n",
      "img/01579.png\n"
     ]
    },
    {
     "name": "stderr",
     "output_type": "stream",
     "text": [
      " 84%|████████▎ | 3133/3743 [02:28<00:32, 18.94it/s]"
     ]
    },
    {
     "name": "stdout",
     "output_type": "stream",
     "text": [
      "img/59732.png\n",
      "img/43812.png\n",
      "img/36481.png\n",
      "img/14625.png\n",
      "img/18397.png\n"
     ]
    },
    {
     "name": "stderr",
     "output_type": "stream",
     "text": [
      " 84%|████████▍ | 3135/3743 [02:28<00:36, 16.74it/s]"
     ]
    },
    {
     "name": "stdout",
     "output_type": "stream",
     "text": [
      "img/85327.png\n",
      "img/69205.png\n",
      "img/19604.png\n",
      "img/57142.png\n"
     ]
    },
    {
     "name": "stderr",
     "output_type": "stream",
     "text": [
      " 84%|████████▍ | 3141/3743 [02:28<00:31, 19.27it/s]"
     ]
    },
    {
     "name": "stdout",
     "output_type": "stream",
     "text": [
      "img/48976.png\n",
      "img/64273.png\n",
      "img/06824.png\n",
      "img/34680.png\n",
      "img/48263.png\n"
     ]
    },
    {
     "name": "stderr",
     "output_type": "stream",
     "text": [
      " 84%|████████▍ | 3147/3743 [02:29<00:31, 19.14it/s]"
     ]
    },
    {
     "name": "stdout",
     "output_type": "stream",
     "text": [
      "img/28173.png\n",
      "img/17603.png\n",
      "img/19206.png\n",
      "img/67342.png\n",
      "img/07984.png\n"
     ]
    },
    {
     "name": "stderr",
     "output_type": "stream",
     "text": [
      " 84%|████████▍ | 3149/3743 [02:29<00:34, 17.40it/s]"
     ]
    },
    {
     "name": "stdout",
     "output_type": "stream",
     "text": [
      "img/75680.png\n",
      "img/06825.png\n",
      "img/45923.png\n"
     ]
    },
    {
     "name": "stderr",
     "output_type": "stream",
     "text": [
      " 84%|████████▍ | 3153/3743 [02:29<00:36, 16.38it/s]"
     ]
    },
    {
     "name": "stdout",
     "output_type": "stream",
     "text": [
      "img/43082.png\n",
      "img/94780.png\n",
      "img/49652.png\n",
      "img/15037.png\n",
      "img/21038.png\n"
     ]
    },
    {
     "name": "stderr",
     "output_type": "stream",
     "text": [
      " 84%|████████▍ | 3159/3743 [02:29<00:30, 19.03it/s]"
     ]
    },
    {
     "name": "stdout",
     "output_type": "stream",
     "text": [
      "img/34109.png\n",
      "img/82016.png\n",
      "img/24870.png\n",
      "img/46271.png\n"
     ]
    },
    {
     "name": "stderr",
     "output_type": "stream",
     "text": [
      " 85%|████████▍ | 3164/3743 [02:30<00:31, 18.67it/s]"
     ]
    },
    {
     "name": "stdout",
     "output_type": "stream",
     "text": [
      "img/37416.png\n",
      "img/23046.png\n",
      "img/23760.png\n",
      "img/53618.png\n",
      "img/87625.png\n"
     ]
    },
    {
     "name": "stderr",
     "output_type": "stream",
     "text": [
      " 85%|████████▍ | 3166/3743 [02:30<00:32, 17.67it/s]"
     ]
    },
    {
     "name": "stdout",
     "output_type": "stream",
     "text": [
      "img/87453.png\n",
      "img/61904.png\n",
      "img/45069.png\n"
     ]
    },
    {
     "name": "stderr",
     "output_type": "stream",
     "text": [
      " 85%|████████▍ | 3170/3743 [02:30<00:32, 17.39it/s]"
     ]
    },
    {
     "name": "stdout",
     "output_type": "stream",
     "text": [
      "img/60981.png\n",
      "img/37628.png\n",
      "img/18542.png\n",
      "img/34765.png\n",
      "img/65389.png\n"
     ]
    },
    {
     "name": "stderr",
     "output_type": "stream",
     "text": [
      " 85%|████████▍ | 3173/3743 [02:30<00:29, 19.33it/s]"
     ]
    },
    {
     "name": "stdout",
     "output_type": "stream",
     "text": [
      "img/93165.png\n",
      "img/09213.png\n",
      "img/34970.png\n"
     ]
    },
    {
     "name": "stderr",
     "output_type": "stream",
     "text": [
      " 85%|████████▍ | 3178/3743 [02:30<00:31, 17.67it/s]"
     ]
    },
    {
     "name": "stdout",
     "output_type": "stream",
     "text": [
      "img/37619.png\n",
      "img/98243.png\n",
      "img/90315.png\n",
      "img/85392.png\n"
     ]
    },
    {
     "name": "stderr",
     "output_type": "stream",
     "text": [
      " 85%|████████▌ | 3182/3743 [02:31<00:35, 15.66it/s]"
     ]
    },
    {
     "name": "stdout",
     "output_type": "stream",
     "text": [
      "img/79124.png\n",
      "img/59817.png\n",
      "img/92365.png\n",
      "img/02853.png\n"
     ]
    },
    {
     "name": "stderr",
     "output_type": "stream",
     "text": [
      " 85%|████████▌ | 3187/3743 [02:31<00:35, 15.65it/s]"
     ]
    },
    {
     "name": "stdout",
     "output_type": "stream",
     "text": [
      "img/91345.png\n",
      "img/28590.png\n",
      "img/15892.png\n"
     ]
    },
    {
     "name": "stderr",
     "output_type": "stream",
     "text": [
      " 85%|████████▌ | 3190/3743 [02:31<00:35, 15.59it/s]"
     ]
    },
    {
     "name": "stdout",
     "output_type": "stream",
     "text": [
      "img/95062.png\n",
      "img/50876.png\n",
      "img/52483.png\n",
      "img/90516.png\n"
     ]
    },
    {
     "name": "stderr",
     "output_type": "stream",
     "text": [
      " 85%|████████▌ | 3194/3743 [02:31<00:34, 15.81it/s]"
     ]
    },
    {
     "name": "stdout",
     "output_type": "stream",
     "text": [
      "img/72014.png\n",
      "img/73128.png\n",
      "img/82609.png\n",
      "img/41078.png\n"
     ]
    },
    {
     "name": "stderr",
     "output_type": "stream",
     "text": [
      " 85%|████████▌ | 3196/3743 [02:31<00:35, 15.42it/s]"
     ]
    },
    {
     "name": "stdout",
     "output_type": "stream",
     "text": [
      "img/42763.png\n",
      "img/40293.png\n"
     ]
    },
    {
     "name": "stderr",
     "output_type": "stream",
     "text": [
      " 85%|████████▌ | 3198/3743 [02:32<01:07,  8.13it/s]"
     ]
    },
    {
     "name": "stdout",
     "output_type": "stream",
     "text": [
      "img/17849.png\n",
      "img/86351.png\n",
      "img/63985.png\n"
     ]
    },
    {
     "name": "stderr",
     "output_type": "stream",
     "text": [
      " 85%|████████▌ | 3200/3743 [02:32<01:02,  8.70it/s]"
     ]
    },
    {
     "name": "stdout",
     "output_type": "stream",
     "text": [
      "img/43791.png\n",
      "img/93578.png\n"
     ]
    },
    {
     "name": "stderr",
     "output_type": "stream",
     "text": [
      " 86%|████████▌ | 3204/3743 [02:33<00:51, 10.48it/s]"
     ]
    },
    {
     "name": "stdout",
     "output_type": "stream",
     "text": [
      "img/27603.png\n",
      "img/61037.png\n",
      "img/71320.png\n",
      "img/76524.png\n"
     ]
    },
    {
     "name": "stderr",
     "output_type": "stream",
     "text": [
      " 86%|████████▌ | 3209/3743 [02:33<00:39, 13.54it/s]"
     ]
    },
    {
     "name": "stdout",
     "output_type": "stream",
     "text": [
      "img/58743.png\n",
      "img/02719.png\n",
      "img/47369.png\n",
      "img/68517.png\n",
      "img/70934.png\n"
     ]
    },
    {
     "name": "stderr",
     "output_type": "stream",
     "text": [
      " 86%|████████▌ | 3212/3743 [02:33<00:34, 15.59it/s]"
     ]
    },
    {
     "name": "stdout",
     "output_type": "stream",
     "text": [
      "img/90351.png\n",
      "img/68145.png\n"
     ]
    },
    {
     "name": "stderr",
     "output_type": "stream",
     "text": [
      " 86%|████████▌ | 3214/3743 [02:33<00:50, 10.58it/s]"
     ]
    },
    {
     "name": "stdout",
     "output_type": "stream",
     "text": [
      "img/07965.png\n",
      "img/92405.png\n",
      "img/08964.png\n"
     ]
    },
    {
     "name": "stderr",
     "output_type": "stream",
     "text": [
      " 86%|████████▌ | 3219/3743 [02:33<00:37, 13.88it/s]"
     ]
    },
    {
     "name": "stdout",
     "output_type": "stream",
     "text": [
      "img/83927.png\n",
      "img/31649.png\n",
      "img/10829.png\n",
      "img/13865.png\n",
      "img/43198.png\n"
     ]
    },
    {
     "name": "stderr",
     "output_type": "stream",
     "text": [
      " 86%|████████▌ | 3224/3743 [02:34<00:31, 16.39it/s]"
     ]
    },
    {
     "name": "stdout",
     "output_type": "stream",
     "text": [
      "img/98271.png\n",
      "img/90648.png\n",
      "img/35074.png\n",
      "img/91862.png\n"
     ]
    },
    {
     "name": "stderr",
     "output_type": "stream",
     "text": [
      " 86%|████████▌ | 3228/3743 [02:34<00:31, 16.29it/s]"
     ]
    },
    {
     "name": "stdout",
     "output_type": "stream",
     "text": [
      "img/62840.png\n",
      "img/62413.png\n",
      "img/67801.png\n",
      "img/54039.png\n"
     ]
    },
    {
     "name": "stderr",
     "output_type": "stream",
     "text": [
      " 86%|████████▋ | 3232/3743 [02:34<00:30, 16.91it/s]"
     ]
    },
    {
     "name": "stdout",
     "output_type": "stream",
     "text": [
      "img/69025.png\n",
      "img/14603.png\n",
      "img/96470.png\n",
      "img/79128.png\n",
      "img/09364.png\n"
     ]
    },
    {
     "name": "stderr",
     "output_type": "stream",
     "text": [
      " 86%|████████▋ | 3236/3743 [02:35<00:34, 14.80it/s]"
     ]
    },
    {
     "name": "stdout",
     "output_type": "stream",
     "text": [
      "img/61827.png\n",
      "img/63804.png\n",
      "img/81279.png\n"
     ]
    },
    {
     "name": "stderr",
     "output_type": "stream",
     "text": [
      " 87%|████████▋ | 3241/3743 [02:35<00:28, 17.68it/s]"
     ]
    },
    {
     "name": "stdout",
     "output_type": "stream",
     "text": [
      "img/64015.png\n",
      "img/27083.png\n",
      "img/17308.png\n",
      "img/51497.png\n",
      "img/95801.png\n",
      "img/87539.png\n"
     ]
    },
    {
     "name": "stderr",
     "output_type": "stream",
     "text": [
      " 87%|████████▋ | 3246/3743 [02:35<00:25, 19.17it/s]"
     ]
    },
    {
     "name": "stdout",
     "output_type": "stream",
     "text": [
      "img/63981.png\n",
      "img/79423.png\n",
      "img/85429.png\n",
      "img/05782.png\n",
      "img/59678.png\n"
     ]
    },
    {
     "name": "stderr",
     "output_type": "stream",
     "text": [
      " 87%|████████▋ | 3251/3743 [02:35<00:26, 18.51it/s]"
     ]
    },
    {
     "name": "stdout",
     "output_type": "stream",
     "text": [
      "img/38094.png\n",
      "img/20538.png\n",
      "img/84069.png\n",
      "img/89534.png\n"
     ]
    },
    {
     "name": "stderr",
     "output_type": "stream",
     "text": [
      " 87%|████████▋ | 3253/3743 [02:35<00:30, 16.24it/s]"
     ]
    },
    {
     "name": "stdout",
     "output_type": "stream",
     "text": [
      "img/54389.png\n",
      "img/12546.png\n",
      "img/80453.png\n",
      "img/63281.png\n"
     ]
    },
    {
     "name": "stderr",
     "output_type": "stream",
     "text": [
      " 87%|████████▋ | 3259/3743 [02:36<00:27, 17.54it/s]"
     ]
    },
    {
     "name": "stdout",
     "output_type": "stream",
     "text": [
      "img/36804.png\n",
      "img/53048.png\n",
      "img/15093.png\n",
      "img/68431.png\n"
     ]
    },
    {
     "name": "stderr",
     "output_type": "stream",
     "text": [
      " 87%|████████▋ | 3262/3743 [02:36<00:26, 18.33it/s]"
     ]
    },
    {
     "name": "stdout",
     "output_type": "stream",
     "text": [
      "img/98276.png\n",
      "img/26839.png\n",
      "img/19275.png\n",
      "img/30245.png\n",
      "img/96704.png\n"
     ]
    },
    {
     "name": "stderr",
     "output_type": "stream",
     "text": [
      " 87%|████████▋ | 3268/3743 [02:36<00:22, 20.94it/s]"
     ]
    },
    {
     "name": "stdout",
     "output_type": "stream",
     "text": [
      "img/72604.png\n",
      "img/84059.png\n",
      "img/45806.png\n",
      "img/80965.png\n",
      "img/93786.png\n"
     ]
    },
    {
     "name": "stderr",
     "output_type": "stream",
     "text": [
      " 87%|████████▋ | 3271/3743 [02:36<00:24, 19.62it/s]"
     ]
    },
    {
     "name": "stdout",
     "output_type": "stream",
     "text": [
      "img/21653.png\n",
      "img/79024.png\n",
      "img/90572.png\n",
      "img/67309.png\n"
     ]
    },
    {
     "name": "stderr",
     "output_type": "stream",
     "text": [
      " 87%|████████▋ | 3274/3743 [02:36<00:22, 20.79it/s]"
     ]
    },
    {
     "name": "stdout",
     "output_type": "stream",
     "text": [
      "img/43928.png\n",
      "img/85936.png\n",
      "img/06489.png\n"
     ]
    },
    {
     "name": "stderr",
     "output_type": "stream",
     "text": [
      " 88%|████████▊ | 3279/3743 [02:37<00:29, 15.95it/s]"
     ]
    },
    {
     "name": "stdout",
     "output_type": "stream",
     "text": [
      "img/17953.png\n",
      "img/27864.png\n",
      "img/93142.png\n",
      "img/26493.png\n"
     ]
    },
    {
     "name": "stderr",
     "output_type": "stream",
     "text": [
      " 88%|████████▊ | 3285/3743 [02:37<00:24, 18.44it/s]"
     ]
    },
    {
     "name": "stdout",
     "output_type": "stream",
     "text": [
      "img/15768.png\n",
      "img/95283.png\n",
      "img/62409.png\n",
      "img/14329.png\n",
      "img/39816.png\n"
     ]
    },
    {
     "name": "stderr",
     "output_type": "stream",
     "text": [
      " 88%|████████▊ | 3287/3743 [02:37<00:27, 16.49it/s]"
     ]
    },
    {
     "name": "stdout",
     "output_type": "stream",
     "text": [
      "img/24593.png\n",
      "img/12547.png\n",
      "img/87564.png\n",
      "img/46730.png\n"
     ]
    },
    {
     "name": "stderr",
     "output_type": "stream",
     "text": [
      " 88%|████████▊ | 3292/3743 [02:38<00:25, 17.95it/s]"
     ]
    },
    {
     "name": "stdout",
     "output_type": "stream",
     "text": [
      "img/41802.png\n",
      "img/83719.png\n",
      "img/53682.png\n",
      "img/78094.png\n",
      "img/46295.png\n"
     ]
    },
    {
     "name": "stderr",
     "output_type": "stream",
     "text": [
      " 88%|████████▊ | 3297/3743 [02:38<00:26, 16.91it/s]"
     ]
    },
    {
     "name": "stdout",
     "output_type": "stream",
     "text": [
      "img/96302.png\n",
      "img/91730.png\n",
      "img/57831.png\n",
      "img/79138.png\n"
     ]
    },
    {
     "name": "stderr",
     "output_type": "stream",
     "text": [
      " 88%|████████▊ | 3303/3743 [02:38<00:22, 19.24it/s]"
     ]
    },
    {
     "name": "stdout",
     "output_type": "stream",
     "text": [
      "img/87065.png\n",
      "img/50873.png\n",
      "img/56304.png\n",
      "img/85139.png\n",
      "img/12873.png\n"
     ]
    },
    {
     "name": "stderr",
     "output_type": "stream",
     "text": [
      " 88%|████████▊ | 3307/3743 [02:38<00:26, 16.42it/s]"
     ]
    },
    {
     "name": "stdout",
     "output_type": "stream",
     "text": [
      "img/27038.png\n",
      "img/85190.png\n",
      "img/34876.png\n",
      "img/37425.png\n"
     ]
    },
    {
     "name": "stderr",
     "output_type": "stream",
     "text": [
      " 88%|████████▊ | 3310/3743 [02:38<00:23, 18.65it/s]"
     ]
    },
    {
     "name": "stdout",
     "output_type": "stream",
     "text": [
      "img/84291.png\n",
      "img/06584.png\n",
      "img/28046.png\n",
      "img/52708.png\n",
      "img/87936.png\n"
     ]
    },
    {
     "name": "stderr",
     "output_type": "stream",
     "text": [
      " 89%|████████▊ | 3316/3743 [02:39<00:22, 19.06it/s]"
     ]
    },
    {
     "name": "stdout",
     "output_type": "stream",
     "text": [
      "img/52947.png\n",
      "img/34179.png\n",
      "img/90342.png\n",
      "img/90725.png\n"
     ]
    },
    {
     "name": "stderr",
     "output_type": "stream",
     "text": [
      " 89%|████████▊ | 3319/3743 [02:39<00:21, 19.33it/s]"
     ]
    },
    {
     "name": "stdout",
     "output_type": "stream",
     "text": [
      "img/54130.png\n",
      "img/78015.png\n",
      "img/10258.png\n",
      "img/10682.png\n",
      "img/31059.png\n"
     ]
    },
    {
     "name": "stderr",
     "output_type": "stream",
     "text": [
      " 89%|████████▉ | 3325/3743 [02:39<00:22, 18.24it/s]"
     ]
    },
    {
     "name": "stdout",
     "output_type": "stream",
     "text": [
      "img/87592.png\n",
      "img/17528.png\n",
      "img/40967.png\n",
      "img/67582.png\n"
     ]
    },
    {
     "name": "stderr",
     "output_type": "stream",
     "text": [
      " 89%|████████▉ | 3328/3743 [02:39<00:21, 19.01it/s]"
     ]
    },
    {
     "name": "stdout",
     "output_type": "stream",
     "text": [
      "img/20381.png\n",
      "img/49836.png\n",
      "img/16538.png\n",
      "img/06349.png\n"
     ]
    },
    {
     "name": "stderr",
     "output_type": "stream",
     "text": [
      " 89%|████████▉ | 3332/3743 [02:40<00:25, 16.02it/s]"
     ]
    },
    {
     "name": "stdout",
     "output_type": "stream",
     "text": [
      "img/05942.png\n",
      "img/47358.png\n",
      "img/20497.png\n"
     ]
    },
    {
     "name": "stderr",
     "output_type": "stream",
     "text": [
      " 89%|████████▉ | 3336/3743 [02:40<00:27, 14.95it/s]"
     ]
    },
    {
     "name": "stdout",
     "output_type": "stream",
     "text": [
      "img/94178.png\n",
      "img/47592.png\n",
      "img/68592.png\n",
      "img/49867.png\n"
     ]
    },
    {
     "name": "stderr",
     "output_type": "stream",
     "text": [
      " 89%|████████▉ | 3338/3743 [02:40<00:26, 15.46it/s]"
     ]
    },
    {
     "name": "stdout",
     "output_type": "stream",
     "text": [
      "img/94087.png\n",
      "img/30267.png\n"
     ]
    },
    {
     "name": "stderr",
     "output_type": "stream",
     "text": [
      " 89%|████████▉ | 3343/3743 [02:40<00:26, 14.86it/s]"
     ]
    },
    {
     "name": "stdout",
     "output_type": "stream",
     "text": [
      "img/61823.png\n",
      "img/20196.png\n",
      "img/28691.png\n",
      "img/15280.png\n"
     ]
    },
    {
     "name": "stderr",
     "output_type": "stream",
     "text": [
      " 89%|████████▉ | 3345/3743 [02:41<00:27, 14.50it/s]"
     ]
    },
    {
     "name": "stdout",
     "output_type": "stream",
     "text": [
      "img/89503.png\n",
      "img/25310.png\n",
      "img/37980.png\n"
     ]
    },
    {
     "name": "stderr",
     "output_type": "stream",
     "text": [
      " 89%|████████▉ | 3349/3743 [02:41<00:26, 15.12it/s]"
     ]
    },
    {
     "name": "stdout",
     "output_type": "stream",
     "text": [
      "img/60539.png\n",
      "img/01245.png\n",
      "img/56830.png\n",
      "img/16208.png\n"
     ]
    },
    {
     "name": "stderr",
     "output_type": "stream",
     "text": [
      " 90%|████████▉ | 3351/3743 [02:41<00:30, 12.98it/s]"
     ]
    },
    {
     "name": "stdout",
     "output_type": "stream",
     "text": [
      "img/05736.png\n",
      "img/56417.png\n",
      "img/25971.png\n"
     ]
    },
    {
     "name": "stderr",
     "output_type": "stream",
     "text": [
      " 90%|████████▉ | 3355/3743 [02:41<00:27, 14.08it/s]"
     ]
    },
    {
     "name": "stdout",
     "output_type": "stream",
     "text": [
      "img/15647.png\n",
      "img/40592.png\n",
      "img/45189.png\n",
      "img/21749.png\n"
     ]
    },
    {
     "name": "stderr",
     "output_type": "stream",
     "text": [
      " 90%|████████▉ | 3359/3743 [02:42<00:25, 14.96it/s]"
     ]
    },
    {
     "name": "stdout",
     "output_type": "stream",
     "text": [
      "img/24907.png\n",
      "img/23174.png\n",
      "img/47589.png\n",
      "img/30597.png\n"
     ]
    },
    {
     "name": "stderr",
     "output_type": "stream",
     "text": [
      " 90%|████████▉ | 3363/3743 [02:42<00:26, 14.61it/s]"
     ]
    },
    {
     "name": "stdout",
     "output_type": "stream",
     "text": [
      "img/14078.png\n",
      "img/63041.png\n",
      "img/04579.png\n",
      "img/06859.png\n"
     ]
    },
    {
     "name": "stderr",
     "output_type": "stream",
     "text": [
      " 90%|████████▉ | 3368/3743 [02:42<00:22, 16.73it/s]"
     ]
    },
    {
     "name": "stdout",
     "output_type": "stream",
     "text": [
      "img/95714.png\n",
      "img/89406.png\n",
      "img/52486.png\n",
      "img/15407.png\n"
     ]
    },
    {
     "name": "stderr",
     "output_type": "stream",
     "text": [
      " 90%|█████████ | 3370/3743 [02:42<00:26, 14.00it/s]"
     ]
    },
    {
     "name": "stdout",
     "output_type": "stream",
     "text": [
      "img/50397.png\n",
      "img/41305.png\n",
      "img/26394.png\n"
     ]
    },
    {
     "name": "stderr",
     "output_type": "stream",
     "text": [
      " 90%|█████████ | 3374/3743 [02:43<00:26, 13.97it/s]"
     ]
    },
    {
     "name": "stdout",
     "output_type": "stream",
     "text": [
      "img/45203.png\n",
      "img/36578.png\n",
      "img/62814.png\n"
     ]
    },
    {
     "name": "stderr",
     "output_type": "stream",
     "text": [
      " 90%|█████████ | 3378/3743 [02:43<00:23, 15.75it/s]"
     ]
    },
    {
     "name": "stdout",
     "output_type": "stream",
     "text": [
      "img/47865.png\n",
      "img/48213.png\n",
      "img/93187.png\n",
      "img/08275.png\n"
     ]
    },
    {
     "name": "stderr",
     "output_type": "stream",
     "text": [
      " 90%|█████████ | 3382/3743 [02:43<00:22, 16.04it/s]"
     ]
    },
    {
     "name": "stdout",
     "output_type": "stream",
     "text": [
      "img/13764.png\n",
      "img/57693.png\n",
      "img/09187.png\n",
      "img/81305.png\n"
     ]
    },
    {
     "name": "stderr",
     "output_type": "stream",
     "text": [
      " 90%|█████████ | 3384/3743 [02:43<00:24, 14.82it/s]"
     ]
    },
    {
     "name": "stdout",
     "output_type": "stream",
     "text": [
      "img/53879.png\n",
      "img/31706.png\n",
      "img/72489.png\n",
      "img/31048.png\n"
     ]
    },
    {
     "name": "stderr",
     "output_type": "stream",
     "text": [
      " 91%|█████████ | 3390/3743 [02:44<00:19, 17.70it/s]"
     ]
    },
    {
     "name": "stdout",
     "output_type": "stream",
     "text": [
      "img/58312.png\n",
      "img/20873.png\n",
      "img/74203.png\n",
      "img/96340.png\n",
      "img/61423.png\n",
      "img/49832.png\n"
     ]
    },
    {
     "name": "stderr",
     "output_type": "stream",
     "text": [
      " 91%|█████████ | 3395/3743 [02:44<00:21, 16.44it/s]"
     ]
    },
    {
     "name": "stdout",
     "output_type": "stream",
     "text": [
      "img/75130.png\n",
      "img/64327.png\n",
      "img/61742.png\n",
      "img/86479.png\n"
     ]
    },
    {
     "name": "stderr",
     "output_type": "stream",
     "text": [
      " 91%|█████████ | 3400/3743 [02:44<00:19, 17.80it/s]"
     ]
    },
    {
     "name": "stdout",
     "output_type": "stream",
     "text": [
      "img/31876.png\n",
      "img/64197.png\n",
      "img/78450.png\n",
      "img/94236.png\n"
     ]
    },
    {
     "name": "stderr",
     "output_type": "stream",
     "text": [
      " 91%|█████████ | 3405/3743 [02:44<00:17, 19.31it/s]"
     ]
    },
    {
     "name": "stdout",
     "output_type": "stream",
     "text": [
      "img/41680.png\n",
      "img/92051.png\n",
      "img/02169.png\n",
      "img/10943.png\n",
      "img/37904.png\n"
     ]
    },
    {
     "name": "stderr",
     "output_type": "stream",
     "text": [
      " 91%|█████████ | 3407/3743 [02:45<00:22, 14.95it/s]"
     ]
    },
    {
     "name": "stdout",
     "output_type": "stream",
     "text": [
      "img/76584.png\n",
      "img/94370.png\n"
     ]
    },
    {
     "name": "stderr",
     "output_type": "stream",
     "text": [
      " 91%|█████████ | 3409/3743 [02:45<00:23, 14.17it/s]"
     ]
    },
    {
     "name": "stdout",
     "output_type": "stream",
     "text": [
      "img/80451.png\n",
      "img/36897.png\n",
      "img/60384.png\n",
      "img/39028.png\n"
     ]
    },
    {
     "name": "stderr",
     "output_type": "stream",
     "text": [
      " 91%|█████████ | 3414/3743 [02:45<00:21, 15.26it/s]"
     ]
    },
    {
     "name": "stdout",
     "output_type": "stream",
     "text": [
      "img/07486.png\n",
      "img/49032.png\n",
      "img/85721.png\n",
      "img/60214.png\n"
     ]
    },
    {
     "name": "stderr",
     "output_type": "stream",
     "text": [
      " 91%|█████████▏| 3418/3743 [02:45<00:19, 16.59it/s]"
     ]
    },
    {
     "name": "stdout",
     "output_type": "stream",
     "text": [
      "img/53062.png\n",
      "img/87209.png\n",
      "img/59062.png\n"
     ]
    },
    {
     "name": "stderr",
     "output_type": "stream",
     "text": [
      " 91%|█████████▏| 3422/3743 [02:45<00:20, 15.41it/s]"
     ]
    },
    {
     "name": "stdout",
     "output_type": "stream",
     "text": [
      "img/36417.png\n",
      "img/93685.png\n",
      "img/92483.png\n",
      "img/97025.png\n"
     ]
    },
    {
     "name": "stderr",
     "output_type": "stream",
     "text": [
      " 91%|█████████▏| 3424/3743 [02:46<00:20, 15.22it/s]"
     ]
    },
    {
     "name": "stdout",
     "output_type": "stream",
     "text": [
      "img/56940.png\n",
      "img/71285.png\n"
     ]
    },
    {
     "name": "stderr",
     "output_type": "stream",
     "text": [
      " 92%|█████████▏| 3426/3743 [02:46<00:26, 11.98it/s]"
     ]
    },
    {
     "name": "stdout",
     "output_type": "stream",
     "text": [
      "img/57401.png\n",
      "img/50137.png\n",
      "img/09285.png\n",
      "img/23807.png\n"
     ]
    },
    {
     "name": "stderr",
     "output_type": "stream",
     "text": [
      " 92%|█████████▏| 3432/3743 [02:46<00:20, 15.28it/s]"
     ]
    },
    {
     "name": "stdout",
     "output_type": "stream",
     "text": [
      "img/54610.png\n",
      "img/61378.png\n",
      "img/70352.png\n",
      "img/59876.png\n",
      "img/41972.png\n"
     ]
    },
    {
     "name": "stderr",
     "output_type": "stream",
     "text": [
      " 92%|█████████▏| 3437/3743 [02:46<00:17, 17.39it/s]"
     ]
    },
    {
     "name": "stdout",
     "output_type": "stream",
     "text": [
      "img/84097.png\n",
      "img/14570.png\n",
      "img/41689.png\n",
      "img/30486.png\n",
      "img/34079.png\n"
     ]
    },
    {
     "name": "stderr",
     "output_type": "stream",
     "text": [
      " 92%|█████████▏| 3442/3743 [02:47<00:17, 17.63it/s]"
     ]
    },
    {
     "name": "stdout",
     "output_type": "stream",
     "text": [
      "img/32941.png\n",
      "img/98736.png\n",
      "img/97348.png\n",
      "img/67543.png\n"
     ]
    },
    {
     "name": "stderr",
     "output_type": "stream",
     "text": [
      " 92%|█████████▏| 3447/3743 [02:47<00:15, 19.22it/s]"
     ]
    },
    {
     "name": "stdout",
     "output_type": "stream",
     "text": [
      "img/51836.png\n",
      "img/96354.png\n",
      "img/79608.png\n",
      "img/43952.png\n",
      "img/21064.png\n",
      "img/40712.png\n"
     ]
    },
    {
     "name": "stderr",
     "output_type": "stream",
     "text": [
      " 92%|█████████▏| 3450/3743 [02:47<00:14, 19.75it/s]"
     ]
    },
    {
     "name": "stdout",
     "output_type": "stream",
     "text": [
      "img/90214.png\n",
      "img/29643.png\n",
      "img/40913.png\n",
      "img/75642.png\n"
     ]
    },
    {
     "name": "stderr",
     "output_type": "stream",
     "text": [
      " 92%|█████████▏| 3455/3743 [02:47<00:18, 15.95it/s]"
     ]
    },
    {
     "name": "stdout",
     "output_type": "stream",
     "text": [
      "img/81940.png\n",
      "img/49157.png\n",
      "img/94871.png\n"
     ]
    },
    {
     "name": "stderr",
     "output_type": "stream",
     "text": [
      " 92%|█████████▏| 3459/3743 [02:48<00:18, 15.29it/s]"
     ]
    },
    {
     "name": "stdout",
     "output_type": "stream",
     "text": [
      "img/17892.png\n",
      "img/82794.png\n",
      "img/43895.png\n"
     ]
    },
    {
     "name": "stderr",
     "output_type": "stream",
     "text": [
      " 92%|█████████▏| 3462/3743 [02:48<00:16, 17.35it/s]"
     ]
    },
    {
     "name": "stdout",
     "output_type": "stream",
     "text": [
      "img/16374.png\n",
      "img/25781.png\n",
      "img/59012.png\n",
      "img/29036.png\n",
      "img/83175.png\n"
     ]
    },
    {
     "name": "stderr",
     "output_type": "stream",
     "text": [
      " 93%|█████████▎| 3466/3743 [02:48<00:17, 15.84it/s]"
     ]
    },
    {
     "name": "stdout",
     "output_type": "stream",
     "text": [
      "img/08741.png\n",
      "img/74968.png\n",
      "img/90136.png\n",
      "img/58612.png\n"
     ]
    },
    {
     "name": "stderr",
     "output_type": "stream",
     "text": [
      " 93%|█████████▎| 3471/3743 [02:48<00:16, 16.44it/s]"
     ]
    },
    {
     "name": "stdout",
     "output_type": "stream",
     "text": [
      "img/86103.png\n",
      "img/86925.png\n",
      "img/24651.png\n",
      "img/21509.png\n"
     ]
    },
    {
     "name": "stderr",
     "output_type": "stream",
     "text": [
      " 93%|█████████▎| 3475/3743 [02:49<00:16, 16.65it/s]"
     ]
    },
    {
     "name": "stdout",
     "output_type": "stream",
     "text": [
      "img/40651.png\n",
      "img/05241.png\n",
      "img/80397.png\n",
      "img/62805.png\n"
     ]
    },
    {
     "name": "stderr",
     "output_type": "stream",
     "text": [
      " 93%|█████████▎| 3477/3743 [02:49<00:20, 13.20it/s]"
     ]
    },
    {
     "name": "stdout",
     "output_type": "stream",
     "text": [
      "img/65432.png\n",
      "img/69750.png\n",
      "img/08637.png\n"
     ]
    },
    {
     "name": "stderr",
     "output_type": "stream",
     "text": [
      " 93%|█████████▎| 3483/3743 [02:49<00:15, 16.37it/s]"
     ]
    },
    {
     "name": "stdout",
     "output_type": "stream",
     "text": [
      "img/37054.png\n",
      "img/31076.png\n",
      "img/67420.png\n",
      "img/63579.png\n",
      "img/89541.png\n"
     ]
    },
    {
     "name": "stderr",
     "output_type": "stream",
     "text": [
      " 93%|█████████▎| 3486/3743 [02:49<00:14, 18.00it/s]"
     ]
    },
    {
     "name": "stdout",
     "output_type": "stream",
     "text": [
      "img/96587.png\n",
      "img/92381.png\n",
      "img/48623.png\n",
      "img/27438.png\n",
      "img/16275.png\n"
     ]
    },
    {
     "name": "stderr",
     "output_type": "stream",
     "text": [
      " 93%|█████████▎| 3492/3743 [02:50<00:12, 20.46it/s]"
     ]
    },
    {
     "name": "stdout",
     "output_type": "stream",
     "text": [
      "img/50879.png\n",
      "img/10835.png\n",
      "img/50743.png\n",
      "img/53806.png\n",
      "img/96874.png\n"
     ]
    },
    {
     "name": "stderr",
     "output_type": "stream",
     "text": [
      " 93%|█████████▎| 3495/3743 [02:50<00:11, 21.16it/s]"
     ]
    },
    {
     "name": "stdout",
     "output_type": "stream",
     "text": [
      "img/70426.png\n",
      "img/84531.png\n",
      "img/56240.png\n",
      "img/18207.png\n"
     ]
    },
    {
     "name": "stderr",
     "output_type": "stream",
     "text": [
      " 94%|█████████▎| 3500/3743 [02:50<00:15, 15.57it/s]"
     ]
    },
    {
     "name": "stdout",
     "output_type": "stream",
     "text": [
      "img/86701.png\n",
      "img/41597.png\n",
      "img/53692.png\n"
     ]
    },
    {
     "name": "stderr",
     "output_type": "stream",
     "text": [
      " 94%|█████████▎| 3502/3743 [02:50<00:14, 16.19it/s]"
     ]
    },
    {
     "name": "stdout",
     "output_type": "stream",
     "text": [
      "img/68975.png\n",
      "img/34798.png\n",
      "img/83657.png\n",
      "img/95081.png\n"
     ]
    },
    {
     "name": "stderr",
     "output_type": "stream",
     "text": [
      " 94%|█████████▎| 3508/3743 [02:50<00:13, 17.82it/s]"
     ]
    },
    {
     "name": "stdout",
     "output_type": "stream",
     "text": [
      "img/24039.png\n",
      "img/93057.png\n",
      "img/29678.png\n",
      "img/79045.png\n",
      "img/56423.png\n"
     ]
    },
    {
     "name": "stderr",
     "output_type": "stream",
     "text": [
      " 94%|█████████▍| 3513/3743 [02:51<00:12, 18.55it/s]"
     ]
    },
    {
     "name": "stdout",
     "output_type": "stream",
     "text": [
      "img/37052.png\n",
      "img/34726.png\n",
      "img/26947.png\n",
      "img/24931.png\n",
      "img/30928.png\n"
     ]
    },
    {
     "name": "stderr",
     "output_type": "stream",
     "text": [
      " 94%|█████████▍| 3516/3743 [02:51<00:12, 17.90it/s]"
     ]
    },
    {
     "name": "stdout",
     "output_type": "stream",
     "text": [
      "img/71628.png\n",
      "img/32716.png\n"
     ]
    },
    {
     "name": "stderr",
     "output_type": "stream",
     "text": [
      " 94%|█████████▍| 3520/3743 [02:51<00:14, 15.09it/s]"
     ]
    },
    {
     "name": "stdout",
     "output_type": "stream",
     "text": [
      "img/65978.png\n",
      "img/68730.png\n",
      "img/96570.png\n"
     ]
    },
    {
     "name": "stderr",
     "output_type": "stream",
     "text": [
      " 94%|█████████▍| 3522/3743 [02:51<00:14, 15.42it/s]"
     ]
    },
    {
     "name": "stdout",
     "output_type": "stream",
     "text": [
      "img/52790.png\n",
      "img/57438.png\n",
      "img/54719.png\n"
     ]
    },
    {
     "name": "stderr",
     "output_type": "stream",
     "text": [
      " 94%|█████████▍| 3524/3743 [02:52<00:17, 12.78it/s]"
     ]
    },
    {
     "name": "stdout",
     "output_type": "stream",
     "text": [
      "img/17698.png\n",
      "img/47215.png\n",
      "img/46237.png\n"
     ]
    },
    {
     "name": "stderr",
     "output_type": "stream",
     "text": [
      " 94%|█████████▍| 3528/3743 [02:52<00:16, 12.86it/s]"
     ]
    },
    {
     "name": "stdout",
     "output_type": "stream",
     "text": [
      "img/84576.png\n",
      "img/79165.png\n",
      "img/48760.png\n",
      "img/37265.png\n"
     ]
    },
    {
     "name": "stderr",
     "output_type": "stream",
     "text": [
      " 94%|█████████▍| 3534/3743 [02:52<00:13, 15.92it/s]"
     ]
    },
    {
     "name": "stdout",
     "output_type": "stream",
     "text": [
      "img/03421.png\n",
      "img/85291.png\n",
      "img/31285.png\n",
      "img/10283.png\n"
     ]
    },
    {
     "name": "stderr",
     "output_type": "stream",
     "text": [
      " 94%|█████████▍| 3536/3743 [02:52<00:13, 15.18it/s]"
     ]
    },
    {
     "name": "stdout",
     "output_type": "stream",
     "text": [
      "img/57421.png\n",
      "img/54023.png\n",
      "img/40918.png\n"
     ]
    },
    {
     "name": "stderr",
     "output_type": "stream",
     "text": [
      " 95%|█████████▍| 3540/3743 [02:53<00:11, 17.25it/s]"
     ]
    },
    {
     "name": "stdout",
     "output_type": "stream",
     "text": [
      "img/52379.png\n",
      "img/50472.png\n",
      "img/07836.png\n",
      "img/71869.png\n"
     ]
    },
    {
     "name": "stderr",
     "output_type": "stream",
     "text": [
      " 95%|█████████▍| 3542/3743 [02:53<00:12, 16.31it/s]"
     ]
    },
    {
     "name": "stdout",
     "output_type": "stream",
     "text": [
      "img/02481.png\n",
      "img/01794.png\n"
     ]
    },
    {
     "name": "stderr",
     "output_type": "stream",
     "text": [
      " 95%|█████████▍| 3544/3743 [02:53<00:16, 12.17it/s]"
     ]
    },
    {
     "name": "stdout",
     "output_type": "stream",
     "text": [
      "img/92357.png\n",
      "img/06781.png\n"
     ]
    },
    {
     "name": "stderr",
     "output_type": "stream",
     "text": [
      " 95%|█████████▍| 3546/3743 [02:53<00:15, 12.46it/s]"
     ]
    },
    {
     "name": "stdout",
     "output_type": "stream",
     "text": [
      "img/06435.png\n",
      "img/89745.png\n",
      "img/17398.png\n"
     ]
    },
    {
     "name": "stderr",
     "output_type": "stream",
     "text": [
      " 95%|█████████▍| 3550/3743 [02:53<00:14, 13.22it/s]"
     ]
    },
    {
     "name": "stdout",
     "output_type": "stream",
     "text": [
      "img/67842.png\n",
      "img/43109.png\n",
      "img/57918.png\n",
      "img/04138.png\n",
      "img/41857.png\n"
     ]
    },
    {
     "name": "stderr",
     "output_type": "stream",
     "text": [
      " 95%|█████████▍| 3555/3743 [02:54<00:17, 10.64it/s]"
     ]
    },
    {
     "name": "stdout",
     "output_type": "stream",
     "text": [
      "img/94138.png\n",
      "img/41860.png\n",
      "img/31496.png\n"
     ]
    },
    {
     "name": "stderr",
     "output_type": "stream",
     "text": [
      " 95%|█████████▌| 3560/3743 [02:54<00:13, 13.87it/s]"
     ]
    },
    {
     "name": "stdout",
     "output_type": "stream",
     "text": [
      "img/04163.png\n",
      "img/23096.png\n",
      "img/20184.png\n",
      "img/02351.png\n",
      "img/16895.png\n",
      "img/89450.png\n"
     ]
    },
    {
     "name": "stderr",
     "output_type": "stream",
     "text": [
      " 95%|█████████▌| 3565/3743 [02:55<00:11, 16.15it/s]"
     ]
    },
    {
     "name": "stdout",
     "output_type": "stream",
     "text": [
      "img/20951.png\n",
      "img/90723.png\n",
      "img/98357.png\n",
      "img/01436.png\n"
     ]
    },
    {
     "name": "stderr",
     "output_type": "stream",
     "text": [
      " 95%|█████████▌| 3569/3743 [02:55<00:11, 15.42it/s]"
     ]
    },
    {
     "name": "stdout",
     "output_type": "stream",
     "text": [
      "img/07849.png\n",
      "img/12074.png\n",
      "img/42691.png\n",
      "img/91045.png\n"
     ]
    },
    {
     "name": "stderr",
     "output_type": "stream",
     "text": [
      " 95%|█████████▌| 3571/3743 [02:55<00:12, 13.92it/s]"
     ]
    },
    {
     "name": "stdout",
     "output_type": "stream",
     "text": [
      "img/42673.png\n",
      "img/69235.png\n",
      "img/42185.png\n"
     ]
    },
    {
     "name": "stderr",
     "output_type": "stream",
     "text": [
      " 96%|█████████▌| 3575/3743 [02:55<00:12, 13.09it/s]"
     ]
    },
    {
     "name": "stdout",
     "output_type": "stream",
     "text": [
      "img/37895.png\n",
      "img/13076.png\n",
      "img/72318.png\n"
     ]
    },
    {
     "name": "stderr",
     "output_type": "stream",
     "text": [
      " 96%|█████████▌| 3580/3743 [02:56<00:10, 16.02it/s]"
     ]
    },
    {
     "name": "stdout",
     "output_type": "stream",
     "text": [
      "img/23794.png\n",
      "img/52049.png\n",
      "img/57236.png\n",
      "img/71058.png\n",
      "img/57840.png\n"
     ]
    },
    {
     "name": "stderr",
     "output_type": "stream",
     "text": [
      " 96%|█████████▌| 3583/3743 [02:56<00:09, 17.41it/s]"
     ]
    },
    {
     "name": "stdout",
     "output_type": "stream",
     "text": [
      "img/59410.png\n",
      "img/87234.png\n",
      "img/39085.png\n",
      "img/32516.png\n",
      "img/01953.png\n"
     ]
    },
    {
     "name": "stderr",
     "output_type": "stream",
     "text": [
      " 96%|█████████▌| 3588/3743 [02:56<00:08, 17.49it/s]"
     ]
    },
    {
     "name": "stdout",
     "output_type": "stream",
     "text": [
      "img/26410.png\n",
      "img/01247.png\n",
      "img/10567.png\n",
      "img/69073.png\n"
     ]
    },
    {
     "name": "stderr",
     "output_type": "stream",
     "text": [
      " 96%|█████████▌| 3593/3743 [02:56<00:08, 17.79it/s]"
     ]
    },
    {
     "name": "stdout",
     "output_type": "stream",
     "text": [
      "img/19472.png\n",
      "img/48905.png\n",
      "img/13806.png\n",
      "img/71280.png\n",
      "img/26709.png\n"
     ]
    },
    {
     "name": "stderr",
     "output_type": "stream",
     "text": [
      " 96%|█████████▌| 3597/3743 [02:57<00:14,  9.88it/s]"
     ]
    },
    {
     "name": "stdout",
     "output_type": "stream",
     "text": [
      "img/58246.png\n",
      "img/04819.png\n",
      "img/75308.png\n",
      "img/48205.png\n"
     ]
    },
    {
     "name": "stderr",
     "output_type": "stream",
     "text": [
      " 96%|█████████▌| 3602/3743 [02:57<00:10, 12.89it/s]"
     ]
    },
    {
     "name": "stdout",
     "output_type": "stream",
     "text": [
      "img/68374.png\n",
      "img/56930.png\n",
      "img/61870.png\n",
      "img/96485.png\n"
     ]
    },
    {
     "name": "stderr",
     "output_type": "stream",
     "text": [
      " 96%|█████████▋| 3605/3743 [02:57<00:09, 14.45it/s]"
     ]
    },
    {
     "name": "stdout",
     "output_type": "stream",
     "text": [
      "img/94085.png\n",
      "img/05261.png\n",
      "img/15479.png\n",
      "img/57064.png\n"
     ]
    },
    {
     "name": "stderr",
     "output_type": "stream",
     "text": [
      " 96%|█████████▋| 3609/3743 [02:58<00:08, 14.97it/s]"
     ]
    },
    {
     "name": "stdout",
     "output_type": "stream",
     "text": [
      "img/47128.png\n",
      "img/06589.png\n",
      "img/85730.png\n",
      "img/70319.png\n"
     ]
    },
    {
     "name": "stderr",
     "output_type": "stream",
     "text": [
      " 97%|█████████▋| 3613/3743 [02:58<00:08, 15.09it/s]"
     ]
    },
    {
     "name": "stdout",
     "output_type": "stream",
     "text": [
      "img/35601.png\n",
      "img/20578.png\n",
      "img/03185.png\n",
      "img/46710.png\n"
     ]
    },
    {
     "name": "stderr",
     "output_type": "stream",
     "text": [
      " 97%|█████████▋| 3618/3743 [02:58<00:07, 17.21it/s]"
     ]
    },
    {
     "name": "stdout",
     "output_type": "stream",
     "text": [
      "img/50327.png\n",
      "img/92780.png\n",
      "img/51804.png\n",
      "img/61298.png\n"
     ]
    },
    {
     "name": "stderr",
     "output_type": "stream",
     "text": [
      " 97%|█████████▋| 3622/3743 [02:58<00:07, 15.42it/s]"
     ]
    },
    {
     "name": "stdout",
     "output_type": "stream",
     "text": [
      "img/86307.png\n",
      "img/31409.png\n",
      "img/96123.png\n",
      "img/72509.png\n"
     ]
    },
    {
     "name": "stderr",
     "output_type": "stream",
     "text": [
      " 97%|█████████▋| 3626/3743 [02:59<00:07, 15.41it/s]"
     ]
    },
    {
     "name": "stdout",
     "output_type": "stream",
     "text": [
      "img/35942.png\n",
      "img/54789.png\n",
      "img/83650.png\n",
      "img/09768.png\n"
     ]
    },
    {
     "name": "stderr",
     "output_type": "stream",
     "text": [
      " 97%|█████████▋| 3630/3743 [02:59<00:07, 16.00it/s]"
     ]
    },
    {
     "name": "stdout",
     "output_type": "stream",
     "text": [
      "img/93605.png\n",
      "img/16207.png\n",
      "img/59726.png\n",
      "img/45987.png\n"
     ]
    },
    {
     "name": "stderr",
     "output_type": "stream",
     "text": [
      " 97%|█████████▋| 3634/3743 [02:59<00:06, 16.98it/s]"
     ]
    },
    {
     "name": "stdout",
     "output_type": "stream",
     "text": [
      "img/29084.png\n",
      "img/76253.png\n",
      "img/85012.png\n",
      "img/53876.png\n"
     ]
    },
    {
     "name": "stderr",
     "output_type": "stream",
     "text": [
      " 97%|█████████▋| 3636/3743 [02:59<00:07, 15.04it/s]"
     ]
    },
    {
     "name": "stdout",
     "output_type": "stream",
     "text": [
      "img/62758.png\n",
      "img/21946.png\n",
      "img/47015.png\n",
      "img/89732.png\n"
     ]
    },
    {
     "name": "stderr",
     "output_type": "stream",
     "text": [
      " 97%|█████████▋| 3641/3743 [03:00<00:07, 13.93it/s]"
     ]
    },
    {
     "name": "stdout",
     "output_type": "stream",
     "text": [
      "img/27843.png\n",
      "img/18640.png\n",
      "img/48192.png\n"
     ]
    },
    {
     "name": "stderr",
     "output_type": "stream",
     "text": [
      " 97%|█████████▋| 3643/3743 [03:00<00:06, 15.11it/s]"
     ]
    },
    {
     "name": "stdout",
     "output_type": "stream",
     "text": [
      "img/25367.png\n",
      "img/39420.png\n",
      "img/02815.png\n",
      "img/96450.png\n"
     ]
    },
    {
     "name": "stderr",
     "output_type": "stream",
     "text": [
      " 97%|█████████▋| 3648/3743 [03:00<00:06, 15.18it/s]"
     ]
    },
    {
     "name": "stdout",
     "output_type": "stream",
     "text": [
      "img/82510.png\n",
      "img/75349.png\n",
      "img/08613.png\n"
     ]
    },
    {
     "name": "stderr",
     "output_type": "stream",
     "text": [
      " 98%|█████████▊| 3650/3743 [03:00<00:06, 15.05it/s]"
     ]
    },
    {
     "name": "stdout",
     "output_type": "stream",
     "text": [
      "img/51647.png\n",
      "img/79830.png\n",
      "img/62083.png\n"
     ]
    },
    {
     "name": "stderr",
     "output_type": "stream",
     "text": [
      " 98%|█████████▊| 3654/3743 [03:01<00:06, 14.13it/s]"
     ]
    },
    {
     "name": "stdout",
     "output_type": "stream",
     "text": [
      "img/75892.png\n",
      "img/69732.png\n",
      "img/81092.png\n"
     ]
    },
    {
     "name": "stderr",
     "output_type": "stream",
     "text": [
      " 98%|█████████▊| 3656/3743 [03:01<00:07, 11.79it/s]"
     ]
    },
    {
     "name": "stdout",
     "output_type": "stream",
     "text": [
      "img/87253.png\n",
      "img/41936.png\n",
      "img/25830.png\n"
     ]
    },
    {
     "name": "stderr",
     "output_type": "stream",
     "text": [
      " 98%|█████████▊| 3660/3743 [03:01<00:06, 13.13it/s]"
     ]
    },
    {
     "name": "stdout",
     "output_type": "stream",
     "text": [
      "img/75082.png\n",
      "img/71429.png\n",
      "img/70534.png\n"
     ]
    },
    {
     "name": "stderr",
     "output_type": "stream",
     "text": [
      " 98%|█████████▊| 3664/3743 [03:01<00:05, 15.51it/s]"
     ]
    },
    {
     "name": "stdout",
     "output_type": "stream",
     "text": [
      "img/26385.png\n",
      "img/97365.png\n",
      "img/53469.png\n",
      "img/16248.png\n",
      "img/89412.png\n"
     ]
    },
    {
     "name": "stderr",
     "output_type": "stream",
     "text": [
      " 98%|█████████▊| 3667/3743 [03:01<00:05, 15.17it/s]"
     ]
    },
    {
     "name": "stdout",
     "output_type": "stream",
     "text": [
      "img/04397.png\n",
      "img/69178.png\n",
      "img/58904.png\n"
     ]
    },
    {
     "name": "stderr",
     "output_type": "stream",
     "text": [
      " 98%|█████████▊| 3671/3743 [03:02<00:04, 16.25it/s]"
     ]
    },
    {
     "name": "stdout",
     "output_type": "stream",
     "text": [
      "img/58204.png\n",
      "img/21436.png\n",
      "img/21053.png\n",
      "img/76093.png\n"
     ]
    },
    {
     "name": "stderr",
     "output_type": "stream",
     "text": [
      " 98%|█████████▊| 3676/3743 [03:02<00:03, 18.16it/s]"
     ]
    },
    {
     "name": "stdout",
     "output_type": "stream",
     "text": [
      "img/19364.png\n",
      "img/58906.png\n",
      "img/70598.png\n",
      "img/84329.png\n",
      "img/60732.png\n"
     ]
    },
    {
     "name": "stderr",
     "output_type": "stream",
     "text": [
      " 98%|█████████▊| 3682/3743 [03:02<00:03, 19.42it/s]"
     ]
    },
    {
     "name": "stdout",
     "output_type": "stream",
     "text": [
      "img/04529.png\n",
      "img/34196.png\n",
      "img/01649.png\n",
      "img/35691.png\n",
      "img/12054.png\n"
     ]
    },
    {
     "name": "stderr",
     "output_type": "stream",
     "text": [
      " 98%|█████████▊| 3685/3743 [03:02<00:03, 18.91it/s]"
     ]
    },
    {
     "name": "stdout",
     "output_type": "stream",
     "text": [
      "img/59862.png\n",
      "img/94687.png\n",
      "img/38621.png\n",
      "img/12793.png\n"
     ]
    },
    {
     "name": "stderr",
     "output_type": "stream",
     "text": [
      " 99%|█████████▊| 3688/3743 [03:03<00:03, 17.07it/s]"
     ]
    },
    {
     "name": "stdout",
     "output_type": "stream",
     "text": [
      "img/42063.png\n",
      "img/02863.png\n",
      "img/74583.png\n"
     ]
    },
    {
     "name": "stderr",
     "output_type": "stream",
     "text": [
      " 99%|█████████▊| 3692/3743 [03:03<00:03, 15.34it/s]"
     ]
    },
    {
     "name": "stdout",
     "output_type": "stream",
     "text": [
      "img/27604.png\n",
      "img/73426.png\n",
      "img/73406.png\n",
      "img/76952.png\n"
     ]
    },
    {
     "name": "stderr",
     "output_type": "stream",
     "text": [
      " 99%|█████████▉| 3697/3743 [03:03<00:02, 18.10it/s]"
     ]
    },
    {
     "name": "stdout",
     "output_type": "stream",
     "text": [
      "img/90513.png\n",
      "img/50817.png\n",
      "img/54028.png\n",
      "img/42379.png\n",
      "img/58340.png\n"
     ]
    },
    {
     "name": "stderr",
     "output_type": "stream",
     "text": [
      " 99%|█████████▉| 3700/3743 [03:03<00:02, 18.63it/s]"
     ]
    },
    {
     "name": "stdout",
     "output_type": "stream",
     "text": [
      "img/06871.png\n",
      "img/83427.png\n"
     ]
    },
    {
     "name": "stderr",
     "output_type": "stream",
     "text": [
      " 99%|█████████▉| 3702/3743 [03:04<00:03, 12.60it/s]"
     ]
    },
    {
     "name": "stdout",
     "output_type": "stream",
     "text": [
      "img/17802.png\n",
      "img/56891.png\n",
      "img/90826.png\n"
     ]
    },
    {
     "name": "stderr",
     "output_type": "stream",
     "text": [
      " 99%|█████████▉| 3706/3743 [03:04<00:02, 15.24it/s]"
     ]
    },
    {
     "name": "stdout",
     "output_type": "stream",
     "text": [
      "img/65491.png\n",
      "img/38179.png\n",
      "img/87239.png\n",
      "img/97814.png\n"
     ]
    },
    {
     "name": "stderr",
     "output_type": "stream",
     "text": [
      " 99%|█████████▉| 3710/3743 [03:04<00:02, 16.22it/s]"
     ]
    },
    {
     "name": "stdout",
     "output_type": "stream",
     "text": [
      "img/71038.png\n",
      "img/62713.png\n",
      "img/61502.png\n",
      "img/04268.png\n"
     ]
    },
    {
     "name": "stderr",
     "output_type": "stream",
     "text": [
      " 99%|█████████▉| 3714/3743 [03:04<00:02, 13.37it/s]"
     ]
    },
    {
     "name": "stdout",
     "output_type": "stream",
     "text": [
      "img/43295.png\n",
      "img/40917.png\n",
      "img/94237.png\n",
      "img/13679.png\n"
     ]
    },
    {
     "name": "stderr",
     "output_type": "stream",
     "text": [
      " 99%|█████████▉| 3719/3743 [03:05<00:01, 15.58it/s]"
     ]
    },
    {
     "name": "stdout",
     "output_type": "stream",
     "text": [
      "img/96415.png\n",
      "img/54682.png\n",
      "img/43170.png\n",
      "img/14782.png\n"
     ]
    },
    {
     "name": "stderr",
     "output_type": "stream",
     "text": [
      " 99%|█████████▉| 3721/3743 [03:05<00:01, 13.69it/s]"
     ]
    },
    {
     "name": "stdout",
     "output_type": "stream",
     "text": [
      "img/39472.png\n",
      "img/36027.png\n",
      "img/51706.png\n",
      "img/03591.png\n"
     ]
    },
    {
     "name": "stderr",
     "output_type": "stream",
     "text": [
      "100%|█████████▉| 3726/3743 [03:05<00:01, 15.72it/s]"
     ]
    },
    {
     "name": "stdout",
     "output_type": "stream",
     "text": [
      "img/91526.png\n",
      "img/23971.png\n",
      "img/03764.png\n",
      "img/78925.png\n",
      "img/35971.png\n"
     ]
    },
    {
     "name": "stderr",
     "output_type": "stream",
     "text": [
      "100%|█████████▉| 3732/3743 [03:05<00:00, 17.87it/s]"
     ]
    },
    {
     "name": "stdout",
     "output_type": "stream",
     "text": [
      "img/38246.png\n",
      "img/49703.png\n",
      "img/60938.png\n",
      "img/17594.png\n"
     ]
    },
    {
     "name": "stderr",
     "output_type": "stream",
     "text": [
      "100%|█████████▉| 3735/3743 [03:06<00:00, 18.97it/s]"
     ]
    },
    {
     "name": "stdout",
     "output_type": "stream",
     "text": [
      "img/50739.png\n",
      "img/14275.png\n",
      "img/83052.png\n",
      "img/19372.png\n",
      "img/21345.png\n"
     ]
    },
    {
     "name": "stderr",
     "output_type": "stream",
     "text": [
      "100%|█████████▉| 3741/3743 [03:06<00:00, 17.96it/s]"
     ]
    },
    {
     "name": "stdout",
     "output_type": "stream",
     "text": [
      "img/10423.png\n",
      "img/98203.png\n",
      "img/36947.png\n",
      "img/16492.png\n",
      "img/15937.png\n"
     ]
    },
    {
     "name": "stderr",
     "output_type": "stream",
     "text": [
      "100%|██████████| 3743/3743 [03:06<00:00, 20.07it/s]\n"
     ]
    }
   ],
   "source": [
    "for i in tqdm(train.Name):\n",
    "    print(i)\n",
    "    img = cv2.imread(i)\n",
    "    img = transform(img)\n",
    "    img = img.reshape(1, 3, 448, 448)\n",
    "    img = img.to(device)\n",
    "    with torch.no_grad():\n",
    "        feature = new_model(img)\n",
    "    features.append(feature.cpu().detach().numpy().reshape(-1))\n",
    "features = np.array(features)"
   ]
  },
  {
   "cell_type": "code",
   "execution_count": 24,
   "id": "8223289a",
   "metadata": {},
   "outputs": [
    {
     "data": {
      "text/plain": [
       "0"
      ]
     },
     "execution_count": 24,
     "metadata": {},
     "output_type": "execute_result"
    }
   ],
   "source": [
    "import gc\n",
    "gc.collect()"
   ]
  },
  {
   "cell_type": "code",
   "execution_count": 25,
   "id": "564a8994",
   "metadata": {},
   "outputs": [],
   "source": [
    "import tensorflow as tf\n",
    "alpha = 0.2\n",
    "img_embedding = tf.math.l2_normalize(features, name='normalize_img') * alpha"
   ]
  },
  {
   "cell_type": "code",
   "execution_count": 26,
   "id": "f6eac887",
   "metadata": {},
   "outputs": [
    {
     "data": {
      "text/plain": [
       "TensorShape([3743, 4096])"
      ]
     },
     "execution_count": 26,
     "metadata": {},
     "output_type": "execute_result"
    }
   ],
   "source": [
    "img_embedding.shape"
   ]
  },
  {
   "cell_type": "code",
   "execution_count": 27,
   "id": "34a938fe",
   "metadata": {},
   "outputs": [],
   "source": [
    "bert_embedding = tf.math.l2_normalize(probs, name='normalize_desc') * (1 - alpha)"
   ]
  },
  {
   "cell_type": "code",
   "execution_count": 28,
   "id": "11372fa0",
   "metadata": {},
   "outputs": [
    {
     "data": {
      "text/plain": [
       "TensorShape([3743, 768])"
      ]
     },
     "execution_count": 28,
     "metadata": {},
     "output_type": "execute_result"
    }
   ],
   "source": [
    "bert_embedding.shape"
   ]
  },
  {
   "cell_type": "code",
   "execution_count": 29,
   "id": "8623cda2",
   "metadata": {},
   "outputs": [],
   "source": [
    "output = tf.keras.layers.concatenate([bert_embedding, img_embedding])"
   ]
  },
  {
   "cell_type": "code",
   "execution_count": 30,
   "id": "ec647e33",
   "metadata": {},
   "outputs": [],
   "source": [
    "x = output\n",
    "top = [t.numpy() for t in x]"
   ]
  },
  {
   "cell_type": "code",
   "execution_count": 31,
   "id": "7ec16d94",
   "metadata": {},
   "outputs": [],
   "source": [
    "from sklearn.model_selection import train_test_split\n",
    "\n",
    "X_train, X_test, y_train, y_test = train_test_split(top, train['Label'], test_size=0.20,random_state=42)"
   ]
  },
  {
   "cell_type": "code",
   "execution_count": 32,
   "id": "a0753f24",
   "metadata": {},
   "outputs": [],
   "source": [
    "from sklearn import preprocessing\n",
    "X_train = preprocessing.normalize(X_train)"
   ]
  },
  {
   "cell_type": "code",
   "execution_count": 33,
   "id": "4f1786d4",
   "metadata": {},
   "outputs": [
    {
     "name": "stdout",
     "output_type": "stream",
     "text": [
      "2.6.0\n"
     ]
    }
   ],
   "source": [
    "import tensorflow as tf\n",
    "print(tf.__version__)\n",
    "import pandas as pd\n",
    "import numpy as np\n",
    "from sklearn.model_selection import train_test_split\n",
    "import tensorflow as tf\n",
    "from sklearn import preprocessing\n",
    "from tensorflow.keras.models import Sequential\n",
    "from tensorflow.keras.layers import Dense, Dropout, BatchNormalization\n",
    "from sklearn.metrics import accuracy_score, confusion_matrix, precision_score, recall_score, f1_score, precision_recall_curve, auc\n",
    "import matplotlib.pyplot as plt\n",
    "from tensorflow.keras import optimizers\n",
    "import seaborn as sns\n",
    "from tensorflow import keras\n",
    "import random as rn\n",
    "import os"
   ]
  },
  {
   "cell_type": "code",
   "execution_count": null,
   "id": "947cfa62",
   "metadata": {},
   "outputs": [],
   "source": []
  },
  {
   "cell_type": "code",
   "execution_count": 34,
   "id": "393e28f7",
   "metadata": {},
   "outputs": [],
   "source": [
    "model = Sequential(layers=None, name=None)\n",
    "model.add(Dense(512, input_shape = (4864,), activation = 'relu'))\n",
    "model.add(Dense(256, activation = 'relu'))\n",
    "model.add(Dense(128, activation = 'relu'))\n",
    "model.add(Dense(1, activation = 'sigmoid'))\n"
   ]
  },
  {
   "cell_type": "code",
   "execution_count": 35,
   "id": "debddb64",
   "metadata": {},
   "outputs": [
    {
     "name": "stderr",
     "output_type": "stream",
     "text": [
      "/home/rohansl/leerohenv/lib/python3.6/site-packages/keras/optimizer_v2/optimizer_v2.py:356: UserWarning: The `lr` argument is deprecated, use `learning_rate` instead.\n",
      "  \"The `lr` argument is deprecated, use `learning_rate` instead.\")\n"
     ]
    }
   ],
   "source": [
    "sgd = optimizers.Adam(lr = 0.001)\n",
    "model.compile(optimizer = sgd, loss = 'binary_crossentropy', metrics=['accuracy'])"
   ]
  },
  {
   "cell_type": "code",
   "execution_count": 36,
   "id": "d00af4c4",
   "metadata": {},
   "outputs": [
    {
     "name": "stdout",
     "output_type": "stream",
     "text": [
      "Epoch 1/20\n",
      "125/125 [==============================] - 2s 9ms/step - loss: 0.1117 - accuracy: 0.9576\n",
      "Epoch 2/20\n",
      "125/125 [==============================] - 1s 7ms/step - loss: 0.0196 - accuracy: 0.9927\n",
      "Epoch 3/20\n",
      "125/125 [==============================] - 1s 7ms/step - loss: 0.0143 - accuracy: 0.9953\n",
      "Epoch 4/20\n",
      "125/125 [==============================] - 1s 7ms/step - loss: 0.0091 - accuracy: 0.9967\n",
      "Epoch 5/20\n",
      "125/125 [==============================] - 1s 7ms/step - loss: 0.0143 - accuracy: 0.9953\n",
      "Epoch 6/20\n",
      "125/125 [==============================] - 1s 7ms/step - loss: 0.0044 - accuracy: 0.9983\n",
      "Epoch 7/20\n",
      "125/125 [==============================] - 1s 7ms/step - loss: 9.6285e-04 - accuracy: 1.0000\n",
      "Epoch 8/20\n",
      "125/125 [==============================] - 1s 7ms/step - loss: 9.6368e-05 - accuracy: 1.0000\n",
      "Epoch 9/20\n",
      "125/125 [==============================] - 1s 7ms/step - loss: 3.0125e-05 - accuracy: 1.0000\n",
      "Epoch 10/20\n",
      "125/125 [==============================] - 1s 7ms/step - loss: 2.0630e-05 - accuracy: 1.0000\n",
      "Epoch 11/20\n",
      "125/125 [==============================] - 1s 7ms/step - loss: 1.5262e-05 - accuracy: 1.0000\n",
      "Epoch 12/20\n",
      "125/125 [==============================] - 1s 7ms/step - loss: 1.1818e-05 - accuracy: 1.0000\n",
      "Epoch 13/20\n",
      "125/125 [==============================] - 1s 7ms/step - loss: 9.3908e-06 - accuracy: 1.0000\n",
      "Epoch 14/20\n",
      "125/125 [==============================] - 1s 7ms/step - loss: 7.6646e-06 - accuracy: 1.0000\n",
      "Epoch 15/20\n",
      "125/125 [==============================] - 1s 7ms/step - loss: 6.3267e-06 - accuracy: 1.0000\n",
      "Epoch 16/20\n",
      "125/125 [==============================] - 1s 7ms/step - loss: 5.2973e-06 - accuracy: 1.0000\n",
      "Epoch 17/20\n",
      "125/125 [==============================] - 1s 7ms/step - loss: 4.4779e-06 - accuracy: 1.0000\n",
      "Epoch 18/20\n",
      "125/125 [==============================] - 1s 7ms/step - loss: 3.8458e-06 - accuracy: 1.0000\n",
      "Epoch 19/20\n",
      "125/125 [==============================] - 1s 7ms/step - loss: 3.3080e-06 - accuracy: 1.0000\n",
      "Epoch 20/20\n",
      "125/125 [==============================] - 1s 7ms/step - loss: 2.8764e-06 - accuracy: 1.0000\n"
     ]
    },
    {
     "data": {
      "text/plain": [
       "<keras.callbacks.History at 0x7f646f00fb00>"
      ]
     },
     "execution_count": 36,
     "metadata": {},
     "output_type": "execute_result"
    }
   ],
   "source": [
    "model.fit(X_train, y_train.values, batch_size = 24, epochs = 20, verbose = 1)"
   ]
  },
  {
   "cell_type": "code",
   "execution_count": 37,
   "id": "34c7d957",
   "metadata": {},
   "outputs": [],
   "source": [
    "X_test = preprocessing.normalize(X_test)\n"
   ]
  },
  {
   "cell_type": "code",
   "execution_count": 38,
   "id": "6f2679b4",
   "metadata": {},
   "outputs": [
    {
     "name": "stdout",
     "output_type": "stream",
     "text": [
      "24/24 [==============================] - 0s 3ms/step - loss: 0.0710 - accuracy: 0.9920\n"
     ]
    }
   ],
   "source": [
    "results = model.evaluate(X_test, y_test.values)"
   ]
  },
  {
   "cell_type": "code",
   "execution_count": 39,
   "id": "fcb3e72b",
   "metadata": {},
   "outputs": [
    {
     "data": {
      "text/plain": [
       "array([[0.],\n",
       "       [0.],\n",
       "       [1.],\n",
       "       [0.],\n",
       "       [0.],\n",
       "       [0.],\n",
       "       [1.],\n",
       "       [1.],\n",
       "       [0.],\n",
       "       [0.],\n",
       "       [0.],\n",
       "       [1.],\n",
       "       [0.],\n",
       "       [0.],\n",
       "       [1.],\n",
       "       [0.],\n",
       "       [1.],\n",
       "       [1.],\n",
       "       [0.],\n",
       "       [0.],\n",
       "       [0.],\n",
       "       [0.],\n",
       "       [0.],\n",
       "       [0.],\n",
       "       [0.],\n",
       "       [1.],\n",
       "       [1.],\n",
       "       [1.],\n",
       "       [0.],\n",
       "       [0.],\n",
       "       [0.],\n",
       "       [0.],\n",
       "       [0.],\n",
       "       [0.],\n",
       "       [0.],\n",
       "       [0.],\n",
       "       [1.],\n",
       "       [0.],\n",
       "       [1.],\n",
       "       [0.],\n",
       "       [0.],\n",
       "       [0.],\n",
       "       [0.],\n",
       "       [1.],\n",
       "       [1.],\n",
       "       [0.],\n",
       "       [0.],\n",
       "       [1.],\n",
       "       [0.],\n",
       "       [0.],\n",
       "       [0.],\n",
       "       [1.],\n",
       "       [1.],\n",
       "       [0.],\n",
       "       [0.],\n",
       "       [0.],\n",
       "       [0.],\n",
       "       [0.],\n",
       "       [0.],\n",
       "       [0.],\n",
       "       [1.],\n",
       "       [0.],\n",
       "       [0.],\n",
       "       [0.],\n",
       "       [0.],\n",
       "       [0.],\n",
       "       [0.],\n",
       "       [0.],\n",
       "       [0.],\n",
       "       [0.],\n",
       "       [0.],\n",
       "       [1.],\n",
       "       [1.],\n",
       "       [0.],\n",
       "       [0.],\n",
       "       [0.],\n",
       "       [0.],\n",
       "       [0.],\n",
       "       [0.],\n",
       "       [0.],\n",
       "       [0.],\n",
       "       [1.],\n",
       "       [0.],\n",
       "       [1.],\n",
       "       [0.],\n",
       "       [0.],\n",
       "       [0.],\n",
       "       [0.],\n",
       "       [0.],\n",
       "       [0.],\n",
       "       [0.],\n",
       "       [0.],\n",
       "       [0.],\n",
       "       [1.],\n",
       "       [0.],\n",
       "       [0.],\n",
       "       [1.],\n",
       "       [0.],\n",
       "       [1.],\n",
       "       [0.],\n",
       "       [1.],\n",
       "       [1.],\n",
       "       [0.],\n",
       "       [1.],\n",
       "       [0.],\n",
       "       [0.],\n",
       "       [0.],\n",
       "       [0.],\n",
       "       [0.],\n",
       "       [0.],\n",
       "       [0.],\n",
       "       [0.],\n",
       "       [0.],\n",
       "       [0.],\n",
       "       [0.],\n",
       "       [0.],\n",
       "       [0.],\n",
       "       [0.],\n",
       "       [1.],\n",
       "       [0.],\n",
       "       [0.],\n",
       "       [0.],\n",
       "       [0.],\n",
       "       [1.],\n",
       "       [1.],\n",
       "       [0.],\n",
       "       [0.],\n",
       "       [0.],\n",
       "       [0.],\n",
       "       [1.],\n",
       "       [0.],\n",
       "       [0.],\n",
       "       [0.],\n",
       "       [0.],\n",
       "       [0.],\n",
       "       [0.],\n",
       "       [1.],\n",
       "       [0.],\n",
       "       [1.],\n",
       "       [0.],\n",
       "       [1.],\n",
       "       [1.],\n",
       "       [1.],\n",
       "       [0.],\n",
       "       [0.],\n",
       "       [1.],\n",
       "       [0.],\n",
       "       [0.],\n",
       "       [0.],\n",
       "       [0.],\n",
       "       [0.],\n",
       "       [0.],\n",
       "       [0.],\n",
       "       [0.],\n",
       "       [0.],\n",
       "       [0.],\n",
       "       [0.],\n",
       "       [0.],\n",
       "       [0.],\n",
       "       [1.],\n",
       "       [0.],\n",
       "       [1.],\n",
       "       [1.],\n",
       "       [0.],\n",
       "       [0.],\n",
       "       [0.],\n",
       "       [0.],\n",
       "       [0.],\n",
       "       [0.],\n",
       "       [0.],\n",
       "       [0.],\n",
       "       [0.],\n",
       "       [1.],\n",
       "       [1.],\n",
       "       [0.],\n",
       "       [0.],\n",
       "       [0.],\n",
       "       [0.],\n",
       "       [0.],\n",
       "       [1.],\n",
       "       [1.],\n",
       "       [0.],\n",
       "       [0.],\n",
       "       [0.],\n",
       "       [1.],\n",
       "       [0.],\n",
       "       [0.],\n",
       "       [0.],\n",
       "       [0.],\n",
       "       [0.],\n",
       "       [0.],\n",
       "       [0.],\n",
       "       [0.],\n",
       "       [0.],\n",
       "       [0.],\n",
       "       [0.],\n",
       "       [0.],\n",
       "       [0.],\n",
       "       [0.],\n",
       "       [0.],\n",
       "       [0.],\n",
       "       [1.],\n",
       "       [0.],\n",
       "       [1.],\n",
       "       [1.],\n",
       "       [0.],\n",
       "       [0.],\n",
       "       [0.],\n",
       "       [0.],\n",
       "       [1.],\n",
       "       [0.],\n",
       "       [0.],\n",
       "       [0.],\n",
       "       [0.],\n",
       "       [0.],\n",
       "       [0.],\n",
       "       [0.],\n",
       "       [0.],\n",
       "       [0.],\n",
       "       [0.],\n",
       "       [0.],\n",
       "       [0.],\n",
       "       [0.],\n",
       "       [0.],\n",
       "       [0.],\n",
       "       [0.],\n",
       "       [1.],\n",
       "       [1.],\n",
       "       [0.],\n",
       "       [1.],\n",
       "       [0.],\n",
       "       [0.],\n",
       "       [0.],\n",
       "       [0.],\n",
       "       [1.],\n",
       "       [1.],\n",
       "       [0.],\n",
       "       [1.],\n",
       "       [0.],\n",
       "       [0.],\n",
       "       [0.],\n",
       "       [0.],\n",
       "       [1.],\n",
       "       [1.],\n",
       "       [0.],\n",
       "       [0.],\n",
       "       [0.],\n",
       "       [0.],\n",
       "       [0.],\n",
       "       [0.],\n",
       "       [0.],\n",
       "       [0.],\n",
       "       [0.],\n",
       "       [1.],\n",
       "       [1.],\n",
       "       [0.],\n",
       "       [0.],\n",
       "       [0.],\n",
       "       [0.],\n",
       "       [0.],\n",
       "       [1.],\n",
       "       [0.],\n",
       "       [0.],\n",
       "       [0.],\n",
       "       [0.],\n",
       "       [0.],\n",
       "       [1.],\n",
       "       [0.],\n",
       "       [1.],\n",
       "       [0.],\n",
       "       [0.],\n",
       "       [0.],\n",
       "       [0.],\n",
       "       [1.],\n",
       "       [0.],\n",
       "       [0.],\n",
       "       [0.],\n",
       "       [0.],\n",
       "       [0.],\n",
       "       [0.],\n",
       "       [0.],\n",
       "       [1.],\n",
       "       [0.],\n",
       "       [1.],\n",
       "       [1.],\n",
       "       [0.],\n",
       "       [0.],\n",
       "       [0.],\n",
       "       [1.],\n",
       "       [0.],\n",
       "       [0.],\n",
       "       [1.],\n",
       "       [0.],\n",
       "       [0.],\n",
       "       [0.],\n",
       "       [0.],\n",
       "       [0.],\n",
       "       [0.],\n",
       "       [1.],\n",
       "       [0.],\n",
       "       [0.],\n",
       "       [0.],\n",
       "       [0.],\n",
       "       [0.],\n",
       "       [0.],\n",
       "       [0.],\n",
       "       [0.],\n",
       "       [0.],\n",
       "       [0.],\n",
       "       [1.],\n",
       "       [0.],\n",
       "       [0.],\n",
       "       [1.],\n",
       "       [0.],\n",
       "       [0.],\n",
       "       [1.],\n",
       "       [0.],\n",
       "       [0.],\n",
       "       [1.],\n",
       "       [0.],\n",
       "       [0.],\n",
       "       [1.],\n",
       "       [0.],\n",
       "       [0.],\n",
       "       [0.],\n",
       "       [1.],\n",
       "       [0.],\n",
       "       [0.],\n",
       "       [0.],\n",
       "       [0.],\n",
       "       [0.],\n",
       "       [0.],\n",
       "       [0.],\n",
       "       [1.],\n",
       "       [1.],\n",
       "       [1.],\n",
       "       [0.],\n",
       "       [0.],\n",
       "       [0.],\n",
       "       [0.],\n",
       "       [0.],\n",
       "       [0.],\n",
       "       [0.],\n",
       "       [0.],\n",
       "       [0.],\n",
       "       [0.],\n",
       "       [0.],\n",
       "       [1.],\n",
       "       [0.],\n",
       "       [0.],\n",
       "       [1.],\n",
       "       [1.],\n",
       "       [0.],\n",
       "       [0.],\n",
       "       [0.],\n",
       "       [0.],\n",
       "       [0.],\n",
       "       [0.],\n",
       "       [0.],\n",
       "       [1.],\n",
       "       [0.],\n",
       "       [0.],\n",
       "       [0.],\n",
       "       [0.],\n",
       "       [0.],\n",
       "       [0.],\n",
       "       [1.],\n",
       "       [0.],\n",
       "       [1.],\n",
       "       [0.],\n",
       "       [0.],\n",
       "       [0.],\n",
       "       [1.],\n",
       "       [1.],\n",
       "       [1.],\n",
       "       [0.],\n",
       "       [0.],\n",
       "       [0.],\n",
       "       [1.],\n",
       "       [0.],\n",
       "       [0.],\n",
       "       [0.],\n",
       "       [1.],\n",
       "       [0.],\n",
       "       [0.],\n",
       "       [0.],\n",
       "       [0.],\n",
       "       [0.],\n",
       "       [1.],\n",
       "       [1.],\n",
       "       [0.],\n",
       "       [0.],\n",
       "       [0.],\n",
       "       [1.],\n",
       "       [0.],\n",
       "       [0.],\n",
       "       [0.],\n",
       "       [0.],\n",
       "       [0.],\n",
       "       [0.],\n",
       "       [0.],\n",
       "       [0.],\n",
       "       [0.],\n",
       "       [0.],\n",
       "       [1.],\n",
       "       [0.],\n",
       "       [0.],\n",
       "       [0.],\n",
       "       [0.],\n",
       "       [1.],\n",
       "       [0.],\n",
       "       [0.],\n",
       "       [0.],\n",
       "       [0.],\n",
       "       [0.],\n",
       "       [0.],\n",
       "       [0.],\n",
       "       [0.],\n",
       "       [0.],\n",
       "       [0.],\n",
       "       [0.],\n",
       "       [1.],\n",
       "       [0.],\n",
       "       [0.],\n",
       "       [0.],\n",
       "       [1.],\n",
       "       [0.],\n",
       "       [0.],\n",
       "       [0.],\n",
       "       [0.],\n",
       "       [0.],\n",
       "       [0.],\n",
       "       [0.],\n",
       "       [0.],\n",
       "       [0.],\n",
       "       [1.],\n",
       "       [0.],\n",
       "       [1.],\n",
       "       [0.],\n",
       "       [0.],\n",
       "       [0.],\n",
       "       [0.],\n",
       "       [1.],\n",
       "       [0.],\n",
       "       [0.],\n",
       "       [0.],\n",
       "       [0.],\n",
       "       [0.],\n",
       "       [0.],\n",
       "       [0.],\n",
       "       [0.],\n",
       "       [0.],\n",
       "       [0.],\n",
       "       [0.],\n",
       "       [0.],\n",
       "       [0.],\n",
       "       [0.],\n",
       "       [0.],\n",
       "       [0.],\n",
       "       [0.],\n",
       "       [0.],\n",
       "       [0.],\n",
       "       [0.],\n",
       "       [0.],\n",
       "       [1.],\n",
       "       [0.],\n",
       "       [0.],\n",
       "       [1.],\n",
       "       [0.],\n",
       "       [0.],\n",
       "       [0.],\n",
       "       [0.],\n",
       "       [0.],\n",
       "       [0.],\n",
       "       [0.],\n",
       "       [1.],\n",
       "       [1.],\n",
       "       [0.],\n",
       "       [0.],\n",
       "       [0.],\n",
       "       [0.],\n",
       "       [0.],\n",
       "       [0.],\n",
       "       [0.],\n",
       "       [0.],\n",
       "       [0.],\n",
       "       [0.],\n",
       "       [0.],\n",
       "       [1.],\n",
       "       [0.],\n",
       "       [1.],\n",
       "       [1.],\n",
       "       [0.],\n",
       "       [1.],\n",
       "       [0.],\n",
       "       [0.],\n",
       "       [0.],\n",
       "       [1.],\n",
       "       [0.],\n",
       "       [0.],\n",
       "       [0.],\n",
       "       [0.],\n",
       "       [1.],\n",
       "       [0.],\n",
       "       [0.],\n",
       "       [0.],\n",
       "       [1.],\n",
       "       [1.],\n",
       "       [0.],\n",
       "       [0.],\n",
       "       [0.],\n",
       "       [0.],\n",
       "       [0.],\n",
       "       [0.],\n",
       "       [0.],\n",
       "       [0.],\n",
       "       [0.],\n",
       "       [0.],\n",
       "       [0.],\n",
       "       [0.],\n",
       "       [0.],\n",
       "       [0.],\n",
       "       [0.],\n",
       "       [0.],\n",
       "       [0.],\n",
       "       [0.],\n",
       "       [0.],\n",
       "       [0.],\n",
       "       [0.],\n",
       "       [0.],\n",
       "       [0.],\n",
       "       [0.],\n",
       "       [1.],\n",
       "       [0.],\n",
       "       [0.],\n",
       "       [0.],\n",
       "       [0.],\n",
       "       [0.],\n",
       "       [0.],\n",
       "       [0.],\n",
       "       [0.],\n",
       "       [0.],\n",
       "       [0.],\n",
       "       [0.],\n",
       "       [0.],\n",
       "       [0.],\n",
       "       [0.],\n",
       "       [0.],\n",
       "       [0.],\n",
       "       [0.],\n",
       "       [1.],\n",
       "       [0.],\n",
       "       [0.],\n",
       "       [0.],\n",
       "       [0.],\n",
       "       [0.],\n",
       "       [0.],\n",
       "       [0.],\n",
       "       [0.],\n",
       "       [0.],\n",
       "       [1.],\n",
       "       [0.],\n",
       "       [0.],\n",
       "       [0.],\n",
       "       [0.],\n",
       "       [0.],\n",
       "       [0.],\n",
       "       [0.],\n",
       "       [0.],\n",
       "       [1.],\n",
       "       [0.],\n",
       "       [1.],\n",
       "       [0.],\n",
       "       [1.],\n",
       "       [0.],\n",
       "       [0.],\n",
       "       [0.],\n",
       "       [0.],\n",
       "       [1.],\n",
       "       [0.],\n",
       "       [0.],\n",
       "       [0.],\n",
       "       [0.],\n",
       "       [1.],\n",
       "       [0.],\n",
       "       [0.],\n",
       "       [1.],\n",
       "       [1.],\n",
       "       [1.],\n",
       "       [0.],\n",
       "       [0.],\n",
       "       [0.],\n",
       "       [0.],\n",
       "       [0.],\n",
       "       [1.],\n",
       "       [0.],\n",
       "       [0.],\n",
       "       [1.],\n",
       "       [0.],\n",
       "       [0.],\n",
       "       [0.],\n",
       "       [0.],\n",
       "       [0.],\n",
       "       [1.],\n",
       "       [0.],\n",
       "       [0.],\n",
       "       [1.],\n",
       "       [0.],\n",
       "       [0.],\n",
       "       [0.],\n",
       "       [0.],\n",
       "       [0.],\n",
       "       [1.],\n",
       "       [0.],\n",
       "       [0.],\n",
       "       [0.],\n",
       "       [0.],\n",
       "       [0.],\n",
       "       [0.],\n",
       "       [0.],\n",
       "       [0.],\n",
       "       [1.],\n",
       "       [1.],\n",
       "       [0.],\n",
       "       [1.],\n",
       "       [0.],\n",
       "       [0.],\n",
       "       [0.],\n",
       "       [0.],\n",
       "       [1.],\n",
       "       [0.],\n",
       "       [0.],\n",
       "       [1.],\n",
       "       [0.],\n",
       "       [0.],\n",
       "       [0.],\n",
       "       [0.],\n",
       "       [0.],\n",
       "       [1.],\n",
       "       [1.],\n",
       "       [0.],\n",
       "       [1.],\n",
       "       [1.],\n",
       "       [0.],\n",
       "       [1.],\n",
       "       [0.],\n",
       "       [0.],\n",
       "       [0.],\n",
       "       [0.],\n",
       "       [0.],\n",
       "       [0.],\n",
       "       [0.],\n",
       "       [0.],\n",
       "       [0.],\n",
       "       [0.],\n",
       "       [0.],\n",
       "       [0.],\n",
       "       [0.],\n",
       "       [0.],\n",
       "       [0.],\n",
       "       [0.],\n",
       "       [0.],\n",
       "       [0.],\n",
       "       [0.],\n",
       "       [1.],\n",
       "       [0.],\n",
       "       [0.],\n",
       "       [1.],\n",
       "       [0.],\n",
       "       [0.],\n",
       "       [0.],\n",
       "       [0.],\n",
       "       [0.],\n",
       "       [0.],\n",
       "       [1.],\n",
       "       [0.],\n",
       "       [0.],\n",
       "       [0.],\n",
       "       [0.],\n",
       "       [1.],\n",
       "       [0.],\n",
       "       [0.],\n",
       "       [0.],\n",
       "       [1.],\n",
       "       [1.],\n",
       "       [0.],\n",
       "       [0.],\n",
       "       [0.],\n",
       "       [0.],\n",
       "       [0.],\n",
       "       [0.],\n",
       "       [0.],\n",
       "       [1.],\n",
       "       [0.],\n",
       "       [1.],\n",
       "       [0.],\n",
       "       [0.],\n",
       "       [0.],\n",
       "       [0.],\n",
       "       [0.],\n",
       "       [0.],\n",
       "       [0.],\n",
       "       [0.],\n",
       "       [1.],\n",
       "       [0.],\n",
       "       [1.],\n",
       "       [0.],\n",
       "       [0.],\n",
       "       [0.],\n",
       "       [1.],\n",
       "       [0.],\n",
       "       [1.],\n",
       "       [0.],\n",
       "       [0.],\n",
       "       [0.],\n",
       "       [0.],\n",
       "       [0.],\n",
       "       [1.],\n",
       "       [0.],\n",
       "       [0.],\n",
       "       [0.],\n",
       "       [0.],\n",
       "       [0.],\n",
       "       [0.],\n",
       "       [0.],\n",
       "       [1.],\n",
       "       [0.],\n",
       "       [1.],\n",
       "       [0.],\n",
       "       [0.],\n",
       "       [0.],\n",
       "       [0.],\n",
       "       [0.],\n",
       "       [0.],\n",
       "       [1.],\n",
       "       [0.],\n",
       "       [0.],\n",
       "       [0.],\n",
       "       [0.],\n",
       "       [0.],\n",
       "       [1.],\n",
       "       [0.],\n",
       "       [0.],\n",
       "       [0.],\n",
       "       [0.],\n",
       "       [0.],\n",
       "       [1.],\n",
       "       [0.],\n",
       "       [0.]], dtype=float32)"
      ]
     },
     "execution_count": 39,
     "metadata": {},
     "output_type": "execute_result"
    }
   ],
   "source": [
    "model.predict(X_test).round()"
   ]
  },
  {
   "cell_type": "code",
   "execution_count": null,
   "id": "0701e3c6",
   "metadata": {},
   "outputs": [],
   "source": []
  },
  {
   "cell_type": "code",
   "execution_count": null,
   "id": "a5e43310",
   "metadata": {},
   "outputs": [],
   "source": []
  },
  {
   "cell_type": "code",
   "execution_count": null,
   "id": "de3947a9",
   "metadata": {},
   "outputs": [],
   "source": []
  },
  {
   "cell_type": "code",
   "execution_count": null,
   "id": "00872bcc",
   "metadata": {},
   "outputs": [],
   "source": []
  },
  {
   "cell_type": "code",
   "execution_count": null,
   "id": "ac39612f",
   "metadata": {},
   "outputs": [],
   "source": []
  },
  {
   "cell_type": "code",
   "execution_count": null,
   "id": "ef6bf64d",
   "metadata": {},
   "outputs": [],
   "source": []
  },
  {
   "cell_type": "code",
   "execution_count": 40,
   "id": "ca7dc6c7",
   "metadata": {},
   "outputs": [],
   "source": [
    "pot = top"
   ]
  },
  {
   "cell_type": "code",
   "execution_count": 41,
   "id": "d3d85ebe",
   "metadata": {},
   "outputs": [],
   "source": [
    "train_preprocessed = preprocessing.normalize(pot)"
   ]
  },
  {
   "cell_type": "code",
   "execution_count": 42,
   "id": "d3ea0205",
   "metadata": {},
   "outputs": [
    {
     "data": {
      "text/plain": [
       "(3743, 4864)"
      ]
     },
     "execution_count": 42,
     "metadata": {},
     "output_type": "execute_result"
    }
   ],
   "source": [
    "train_preprocessed.shape"
   ]
  },
  {
   "cell_type": "code",
   "execution_count": 43,
   "id": "868f8058",
   "metadata": {},
   "outputs": [],
   "source": [
    "bootval = np.column_stack( (train_preprocessed,train['Label']) )"
   ]
  },
  {
   "cell_type": "code",
   "execution_count": 44,
   "id": "f231e1fd",
   "metadata": {},
   "outputs": [
    {
     "data": {
      "text/plain": [
       "(3743, 4865)"
      ]
     },
     "execution_count": 44,
     "metadata": {},
     "output_type": "execute_result"
    }
   ],
   "source": [
    "bootval.shape"
   ]
  },
  {
   "cell_type": "code",
   "execution_count": 47,
   "id": "c280906c",
   "metadata": {},
   "outputs": [],
   "source": [
    "\n",
    "import numpy\n",
    "from pandas import read_csv\n",
    "from sklearn.utils import resample\n",
    "from sklearn.tree import DecisionTreeClassifier\n",
    "from sklearn.metrics import accuracy_score\n",
    "from matplotlib import pyplot"
   ]
  },
  {
   "cell_type": "code",
   "execution_count": null,
   "id": "166b4e7c",
   "metadata": {},
   "outputs": [],
   "source": [
    "data = read_csv('pima-indians-diabetes.data.csv', header=None)\n",
    "values = data.values\n",
    "# configure bootstrap\n",
    "n_iterations = 1000\n",
    "n_size = int(len(data) * 0.50)\n",
    "# run bootstrap\n",
    "stats = list()\n",
    "for i in range(n_iterations):\n",
    "\t# prepare train and test sets\n",
    "\ttrain = resample(values, n_samples=n_size)\n",
    "\ttest = numpy.array([x for x in values if x.tolist() not in train.tolist()])\n",
    "\t# fit model\n",
    "\tmodel = DecisionTreeClassifier()\n",
    "\tmodel.fit(train[:,:-1], train[:,-1])\n",
    "\t# evaluate model\n",
    "\tpredictions = model.predict(test[:,:-1])\n",
    "\tscore = accuracy_score(test[:,-1], predictions)\n",
    "\tprint(score)\n",
    "\tstats.append(score)"
   ]
  },
  {
   "cell_type": "code",
   "execution_count": null,
   "id": "9c5149bd",
   "metadata": {},
   "outputs": [],
   "source": []
  },
  {
   "cell_type": "code",
   "execution_count": 48,
   "id": "d5983e77",
   "metadata": {},
   "outputs": [],
   "source": [
    "n_iterations = 5\n",
    "n_size = int(len(X_train) * 0.80)\n",
    "# run bootstrap\n",
    "stats = list()\n",
    "values = bootval"
   ]
  },
  {
   "cell_type": "code",
   "execution_count": 49,
   "id": "b5c84272",
   "metadata": {},
   "outputs": [
    {
     "name": "stdout",
     "output_type": "stream",
     "text": [
      "1\n"
     ]
    },
    {
     "ename": "KeyboardInterrupt",
     "evalue": "",
     "output_type": "error",
     "traceback": [
      "\u001b[0;31m---------------------------------------------------------------------------\u001b[0m",
      "\u001b[0;31mKeyboardInterrupt\u001b[0m                         Traceback (most recent call last)",
      "\u001b[0;32m<ipython-input-49-cfd45a03239b>\u001b[0m in \u001b[0;36m<module>\u001b[0;34m\u001b[0m\n\u001b[1;32m      2\u001b[0m     \u001b[0mtrain\u001b[0m \u001b[0;34m=\u001b[0m \u001b[0mresample\u001b[0m\u001b[0;34m(\u001b[0m\u001b[0mvalues\u001b[0m\u001b[0;34m,\u001b[0m \u001b[0mn_samples\u001b[0m\u001b[0;34m=\u001b[0m\u001b[0mn_size\u001b[0m\u001b[0;34m)\u001b[0m\u001b[0;34m\u001b[0m\u001b[0;34m\u001b[0m\u001b[0m\n\u001b[1;32m      3\u001b[0m     \u001b[0mprint\u001b[0m\u001b[0;34m(\u001b[0m\u001b[0;36m1\u001b[0m\u001b[0;34m)\u001b[0m\u001b[0;34m\u001b[0m\u001b[0;34m\u001b[0m\u001b[0m\n\u001b[0;32m----> 4\u001b[0;31m     \u001b[0mtest\u001b[0m \u001b[0;34m=\u001b[0m \u001b[0mnumpy\u001b[0m\u001b[0;34m.\u001b[0m\u001b[0marray\u001b[0m\u001b[0;34m(\u001b[0m\u001b[0;34m[\u001b[0m\u001b[0mx\u001b[0m \u001b[0;32mfor\u001b[0m \u001b[0mx\u001b[0m \u001b[0;32min\u001b[0m \u001b[0mvalues\u001b[0m \u001b[0;32mif\u001b[0m \u001b[0mx\u001b[0m\u001b[0;34m.\u001b[0m\u001b[0mtolist\u001b[0m\u001b[0;34m(\u001b[0m\u001b[0;34m)\u001b[0m \u001b[0;32mnot\u001b[0m \u001b[0;32min\u001b[0m \u001b[0mtrain\u001b[0m\u001b[0;34m.\u001b[0m\u001b[0mtolist\u001b[0m\u001b[0;34m(\u001b[0m\u001b[0;34m)\u001b[0m\u001b[0;34m]\u001b[0m\u001b[0;34m)\u001b[0m\u001b[0;34m\u001b[0m\u001b[0;34m\u001b[0m\u001b[0m\n\u001b[0m\u001b[1;32m      5\u001b[0m     \u001b[0;31m# fit model\u001b[0m\u001b[0;34m\u001b[0m\u001b[0;34m\u001b[0m\u001b[0;34m\u001b[0m\u001b[0m\n\u001b[1;32m      6\u001b[0m     \u001b[0mprint\u001b[0m\u001b[0;34m(\u001b[0m\u001b[0;36m1\u001b[0m\u001b[0;34m)\u001b[0m\u001b[0;34m\u001b[0m\u001b[0;34m\u001b[0m\u001b[0m\n",
      "\u001b[0;32m<ipython-input-49-cfd45a03239b>\u001b[0m in \u001b[0;36m<listcomp>\u001b[0;34m(.0)\u001b[0m\n\u001b[1;32m      2\u001b[0m     \u001b[0mtrain\u001b[0m \u001b[0;34m=\u001b[0m \u001b[0mresample\u001b[0m\u001b[0;34m(\u001b[0m\u001b[0mvalues\u001b[0m\u001b[0;34m,\u001b[0m \u001b[0mn_samples\u001b[0m\u001b[0;34m=\u001b[0m\u001b[0mn_size\u001b[0m\u001b[0;34m)\u001b[0m\u001b[0;34m\u001b[0m\u001b[0;34m\u001b[0m\u001b[0m\n\u001b[1;32m      3\u001b[0m     \u001b[0mprint\u001b[0m\u001b[0;34m(\u001b[0m\u001b[0;36m1\u001b[0m\u001b[0;34m)\u001b[0m\u001b[0;34m\u001b[0m\u001b[0;34m\u001b[0m\u001b[0m\n\u001b[0;32m----> 4\u001b[0;31m     \u001b[0mtest\u001b[0m \u001b[0;34m=\u001b[0m \u001b[0mnumpy\u001b[0m\u001b[0;34m.\u001b[0m\u001b[0marray\u001b[0m\u001b[0;34m(\u001b[0m\u001b[0;34m[\u001b[0m\u001b[0mx\u001b[0m \u001b[0;32mfor\u001b[0m \u001b[0mx\u001b[0m \u001b[0;32min\u001b[0m \u001b[0mvalues\u001b[0m \u001b[0;32mif\u001b[0m \u001b[0mx\u001b[0m\u001b[0;34m.\u001b[0m\u001b[0mtolist\u001b[0m\u001b[0;34m(\u001b[0m\u001b[0;34m)\u001b[0m \u001b[0;32mnot\u001b[0m \u001b[0;32min\u001b[0m \u001b[0mtrain\u001b[0m\u001b[0;34m.\u001b[0m\u001b[0mtolist\u001b[0m\u001b[0;34m(\u001b[0m\u001b[0;34m)\u001b[0m\u001b[0;34m]\u001b[0m\u001b[0;34m)\u001b[0m\u001b[0;34m\u001b[0m\u001b[0;34m\u001b[0m\u001b[0m\n\u001b[0m\u001b[1;32m      5\u001b[0m     \u001b[0;31m# fit model\u001b[0m\u001b[0;34m\u001b[0m\u001b[0;34m\u001b[0m\u001b[0;34m\u001b[0m\u001b[0m\n\u001b[1;32m      6\u001b[0m     \u001b[0mprint\u001b[0m\u001b[0;34m(\u001b[0m\u001b[0;36m1\u001b[0m\u001b[0;34m)\u001b[0m\u001b[0;34m\u001b[0m\u001b[0;34m\u001b[0m\u001b[0m\n",
      "\u001b[0;31mKeyboardInterrupt\u001b[0m: "
     ]
    }
   ],
   "source": [
    "for i in range(n_iterations):\n",
    "    train = resample(values, n_samples=n_size)\n",
    "    print(1)\n",
    "    test = numpy.array([x for x in values if x.tolist() not in train.tolist()])\n",
    "    # fit model\n",
    "    print(1)\n",
    "    model = Sequential(layers=None, name=None)\n",
    "    model.add(Dense(512, input_shape = (4864,), activation = 'relu'))\n",
    "    model.add(Dense(256, activation = 'relu'))\n",
    "    model.add(Dense(128, activation = 'relu'))\n",
    "    model.add(Dense(1, activation = 'sigmoid'))\n",
    "    sgd = optimizers.Adam(lr = 0.001)\n",
    "    model.compile(optimizer = sgd, loss = 'binary_crossentropy', metrics=['accuracy'])\n",
    "    model.fit(train[:,:-1], train[:,-1], batch_size = 24, epochs = 20, verbose = 1)\n",
    "    \n",
    "    results = model.evaluate(test[:,:-1],test[:,-1])\n",
    "    print(results[1])\n",
    "    stats.append(results[1])\n",
    "    \n",
    "    \n",
    "    \n",
    "    \n",
    "    \n",
    "    \n",
    "    \n",
    "    "
   ]
  },
  {
   "cell_type": "code",
   "execution_count": null,
   "id": "21274a40",
   "metadata": {},
   "outputs": [],
   "source": [
    "stats"
   ]
  },
  {
   "cell_type": "code",
   "execution_count": null,
   "id": "53e144a7",
   "metadata": {},
   "outputs": [],
   "source": [
    "pyplot.hist(stats)\n",
    "pyplot.show()\n",
    "# confidence intervals\n",
    "alpha = 0.95\n",
    "p = ((1.0-alpha)/2.0) * 100\n",
    "lower = max(0.0, numpy.percentile(stats, p))\n",
    "p = (alpha+((1.0-alpha)/2.0)) * 100\n",
    "upper = min(1.0, numpy.percentile(stats, p))\n",
    "print('%.1f confidence interval %.1f%% and %.1f%%' % (alpha*100, lower*100, upper*100))"
   ]
  },
  {
   "cell_type": "code",
   "execution_count": 50,
   "id": "355afb18",
   "metadata": {},
   "outputs": [],
   "source": [
    "import tensorflow as tf\n",
    "from tensorflow.keras.wrappers.scikit_learn import KerasClassifier\n",
    "from sklearn.model_selection import cross_val_score\n",
    "\n",
    "\n",
    "\n",
    "def build_model():\n",
    "    model = Sequential(layers=None, name=None)\n",
    "    model.add(Dense(512, input_shape = (4864,), activation = 'relu'))\n",
    "    model.add(Dense(256, activation = 'relu'))\n",
    "    model.add(Dense(128, activation = 'relu'))\n",
    "    model.add(Dense(1, activation = 'sigmoid'))\n",
    "    sgd = optimizers.Adam(lr = 0.001)\n",
    "    model.compile(optimizer = sgd, loss = 'binary_crossentropy', metrics=['accuracy'])\n",
    "    return model\n",
    "\n",
    "#model = build_model()\n",
    "\n",
    "#history = model.fit(X_train, y_train, epochs=20)\n"
   ]
  },
  {
   "cell_type": "code",
   "execution_count": null,
   "id": "42029c93",
   "metadata": {},
   "outputs": [],
   "source": []
  },
  {
   "cell_type": "code",
   "execution_count": 51,
   "id": "5ccc5412",
   "metadata": {},
   "outputs": [
    {
     "name": "stderr",
     "output_type": "stream",
     "text": [
      "/home/rohansl/leerohenv/lib/python3.6/site-packages/keras/optimizer_v2/optimizer_v2.py:356: UserWarning: The `lr` argument is deprecated, use `learning_rate` instead.\n",
      "  \"The `lr` argument is deprecated, use `learning_rate` instead.\")\n"
     ]
    },
    {
     "name": "stdout",
     "output_type": "stream",
     "text": [
      "63/63 [==============================] - ETA: 0s - loss: 0.1486 - accuracy: 0.94 - 1s 10ms/step - loss: 0.1400 - accuracy: 0.9459\n"
     ]
    },
    {
     "name": "stderr",
     "output_type": "stream",
     "text": [
      "/home/rohansl/leerohenv/lib/python3.6/site-packages/keras/optimizer_v2/optimizer_v2.py:356: UserWarning: The `lr` argument is deprecated, use `learning_rate` instead.\n",
      "  \"The `lr` argument is deprecated, use `learning_rate` instead.\")\n"
     ]
    },
    {
     "name": "stdout",
     "output_type": "stream",
     "text": [
      "63/63 [==============================] - 1s 8ms/step - loss: 0.1366 - accuracy: 0.9494\n"
     ]
    },
    {
     "name": "stderr",
     "output_type": "stream",
     "text": [
      "/home/rohansl/leerohenv/lib/python3.6/site-packages/keras/optimizer_v2/optimizer_v2.py:356: UserWarning: The `lr` argument is deprecated, use `learning_rate` instead.\n",
      "  \"The `lr` argument is deprecated, use `learning_rate` instead.\")\n"
     ]
    },
    {
     "name": "stdout",
     "output_type": "stream",
     "text": [
      "63/63 [==============================] - 1s 8ms/step - loss: 0.2113 - accuracy: 0.9193\n",
      "[0.98797595 0.98597194 0.96793587]\n"
     ]
    }
   ],
   "source": [
    "keras_clf = KerasClassifier(build_model)\n",
    "\n",
    "accuracies = cross_val_score(estimator=keras_clf, scoring=\"accuracy\", \n",
    "    X=X_train, y=y_train, cv=3)\n",
    "\n",
    "print(accuracies)"
   ]
  },
  {
   "cell_type": "code",
   "execution_count": 52,
   "id": "f9531e8b",
   "metadata": {},
   "outputs": [],
   "source": [
    "mean = accuracies.mean()"
   ]
  },
  {
   "cell_type": "code",
   "execution_count": 53,
   "id": "373e9582",
   "metadata": {},
   "outputs": [
    {
     "data": {
      "text/plain": [
       "0.98062792251169"
      ]
     },
     "execution_count": 53,
     "metadata": {},
     "output_type": "execute_result"
    }
   ],
   "source": [
    "mean"
   ]
  },
  {
   "cell_type": "code",
   "execution_count": null,
   "id": "147e296d",
   "metadata": {},
   "outputs": [],
   "source": [
    "#Importing required libraries\n",
    "from sklearn.datasets import load_breast_cancer\n",
    "import pandas as pd\n",
    "from sklearn.model_selection import KFold \n",
    "from sklearn.linear_model import LogisticRegression\n",
    "from sklearn.metrics import accuracy_score\n",
    " \n",
    "#Loading the dataset\n",
    "#data = load_breast_cancer(as_frame = True)\n",
    "#df = data.frame\n",
    "#X = df.iloc[:,:-1]\n",
    "#y = df.iloc[:,-1]\n",
    " \n",
    "#Implementing cross validation\n",
    " \n",
    "k = 5\n",
    "kf = KFold(n_splits=k, random_state=None)\n",
    "model = LogisticRegression(solver= 'liblinear')\n",
    " \n",
    "acc_score = []\n",
    " \n",
    "for train_index , test_index in kf.split(X):\n",
    "    X_train , X_test = X.iloc[train_index,:],X.iloc[test_index,:]\n",
    "    y_train , y_test = y[train_index] , y[test_index]\n",
    "     \n",
    "    model.fit(X_train,y_train)\n",
    "    pred_values = model.predict(X_test)\n",
    "     \n",
    "    acc = accuracy_score(pred_values , y_test)\n",
    "    acc_score.append(acc)\n",
    "     \n",
    "avg_acc_score = sum(acc_score)/k\n",
    " \n",
    "print('accuracy of each fold - {}'.format(acc_score))\n",
    "print('Avg accuracy : {}'.format(avg_acc_score))\n"
   ]
  },
  {
   "cell_type": "code",
   "execution_count": null,
   "id": "69535603",
   "metadata": {},
   "outputs": [],
   "source": []
  },
  {
   "cell_type": "code",
   "execution_count": null,
   "id": "99c3a489",
   "metadata": {},
   "outputs": [],
   "source": []
  },
  {
   "cell_type": "code",
   "execution_count": null,
   "id": "8ff4a81a",
   "metadata": {},
   "outputs": [],
   "source": []
  },
  {
   "cell_type": "code",
   "execution_count": null,
   "id": "861bdde0",
   "metadata": {},
   "outputs": [],
   "source": [
    "y_train.shape"
   ]
  },
  {
   "cell_type": "code",
   "execution_count": null,
   "id": "59986677",
   "metadata": {},
   "outputs": [],
   "source": [
    "train.shape"
   ]
  },
  {
   "cell_type": "code",
   "execution_count": null,
   "id": "f194df89",
   "metadata": {},
   "outputs": [],
   "source": [
    "X_train.shape"
   ]
  },
  {
   "cell_type": "code",
   "execution_count": null,
   "id": "77b67417",
   "metadata": {},
   "outputs": [],
   "source": [
    "test = numpy.array([x for x in values if x.tolist() not in train.tolist()])"
   ]
  },
  {
   "cell_type": "code",
   "execution_count": null,
   "id": "8738007b",
   "metadata": {},
   "outputs": [],
   "source": [
    "test.shape"
   ]
  },
  {
   "cell_type": "code",
   "execution_count": null,
   "id": "f305ea89",
   "metadata": {},
   "outputs": [],
   "source": [
    "train1 = pd.read_csv(\"/home/rohansl/NewCSS/clean_combined.csv\")"
   ]
  },
  {
   "cell_type": "code",
   "execution_count": null,
   "id": "73403d54",
   "metadata": {},
   "outputs": [],
   "source": [
    "train1['Label'].shape"
   ]
  },
  {
   "cell_type": "code",
   "execution_count": null,
   "id": "6f0f5acc",
   "metadata": {},
   "outputs": [],
   "source": []
  },
  {
   "cell_type": "code",
   "execution_count": null,
   "id": "87513415",
   "metadata": {},
   "outputs": [],
   "source": []
  },
  {
   "cell_type": "code",
   "execution_count": null,
   "id": "f9e4889f",
   "metadata": {},
   "outputs": [],
   "source": [
    "x = output"
   ]
  },
  {
   "cell_type": "code",
   "execution_count": null,
   "id": "68be758e",
   "metadata": {},
   "outputs": [],
   "source": [
    "top = [t.numpy() for t in x]"
   ]
  },
  {
   "cell_type": "code",
   "execution_count": null,
   "id": "758086fb",
   "metadata": {},
   "outputs": [],
   "source": [
    "from sklearn.model_selection import train_test_split\n",
    "\n",
    "X_train, X_test, y_train, y_test = train_test_split(top, train['Label'], test_size=0.15,random_state=42)\n"
   ]
  },
  {
   "cell_type": "code",
   "execution_count": null,
   "id": "1cf5477d",
   "metadata": {},
   "outputs": [],
   "source": [
    "from sklearn.ensemble import RandomForestClassifier\n",
    "clf = RandomForestClassifier(random_state=0,class_weight = 'balanced')"
   ]
  },
  {
   "cell_type": "code",
   "execution_count": null,
   "id": "63efb4ac",
   "metadata": {},
   "outputs": [],
   "source": [
    "clf.fit(X_train,y_train)"
   ]
  },
  {
   "cell_type": "code",
   "execution_count": null,
   "id": "a713d008",
   "metadata": {},
   "outputs": [],
   "source": [
    "preds = clf.predict(X_test)"
   ]
  },
  {
   "cell_type": "code",
   "execution_count": null,
   "id": "5ee020af",
   "metadata": {},
   "outputs": [],
   "source": [
    "from sklearn.metrics import confusion_matrix\n",
    "confusion_matrix(y_test, preds)"
   ]
  },
  {
   "cell_type": "code",
   "execution_count": null,
   "id": "17c11687",
   "metadata": {},
   "outputs": [],
   "source": []
  },
  {
   "cell_type": "code",
   "execution_count": null,
   "id": "b5383b49",
   "metadata": {},
   "outputs": [],
   "source": [
    "params = {'colsample_bytree': 0.8,'learning_rate': 0.003, 'max_depth': 9, 'subsample': 1,'objective':'binary:logistic','eval_metric':'logloss'}"
   ]
  },
  {
   "cell_type": "code",
   "execution_count": null,
   "id": "90595698",
   "metadata": {},
   "outputs": [],
   "source": [
    "import xgboost as xgb\n",
    "dt =xgdmat=xgb.DMatrix(X_train,y_train)\n",
    "dte = xgdmat=xgb.DMatrix(X_test,y_test)"
   ]
  },
  {
   "cell_type": "code",
   "execution_count": null,
   "id": "393a41ec",
   "metadata": {},
   "outputs": [],
   "source": [
    "model_xgb = xgb.train(params, dt, 800, [(dt, \"train\"),(dte, \"valid\")], verbose_eval=200)"
   ]
  },
  {
   "cell_type": "code",
   "execution_count": null,
   "id": "f816fad6",
   "metadata": {},
   "outputs": [],
   "source": [
    "pred_xgb = model_xgb.predict(dte)"
   ]
  },
  {
   "cell_type": "code",
   "execution_count": null,
   "id": "d2ef901f",
   "metadata": {},
   "outputs": [],
   "source": [
    "cm = confusion_matrix(y_test, (pred_xgb>0.5))"
   ]
  },
  {
   "cell_type": "code",
   "execution_count": null,
   "id": "1bbd1005",
   "metadata": {},
   "outputs": [],
   "source": [
    "cm"
   ]
  },
  {
   "cell_type": "code",
   "execution_count": null,
   "id": "a131c744",
   "metadata": {},
   "outputs": [],
   "source": [
    "9/11"
   ]
  },
  {
   "cell_type": "code",
   "execution_count": null,
   "id": "8a06682d",
   "metadata": {},
   "outputs": [],
   "source": [
    "num_features = len(output[1,:])"
   ]
  },
  {
   "cell_type": "code",
   "execution_count": null,
   "id": "b16c83d2",
   "metadata": {},
   "outputs": [],
   "source": [
    "import numpy as np\n",
    "import pandas as pd\n",
    "#import pywt\n",
    "import matplotlib.pyplot as plt\n",
    "import tensorflow as tf\n",
    "from keras.models import Model\n",
    "import keras.layers as kl\n",
    "from keras.layers import Input, Dense\n",
    "import keras as kr\n",
    "from keras.layers import Activation\n",
    "from keras import backend as K\n",
    "from keras.utils.generic_utils import get_custom_objects\n",
    "from keras.models import Sequential\n",
    "from keras.layers import Dense\n",
    "from keras.callbacks import EarlyStopping \n",
    "#from keras.optimizers import Adam, SGD\n",
    "from sklearn.model_selection import KFold\n",
    "from sklearn.model_selection import cross_val_score\n",
    "\n",
    "model = Sequential()\n",
    "model.add(Dense(512, input_dim=num_features, kernel_initializer='normal', activation='relu'))\n",
    "model.add(Dense(256, activation='relu'))\n",
    "model.add(Dense(128, activation='relu'))\n",
    "#model.add(Dense(8, activation='swish'))\n",
    "model.add(Dense(1, activation='sigmoid'))\n",
    "model.summary()"
   ]
  },
  {
   "cell_type": "code",
   "execution_count": null,
   "id": "b3259810",
   "metadata": {},
   "outputs": [],
   "source": [
    "model.compile(loss='binary_crossentropy', optimizer='adam', metrics=['accuracy'])"
   ]
  },
  {
   "cell_type": "code",
   "execution_count": null,
   "id": "72e7538b",
   "metadata": {},
   "outputs": [],
   "source": [
    "model.fit(output, train['label'], epochs=50, batch_size=12)"
   ]
  },
  {
   "cell_type": "code",
   "execution_count": null,
   "id": "274be3b1",
   "metadata": {},
   "outputs": [],
   "source": [
    "model.save('/home/rohansl/NewCSS/model1')\n",
    "##TESTING\n",
    "#model.predict(output)"
   ]
  },
  {
   "cell_type": "code",
   "execution_count": null,
   "id": "f399c96a",
   "metadata": {},
   "outputs": [],
   "source": [
    "model_json = model.to_json()\n",
    "with open(\"model.json\", \"w\") as json_file:\n",
    "    json_file.write(model_json)\n",
    "# serialize weights to HDF5\n",
    "model.save_weights(\"model.h5\")\n",
    "print(\"Saved model to disk\")"
   ]
  },
  {
   "cell_type": "code",
   "execution_count": null,
   "id": "61097075",
   "metadata": {},
   "outputs": [],
   "source": [
    "test = pd.read_csv(\"/home/rohansl/NewCSS/test1.csv\")"
   ]
  },
  {
   "cell_type": "code",
   "execution_count": null,
   "id": "1dc476a5",
   "metadata": {},
   "outputs": [],
   "source": [
    "test.head()"
   ]
  },
  {
   "cell_type": "code",
   "execution_count": null,
   "id": "2445f554",
   "metadata": {},
   "outputs": [],
   "source": [
    "#X=list(test['Text'])\n",
    "#embedding = []\n",
    "#for i in X:\n",
    "#    word = get_word_vector(i, tokenizer, model, layers)\n",
    "#    embedding.append(word)\n",
    "X=list(test['Text'])"
   ]
  },
  {
   "cell_type": "code",
   "execution_count": null,
   "id": "22af56c3",
   "metadata": {},
   "outputs": [],
   "source": [
    "#sent = test[\"Text\"]\n",
    "#word_embedding = get_word_vector(sent, tokenizer, model, layers)"
   ]
  },
  {
   "cell_type": "code",
   "execution_count": null,
   "id": "ce8bfefd",
   "metadata": {},
   "outputs": [],
   "source": [
    "def get_word_idx1(sent: str):\n",
    "    return sent.split(\" \")\n",
    "\n",
    "def get_hidden_states1(encoded, model, layers):\n",
    "    with torch.no_grad():\n",
    "        output = model(**encoded)\n",
    "    states = output.hidden_states\n",
    "     # Stack and sum all requested layers\n",
    "    output = torch.stack([states[i] for i in layers]).sum(0).squeeze()\n",
    "     # Only select the tokens that constitute the requested word\n",
    "    #word_tokens_output = output[token_ids_word]\n",
    " \n",
    "    return output.mean(dim=0)\n",
    "\n",
    "def get_word_vector1(sent, tokenizer, model, layers):\n",
    "    encoded = tokenizer.encode_plus(sent, return_tensors=\"pt\")\n",
    "    #token_ids_word = np.where(np.array(encoded.word_ids()) == idx)\n",
    " \n",
    "    return get_hidden_states1(encoded, model, layers)"
   ]
  },
  {
   "cell_type": "code",
   "execution_count": null,
   "id": "05b7f0ca",
   "metadata": {},
   "outputs": [],
   "source": [
    "embedding1 = []\n",
    "for i in X:\n",
    "    word = get_word_vector1(i, tokenizer, model, layers)\n",
    "    embedding1.append(word)"
   ]
  },
  {
   "cell_type": "code",
   "execution_count": null,
   "id": "2a6c3da9",
   "metadata": {},
   "outputs": [],
   "source": [
    "x = embedding1\n"
   ]
  },
  {
   "cell_type": "code",
   "execution_count": null,
   "id": "8cac8959",
   "metadata": {},
   "outputs": [],
   "source": [
    "probs = [t.numpy() for t in x]"
   ]
  },
  {
   "cell_type": "code",
   "execution_count": null,
   "id": "6fcc6fc8",
   "metadata": {},
   "outputs": [],
   "source": [
    "len(probs)"
   ]
  },
  {
   "cell_type": "code",
   "execution_count": null,
   "id": "6d04e5bb",
   "metadata": {},
   "outputs": [],
   "source": [
    "features = []\n",
    "for i in tqdm(test.Name):\n",
    "    print(i)\n",
    "    img = cv2.imread(i)\n",
    "    img = transform(img)\n",
    "    img = img.reshape(1, 3, 448, 448)\n",
    "    img = img.to(device)\n",
    "    with torch.no_grad():\n",
    "        feature = new_model(img)\n",
    "    features.append(feature.cpu().detach().numpy().reshape(-1))\n",
    "features = np.array(features)"
   ]
  },
  {
   "cell_type": "code",
   "execution_count": null,
   "id": "a251fbe6",
   "metadata": {},
   "outputs": [],
   "source": [
    "img_embedding = tf.math.l2_normalize(features, name='normalize_img') * alpha\n",
    "bert_embedding = tf.math.l2_normalize(probs, name='normalize_desc') * (1 - alpha)"
   ]
  },
  {
   "cell_type": "code",
   "execution_count": null,
   "id": "b05755e3",
   "metadata": {},
   "outputs": [],
   "source": [
    "output = tf.keras.layers.concatenate([bert_embedding, img_embedding])"
   ]
  },
  {
   "cell_type": "code",
   "execution_count": null,
   "id": "d0d39a5b",
   "metadata": {},
   "outputs": [],
   "source": [
    "len(output)"
   ]
  },
  {
   "cell_type": "code",
   "execution_count": null,
   "id": "f8142d2c",
   "metadata": {},
   "outputs": [],
   "source": []
  },
  {
   "cell_type": "code",
   "execution_count": null,
   "id": "dcbe0098",
   "metadata": {},
   "outputs": [],
   "source": []
  }
 ],
 "metadata": {
  "kernelspec": {
   "display_name": "Python 3",
   "language": "python",
   "name": "python3"
  },
  "language_info": {
   "codemirror_mode": {
    "name": "ipython",
    "version": 3
   },
   "file_extension": ".py",
   "mimetype": "text/x-python",
   "name": "python",
   "nbconvert_exporter": "python",
   "pygments_lexer": "ipython3",
   "version": "3.6.9"
  }
 },
 "nbformat": 4,
 "nbformat_minor": 5
}
