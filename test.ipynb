{
 "cells": [
  {
   "cell_type": "code",
   "execution_count": 1,
   "id": "8f6ef52b",
   "metadata": {},
   "outputs": [],
   "source": [
    "\n",
    "from pytube import YouTube \n",
    "  "
   ]
  },
  {
   "cell_type": "code",
   "execution_count": 2,
   "id": "8564674a",
   "metadata": {},
   "outputs": [
    {
     "data": {
      "text/plain": [
       "'C:\\\\Users\\\\Rohan'"
      ]
     },
     "execution_count": 2,
     "metadata": {},
     "output_type": "execute_result"
    }
   ],
   "source": [
    "pwd"
   ]
  },
  {
   "cell_type": "code",
   "execution_count": 3,
   "id": "c12e235c",
   "metadata": {},
   "outputs": [],
   "source": [
    "SAVE_PATH = \"Downloads/\" #to_do \n",
    "  \n",
    "#link of the video to be downloaded \n",
    "link=[\"https://www.youtube.com/watch?v=QioSWu9vJd8\"\n",
    "    ]"
   ]
  },
  {
   "cell_type": "markdown",
   "id": "2df079cb",
   "metadata": {},
   "source": [
    "Role of Hashtags in Online Social Movements\n",
    "\n",
    "Logic of this paragraph: \n",
    "1. Spawning hashtags are more nuanced and meaning-wise specific than the central hashtag (but why??; we need to support this claim. Is there evidence?)\n",
    "2. For example, the phenomenon of hashtag highjacking, which is ____, users newly create hashtags (spawning hashtags) in association with the primary/ original hashtag to _____. \n",
    "3. Most research has focused on understanding primary/ original hashtags rather than these spawning hashtags. What is the impact of these spawning hashtags in the polarization of online social movements? How do the presence of spawning hashtags shape the linguistic polarity between the ___ and counter discourse?\n",
    "Twitter has emerged as the preferred social media platform to publicly organize large-scale socio-political movements by individuals. Users use hashtags to broadcast their movement to reach a wider international audience and garner support and facilitate discussions from all spectrums of social media users. The discussions spawning out of these hashtagged posts are often spontaneous, organic, and beyond the control of any organization or user. One such example was the Arab Spring movement where hashtags played a vital role in shaping political debates and organizing major offline demonstrations and protests. While the movement of the Arab springs was able to muster support from all sections of the society this is not always the case. With the rise of political influence and networks on Twitter, online social movements that do not follow hegemonic norms are often subjected to polarization through hashtag hijacking. Hashtag hijacking (Hashtag drift) occurs when users of different ideologies adopt hashtags for a different purpose than originally intended. Users do this to gain control over the terms being used and establish social media dominance over users of differing ideologies. Hashtag hijacking often plays a significant role in making a movement/debate more polarized. Scholarship suggests that users use a more diverse vocabulary of hashtags in conjunction with the central hashtag; often resulting in a change in the semantic association of tweets. \n",
    "Hashtag hijacking often paves the way for more individualistic trends and linguistic patterns used by users to highlight their ideology and opinion through new hashtags. \n",
    "What we coin in this paper as spawning hashtags or hashtags that spawn (newly co-occur) with the primary or focal hashtag tend highlight the user’s ideology and their perception or stance towards the larger social movement in a more nuanced context of the user and appropriate to individuals' particular contexts and needs [cite]. Prior scholarship has focused on detecting hashtag hijacking around the central hashtag including political hijacks, linguistic analysis, or hijacking attempts used for spamming. While the semantic patterns used in tweets consisting of user-generated spawned hashtags give a better perspective and overview of how social movements and their actors are perceived by users no such study has been done in analyzing their impact on determining language polarity. In this paper, we determine the role and impact of spawned hashtags on language polarity by determining how the protesting farmers are perceived by users of different stance on the farmers' protest\n"
   ]
  },
  {
   "cell_type": "markdown",
   "id": "08edab73",
   "metadata": {},
   "source": [
    "Role of Hashtags in Online Social Movements\n",
    "\n",
    "Logic of this paragraph: \n",
    "1. Spawning hashtags are more nuanced and meaning-wise specific than the central hashtag (but why??; we need to support this claim. Is there evidence?)\n",
    "2. For example, the phenomenon of hashtag highjacking, which is ____, users newly create hashtags (spawning hashtags) in association with the primary/ original hashtag to _____. \n",
    "3. Most research has focused on understanding primary/ original hashtags rather than these spawning hashtags. What is the impact of these spawning hashtags in the polarization of online social movements? How do the presence of spawning hashtags shape the linguistic polarity between the ___ and counter discourse?\n",
    "\n",
    "\n",
    "Twitter has emerged as the preferred social media platform to publicly organize large-scale socio-political movements by individuals. Users use hashtags to broadcast their movement to reach a wider international audience and garner support and facilitate discussions from all spectrums of social media users. The discussions spawning out of these hashtagged posts are often spontaneous, organic, and beyond the control of any organization or user. One such example was the Arab Spring movement where hashtags played a vital role in shaping political debates and organizing major offline demonstrations and protests. While the movement of the Arab springs was able to muster support from all sections of the society this is not always the case. With the rise of political influence and networks on Twitter, online social movements that do not follow hegemonic norms are often subjected to polarization through hashtag hijacking. Hashtag hijacking (Hashtag drift) occurs when users of different ideologies adopt hashtags for a different purpose than originally intended. Users do this to gain control over the terms being used and establish social media dominance over users of differing ideologies. Hashtag hijacking often plays a significant role in making a movement/debate more polarized. Scholarship suggests that users use a more diverse vocabulary of hashtags in conjunction with the central hashtag; often resulting in a change in the semantic association of tweets. \n",
    "Hashtag hijacking often paves the way for more individualistic trends and linguistic patterns used by users to highlight their ideology and opinion through new hashtags. \n",
    "What we coin in this paper as spawning hashtags or hashtags that spawn (newly co-occur) with the primary or focal hashtag tend highlight the user’s ideology and their perception or stance towards the larger social movement in a more nuanced context of the user and appropriate to individuals' particular contexts and needs [cite]. Prior scholarship has focused on detecting hashtag hijacking around the central hashtag including political hijacks, linguistic analysis, or hijacking attempts used for spamming. While the semantic patterns used in tweets consisting of user-generated spawned hashtags give a better perspective and overview of how social movements and their actors are perceived by users no such study has been done in analyzing their impact on determining language polarity. In this paper, we determine the role and impact of spawned hashtags on language polarity by determining how the protesting farmers are perceived by users of different stance on the farmers' protest\n"
   ]
  },
  {
   "cell_type": "code",
   "execution_count": 7,
   "id": "75657fb3",
   "metadata": {},
   "outputs": [],
   "source": [
    "### NEWESTTT"
   ]
  },
  {
   "cell_type": "markdown",
   "id": "ef44da79",
   "metadata": {},
   "source": [
    "Twitter has emerged as the preferred social media platform to publicly organize large-scale socio-political movements by individuals. Users use hashtags to broadcast their movement to reach a wider international audience and garner support and facilitate discussions from all spectrums of social media users. The discussions spawning out of these hashtagged posts are often spontaneous, organic, and beyond the control of any organization or user. One such example was the Arab Spring movement where hashtags played a vital role in shaping political debates and organizing major offline demonstrations and protests. While the movement of the Arab springs was able to muster support from all sections of the society this is not always the case. With the rise of political influence and networks on Twitter, online social movements that do not follow hegemonic norms are often subjected to polarization through hashtag hijacking. Hashtag hijacking (Hashtag drift) occurs when users of different ideologies adopt hashtags for a different purpose than originally intended. Users do this to gain control over the terms being used and establish social media dominance over users of differing ideologies. Scholarship suggests that a more diverse vocabulary of hashtags spawned (spawning hashtags) from the central focal tag results in a change in semantic association of tweets and the propagation of new user-generated narratives, which further plays a major role in making the online discourse more polarized.\n",
    "In this paper we coin the term spawning hashtags for \n",
    "he hashtags that spawn (newly co-occur\n",
    "\n",
    "What we coin in this paper as spawning hashtags or hashtags that spawn (newly co-occur) with the primary or focal hashtag tend highlight the user’s ideology and their perception or stance towards the larger social movement in a more nuanced context of the user and appropriate to individuals' particular contexts and needs [cite]. Prior scholarship has focused on detecting hashtag hijacking around the central hashtag including political hijacks, linguistic analysis, or hijacking attempts used for spamming. While the semantic patterns used in tweets consisting of user-generated spawned hashtags give a better perspective and overview of how social movements and their actors are perceived by users no such study has been done in analyzing their impact on determining language polarity. In this paper, we determine the role and impact of spawned hashtags on language polarity by determining how the protesting farmers are perceived by users of different stance on the farmers' protest\n"
   ]
  },
  {
   "cell_type": "markdown",
   "id": "a2c8414d",
   "metadata": {},
   "source": [
    "I’m not understanding what is the main argument here. How is this section motivating our research? What is the gap we’re trying to fill by doing our study?\n",
    "\n",
    "https://digitalcommons.pepperdine.edu/cgi/viewcontent.cgi?article=1003&context=pjcr\n",
    "\n",
    "https://www.tandfonline.com/doi/pdf/10.1080/10350330.2014.996948\n",
    "\n",
    "https://scholarship.tricolib.brynmawr.edu/handle/10066/23187\n",
    "\n",
    "http://www.kareneisenhauer.org/wp-content/uploads/2016/04/eisenhauer-final-paper.pdf\n",
    "\n",
    "(USE this to answer RQ2)"
   ]
  },
  {
   "cell_type": "markdown",
   "id": "299ede89",
   "metadata": {},
   "source": [
    "Intertextuality’s theoretical foundation resides in Bakhtin’s formulation of heteroglossia meaning, which maintains that “all utterances are dialogic, their meaning and logic dependent upon what has previously been saying and how they will be received by others.” Prior scholarship acknowledges the polyphony of discursive voices in which no single voice can be objectively distinguished from others. These literary concepts of intertextuality and polyphony are salient when discussing how Twitter functions, specifically the hashtag, influence communication in political campaigns and why it is so crucial to capitalize on this social media resource. Intertextuality is important to understanding how a hashtag feed makes meaning and contributes to aboutness. Twitter embodies an intertextual exchange of messages and opinions by which each tweet relates to another, whether written in response to an event or another’s post. Hashtags do not only exist as discrete structures but use their horizontal power structures to create backchannels among users of the same hashtag I.e., the linguistic meaning and context of the sense in which the hashtag is being used evolves and changes as more users take part in discussions [cite Rho’s dissertation]. Current scholarship studies the role played by intertextuality in hashtags in assisting discourse communities to engage in relevant discourse. Intertextuality in hashtags has also been studied with regard to the virality of a trend. While researchers highlighted that intertextuality in hashtags assists discourse to grow and helps in making a trend viral; none of the studies have worked on identifying the change in rhetoric and linguistic style that is brought about by introducing intertextuality in hashtags. In our work, we focus on identifying how virality brought about by hashtags spawned from the central tag affects the polarity of discourse. We aim to study what effects hashtags spawned from uncontrolled social media discourse framed around a social movement have on linguistic patterns and polarity of discourse."
   ]
  },
  {
   "cell_type": "code",
   "execution_count": null,
   "id": "8255f3ff",
   "metadata": {},
   "outputs": [],
   "source": []
  }
 ],
 "metadata": {
  "kernelspec": {
   "display_name": "Python 3",
   "language": "python",
   "name": "python3"
  },
  "language_info": {
   "codemirror_mode": {
    "name": "ipython",
    "version": 3
   },
   "file_extension": ".py",
   "mimetype": "text/x-python",
   "name": "python",
   "nbconvert_exporter": "python",
   "pygments_lexer": "ipython3",
   "version": "3.8.8"
  }
 },
 "nbformat": 4,
 "nbformat_minor": 5
}
