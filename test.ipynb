{
 "cells": [
  {
   "cell_type": "code",
   "execution_count": 1,
   "id": "06d38658",
   "metadata": {},
   "outputs": [],
   "source": [
    "\n",
    "from pytube import YouTube \n",
    "  "
   ]
  },
  {
   "cell_type": "code",
   "execution_count": 2,
   "id": "551a00c2",
   "metadata": {},
   "outputs": [
    {
     "data": {
      "text/plain": [
       "'C:\\\\Users\\\\Rohan'"
      ]
     },
     "execution_count": 2,
     "metadata": {},
     "output_type": "execute_result"
    }
   ],
   "source": [
    "pwd"
   ]
  },
  {
   "cell_type": "code",
   "execution_count": 3,
   "id": "83b1a689",
   "metadata": {},
   "outputs": [],
   "source": [
    "SAVE_PATH = \"Downloads/\" #to_do \n",
    "  \n",
    "#link of the video to be downloaded \n",
    "link=[\"https://www.youtube.com/watch?v=QioSWu9vJd8\"\n",
    "    ]"
   ]
  },
  {
   "cell_type": "markdown",
   "id": "64a778a6",
   "metadata": {},
   "source": [
    "Role of Hashtags in Online Social Movements\n",
    "\n",
    "Logic of this paragraph: \n",
    "1. Spawning hashtags are more nuanced and meaning-wise specific than the central hashtag (but why??; we need to support this claim. Is there evidence?)\n",
    "2. For example, the phenomenon of hashtag highjacking, which is ____, users newly create hashtags (spawning hashtags) in association with the primary/ original hashtag to _____. \n",
    "3. Most research has focused on understanding primary/ original hashtags rather than these spawning hashtags. What is the impact of these spawning hashtags in the polarization of online social movements? How do the presence of spawning hashtags shape the linguistic polarity between the ___ and counter discourse?\n",
    "Twitter has emerged as the preferred social media platform to publicly organize large-scale socio-political movements by individuals. Users use hashtags to broadcast their movement to reach a wider international audience and garner support and facilitate discussions from all spectrums of social media users. The discussions spawning out of these hashtagged posts are often spontaneous, organic, and beyond the control of any organization or user. One such example was the Arab Spring movement where hashtags played a vital role in shaping political debates and organizing major offline demonstrations and protests. While the movement of the Arab springs was able to muster support from all sections of the society this is not always the case. With the rise of political influence and networks on Twitter, online social movements that do not follow hegemonic norms are often subjected to polarization through hashtag hijacking. Hashtag hijacking (Hashtag drift) occurs when users of different ideologies adopt hashtags for a different purpose than originally intended. Users do this to gain control over the terms being used and establish social media dominance over users of differing ideologies. Hashtag hijacking often plays a significant role in making a movement/debate more polarized. Scholarship suggests that users use a more diverse vocabulary of hashtags in conjunction with the central hashtag; often resulting in a change in the semantic association of tweets. \n",
    "Hashtag hijacking often paves the way for more individualistic trends and linguistic patterns used by users to highlight their ideology and opinion through new hashtags. \n",
    "What we coin in this paper as spawning hashtags or hashtags that spawn (newly co-occur) with the primary or focal hashtag tend highlight the user’s ideology and their perception or stance towards the larger social movement in a more nuanced context of the user and appropriate to individuals' particular contexts and needs [cite]. Prior scholarship has focused on detecting hashtag hijacking around the central hashtag including political hijacks, linguistic analysis, or hijacking attempts used for spamming. While the semantic patterns used in tweets consisting of user-generated spawned hashtags give a better perspective and overview of how social movements and their actors are perceived by users no such study has been done in analyzing their impact on determining language polarity. In this paper, we determine the role and impact of spawned hashtags on language polarity by determining how the protesting farmers are perceived by users of different stance on the farmers' protest\n"
   ]
  },
  {
   "cell_type": "markdown",
   "id": "089f2c46",
   "metadata": {},
   "source": [
    "Role of Hashtags in Online Social Movements\n",
    "\n",
    "Logic of this paragraph: \n",
    "1. Spawning hashtags are more nuanced and meaning-wise specific than the central hashtag (but why??; we need to support this claim. Is there evidence?)\n",
    "2. For example, the phenomenon of hashtag highjacking, which is ____, users newly create hashtags (spawning hashtags) in association with the primary/ original hashtag to _____. \n",
    "3. Most research has focused on understanding primary/ original hashtags rather than these spawning hashtags. What is the impact of these spawning hashtags in the polarization of online social movements? How do the presence of spawning hashtags shape the linguistic polarity between the ___ and counter discourse?\n",
    "\n",
    "\n",
    "Twitter has emerged as the preferred social media platform to publicly organize large-scale socio-political movements by individuals. Users use hashtags to broadcast their movement to reach a wider international audience and garner support and facilitate discussions from all spectrums of social media users. The discussions spawning out of these hashtagged posts are often spontaneous, organic, and beyond the control of any organization or user. One such example was the Arab Spring movement where hashtags played a vital role in shaping political debates and organizing major offline demonstrations and protests. While the movement of the Arab springs was able to muster support from all sections of the society this is not always the case. With the rise of political influence and networks on Twitter, online social movements that do not follow hegemonic norms are often subjected to polarization through hashtag hijacking. Hashtag hijacking (Hashtag drift) occurs when users of different ideologies adopt hashtags for a different purpose than originally intended. Users do this to gain control over the terms being used and establish social media dominance over users of differing ideologies. Hashtag hijacking often plays a significant role in making a movement/debate more polarized. Scholarship suggests that users use a more diverse vocabulary of hashtags in conjunction with the central hashtag; often resulting in a change in the semantic association of tweets. \n",
    "Hashtag hijacking often paves the way for more individualistic trends and linguistic patterns used by users to highlight their ideology and opinion through new hashtags. \n",
    "What we coin in this paper as spawning hashtags or hashtags that spawn (newly co-occur) with the primary or focal hashtag tend highlight the user’s ideology and their perception or stance towards the larger social movement in a more nuanced context of the user and appropriate to individuals' particular contexts and needs [cite]. Prior scholarship has focused on detecting hashtag hijacking around the central hashtag including political hijacks, linguistic analysis, or hijacking attempts used for spamming. While the semantic patterns used in tweets consisting of user-generated spawned hashtags give a better perspective and overview of how social movements and their actors are perceived by users no such study has been done in analyzing their impact on determining language polarity. In this paper, we determine the role and impact of spawned hashtags on language polarity by determining how the protesting farmers are perceived by users of different stance on the farmers' protest\n"
   ]
  },
  {
   "cell_type": "code",
   "execution_count": null,
   "id": "8849ddfc",
   "metadata": {},
   "outputs": [],
   "source": []
  }
 ],
 "metadata": {
  "kernelspec": {
   "display_name": "Python 3",
   "language": "python",
   "name": "python3"
  },
  "language_info": {
   "codemirror_mode": {
    "name": "ipython",
    "version": 3
   },
   "file_extension": ".py",
   "mimetype": "text/x-python",
   "name": "python",
   "nbconvert_exporter": "python",
   "pygments_lexer": "ipython3",
   "version": "3.8.8"
  }
 },
 "nbformat": 4,
 "nbformat_minor": 5
}
